{
 "cells": [
  {
   "cell_type": "markdown",
   "metadata": {},
   "source": [
    "## Tuplas e Dicionários"
   ]
  },
  {
   "cell_type": "markdown",
   "metadata": {},
   "source": [
    "### Recapitulando Listas:\n",
    "\n",
    "Listas são um tipo de estruta de dado utilizado para guardar dados dos mais diferentes tipos (int, float, outras listas, etc).  \n",
    "Como já vimos, as listas podem:\n",
    "* ser acessadas por meio do índice (```lst[0]```);\n",
    "* ser percorridas, já que são iteráveis (podemos utilizar o ```for```)\n",
    "* ter sua estrutura alterada, ou seja, podemos adicionar, mudar e remover elementos da lista."
   ]
  },
  {
   "cell_type": "markdown",
   "metadata": {},
   "source": [
    "### Tuplas\n",
    "\n",
    "As tuplas são muito parecidas com as listas. Elas podem:\n",
    "\n",
    "* guardar dados de diferentes tipos;\n",
    "* ser acessadas por meio do índice (```lst[0]```);\n",
    "* ser percorridas, já que são iteráveis (podemos utilizar o ```for```).\n",
    "\n",
    "**Contudo**, não podem ser alteradas, ou seja, as tuplas são imutáveis. Uma vez criadas, não podem ter seus elementos deletados, adicionados, mudados de ordem, etc."
   ]
  },
  {
   "cell_type": "markdown",
   "metadata": {},
   "source": [
    "#### Declarando uma tupla"
   ]
  },
  {
   "cell_type": "code",
   "execution_count": 20,
   "metadata": {
    "ExecuteTime": {
     "end_time": "2021-06-22T23:54:50.407116Z",
     "start_time": "2021-06-22T23:54:50.387119Z"
    }
   },
   "outputs": [
    {
     "data": {
      "text/plain": [
       "tuple"
      ]
     },
     "execution_count": 20,
     "metadata": {},
     "output_type": "execute_result"
    }
   ],
   "source": [
    "minha_tupla = (1, 'abacaxi', True, 13.7)\n",
    "type(minha_tupla)"
   ]
  },
  {
   "cell_type": "markdown",
   "metadata": {},
   "source": [
    "Muitas pessoas pensam que os parênteses são o que indicam uma tupla, mas não é verdade:"
   ]
  },
  {
   "cell_type": "code",
   "execution_count": 21,
   "metadata": {
    "ExecuteTime": {
     "end_time": "2021-06-22T23:55:10.463360Z",
     "start_time": "2021-06-22T23:55:10.443333Z"
    }
   },
   "outputs": [
    {
     "data": {
      "text/plain": [
       "tuple"
      ]
     },
     "execution_count": 21,
     "metadata": {},
     "output_type": "execute_result"
    }
   ],
   "source": [
    "minha_tupla = 1, 'abacaxi', True, 13.7\n",
    "type(minha_tupla)"
   ]
  },
  {
   "cell_type": "markdown",
   "metadata": {},
   "source": [
    "Ou seja, o que indica uma tupla é a utilização de **vírgula** para separar os elementos.  \n",
    "E se sua tupla tem apenas um elemento?"
   ]
  },
  {
   "cell_type": "code",
   "execution_count": 22,
   "metadata": {
    "ExecuteTime": {
     "end_time": "2021-06-22T23:56:20.495639Z",
     "start_time": "2021-06-22T23:56:20.489643Z"
    }
   },
   "outputs": [
    {
     "name": "stdout",
     "output_type": "stream",
     "text": [
      "1\n",
      "<class 'int'>\n"
     ]
    }
   ],
   "source": [
    "## Nesse exemplo, nao sera uma tupla\n",
    "minha_tupla = 1\n",
    "print(minha_tupla)\n",
    "print(type(minha_tupla))"
   ]
  },
  {
   "cell_type": "code",
   "execution_count": 23,
   "metadata": {
    "ExecuteTime": {
     "end_time": "2021-06-22T23:56:54.280611Z",
     "start_time": "2021-06-22T23:56:54.264613Z"
    }
   },
   "outputs": [
    {
     "name": "stdout",
     "output_type": "stream",
     "text": [
      "(1,)\n",
      "<class 'tuple'>\n"
     ]
    }
   ],
   "source": [
    "## Nesse exemplo, sera uma tupla\n",
    "minha_tupla = 1,\n",
    "print(minha_tupla)\n",
    "print(type(minha_tupla))"
   ]
  },
  {
   "cell_type": "markdown",
   "metadata": {},
   "source": [
    "#### Acessando os elementos de uma tupla"
   ]
  },
  {
   "cell_type": "markdown",
   "metadata": {},
   "source": [
    "Acessamos os elementos da tupla da mesma forma que as listas, por meio dos índices.  \n",
    "**Obs:** O índice sempre começa em 0."
   ]
  },
  {
   "cell_type": "code",
   "execution_count": 24,
   "metadata": {
    "ExecuteTime": {
     "end_time": "2021-06-22T23:58:36.142051Z",
     "start_time": "2021-06-22T23:58:36.132086Z"
    }
   },
   "outputs": [],
   "source": [
    "minha_tupla = (1, 'abacaxi', True, 13.7)"
   ]
  },
  {
   "cell_type": "code",
   "execution_count": 25,
   "metadata": {
    "ExecuteTime": {
     "end_time": "2021-06-22T23:58:55.251616Z",
     "start_time": "2021-06-22T23:58:55.232638Z"
    }
   },
   "outputs": [
    {
     "data": {
      "text/plain": [
       "1"
      ]
     },
     "execution_count": 25,
     "metadata": {},
     "output_type": "execute_result"
    }
   ],
   "source": [
    "## Pegando o primeiro elemento\n",
    "minha_tupla[0]"
   ]
  },
  {
   "cell_type": "code",
   "execution_count": 26,
   "metadata": {
    "ExecuteTime": {
     "end_time": "2021-06-22T23:59:05.720226Z",
     "start_time": "2021-06-22T23:59:05.700211Z"
    }
   },
   "outputs": [
    {
     "data": {
      "text/plain": [
       "'abacaxi'"
      ]
     },
     "execution_count": 26,
     "metadata": {},
     "output_type": "execute_result"
    }
   ],
   "source": [
    "## Pegando o segundo elemento\n",
    "minha_tupla[1]"
   ]
  },
  {
   "cell_type": "code",
   "execution_count": 27,
   "metadata": {
    "ExecuteTime": {
     "end_time": "2021-06-22T23:59:13.729566Z",
     "start_time": "2021-06-22T23:59:13.717572Z"
    }
   },
   "outputs": [
    {
     "data": {
      "text/plain": [
       "True"
      ]
     },
     "execution_count": 27,
     "metadata": {},
     "output_type": "execute_result"
    }
   ],
   "source": [
    "## Pegando o terceiro elemento\n",
    "minha_tupla[2]"
   ]
  },
  {
   "cell_type": "code",
   "execution_count": 28,
   "metadata": {
    "ExecuteTime": {
     "end_time": "2021-06-22T23:59:28.699922Z",
     "start_time": "2021-06-22T23:59:28.693923Z"
    }
   },
   "outputs": [
    {
     "data": {
      "text/plain": [
       "('abacaxi', True)"
      ]
     },
     "execution_count": 28,
     "metadata": {},
     "output_type": "execute_result"
    }
   ],
   "source": [
    "## Pegando mais de um elemento (slicing)\n",
    "## Nesse caso, o indice final é EXCLUSIVO\n",
    "minha_tupla[1:3]"
   ]
  },
  {
   "cell_type": "markdown",
   "metadata": {},
   "source": [
    "#### Percorrendo uma tupla"
   ]
  },
  {
   "cell_type": "markdown",
   "metadata": {},
   "source": [
    "As tuplas se comportam da mesma forma que as listas para serem percorridas."
   ]
  },
  {
   "cell_type": "code",
   "execution_count": 29,
   "metadata": {
    "ExecuteTime": {
     "end_time": "2021-06-23T00:00:37.799279Z",
     "start_time": "2021-06-23T00:00:37.781270Z"
    }
   },
   "outputs": [],
   "source": [
    "minha_tupla = (1, 'abacaxi', True, 13.7)"
   ]
  },
  {
   "cell_type": "code",
   "execution_count": 30,
   "metadata": {
    "ExecuteTime": {
     "end_time": "2021-06-23T00:00:49.412358Z",
     "start_time": "2021-06-23T00:00:49.406398Z"
    }
   },
   "outputs": [
    {
     "name": "stdout",
     "output_type": "stream",
     "text": [
      "1\n",
      "abacaxi\n",
      "True\n",
      "13.7\n"
     ]
    }
   ],
   "source": [
    "for elemento in minha_tupla:\n",
    "    print(elemento)"
   ]
  },
  {
   "cell_type": "markdown",
   "metadata": {},
   "source": [
    "#### **** NÃO PODEMOS MODIFICAR TUPLAS ****"
   ]
  },
  {
   "cell_type": "code",
   "execution_count": 38,
   "metadata": {
    "ExecuteTime": {
     "end_time": "2021-06-23T00:03:16.650646Z",
     "start_time": "2021-06-23T00:03:16.641640Z"
    }
   },
   "outputs": [],
   "source": [
    "minha_tupla = (1, 'abacaxi', True, 13.7)"
   ]
  },
  {
   "cell_type": "code",
   "execution_count": 40,
   "metadata": {
    "ExecuteTime": {
     "end_time": "2021-06-23T00:03:41.569458Z",
     "start_time": "2021-06-23T00:03:41.556454Z"
    }
   },
   "outputs": [
    {
     "ename": "TypeError",
     "evalue": "'tuple' object does not support item assignment",
     "output_type": "error",
     "traceback": [
      "\u001b[1;31m---------------------------------------------------------------------------\u001b[0m",
      "\u001b[1;31mTypeError\u001b[0m                                 Traceback (most recent call last)",
      "\u001b[1;32m<ipython-input-40-55fe32cade86>\u001b[0m in \u001b[0;36m<module>\u001b[1;34m\u001b[0m\n\u001b[0;32m      1\u001b[0m \u001b[1;31m## Tentativa de mudar o primeiro elemento\u001b[0m\u001b[1;33m\u001b[0m\u001b[1;33m\u001b[0m\u001b[1;33m\u001b[0m\u001b[0m\n\u001b[1;32m----> 2\u001b[1;33m \u001b[0mminha_tupla\u001b[0m\u001b[1;33m[\u001b[0m\u001b[1;36m0\u001b[0m\u001b[1;33m]\u001b[0m \u001b[1;33m=\u001b[0m \u001b[1;36m2\u001b[0m\u001b[1;33m\u001b[0m\u001b[1;33m\u001b[0m\u001b[0m\n\u001b[0m",
      "\u001b[1;31mTypeError\u001b[0m: 'tuple' object does not support item assignment"
     ]
    }
   ],
   "source": [
    "## Tentativa de mudar o primeiro elemento\n",
    "minha_tupla[0] = 2"
   ]
  },
  {
   "cell_type": "code",
   "execution_count": 41,
   "metadata": {
    "ExecuteTime": {
     "end_time": "2021-06-23T00:04:06.997956Z",
     "start_time": "2021-06-23T00:04:06.979957Z"
    }
   },
   "outputs": [
    {
     "ename": "AttributeError",
     "evalue": "'tuple' object has no attribute 'append'",
     "output_type": "error",
     "traceback": [
      "\u001b[1;31m---------------------------------------------------------------------------\u001b[0m",
      "\u001b[1;31mAttributeError\u001b[0m                            Traceback (most recent call last)",
      "\u001b[1;32m<ipython-input-41-5ddc6e04beee>\u001b[0m in \u001b[0;36m<module>\u001b[1;34m\u001b[0m\n\u001b[0;32m      1\u001b[0m \u001b[1;31m## Tentativa de adicionar um elemento\u001b[0m\u001b[1;33m\u001b[0m\u001b[1;33m\u001b[0m\u001b[1;33m\u001b[0m\u001b[0m\n\u001b[1;32m----> 2\u001b[1;33m \u001b[0mminha_tupla\u001b[0m\u001b[1;33m.\u001b[0m\u001b[0mappend\u001b[0m\u001b[1;33m(\u001b[0m\u001b[1;36m2\u001b[0m\u001b[1;33m)\u001b[0m\u001b[1;33m\u001b[0m\u001b[1;33m\u001b[0m\u001b[0m\n\u001b[0m",
      "\u001b[1;31mAttributeError\u001b[0m: 'tuple' object has no attribute 'append'"
     ]
    }
   ],
   "source": [
    "## Tentativa de adicionar um elemento\n",
    "minha_tupla.append(2)"
   ]
  },
  {
   "cell_type": "markdown",
   "metadata": {},
   "source": [
    "#### Objetos aninhados\n",
    "\n",
    "Tuplas também podem conter listas e outras tuplas dentro dela mesma!"
   ]
  },
  {
   "cell_type": "code",
   "execution_count": 42,
   "metadata": {
    "ExecuteTime": {
     "end_time": "2021-06-23T00:05:10.441398Z",
     "start_time": "2021-06-23T00:05:10.437398Z"
    }
   },
   "outputs": [],
   "source": [
    "minha_tupla = (1, 'abacaxi', True, 13.7, [1, 2, 3, 4], ('oi',))"
   ]
  },
  {
   "cell_type": "code",
   "execution_count": 43,
   "metadata": {
    "ExecuteTime": {
     "end_time": "2021-06-23T00:05:30.450072Z",
     "start_time": "2021-06-23T00:05:30.430073Z"
    }
   },
   "outputs": [
    {
     "name": "stdout",
     "output_type": "stream",
     "text": [
      "[1, 2, 3, 4]\n",
      "<class 'list'>\n"
     ]
    }
   ],
   "source": [
    "print(minha_tupla[-2])\n",
    "print(type(minha_tupla[-2]))"
   ]
  },
  {
   "cell_type": "code",
   "execution_count": 44,
   "metadata": {
    "ExecuteTime": {
     "end_time": "2021-06-23T00:05:41.859972Z",
     "start_time": "2021-06-23T00:05:41.850935Z"
    }
   },
   "outputs": [
    {
     "name": "stdout",
     "output_type": "stream",
     "text": [
      "('oi',)\n",
      "<class 'tuple'>\n"
     ]
    }
   ],
   "source": [
    "print(minha_tupla[-1])\n",
    "print(type(minha_tupla[-1]))"
   ]
  },
  {
   "cell_type": "markdown",
   "metadata": {},
   "source": [
    "#### E se eu precisar alterar minha tupla?\n",
    "\n",
    "Se você precisa alterar sua tupla, então, provavelmente, essa estrutura de dados não foi a melhor escolha a ser feita. Mas, já que precisamos corrigir, podemos usar um truque!"
   ]
  },
  {
   "cell_type": "code",
   "execution_count": 50,
   "metadata": {
    "ExecuteTime": {
     "end_time": "2021-06-23T00:09:36.783151Z",
     "start_time": "2021-06-23T00:09:36.774153Z"
    }
   },
   "outputs": [],
   "source": [
    "minha_tupla = (1, 'abacaxi', True, 13.7, [1, 2, 3, 4], ('oi',))"
   ]
  },
  {
   "cell_type": "code",
   "execution_count": 51,
   "metadata": {
    "ExecuteTime": {
     "end_time": "2021-06-23T00:09:37.003291Z",
     "start_time": "2021-06-23T00:09:36.993290Z"
    }
   },
   "outputs": [
    {
     "name": "stdout",
     "output_type": "stream",
     "text": [
      "Antes de transformar:\n",
      " (1, 'abacaxi', True, 13.7, [1, 2, 3, 4], ('oi',))\n",
      "Depois de transformar e adicionar elemento:\n",
      " (1, 'abacaxi', True, 13.7, [1, 2, 3, 4], ('oi',), 'novo_elemento')\n"
     ]
    }
   ],
   "source": [
    "## Transformo ela em uma lista, ja que podemos modificar uma lista\n",
    "print('Antes de transformar:\\n', minha_tupla)\n",
    "minha_tupla = list(minha_tupla)\n",
    "\n",
    "## Modifico a lista\n",
    "minha_tupla.append('novo_elemento')\n",
    "\n",
    "## Transformo de volta para tupla\n",
    "minha_tupla = tuple(minha_tupla)\n",
    "print('Depois de transformar e adicionar elemento:\\n', minha_tupla)"
   ]
  },
  {
   "cell_type": "markdown",
   "metadata": {},
   "source": [
    "#### Dicas finais:\n",
    "\n",
    "Podemos descompactar uma tupla da seguinte forma:"
   ]
  },
  {
   "cell_type": "code",
   "execution_count": 89,
   "metadata": {
    "ExecuteTime": {
     "end_time": "2021-06-23T00:45:47.238879Z",
     "start_time": "2021-06-23T00:45:47.220882Z"
    }
   },
   "outputs": [
    {
     "name": "stdout",
     "output_type": "stream",
     "text": [
      "1\n",
      "2\n",
      "3\n",
      "4\n"
     ]
    }
   ],
   "source": [
    "a, b, c, d = (1, 2, 3, 4)\n",
    "\n",
    "print(a)\n",
    "print(b)\n",
    "print(c)\n",
    "print(d)"
   ]
  },
  {
   "cell_type": "markdown",
   "metadata": {},
   "source": [
    "### Dicionários\n",
    "\n",
    "Imagine o seguinte cenário:\n",
    "\n",
    "Eu, como professor, quero fazer uma lista de chamada dos meus alunos. Sendo assim, quero saber qual o nome e o número do aluno na chamada.\n",
    "\n",
    "Como eu posso fazer isso em Python?\n",
    "\n",
    "Uma ideia é fazer uma lista onde o índice representa o número na chamada e o valor do elemento é o nome do aluno.\n",
    "\n",
    "Exemplo:\n",
    "\n",
    "| nome    | numero |\n",
    "|---------|--------|\n",
    "| Ana     | 1      |\n",
    "| Carlos  | 2      |\n",
    "| Juliana | 3      |\n",
    "| Pedro   | 4      |\n",
    "| Renato  | 5      |\n",
    "| Silvia  | 6      |\n",
    "\n",
    "Transformando isso numa lista:"
   ]
  },
  {
   "cell_type": "code",
   "execution_count": 52,
   "metadata": {
    "ExecuteTime": {
     "end_time": "2021-06-23T00:16:07.959338Z",
     "start_time": "2021-06-23T00:16:07.950341Z"
    }
   },
   "outputs": [],
   "source": [
    "chamada = ['Ana', 'Carlos', 'Juliana', 'Pedro', 'Renato', 'Silvia']"
   ]
  },
  {
   "cell_type": "markdown",
   "metadata": {},
   "source": [
    "Logo de cara já temos um problema: minha chamada começa no número 1 e o índice da minha lista começa no número 0. Mas, até ai, tudo certo, podemos subtrair 1 para achar a pessoa correspondente ao número.\n",
    "\n",
    "Por exemplo: queremos o aluno que é o número 3 na chamada:"
   ]
  },
  {
   "cell_type": "code",
   "execution_count": 53,
   "metadata": {
    "ExecuteTime": {
     "end_time": "2021-06-23T00:18:02.504944Z",
     "start_time": "2021-06-23T00:18:02.499975Z"
    }
   },
   "outputs": [
    {
     "data": {
      "text/plain": [
       "'Juliana'"
      ]
     },
     "execution_count": 53,
     "metadata": {},
     "output_type": "execute_result"
    }
   ],
   "source": [
    "## Lembre-se: temos que subtrair 1 devido a diferenca dos indices\n",
    "chamada[3 - 1]"
   ]
  },
  {
   "cell_type": "markdown",
   "metadata": {},
   "source": [
    "Mas, e se quiséssemos encontrar o número de uma pessoa dado o nome? Fica mais difícil ne... Já que a facilidade é usar os índices para achar o nome.\n",
    "\n",
    "É aí que entram os dicionários!\n",
    "\n",
    "O **dicionário** é mais uma estrutura de dados que servem para armazenar diferentes tipos de dados, mas com uma diferença, ele funciona como um mapeamento, ou seja, você tem uma **chave** e um **valor** para essa chave. Assim, para encontrar algo dentro dele, basta procurar pela chave que você quer."
   ]
  },
  {
   "cell_type": "markdown",
   "metadata": {},
   "source": [
    "#### Declarando um dicionário\n",
    "\n",
    "Um dicionário é declarado utilizando chaves({}) ou a função ```dict()```. É possível declarar um dicionário vazio e ir adicionando elementos ou então já declarar um dicionário com elementos.\n",
    "\n",
    "A estrutura dos seus elementos é sempre:\n",
    "\n",
    "```dicionario = {\"chave\": valor}```"
   ]
  },
  {
   "cell_type": "code",
   "execution_count": 54,
   "metadata": {
    "ExecuteTime": {
     "end_time": "2021-06-23T00:25:25.632803Z",
     "start_time": "2021-06-23T00:25:25.625815Z"
    }
   },
   "outputs": [],
   "source": [
    "chamada = {\n",
    "    'Ana': 1,\n",
    "    'Carlos': 2,\n",
    "    'Juliana': 3,\n",
    "    'Pedro': 4,\n",
    "    'Renato': 5,\n",
    "    'Silvia': 6\n",
    "}"
   ]
  },
  {
   "cell_type": "code",
   "execution_count": 55,
   "metadata": {
    "ExecuteTime": {
     "end_time": "2021-06-23T00:25:29.771407Z",
     "start_time": "2021-06-23T00:25:29.761406Z"
    }
   },
   "outputs": [
    {
     "data": {
      "text/plain": [
       "{'Ana': 1, 'Carlos': 2, 'Juliana': 3, 'Pedro': 4, 'Renato': 5, 'Silvia': 6}"
      ]
     },
     "execution_count": 55,
     "metadata": {},
     "output_type": "execute_result"
    }
   ],
   "source": [
    "chamada"
   ]
  },
  {
   "cell_type": "markdown",
   "metadata": {},
   "source": [
    "#### Acessando elementos de um dicionário\n",
    "\n",
    "Existem duas formas mais usadas de acessar um elemento de um dicionário:\n",
    "\n",
    "* Acessando a chave de forma explícita (```meu_dicionario[chave]```);\n",
    "* Usando o método get (```meu_dicionario.get(chave)```)"
   ]
  },
  {
   "cell_type": "code",
   "execution_count": 56,
   "metadata": {
    "ExecuteTime": {
     "end_time": "2021-06-23T00:27:35.139422Z",
     "start_time": "2021-06-23T00:27:35.129387Z"
    }
   },
   "outputs": [
    {
     "data": {
      "text/plain": [
       "1"
      ]
     },
     "execution_count": 56,
     "metadata": {},
     "output_type": "execute_result"
    }
   ],
   "source": [
    "## Qual o numero da Ana?\n",
    "chamada['Ana']"
   ]
  },
  {
   "cell_type": "code",
   "execution_count": 57,
   "metadata": {
    "ExecuteTime": {
     "end_time": "2021-06-23T00:27:49.735570Z",
     "start_time": "2021-06-23T00:27:49.714572Z"
    }
   },
   "outputs": [
    {
     "ename": "KeyError",
     "evalue": "'Alberto'",
     "output_type": "error",
     "traceback": [
      "\u001b[1;31m---------------------------------------------------------------------------\u001b[0m",
      "\u001b[1;31mKeyError\u001b[0m                                  Traceback (most recent call last)",
      "\u001b[1;32m<ipython-input-57-65d8227d37c3>\u001b[0m in \u001b[0;36m<module>\u001b[1;34m\u001b[0m\n\u001b[0;32m      1\u001b[0m \u001b[1;31m## Qual o numero do Alberto?\u001b[0m\u001b[1;33m\u001b[0m\u001b[1;33m\u001b[0m\u001b[1;33m\u001b[0m\u001b[0m\n\u001b[1;32m----> 2\u001b[1;33m \u001b[0mchamada\u001b[0m\u001b[1;33m[\u001b[0m\u001b[1;34m'Alberto'\u001b[0m\u001b[1;33m]\u001b[0m\u001b[1;33m\u001b[0m\u001b[1;33m\u001b[0m\u001b[0m\n\u001b[0m",
      "\u001b[1;31mKeyError\u001b[0m: 'Alberto'"
     ]
    }
   ],
   "source": [
    "## Qual o numero do Alberto?\n",
    "chamada['Alberto']"
   ]
  },
  {
   "cell_type": "code",
   "execution_count": 60,
   "metadata": {
    "ExecuteTime": {
     "end_time": "2021-06-23T00:28:54.365819Z",
     "start_time": "2021-06-23T00:28:54.359824Z"
    }
   },
   "outputs": [],
   "source": [
    "## Se usasse o de cima, quebraria o codigo caso nao tivesse\n",
    "## o elemento no dicionario, assim, dependendo do caso, \n",
    "## é melhor usar o get\n",
    "chamada.get('Alberto')"
   ]
  },
  {
   "cell_type": "markdown",
   "metadata": {},
   "source": [
    "#### Modificando e criando elementos\n",
    "\n",
    "Para modificar um elemento, basta referenciar o dicionário e a chave e fazer a modificação (```meu_dicionario[chave] = alguma coisa```). Já para criar um novo elemento, basta referenciar o dicionário e a nova chave e atribuir o valor daquela chave (```meu_dicionario[nova_chave] = novo valor```)"
   ]
  },
  {
   "cell_type": "code",
   "execution_count": 61,
   "metadata": {
    "ExecuteTime": {
     "end_time": "2021-06-23T00:31:22.629276Z",
     "start_time": "2021-06-23T00:31:22.615272Z"
    }
   },
   "outputs": [],
   "source": [
    "chamada['Alberto'] = 1"
   ]
  },
  {
   "cell_type": "code",
   "execution_count": 62,
   "metadata": {
    "ExecuteTime": {
     "end_time": "2021-06-23T00:31:27.684439Z",
     "start_time": "2021-06-23T00:31:27.664439Z"
    }
   },
   "outputs": [
    {
     "data": {
      "text/plain": [
       "{'Ana': 1,\n",
       " 'Carlos': 2,\n",
       " 'Juliana': 3,\n",
       " 'Pedro': 4,\n",
       " 'Renato': 5,\n",
       " 'Silvia': 6,\n",
       " 'Alberto': 1}"
      ]
     },
     "execution_count": 62,
     "metadata": {},
     "output_type": "execute_result"
    }
   ],
   "source": [
    "chamada"
   ]
  },
  {
   "cell_type": "code",
   "execution_count": 63,
   "metadata": {
    "ExecuteTime": {
     "end_time": "2021-06-23T00:32:00.567471Z",
     "start_time": "2021-06-23T00:32:00.549418Z"
    }
   },
   "outputs": [],
   "source": [
    "chamada['Ana'] += 1\n",
    "chamada['Carlos'] += 1\n",
    "chamada['Juliana'] += 1\n",
    "chamada['Pedro'] += 1\n",
    "chamada['Renato'] += 1\n",
    "chamada['Silvia'] += 1"
   ]
  },
  {
   "cell_type": "code",
   "execution_count": 66,
   "metadata": {
    "ExecuteTime": {
     "end_time": "2021-06-23T00:33:08.580460Z",
     "start_time": "2021-06-23T00:33:08.560462Z"
    }
   },
   "outputs": [
    {
     "data": {
      "text/plain": [
       "{'Ana': 2,\n",
       " 'Carlos': 3,\n",
       " 'Juliana': 4,\n",
       " 'Pedro': 5,\n",
       " 'Renato': 6,\n",
       " 'Silvia': 7,\n",
       " 'Alberto': 1}"
      ]
     },
     "execution_count": 66,
     "metadata": {},
     "output_type": "execute_result"
    }
   ],
   "source": [
    "## A ordem é a ordem de inserção\n",
    "chamada"
   ]
  },
  {
   "cell_type": "markdown",
   "metadata": {},
   "source": [
    "#### Apagando uma chave: valor"
   ]
  },
  {
   "cell_type": "code",
   "execution_count": 70,
   "metadata": {
    "ExecuteTime": {
     "end_time": "2021-06-23T00:35:15.975799Z",
     "start_time": "2021-06-23T00:35:15.959796Z"
    }
   },
   "outputs": [
    {
     "data": {
      "text/plain": [
       "7"
      ]
     },
     "execution_count": 70,
     "metadata": {},
     "output_type": "execute_result"
    }
   ],
   "source": [
    "## Pop me retorna o valor da chave que eu apaguei\n",
    "chamada.pop('Silvia')"
   ]
  },
  {
   "cell_type": "code",
   "execution_count": 71,
   "metadata": {
    "ExecuteTime": {
     "end_time": "2021-06-23T00:35:49.453118Z",
     "start_time": "2021-06-23T00:35:49.433119Z"
    }
   },
   "outputs": [
    {
     "data": {
      "text/plain": [
       "{'Ana': 2, 'Carlos': 3, 'Juliana': 4, 'Pedro': 5, 'Renato': 6}"
      ]
     },
     "execution_count": 71,
     "metadata": {},
     "output_type": "execute_result"
    }
   ],
   "source": [
    "chamada"
   ]
  },
  {
   "cell_type": "code",
   "execution_count": 69,
   "metadata": {
    "ExecuteTime": {
     "end_time": "2021-06-23T00:35:12.982941Z",
     "start_time": "2021-06-23T00:35:12.967939Z"
    }
   },
   "outputs": [],
   "source": [
    "## del apenas apaga\n",
    "del chamada['Alberto']"
   ]
  },
  {
   "cell_type": "code",
   "execution_count": 72,
   "metadata": {
    "ExecuteTime": {
     "end_time": "2021-06-23T00:35:54.855525Z",
     "start_time": "2021-06-23T00:35:54.849487Z"
    }
   },
   "outputs": [
    {
     "data": {
      "text/plain": [
       "{'Ana': 2, 'Carlos': 3, 'Juliana': 4, 'Pedro': 5, 'Renato': 6}"
      ]
     },
     "execution_count": 72,
     "metadata": {},
     "output_type": "execute_result"
    }
   ],
   "source": [
    "chamada"
   ]
  },
  {
   "cell_type": "markdown",
   "metadata": {},
   "source": [
    "#### Percorrendo um dicionário\n",
    "\n",
    "Antes de vermos como percorrer um dicionário utilizando um loop (```for```), vamos ver três métodos muito importantes nos dicionários:\n",
    "\n",
    "* .keys()\n",
    "* .values()\n",
    "* .items()"
   ]
  },
  {
   "cell_type": "code",
   "execution_count": 79,
   "metadata": {
    "ExecuteTime": {
     "end_time": "2021-06-23T00:39:07.511289Z",
     "start_time": "2021-06-23T00:39:07.501290Z"
    }
   },
   "outputs": [],
   "source": [
    "## Declarando novamente, já que tinhamos apagado alguns alunos\n",
    "chamada = {\n",
    "    'Ana': 2,\n",
    "    'Carlos': 3,\n",
    "    'Juliana': 4,\n",
    "    'Pedro': 5,\n",
    "    'Renato': 6,\n",
    "    'Silvia': 7,\n",
    "    'Alberto': 1\n",
    "}"
   ]
  },
  {
   "cell_type": "code",
   "execution_count": 80,
   "metadata": {
    "ExecuteTime": {
     "end_time": "2021-06-23T00:39:07.685970Z",
     "start_time": "2021-06-23T00:39:07.674931Z"
    }
   },
   "outputs": [
    {
     "data": {
      "text/plain": [
       "dict_keys(['Ana', 'Carlos', 'Juliana', 'Pedro', 'Renato', 'Silvia', 'Alberto'])"
      ]
     },
     "execution_count": 80,
     "metadata": {},
     "output_type": "execute_result"
    }
   ],
   "source": [
    "## Retorna as chaves do dicionario\n",
    "chamada.keys()"
   ]
  },
  {
   "cell_type": "code",
   "execution_count": 81,
   "metadata": {
    "ExecuteTime": {
     "end_time": "2021-06-23T00:39:08.064411Z",
     "start_time": "2021-06-23T00:39:08.048371Z"
    }
   },
   "outputs": [
    {
     "data": {
      "text/plain": [
       "dict_values([2, 3, 4, 5, 6, 7, 1])"
      ]
     },
     "execution_count": 81,
     "metadata": {},
     "output_type": "execute_result"
    }
   ],
   "source": [
    "## Retorna os valores do dicionario (a ordem é a ordem de insercao)\n",
    "chamada.values()"
   ]
  },
  {
   "cell_type": "code",
   "execution_count": 83,
   "metadata": {
    "ExecuteTime": {
     "end_time": "2021-06-23T00:39:25.517304Z",
     "start_time": "2021-06-23T00:39:25.503298Z"
    }
   },
   "outputs": [
    {
     "data": {
      "text/plain": [
       "dict_items([('Ana', 2), ('Carlos', 3), ('Juliana', 4), ('Pedro', 5), ('Renato', 6), ('Silvia', 7), ('Alberto', 1)])"
      ]
     },
     "execution_count": 83,
     "metadata": {},
     "output_type": "execute_result"
    }
   ],
   "source": [
    "## Retorna tuplas com (chave, valor)\n",
    "chamada.items()"
   ]
  },
  {
   "cell_type": "markdown",
   "metadata": {},
   "source": [
    "Visto isso, agora isso vamos para o loop."
   ]
  },
  {
   "cell_type": "code",
   "execution_count": 84,
   "metadata": {
    "ExecuteTime": {
     "end_time": "2021-06-23T00:39:54.403757Z",
     "start_time": "2021-06-23T00:39:54.384761Z"
    }
   },
   "outputs": [
    {
     "name": "stdout",
     "output_type": "stream",
     "text": [
      "Ana\n",
      "Carlos\n",
      "Juliana\n",
      "Pedro\n",
      "Renato\n",
      "Silvia\n",
      "Alberto\n"
     ]
    }
   ],
   "source": [
    "for elemento in chamada:\n",
    "    print(elemento)"
   ]
  },
  {
   "cell_type": "markdown",
   "metadata": {},
   "source": [
    "Viram que nesse caso ele só printou as chaves? Isso acontece pois debaixo dos panos o loop está chamando o método ```.keys()```, o qual nos retorna um objeto iterável.\n",
    "\n",
    "**Mas, como eu uso então essas chaves que o loop me retornou se eu quiser *printar* os valores?**"
   ]
  },
  {
   "cell_type": "code",
   "execution_count": 86,
   "metadata": {
    "ExecuteTime": {
     "end_time": "2021-06-23T00:42:52.192284Z",
     "start_time": "2021-06-23T00:42:52.178283Z"
    }
   },
   "outputs": [
    {
     "name": "stdout",
     "output_type": "stream",
     "text": [
      "2\n",
      "3\n",
      "4\n",
      "5\n",
      "6\n",
      "7\n",
      "1\n"
     ]
    }
   ],
   "source": [
    "## Ja que tenho a chave, acesso ela no meu dicionario, o que me\n",
    "## retorna o valor\n",
    "for elemento in chamada:\n",
    "    print(chamada[elemento])"
   ]
  },
  {
   "cell_type": "markdown",
   "metadata": {},
   "source": [
    "Porém, poderíamos fazer isso de um jeito diferente:"
   ]
  },
  {
   "cell_type": "code",
   "execution_count": 87,
   "metadata": {
    "ExecuteTime": {
     "end_time": "2021-06-23T00:43:42.593714Z",
     "start_time": "2021-06-23T00:43:42.588727Z"
    }
   },
   "outputs": [
    {
     "name": "stdout",
     "output_type": "stream",
     "text": [
      "2\n",
      "3\n",
      "4\n",
      "5\n",
      "6\n",
      "7\n",
      "1\n"
     ]
    }
   ],
   "source": [
    "## Quero acessar apenas o valor\n",
    "for valor in chamada.values():\n",
    "    print(valor)"
   ]
  },
  {
   "cell_type": "markdown",
   "metadata": {},
   "source": [
    "E se eu quiser acessar a chave e o valor? Podemos usar o ```.items()```"
   ]
  },
  {
   "cell_type": "code",
   "execution_count": 88,
   "metadata": {
    "ExecuteTime": {
     "end_time": "2021-06-23T00:44:28.876014Z",
     "start_time": "2021-06-23T00:44:28.859977Z"
    }
   },
   "outputs": [
    {
     "name": "stdout",
     "output_type": "stream",
     "text": [
      "2 Ana\n",
      "3 Carlos\n",
      "4 Juliana\n",
      "5 Pedro\n",
      "6 Renato\n",
      "7 Silvia\n",
      "1 Alberto\n"
     ]
    }
   ],
   "source": [
    "for chave, valor in chamada.items():\n",
    "    print(valor, chave)"
   ]
  }
 ],
 "metadata": {
  "kernelspec": {
   "display_name": "Python 3",
   "language": "python",
   "name": "python3"
  },
  "language_info": {
   "codemirror_mode": {
    "name": "ipython",
    "version": 3
   },
   "file_extension": ".py",
   "mimetype": "text/x-python",
   "name": "python",
   "nbconvert_exporter": "python",
   "pygments_lexer": "ipython3",
   "version": "3.8.3"
  }
 },
 "nbformat": 4,
 "nbformat_minor": 4
}
