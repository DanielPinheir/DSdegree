{
 "cells": [
  {
   "cell_type": "code",
   "execution_count": 1,
   "id": "5d50ed16",
   "metadata": {
    "ExecuteTime": {
     "end_time": "2021-07-14T22:19:12.764617Z",
     "start_time": "2021-07-14T22:19:12.747662Z"
    }
   },
   "outputs": [],
   "source": [
    "class Cachorro:\n",
    "    def __init__(self, nome):\n",
    "        self.nome = nome\n",
    "    \n",
    "    def fala(self):\n",
    "        print(self.nome, 'faz au au.')\n",
    "        \n",
    "class Gato:\n",
    "    def __init__(self, nome):\n",
    "        self.nome = nome\n",
    "        \n",
    "    def fala(self):\n",
    "        print(self.nome, 'faz miau.')\n",
    "        \n",
    "class Vaca:\n",
    "    def __init__(self, nome):\n",
    "        self.nome = nome\n",
    "        \n",
    "    def fala(self):\n",
    "        print(self.nome, 'faz muuu.')\n",
    "\n",
    "class Dinossauro:\n",
    "    def __init__(self, nome):\n",
    "        self.nome = nome\n",
    "        \n",
    "    def fala(self):\n",
    "        pass\n",
    "        "
   ]
  },
  {
   "cell_type": "code",
   "execution_count": 3,
   "id": "40f789f6",
   "metadata": {
    "ExecuteTime": {
     "end_time": "2021-07-14T22:21:15.285922Z",
     "start_time": "2021-07-14T22:21:15.279938Z"
    }
   },
   "outputs": [
    {
     "name": "stdout",
     "output_type": "stream",
     "text": [
      "Bidu faz au au.\n",
      "Mingau faz miau.\n",
      "Mimosa faz muuu.\n"
     ]
    }
   ],
   "source": [
    "cachorrinho = Cachorro('Bidu')\n",
    "gatinho = Gato('Mingau')\n",
    "vaquinha = Vaca('Mimosa')\n",
    "dino = Dinossauro('Horácio')\n",
    "\n",
    "cachorrinho.fala()\n",
    "gatinho.fala()\n",
    "vaquinha.fala()\n",
    "dino.fala()"
   ]
  },
  {
   "cell_type": "markdown",
   "id": "f318606c",
   "metadata": {},
   "source": [
    "# Herança\n",
    "As classes filhas possuem os mesmos atributos e métodos da classe mãe"
   ]
  },
  {
   "cell_type": "code",
   "execution_count": 10,
   "id": "cf9f6cc4",
   "metadata": {
    "ExecuteTime": {
     "end_time": "2021-07-14T22:42:49.646105Z",
     "start_time": "2021-07-14T22:42:49.630109Z"
    }
   },
   "outputs": [],
   "source": [
    " # classe mãe\n",
    "class Animal:\n",
    "    def __init__(self, nome):\n",
    "        self.nome = nome\n",
    "        \n",
    "    def fala(self):\n",
    "        print(self.nome, 'faz barulho.')\n",
    "        \n",
    "\n",
    "# classes filhas\n",
    "class Cachorro(Animal): # coloquei entre parênteses o nome da classe mãe\n",
    "    def fala(self):\n",
    "        print(self.nome, 'faz au au.')\n",
    "        \n",
    "    \n",
    "class Gato(Animal):        \n",
    "    def fala(self):\n",
    "        print(self.nome, 'faz miau.')\n",
    "        \n",
    "class Vaca(Animal):       \n",
    "    def fala(self):\n",
    "        print(self.nome, 'faz muuu.')\n",
    "\n",
    "class Dinossauro(Animal):\n",
    "    pass"
   ]
  },
  {
   "cell_type": "code",
   "execution_count": 11,
   "id": "5cb02162",
   "metadata": {
    "ExecuteTime": {
     "end_time": "2021-07-14T22:42:51.972164Z",
     "start_time": "2021-07-14T22:42:51.960180Z"
    }
   },
   "outputs": [
    {
     "name": "stdout",
     "output_type": "stream",
     "text": [
      "Bidu faz au au.\n",
      "Mingau faz miau.\n",
      "Mimosa faz muuu.\n",
      "Horácio faz barulho.\n"
     ]
    }
   ],
   "source": [
    "cachorrinho = Cachorro('Bidu')\n",
    "gatinho = Gato('Mingau')\n",
    "vaquinha = Vaca('Mimosa')\n",
    "dino = Dinossauro('Horácio')\n",
    "\n",
    "cachorrinho.fala()\n",
    "gatinho.fala()\n",
    "vaquinha.fala()\n",
    "dino.fala()"
   ]
  },
  {
   "cell_type": "markdown",
   "id": "9567a2be",
   "metadata": {},
   "source": [
    "1. Herdando parcialmente o método"
   ]
  },
  {
   "cell_type": "code",
   "execution_count": 13,
   "id": "bb69bb57",
   "metadata": {
    "ExecuteTime": {
     "end_time": "2021-07-14T22:51:59.808867Z",
     "start_time": "2021-07-14T22:51:59.799891Z"
    }
   },
   "outputs": [],
   "source": [
    "# Na classe cachorro, ela crie um atributo 'raça' além do nome do cachorro\n",
    "\n",
    "class Cachorro(Animal):\n",
    "    # redefinir o método init\n",
    "    def __init__(self, nome, raça):\n",
    "        self.raça = raça # atributo novo\n",
    "#         self.nome = nome # já foi definido na classe mãe, Animal\n",
    "        super().__init__(nome)\n",
    "    \n",
    "    def fala(self):\n",
    "        print(self.nome, 'faz au au.')"
   ]
  },
  {
   "cell_type": "markdown",
   "id": "ded59e51",
   "metadata": {},
   "source": [
    "Método super nos dá acesso denro de uma classe filha aos métodos originais da classe mãe"
   ]
  },
  {
   "cell_type": "code",
   "execution_count": 14,
   "id": "9204a12a",
   "metadata": {
    "ExecuteTime": {
     "end_time": "2021-07-14T22:52:50.492779Z",
     "start_time": "2021-07-14T22:52:50.242448Z"
    }
   },
   "outputs": [
    {
     "ename": "TypeError",
     "evalue": "__init__() missing 1 required positional argument: 'raça'",
     "output_type": "error",
     "traceback": [
      "\u001b[1;31m---------------------------------------------------------------------------\u001b[0m",
      "\u001b[1;31mTypeError\u001b[0m                                 Traceback (most recent call last)",
      "\u001b[1;32m<ipython-input-14-5e95fad36aac>\u001b[0m in \u001b[0;36m<module>\u001b[1;34m\u001b[0m\n\u001b[1;32m----> 1\u001b[1;33m \u001b[0mcachorrinho\u001b[0m \u001b[1;33m=\u001b[0m \u001b[0mCachorro\u001b[0m\u001b[1;33m(\u001b[0m\u001b[1;34m'Bidu'\u001b[0m\u001b[1;33m)\u001b[0m\u001b[1;33m\u001b[0m\u001b[1;33m\u001b[0m\u001b[0m\n\u001b[0m",
      "\u001b[1;31mTypeError\u001b[0m: __init__() missing 1 required positional argument: 'raça'"
     ]
    }
   ],
   "source": [
    "cachorrinho = Cachorro('Bidu')"
   ]
  },
  {
   "cell_type": "code",
   "execution_count": 16,
   "id": "543bdd5f",
   "metadata": {
    "ExecuteTime": {
     "end_time": "2021-07-14T22:53:48.569215Z",
     "start_time": "2021-07-14T22:53:48.551266Z"
    }
   },
   "outputs": [
    {
     "name": "stdout",
     "output_type": "stream",
     "text": [
      "Bidu faz au au.\n"
     ]
    }
   ],
   "source": [
    "cachorrinho = Cachorro('Bidu', 'vira lata')\n",
    "\n",
    "cachorrinho.fala()"
   ]
  },
  {
   "cell_type": "markdown",
   "id": "a9f4bcf1",
   "metadata": {},
   "source": [
    "# Polimorfismo"
   ]
  },
  {
   "cell_type": "markdown",
   "id": "437aaca9",
   "metadata": {},
   "source": [
    "A palavra \"polimorfismo\" vem do grego antigo e significa \"várias formas\". A ideia do polimorfismo em programação é que um objeto de uma certa classe pode se comportar como objeto de outras classes. Mais especificamente, objetos de uma classe filha podem também ser tratados como se pertencessem à classe mãe."
   ]
  },
  {
   "cell_type": "markdown",
   "id": "f9597e17",
   "metadata": {},
   "source": [
    "O método isinstance recebe 2 parâmetros: um **objeto** e uma **classe**. Ele retorna *True* caso o objeto pertenca à classe, e *False* caso não pertença. "
   ]
  },
  {
   "cell_type": "code",
   "execution_count": 17,
   "id": "ad70c765",
   "metadata": {
    "ExecuteTime": {
     "end_time": "2021-07-14T23:00:24.922060Z",
     "start_time": "2021-07-14T23:00:24.916072Z"
    }
   },
   "outputs": [
    {
     "name": "stdout",
     "output_type": "stream",
     "text": [
      "True\n"
     ]
    }
   ],
   "source": [
    "# o cachorrinho é cachorro? \n",
    "print(isinstance(cachorrinho, Cachorro)) # O objeto cachorrinho pertence a classe cachorro"
   ]
  },
  {
   "cell_type": "code",
   "execution_count": 18,
   "id": "67bcf217",
   "metadata": {
    "ExecuteTime": {
     "end_time": "2021-07-14T23:00:55.240075Z",
     "start_time": "2021-07-14T23:00:55.231052Z"
    }
   },
   "outputs": [
    {
     "data": {
      "text/plain": [
       "True"
      ]
     },
     "execution_count": 18,
     "metadata": {},
     "output_type": "execute_result"
    }
   ],
   "source": [
    "# O gatinho é um gato?\n",
    "isinstance(gatinho, Gato)"
   ]
  },
  {
   "cell_type": "code",
   "execution_count": 19,
   "id": "8283ea87",
   "metadata": {
    "ExecuteTime": {
     "end_time": "2021-07-14T23:01:30.406874Z",
     "start_time": "2021-07-14T23:01:30.391873Z"
    }
   },
   "outputs": [
    {
     "data": {
      "text/plain": [
       "False"
      ]
     },
     "execution_count": 19,
     "metadata": {},
     "output_type": "execute_result"
    }
   ],
   "source": [
    "# a vaquinha é um cachorro?\n",
    "isinstance(vaquinha, Cachorro)"
   ]
  },
  {
   "cell_type": "code",
   "execution_count": 20,
   "id": "8f47d5d3",
   "metadata": {
    "ExecuteTime": {
     "end_time": "2021-07-14T23:02:38.310730Z",
     "start_time": "2021-07-14T23:02:38.298760Z"
    }
   },
   "outputs": [
    {
     "data": {
      "text/plain": [
       "False"
      ]
     },
     "execution_count": 20,
     "metadata": {},
     "output_type": "execute_result"
    }
   ],
   "source": [
    "# o gatinho é uma vaca?\n",
    "isinstance(gatinho, Vaca)"
   ]
  },
  {
   "cell_type": "code",
   "execution_count": 21,
   "id": "5dc57299",
   "metadata": {
    "ExecuteTime": {
     "end_time": "2021-07-14T23:03:12.878201Z",
     "start_time": "2021-07-14T23:03:12.871220Z"
    }
   },
   "outputs": [
    {
     "data": {
      "text/plain": [
       "True"
      ]
     },
     "execution_count": 21,
     "metadata": {},
     "output_type": "execute_result"
    }
   ],
   "source": [
    "# o cachorrinho é um animal?\n",
    "isinstance(cachorrinho, Animal)"
   ]
  },
  {
   "cell_type": "code",
   "execution_count": 22,
   "id": "c26dda08",
   "metadata": {
    "ExecuteTime": {
     "end_time": "2021-07-14T23:05:48.933968Z",
     "start_time": "2021-07-14T23:05:48.923991Z"
    }
   },
   "outputs": [
    {
     "data": {
      "text/plain": [
       "True"
      ]
     },
     "execution_count": 22,
     "metadata": {},
     "output_type": "execute_result"
    }
   ],
   "source": [
    "# gatinho é um animal?\n",
    "isinstance(gatinho, Animal)"
   ]
  },
  {
   "cell_type": "markdown",
   "id": "455c549d",
   "metadata": {},
   "source": [
    "---"
   ]
  },
  {
   "cell_type": "code",
   "execution_count": 24,
   "id": "abad7457",
   "metadata": {
    "ExecuteTime": {
     "end_time": "2021-07-14T23:12:07.306769Z",
     "start_time": "2021-07-14T23:12:07.287777Z"
    }
   },
   "outputs": [],
   "source": [
    "# Classe mãe\n",
    "class Animal:\n",
    "    # lista estática de animais criados\n",
    "    animais = []\n",
    "    \n",
    "    def __init__(self, nome):\n",
    "        self.nome = nome\n",
    "        # Criamos o animal e colocaremos na lista estática\n",
    "        Animal.animais.append(self)\n",
    "        \n",
    "    def fala(self):\n",
    "        print(self.nome, 'faz barulho.')\n",
    "        \n",
    "    @staticmethod\n",
    "    def falatorio():\n",
    "        for a in Animal.animais:\n",
    "            a.fala()\n",
    "            \n",
    "# classes filhas\n",
    "class Cachorro(Animal): # coloquei entre parênteses o nome da classe mãe\n",
    "    def fala(self):\n",
    "        print(self.nome, 'faz au au.')\n",
    "        \n",
    "    \n",
    "class Gato(Animal):        \n",
    "    def fala(self):\n",
    "        print(self.nome, 'faz miau.')\n",
    "        \n",
    "class Vaca(Animal):       \n",
    "    def fala(self):\n",
    "        print(self.nome, 'faz muuu.')\n",
    "\n",
    "class Dinossauro(Animal):\n",
    "    pass"
   ]
  },
  {
   "cell_type": "code",
   "execution_count": 25,
   "id": "3222a760",
   "metadata": {
    "ExecuteTime": {
     "end_time": "2021-07-14T23:12:10.460704Z",
     "start_time": "2021-07-14T23:12:10.443703Z"
    }
   },
   "outputs": [
    {
     "name": "stdout",
     "output_type": "stream",
     "text": [
      "Bidu faz au au.\n",
      "Mingau faz miau.\n",
      "Mimosa faz muuu.\n",
      "Horácio faz barulho.\n"
     ]
    }
   ],
   "source": [
    "cachorrinho = Cachorro('Bidu')\n",
    "gatinho = Gato('Mingau')\n",
    "vaquinha = Vaca('Mimosa')\n",
    "dino = Dinossauro('Horácio')\n",
    "\n",
    "cachorrinho.fala()\n",
    "gatinho.fala()\n",
    "vaquinha.fala()\n",
    "dino.fala()"
   ]
  },
  {
   "cell_type": "code",
   "execution_count": 26,
   "id": "9f43ebce",
   "metadata": {
    "ExecuteTime": {
     "end_time": "2021-07-14T23:13:25.610681Z",
     "start_time": "2021-07-14T23:13:25.591732Z"
    }
   },
   "outputs": [
    {
     "data": {
      "text/plain": [
       "[<__main__.Cachorro at 0x1d099f5b7f0>,\n",
       " <__main__.Gato at 0x1d099f5b730>,\n",
       " <__main__.Vaca at 0x1d099f5bb80>,\n",
       " <__main__.Dinossauro at 0x1d099f5bf10>]"
      ]
     },
     "execution_count": 26,
     "metadata": {},
     "output_type": "execute_result"
    }
   ],
   "source": [
    "# por curiosidade, o que tem dentro da lista animais (que está dentro da classe Animal)\n",
    "Animal.animais"
   ]
  },
  {
   "cell_type": "code",
   "execution_count": 27,
   "id": "112fb24c",
   "metadata": {
    "ExecuteTime": {
     "end_time": "2021-07-14T23:14:39.059776Z",
     "start_time": "2021-07-14T23:14:39.044814Z"
    }
   },
   "outputs": [
    {
     "name": "stdout",
     "output_type": "stream",
     "text": [
      "Bidu faz au au.\n",
      "Mingau faz miau.\n",
      "Mimosa faz muuu.\n",
      "Horácio faz barulho.\n"
     ]
    }
   ],
   "source": [
    "Animal.falatorio()"
   ]
  },
  {
   "cell_type": "markdown",
   "id": "0b4fce87",
   "metadata": {},
   "source": [
    "A classe Animal nem sequer sabe quem herda dela. Ela não conhece Cachorro, Gato ou Dinossauro. Mas ela sabe que todo animal possui um atributo nome e um método fala, e por isso não importa a qual subclasse eles pertencem: todos também pertencem à classe Animal."
   ]
  },
  {
   "cell_type": "code",
   "execution_count": null,
   "id": "097bce68",
   "metadata": {},
   "outputs": [],
   "source": []
  }
 ],
 "metadata": {
  "kernelspec": {
   "display_name": "Python 3",
   "language": "python",
   "name": "python3"
  },
  "language_info": {
   "codemirror_mode": {
    "name": "ipython",
    "version": 3
   },
   "file_extension": ".py",
   "mimetype": "text/x-python",
   "name": "python",
   "nbconvert_exporter": "python",
   "pygments_lexer": "ipython3",
   "version": "3.9.5"
  },
  "varInspector": {
   "cols": {
    "lenName": 16,
    "lenType": 16,
    "lenVar": 40
   },
   "kernels_config": {
    "python": {
     "delete_cmd_postfix": "",
     "delete_cmd_prefix": "del ",
     "library": "var_list.py",
     "varRefreshCmd": "print(var_dic_list())"
    },
    "r": {
     "delete_cmd_postfix": ") ",
     "delete_cmd_prefix": "rm(",
     "library": "var_list.r",
     "varRefreshCmd": "cat(var_dic_list()) "
    }
   },
   "types_to_exclude": [
    "module",
    "function",
    "builtin_function_or_method",
    "instance",
    "_Feature"
   ],
   "window_display": false
  }
 },
 "nbformat": 4,
 "nbformat_minor": 5
}
