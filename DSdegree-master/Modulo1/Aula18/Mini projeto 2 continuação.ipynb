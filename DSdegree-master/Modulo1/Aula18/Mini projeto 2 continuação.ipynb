{
 "cells": [
  {
   "cell_type": "markdown",
   "id": "894e7ee4-45e2-4783-9960-21065cd51fb3",
   "metadata": {},
   "source": [
    "# Mini projeto 2"
   ]
  },
  {
   "cell_type": "markdown",
   "id": "25a54910-4d57-41f1-b15e-5b73f1233553",
   "metadata": {},
   "source": [
    "**PROVA** DIA 30/07 (mais detalhes próxima aula)"
   ]
  },
  {
   "cell_type": "markdown",
   "id": "4144d16c-1c74-4054-a922-4af9d906e268",
   "metadata": {},
   "source": [
    "- Trabalho deve ser entregue dia 26\n",
    "- Pode ser em grupo ou individual\n",
    "- Continuação do projeto 1. Caso queira usar um código de outra pessoa da sala, pode.\n",
    "- Entregar 2 arquivos:\n",
    "    - notebook.ipynb (chamando o módulo .py) -> pode ser em .py\n",
    "    - arquivo.py (módulo criado)\n",
    "- Entregar via github (passar o link) ou enviar os arquivos via chat do class\n",
    "- O arquivo.py deve conter uma classe e vários métodos (funções criadas no mini projeto 1)\n",
    "- O notebook.ipynb é o programa principal onde deve-ser chamar o módulo via import e apresentar a solução do projeto 1e \n",
    "- Uma classe com vários métodos\n",
    "- Tem que ter:\n",
    "    - deve generalizar a quantidade de carteiras (no projeto 1 foi 4, agora pode ser qualquer valor)\n",
    "    - Tem que ter mais de 1 método (função) dentro da classe (.py)\n",
    "    - O valor de k tem que ser alterável (não deixar o k fixo) - > no programa princial (.ipynb)\n",
    "    \n",
    "- Bom se tiver:\n",
    "    - Doc string"
   ]
  },
  {
   "cell_type": "markdown",
   "id": "ee823b86-fe08-4ab1-8499-8d71bcfbaa41",
   "metadata": {},
   "source": [
    "1. Dúvida sobre doc string"
   ]
  },
  {
   "cell_type": "code",
   "execution_count": 1,
   "id": "fb656792-2b66-4b62-9fc6-dcf4b51d2029",
   "metadata": {},
   "outputs": [],
   "source": [
    "def teste_funcao(x, y):\n",
    "    '''Essa é uma função para calcular a soma de duas variáveis\n",
    "    '''\n",
    "    return x + y"
   ]
  },
  {
   "cell_type": "code",
   "execution_count": 3,
   "id": "7b0bb3ed-c91a-496c-b25a-5301d066d9f4",
   "metadata": {},
   "outputs": [
    {
     "data": {
      "text/plain": [
       "5"
      ]
     },
     "execution_count": 3,
     "metadata": {},
     "output_type": "execute_result"
    }
   ],
   "source": [
    "# digito a função e dou shift+tab dentro dos parênteses para ver informações da função, inclusive o que escrevemos dentro do docstring\n",
    "teste_funcao(2,3)"
   ]
  },
  {
   "cell_type": "markdown",
   "id": "17102884-bfb0-49ab-9089-b71aa1f2e49f",
   "metadata": {},
   "source": [
    "2. Link para boas práticas ou PEP 8 -- Style Guide for Python Code"
   ]
  },
  {
   "cell_type": "markdown",
   "id": "45512c0a-1b43-477e-a388-3fe463b55680",
   "metadata": {},
   "source": [
    "https://www.python.org/dev/peps/pep-0008/"
   ]
  },
  {
   "cell_type": "markdown",
   "id": "1f8f5ade-a17a-4275-9b01-d0083ca778fe",
   "metadata": {},
   "source": [
    "3. Está liberado importar bibliotecas que possam facilitar a resolução *EXCETO* o scikit-learn"
   ]
  },
  {
   "cell_type": "markdown",
   "id": "9be0b8c5-de2a-4bda-a944-abfdaaab800a",
   "metadata": {},
   "source": [
    "Por exemplo: Collections\n",
    "\n",
    "https://docs.python.org/3/library/collections.html"
   ]
  },
  {
   "cell_type": "code",
   "execution_count": null,
   "id": "ff74d57a-d688-4555-bfcc-1cf8ad4f0bbd",
   "metadata": {},
   "outputs": [],
   "source": []
  }
 ],
 "metadata": {
  "kernelspec": {
   "display_name": "Python 3",
   "language": "python",
   "name": "python3"
  },
  "language_info": {
   "codemirror_mode": {
    "name": "ipython",
    "version": 3
   },
   "file_extension": ".py",
   "mimetype": "text/x-python",
   "name": "python",
   "nbconvert_exporter": "python",
   "pygments_lexer": "ipython3",
   "version": "3.9.5"
  }
 },
 "nbformat": 4,
 "nbformat_minor": 5
}
