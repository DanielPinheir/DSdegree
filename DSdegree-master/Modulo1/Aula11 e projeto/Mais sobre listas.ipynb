{
 "cells": [
  {
   "cell_type": "markdown",
   "id": "b3311f71",
   "metadata": {},
   "source": [
    "# Mais sobre listas"
   ]
  },
  {
   "cell_type": "markdown",
   "id": "58535131",
   "metadata": {},
   "source": [
    "https://docs.python.org/3/tutorial/datastructures.html"
   ]
  },
  {
   "cell_type": "markdown",
   "id": "2a9b7659",
   "metadata": {
    "ExecuteTime": {
     "end_time": "2021-06-30T22:24:39.999650Z",
     "start_time": "2021-06-30T22:24:39.980681Z"
    }
   },
   "source": [
    "    list.append(x)\n",
    "Add an item to the end of the list. Equivalent to a[len(a):] = [x].\n",
    "\n",
    "    list.extend(iterable)\n",
    "Extend the list by appending all the items from the iterable. Equivalent to a[len(a):] = iterable.\n",
    "\n",
    "    list.insert(i, x)\n",
    "Insert an item at a given position. The first argument is the index of the element before which to insert, so a.insert(0, x) inserts at the front of the list, and a.insert(len(a), x) is equivalent to a.append(x).\n",
    "\n",
    "    list.remove(x)\n",
    "Remove the first item from the list whose value is equal to x. It raises a ValueError if there is no such item.\n",
    "\n",
    "    list.pop([i])\n",
    "Remove the item at the given position in the list, and return it. If no index is specified, a.pop() removes and returns the last item in the list. (The square brackets around the i in the method signature denote that the parameter is optional, not that you should type square brackets at that position. You will see this notation frequently in the Python Library Reference.)\n",
    "\n",
    "    list.clear()\n",
    "Remove all items from the list. Equivalent to del a[:].\n",
    "\n",
    "    list.index(x[, start[, end]])\n",
    "Return zero-based index in the list of the first item whose value is equal to x. Raises a ValueError if there is no such item.\n",
    "\n",
    "The optional arguments start and end are interpreted as in the slice notation and are used to limit the search to a particular subsequence of the list. The returned index is computed relative to the beginning of the full sequence rather than the start argument.\n",
    "\n",
    "    list.count(x)\n",
    "Return the number of times x appears in the list.\n",
    "\n",
    "    list.sort(*, key=None, reverse=False)\n",
    "Sort the items of the list in place (the arguments can be used for sort customization, see sorted() for their explanation).\n",
    "\n",
    "    list.reverse()\n",
    "Reverse the elements of the list in place.\n",
    "\n",
    "    list.copy()\n",
    "Return a shallow copy of the list. Equivalent to a[:].ipynb_checkpoints/"
   ]
  },
  {
   "cell_type": "code",
   "execution_count": 7,
   "id": "c63e7b54",
   "metadata": {
    "ExecuteTime": {
     "end_time": "2021-06-30T22:29:44.223320Z",
     "start_time": "2021-06-30T22:29:44.213342Z"
    }
   },
   "outputs": [],
   "source": [
    "lista1 = [1, 2, 3, 4, 5]\n",
    "\n",
    "lista2 = ['a', 'b', 'c', 'd', 'e']\n",
    "\n",
    "lista3 = [-2, 4, -5, 6, -8]\n",
    "\n",
    "lista4 = [1, 1, 2, 3, [4, 5]]\n",
    "\n",
    "lista5 = [4564940484, 'João da Silva', (2456, 42434, 32323, 12343)]"
   ]
  },
  {
   "cell_type": "code",
   "execution_count": 3,
   "id": "67053dc7",
   "metadata": {
    "ExecuteTime": {
     "end_time": "2021-06-30T22:26:29.430899Z",
     "start_time": "2021-06-30T22:26:29.411950Z"
    },
    "scrolled": true
   },
   "outputs": [
    {
     "name": "stdout",
     "output_type": "stream",
     "text": [
      "1\n",
      "1\n",
      "2\n",
      "3\n",
      "[4, 5]\n"
     ]
    }
   ],
   "source": [
    "for item in lista4:\n",
    "    print(item)"
   ]
  },
  {
   "cell_type": "code",
   "execution_count": 4,
   "id": "6533a1a0",
   "metadata": {
    "ExecuteTime": {
     "end_time": "2021-06-30T22:27:40.086467Z",
     "start_time": "2021-06-30T22:27:40.064523Z"
    }
   },
   "outputs": [
    {
     "data": {
      "text/plain": [
       "5"
      ]
     },
     "execution_count": 4,
     "metadata": {},
     "output_type": "execute_result"
    }
   ],
   "source": [
    "lista1[4] # lista[indice] e retorna o valor do índice"
   ]
  },
  {
   "cell_type": "code",
   "execution_count": 5,
   "id": "545696db",
   "metadata": {
    "ExecuteTime": {
     "end_time": "2021-06-30T22:28:13.680505Z",
     "start_time": "2021-06-30T22:28:13.674516Z"
    }
   },
   "outputs": [
    {
     "data": {
      "text/plain": [
       "4"
      ]
     },
     "execution_count": 5,
     "metadata": {},
     "output_type": "execute_result"
    }
   ],
   "source": [
    "lista1.index(5) # lista.index(valor) e retorna o índice do primeiro valor que ele encontra"
   ]
  },
  {
   "cell_type": "code",
   "execution_count": 8,
   "id": "a49a65e0",
   "metadata": {
    "ExecuteTime": {
     "end_time": "2021-06-30T22:30:08.933327Z",
     "start_time": "2021-06-30T22:30:08.912440Z"
    }
   },
   "outputs": [
    {
     "data": {
      "text/plain": [
       "[-8, -5, -2, 4, 6]"
      ]
     },
     "execution_count": 8,
     "metadata": {},
     "output_type": "execute_result"
    }
   ],
   "source": [
    "# lista1.sort() # altera a alista\n",
    "sorted(lista3) # não sobrescreve"
   ]
  },
  {
   "cell_type": "code",
   "execution_count": 9,
   "id": "9cd1c4a5",
   "metadata": {
    "ExecuteTime": {
     "end_time": "2021-06-30T22:30:44.792524Z",
     "start_time": "2021-06-30T22:30:44.776563Z"
    }
   },
   "outputs": [
    {
     "data": {
      "text/plain": [
       "6"
      ]
     },
     "execution_count": 9,
     "metadata": {},
     "output_type": "execute_result"
    }
   ],
   "source": [
    "max(lista3)"
   ]
  },
  {
   "cell_type": "code",
   "execution_count": 10,
   "id": "01e1b546",
   "metadata": {
    "ExecuteTime": {
     "end_time": "2021-06-30T22:30:52.207176Z",
     "start_time": "2021-06-30T22:30:52.194207Z"
    }
   },
   "outputs": [
    {
     "data": {
      "text/plain": [
       "-8"
      ]
     },
     "execution_count": 10,
     "metadata": {},
     "output_type": "execute_result"
    }
   ],
   "source": [
    "min(lista3)"
   ]
  },
  {
   "cell_type": "markdown",
   "id": "6db355d5",
   "metadata": {
    "ExecuteTime": {
     "end_time": "2021-06-30T22:31:11.602086Z",
     "start_time": "2021-06-30T22:31:11.592111Z"
    }
   },
   "source": [
    "## zip e enumerate (Built-in Functions - https://docs.python.org/3/library/functions.html)"
   ]
  },
  {
   "cell_type": "markdown",
   "id": "702e0097",
   "metadata": {
    "ExecuteTime": {
     "end_time": "2021-06-30T22:31:32.143846Z",
     "start_time": "2021-06-30T22:31:32.122867Z"
    }
   },
   "source": [
    "**enumerate**  \n",
    "A função \"embutida\" *enumerate* é uma função geradora, usada com frequência em\n",
    "laços for para evitar o tratamento manual de variáveis de índice. \n",
    "\n",
    "enumerate(iterable, start=0)\n",
    "\n",
    "Produz tuplas de dois elementos na forma (index, item), em que index é contado a partir de start e item\n",
    "é obtido de iterable"
   ]
  },
  {
   "cell_type": "code",
   "execution_count": 13,
   "id": "b2423a21",
   "metadata": {
    "ExecuteTime": {
     "end_time": "2021-06-30T22:34:07.043359Z",
     "start_time": "2021-06-30T22:34:07.033386Z"
    }
   },
   "outputs": [
    {
     "data": {
      "text/plain": [
       "<enumerate at 0x1dbd94b4ec0>"
      ]
     },
     "execution_count": 13,
     "metadata": {},
     "output_type": "execute_result"
    }
   ],
   "source": [
    "enumerate(lista1)"
   ]
  },
  {
   "cell_type": "code",
   "execution_count": 14,
   "id": "4f55b167",
   "metadata": {
    "ExecuteTime": {
     "end_time": "2021-06-30T22:34:21.631745Z",
     "start_time": "2021-06-30T22:34:21.611797Z"
    }
   },
   "outputs": [
    {
     "data": {
      "text/plain": [
       "[(0, 1), (1, 2), (2, 3), (3, 4), (4, 5)]"
      ]
     },
     "execution_count": 14,
     "metadata": {},
     "output_type": "execute_result"
    }
   ],
   "source": [
    "list(enumerate(lista1))"
   ]
  },
  {
   "cell_type": "code",
   "execution_count": 18,
   "id": "1da461b7",
   "metadata": {
    "ExecuteTime": {
     "end_time": "2021-06-30T22:35:28.837971Z",
     "start_time": "2021-06-30T22:35:28.824011Z"
    }
   },
   "outputs": [
    {
     "data": {
      "text/plain": [
       "[(0, 'a'), (1, 'b'), (2, 'c'), (3, 'd'), (4, 'e')]"
      ]
     },
     "execution_count": 18,
     "metadata": {},
     "output_type": "execute_result"
    }
   ],
   "source": [
    "list(enumerate(lista2))"
   ]
  },
  {
   "cell_type": "code",
   "execution_count": 19,
   "id": "7ca19832",
   "metadata": {
    "ExecuteTime": {
     "end_time": "2021-06-30T22:36:47.989155Z",
     "start_time": "2021-06-30T22:36:47.979185Z"
    }
   },
   "outputs": [
    {
     "data": {
      "text/plain": [
       "[(25, 'a'), (26, 'b'), (27, 'c'), (28, 'd'), (29, 'e')]"
      ]
     },
     "execution_count": 19,
     "metadata": {},
     "output_type": "execute_result"
    }
   ],
   "source": [
    "list(enumerate(lista2, start=25))"
   ]
  },
  {
   "cell_type": "code",
   "execution_count": 20,
   "id": "b69d1745",
   "metadata": {
    "ExecuteTime": {
     "end_time": "2021-06-30T22:37:41.032669Z",
     "start_time": "2021-06-30T22:37:41.025687Z"
    }
   },
   "outputs": [
    {
     "data": {
      "text/plain": [
       "[(0, 4564940484), (1, 'João da Silva'), (2, (2456, 42434, 32323, 12343))]"
      ]
     },
     "execution_count": 20,
     "metadata": {},
     "output_type": "execute_result"
    }
   ],
   "source": [
    "list(enumerate(lista5))"
   ]
  },
  {
   "cell_type": "code",
   "execution_count": 21,
   "id": "20636c54",
   "metadata": {
    "ExecuteTime": {
     "end_time": "2021-06-30T22:38:37.964763Z",
     "start_time": "2021-06-30T22:38:37.950800Z"
    }
   },
   "outputs": [
    {
     "name": "stdout",
     "output_type": "stream",
     "text": [
      "Esse é o índice:  0\n",
      "Esse é o item: 4564940484\n",
      "Esse é o índice:  1\n",
      "Esse é o item: João da Silva\n",
      "Esse é o índice:  2\n",
      "Esse é o item: (2456, 42434, 32323, 12343)\n"
     ]
    }
   ],
   "source": [
    "for indice, item in enumerate(lista5):\n",
    "    print('Esse é o índice: ', indice)\n",
    "    print('Esse é o item:', item)"
   ]
  },
  {
   "cell_type": "code",
   "execution_count": 27,
   "id": "d26a07ac",
   "metadata": {
    "ExecuteTime": {
     "end_time": "2021-06-30T22:45:52.568332Z",
     "start_time": "2021-06-30T22:45:52.561310Z"
    }
   },
   "outputs": [
    {
     "data": {
      "text/plain": [
       "[49212614633, 'Agressivo', (5900.0, 3000.0, 5100.0, 1800.0)]"
      ]
     },
     "execution_count": 27,
     "metadata": {},
     "output_type": "execute_result"
    }
   ],
   "source": [
    "data[119]"
   ]
  },
  {
   "cell_type": "markdown",
   "id": "40f49258",
   "metadata": {},
   "source": [
    "**zip**  \n",
    "Produz tuplas de N elementos criadas a partir de itens obtidos dos iteráveis em paralelo, parando silenciosamente quando o\n",
    "primeiro iterável se esgotar.\n",
    "zip(it1, .. ,itN)   \n",
    "Tem que ter o mesmo tamanho, pois ele corta o iterável"
   ]
  },
  {
   "cell_type": "code",
   "execution_count": 29,
   "id": "03abe206",
   "metadata": {
    "ExecuteTime": {
     "end_time": "2021-06-30T22:48:45.343218Z",
     "start_time": "2021-06-30T22:48:45.330221Z"
    }
   },
   "outputs": [
    {
     "data": {
      "text/plain": [
       "<zip at 0x1dbd8c9b380>"
      ]
     },
     "execution_count": 29,
     "metadata": {},
     "output_type": "execute_result"
    }
   ],
   "source": [
    "zip(lista1, lista2)"
   ]
  },
  {
   "cell_type": "code",
   "execution_count": 33,
   "id": "726c7cac",
   "metadata": {
    "ExecuteTime": {
     "end_time": "2021-06-30T22:51:55.398419Z",
     "start_time": "2021-06-30T22:51:55.376436Z"
    }
   },
   "outputs": [
    {
     "data": {
      "text/plain": [
       "[(1, 'a'), (2, 'b'), (3, 'c'), (4, 'd'), (5, 'e')]"
      ]
     },
     "execution_count": 33,
     "metadata": {},
     "output_type": "execute_result"
    }
   ],
   "source": [
    "list(zip(lista1, lista2))"
   ]
  },
  {
   "cell_type": "code",
   "execution_count": 32,
   "id": "642b8030",
   "metadata": {
    "ExecuteTime": {
     "end_time": "2021-06-30T22:51:19.554204Z",
     "start_time": "2021-06-30T22:51:19.532265Z"
    }
   },
   "outputs": [
    {
     "data": {
      "text/plain": [
       "[(1, 'a'), (2, 'b'), (3, 'c')]"
      ]
     },
     "execution_count": 32,
     "metadata": {},
     "output_type": "execute_result"
    }
   ],
   "source": [
    "list(zip(lista1, lista2[:-2]))"
   ]
  },
  {
   "cell_type": "code",
   "execution_count": 34,
   "id": "423008f5",
   "metadata": {
    "ExecuteTime": {
     "end_time": "2021-06-30T22:52:42.851008Z",
     "start_time": "2021-06-30T22:52:42.842033Z"
    }
   },
   "outputs": [
    {
     "name": "stdout",
     "output_type": "stream",
     "text": [
      "1 a\n",
      "2 b\n",
      "3 c\n",
      "4 d\n",
      "5 e\n"
     ]
    }
   ],
   "source": [
    "for item1, item2 in zip(lista1, lista2):\n",
    "    print(item1, item2)"
   ]
  },
  {
   "cell_type": "code",
   "execution_count": 36,
   "id": "f72cac19",
   "metadata": {
    "ExecuteTime": {
     "end_time": "2021-06-30T22:53:45.973145Z",
     "start_time": "2021-06-30T22:53:45.959191Z"
    }
   },
   "outputs": [
    {
     "data": {
      "text/plain": [
       "[(1, 2, 3, 4, 5), ('a', 'b', 'c', 'd', 'e')]"
      ]
     },
     "execution_count": 36,
     "metadata": {},
     "output_type": "execute_result"
    }
   ],
   "source": [
    "# unzip *\n",
    "\n",
    "list(zip(*zip(lista1, lista2)))"
   ]
  },
  {
   "cell_type": "code",
   "execution_count": 38,
   "id": "a07bc4a2",
   "metadata": {
    "ExecuteTime": {
     "end_time": "2021-06-30T22:54:45.653154Z",
     "start_time": "2021-06-30T22:54:45.645172Z"
    }
   },
   "outputs": [
    {
     "data": {
      "text/plain": [
       "((1, 2, 3, 4, 5), ('a', 'b', 'c', 'd', 'e'))"
      ]
     },
     "execution_count": 38,
     "metadata": {},
     "output_type": "execute_result"
    }
   ],
   "source": [
    "x2, y2 = zip(*zip(lista1, lista2))\n",
    "x2, y2"
   ]
  },
  {
   "cell_type": "code",
   "execution_count": 39,
   "id": "54c80ce0",
   "metadata": {
    "ExecuteTime": {
     "end_time": "2021-06-30T22:54:50.184305Z",
     "start_time": "2021-06-30T22:54:50.165316Z"
    }
   },
   "outputs": [
    {
     "data": {
      "text/plain": [
       "(1, 2, 3, 4, 5)"
      ]
     },
     "execution_count": 39,
     "metadata": {},
     "output_type": "execute_result"
    }
   ],
   "source": [
    "x2"
   ]
  },
  {
   "cell_type": "code",
   "execution_count": 40,
   "id": "f3c8dba8",
   "metadata": {
    "ExecuteTime": {
     "end_time": "2021-06-30T22:54:52.774661Z",
     "start_time": "2021-06-30T22:54:52.766719Z"
    }
   },
   "outputs": [
    {
     "data": {
      "text/plain": [
       "('a', 'b', 'c', 'd', 'e')"
      ]
     },
     "execution_count": 40,
     "metadata": {},
     "output_type": "execute_result"
    }
   ],
   "source": [
    "y2"
   ]
  },
  {
   "cell_type": "markdown",
   "id": "73db521a",
   "metadata": {
    "ExecuteTime": {
     "end_time": "2021-06-30T22:55:14.356539Z",
     "start_time": "2021-06-30T22:55:14.338587Z"
    }
   },
   "source": [
    "## list comprehension\n",
    "\n",
    "- Uma expressão entre colchetes que usa as palavras reservadas **for** e **in** para criar uma lista processando e filtrando elementos de um ou mais iteráveis.\n",
    "- É uma maneira rápida de criar uma sequência "
   ]
  },
  {
   "cell_type": "code",
   "execution_count": 42,
   "id": "6b545f20",
   "metadata": {
    "ExecuteTime": {
     "end_time": "2021-06-30T22:56:20.273635Z",
     "start_time": "2021-06-30T22:56:20.256682Z"
    }
   },
   "outputs": [
    {
     "data": {
      "text/plain": [
       "[0, 1, 4, 9, 16, 25, 36, 49, 64, 81]"
      ]
     },
     "execution_count": 42,
     "metadata": {},
     "output_type": "execute_result"
    }
   ],
   "source": [
    "squares = []\n",
    "for x in range(10):\n",
    "    squares.append(x**2)\n",
    "    \n",
    "squares"
   ]
  },
  {
   "cell_type": "code",
   "execution_count": 44,
   "id": "1d27bc67",
   "metadata": {
    "ExecuteTime": {
     "end_time": "2021-06-30T22:59:04.754471Z",
     "start_time": "2021-06-30T22:59:04.743499Z"
    }
   },
   "outputs": [
    {
     "data": {
      "text/plain": [
       "[0, 1, 4, 9, 16, 25, 36, 49, 64, 81]"
      ]
     },
     "execution_count": 44,
     "metadata": {},
     "output_type": "execute_result"
    }
   ],
   "source": [
    "squares = [x**2 for x in range(10)] #-> compreensão de lista\n",
    "\n",
    "squares"
   ]
  },
  {
   "cell_type": "code",
   "execution_count": 84,
   "id": "45b89f2c",
   "metadata": {
    "ExecuteTime": {
     "end_time": "2021-06-30T23:29:26.123928Z",
     "start_time": "2021-06-30T23:29:26.114952Z"
    }
   },
   "outputs": [
    {
     "data": {
      "text/plain": [
       "[(1, 3), (1, 4), (2, 3), (2, 1), (2, 4), (3, 1), (3, 4)]"
      ]
     },
     "execution_count": 84,
     "metadata": {},
     "output_type": "execute_result"
    }
   ],
   "source": [
    "combs = []\n",
    "for x in [1, 2, 3]:\n",
    "    for y in [3, 1, 4]:\n",
    "        if x != y:\n",
    "            combs.append((x, y))\n",
    "\n",
    "combs"
   ]
  },
  {
   "cell_type": "code",
   "execution_count": 85,
   "id": "a5fb9775",
   "metadata": {
    "ExecuteTime": {
     "end_time": "2021-06-30T23:29:27.151458Z",
     "start_time": "2021-06-30T23:29:27.144476Z"
    }
   },
   "outputs": [
    {
     "data": {
      "text/plain": [
       "[(1, 3), (1, 4), (2, 3), (2, 1), (2, 4), (3, 1), (3, 4)]"
      ]
     },
     "execution_count": 85,
     "metadata": {},
     "output_type": "execute_result"
    }
   ],
   "source": [
    "[(x, y) for x in [1, 2, 3] for y in [3, 1, 4] if x != y] # TUDO NA MESMA LINHA"
   ]
  },
  {
   "cell_type": "code",
   "execution_count": 47,
   "id": "f45665e9",
   "metadata": {
    "ExecuteTime": {
     "end_time": "2021-06-30T23:05:54.708045Z",
     "start_time": "2021-06-30T23:05:54.689111Z"
    }
   },
   "outputs": [
    {
     "data": {
      "text/plain": [
       "[-8, -4, 0, 4, 8]"
      ]
     },
     "execution_count": 47,
     "metadata": {},
     "output_type": "execute_result"
    }
   ],
   "source": [
    "vec = [-4, -2, 0, 2, 4]\n",
    "# create a new list with the values doubled\n",
    "[x*2 for x in vec]"
   ]
  },
  {
   "cell_type": "code",
   "execution_count": 48,
   "id": "1bf0dd4b",
   "metadata": {
    "ExecuteTime": {
     "end_time": "2021-06-30T23:07:06.315435Z",
     "start_time": "2021-06-30T23:07:06.299464Z"
    }
   },
   "outputs": [
    {
     "data": {
      "text/plain": [
       "[-8, -4, 0, 4, 8]"
      ]
     },
     "execution_count": 48,
     "metadata": {},
     "output_type": "execute_result"
    }
   ],
   "source": [
    "lista_dobro = []\n",
    "for x in vec:\n",
    "    lista_dobro.append(x*2)\n",
    "lista_dobro"
   ]
  },
  {
   "cell_type": "code",
   "execution_count": 49,
   "id": "b9d40e44",
   "metadata": {
    "ExecuteTime": {
     "end_time": "2021-06-30T23:07:34.060798Z",
     "start_time": "2021-06-30T23:07:34.041846Z"
    }
   },
   "outputs": [
    {
     "data": {
      "text/plain": [
       "[0, 2, 4]"
      ]
     },
     "execution_count": 49,
     "metadata": {},
     "output_type": "execute_result"
    }
   ],
   "source": [
    "# filter the list to exclude negative numbers\n",
    "[x for x in vec if x >= 0]"
   ]
  },
  {
   "cell_type": "code",
   "execution_count": 50,
   "id": "c3fbc127",
   "metadata": {
    "ExecuteTime": {
     "end_time": "2021-06-30T23:08:02.576740Z",
     "start_time": "2021-06-30T23:08:02.554778Z"
    }
   },
   "outputs": [
    {
     "data": {
      "text/plain": [
       "[4, 2, 0, 2, 4]"
      ]
     },
     "execution_count": 50,
     "metadata": {},
     "output_type": "execute_result"
    }
   ],
   "source": [
    "# apply a function to all the elements\n",
    "[abs(x) for x in vec]"
   ]
  },
  {
   "cell_type": "code",
   "execution_count": 53,
   "id": "486d48ad",
   "metadata": {
    "ExecuteTime": {
     "end_time": "2021-06-30T23:10:47.208364Z",
     "start_time": "2021-06-30T23:10:47.201401Z"
    }
   },
   "outputs": [
    {
     "data": {
      "text/plain": [
       "['banana', 'loganberry', 'passion fruit']"
      ]
     },
     "execution_count": 53,
     "metadata": {},
     "output_type": "execute_result"
    }
   ],
   "source": [
    "# call a method on each element\n",
    "freshfruit = ['  banana', '  loganberry ', 'passion fruit  ']\n",
    "[weapon.strip() for weapon in freshfruit] # método strip elimina excessos de espaço"
   ]
  },
  {
   "cell_type": "code",
   "execution_count": 54,
   "id": "a5924480",
   "metadata": {
    "ExecuteTime": {
     "end_time": "2021-06-30T23:11:09.477594Z",
     "start_time": "2021-06-30T23:11:09.456649Z"
    }
   },
   "outputs": [
    {
     "data": {
      "text/plain": [
       "['b1n1n1', 'log1nberry', 'p1ssion fruit']"
      ]
     },
     "execution_count": 54,
     "metadata": {},
     "output_type": "execute_result"
    }
   ],
   "source": [
    "# call a method on each element\n",
    "freshfruit = ['  banana', '  loganberry ', 'passion fruit  ']\n",
    "[weapon.strip().replace('a','1') for weapon in freshfruit] # método strip elimina excessos de espaço"
   ]
  },
  {
   "cell_type": "code",
   "execution_count": 55,
   "id": "39130575",
   "metadata": {
    "ExecuteTime": {
     "end_time": "2021-06-30T23:11:53.746888Z",
     "start_time": "2021-06-30T23:11:53.731932Z"
    }
   },
   "outputs": [
    {
     "data": {
      "text/plain": [
       "[(0, 0), (1, 1), (2, 4), (3, 9), (4, 16), (5, 25)]"
      ]
     },
     "execution_count": 55,
     "metadata": {},
     "output_type": "execute_result"
    }
   ],
   "source": [
    "# create a list of 2-tuples like (number, square)\n",
    "[(x, x**2) for x in range(6)]"
   ]
  },
  {
   "cell_type": "code",
   "execution_count": 56,
   "id": "8cf2b2b1",
   "metadata": {
    "ExecuteTime": {
     "end_time": "2021-06-30T23:15:40.752341Z",
     "start_time": "2021-06-30T23:15:40.734389Z"
    }
   },
   "outputs": [
    {
     "ename": "SyntaxError",
     "evalue": "invalid syntax (<ipython-input-56-702d12ece8a4>, line 2)",
     "output_type": "error",
     "traceback": [
      "\u001b[1;36m  File \u001b[1;32m\"<ipython-input-56-702d12ece8a4>\"\u001b[1;36m, line \u001b[1;32m2\u001b[0m\n\u001b[1;33m    [x, x**2 for x in range(6)]\u001b[0m\n\u001b[1;37m             ^\u001b[0m\n\u001b[1;31mSyntaxError\u001b[0m\u001b[1;31m:\u001b[0m invalid syntax\n"
     ]
    }
   ],
   "source": [
    "# the tuple must be parenthesized, otherwise an error is raised\n",
    "[x, x**2 for x in range(6)]"
   ]
  },
  {
   "cell_type": "code",
   "execution_count": 58,
   "id": "0f12a59c",
   "metadata": {
    "ExecuteTime": {
     "end_time": "2021-06-30T23:17:35.068939Z",
     "start_time": "2021-06-30T23:17:35.054978Z"
    }
   },
   "outputs": [
    {
     "data": {
      "text/plain": [
       "['3.1', '3.14', '3.142', '3.1416', '3.14159']"
      ]
     },
     "execution_count": 58,
     "metadata": {},
     "output_type": "execute_result"
    }
   ],
   "source": [
    "from math import pi\n",
    "[str(round(pi, i)) for i in range(1, 6)]"
   ]
  },
  {
   "cell_type": "code",
   "execution_count": 57,
   "id": "6a4a3029",
   "metadata": {
    "ExecuteTime": {
     "end_time": "2021-06-30T23:16:10.419962Z",
     "start_time": "2021-06-30T23:16:10.407002Z"
    }
   },
   "outputs": [
    {
     "data": {
      "text/plain": [
       "[1, 2, 3, 4, 5, 6, 7, 8, 9]"
      ]
     },
     "execution_count": 57,
     "metadata": {},
     "output_type": "execute_result"
    }
   ],
   "source": [
    "# flatten a list using a listcomp with two 'for'\n",
    "vec = [[1,2,3], [4,5,6], [7,8,9]]\n",
    "[num for elem in vec for num in elem]"
   ]
  },
  {
   "cell_type": "code",
   "execution_count": 59,
   "id": "58b8687a",
   "metadata": {
    "ExecuteTime": {
     "end_time": "2021-06-30T23:18:59.764233Z",
     "start_time": "2021-06-30T23:18:59.746281Z"
    }
   },
   "outputs": [],
   "source": [
    "matrix = [[1, 2, 3, 4], [5, 6, 7, 8], [9, 10, 11, 12]]\n",
    "\n",
    "# ou\n",
    "\n",
    "matrix = [\n",
    "    [1, 2, 3, 4], # primeiro elemento\n",
    "    [5, 6, 7, 8], # segundo elemento\n",
    "    [9, 10, 11, 12], # terceiro\n",
    "]"
   ]
  },
  {
   "cell_type": "code",
   "execution_count": 60,
   "id": "4c6a6351",
   "metadata": {
    "ExecuteTime": {
     "end_time": "2021-06-30T23:21:04.049998Z",
     "start_time": "2021-06-30T23:21:04.041022Z"
    }
   },
   "outputs": [
    {
     "data": {
      "text/plain": [
       "[1, 2, 3, 4]"
      ]
     },
     "execution_count": 60,
     "metadata": {},
     "output_type": "execute_result"
    }
   ],
   "source": [
    "matrix[0]   # lista[indice] e retorna o valor do índice"
   ]
  },
  {
   "cell_type": "code",
   "execution_count": 62,
   "id": "bacf637c",
   "metadata": {
    "ExecuteTime": {
     "end_time": "2021-06-30T23:21:17.766303Z",
     "start_time": "2021-06-30T23:21:17.750348Z"
    }
   },
   "outputs": [
    {
     "data": {
      "text/plain": [
       "[5, 6, 7, 8]"
      ]
     },
     "execution_count": 62,
     "metadata": {},
     "output_type": "execute_result"
    }
   ],
   "source": [
    "matrix[1]"
   ]
  },
  {
   "cell_type": "code",
   "execution_count": 63,
   "id": "cc30a856",
   "metadata": {
    "ExecuteTime": {
     "end_time": "2021-06-30T23:21:25.619541Z",
     "start_time": "2021-06-30T23:21:25.608528Z"
    }
   },
   "outputs": [
    {
     "data": {
      "text/plain": [
       "[9, 10, 11, 12]"
      ]
     },
     "execution_count": 63,
     "metadata": {},
     "output_type": "execute_result"
    }
   ],
   "source": [
    "matrix[2]"
   ]
  },
  {
   "cell_type": "code",
   "execution_count": 64,
   "id": "2852c87c",
   "metadata": {
    "ExecuteTime": {
     "end_time": "2021-06-30T23:22:00.209190Z",
     "start_time": "2021-06-30T23:22:00.190232Z"
    }
   },
   "outputs": [
    {
     "data": {
      "text/plain": [
       "1"
      ]
     },
     "execution_count": 64,
     "metadata": {},
     "output_type": "execute_result"
    }
   ],
   "source": [
    "matrix[0][0]"
   ]
  },
  {
   "cell_type": "code",
   "execution_count": 65,
   "id": "6d4d39b5",
   "metadata": {
    "ExecuteTime": {
     "end_time": "2021-06-30T23:22:18.863435Z",
     "start_time": "2021-06-30T23:22:18.855456Z"
    }
   },
   "outputs": [
    {
     "data": {
      "text/plain": [
       "5"
      ]
     },
     "execution_count": 65,
     "metadata": {},
     "output_type": "execute_result"
    }
   ],
   "source": [
    "matrix[1][0]"
   ]
  },
  {
   "cell_type": "code",
   "execution_count": 66,
   "id": "ecd95e67",
   "metadata": {
    "ExecuteTime": {
     "end_time": "2021-06-30T23:22:37.166404Z",
     "start_time": "2021-06-30T23:22:37.150739Z"
    }
   },
   "outputs": [
    {
     "data": {
      "text/plain": [
       "11"
      ]
     },
     "execution_count": 66,
     "metadata": {},
     "output_type": "execute_result"
    }
   ],
   "source": [
    "matrix[2][2]"
   ]
  },
  {
   "cell_type": "code",
   "execution_count": 68,
   "id": "6865a805",
   "metadata": {
    "ExecuteTime": {
     "end_time": "2021-06-30T23:25:35.587166Z",
     "start_time": "2021-06-30T23:25:35.575199Z"
    }
   },
   "outputs": [],
   "source": [
    "# i, j (linha e coluna)\n",
    "# matriz[i][j]\n",
    "\n",
    "# percorrer linhas da matriz \n",
    "# for i \n",
    "# matriz[i][j]\n",
    "\n",
    "# percorrer as colunas\n",
    "# for j\n",
    "# matriz[i][j]"
   ]
  },
  {
   "cell_type": "code",
   "execution_count": 86,
   "id": "b775f2fd",
   "metadata": {
    "ExecuteTime": {
     "end_time": "2021-06-30T23:30:35.094749Z",
     "start_time": "2021-06-30T23:30:35.078793Z"
    }
   },
   "outputs": [
    {
     "data": {
      "text/plain": [
       "[(0, [1, 2, 3, 4]), (1, [5, 6, 7, 8]), (2, [9, 10, 11, 12])]"
      ]
     },
     "execution_count": 86,
     "metadata": {},
     "output_type": "execute_result"
    }
   ],
   "source": [
    "list(enumerate(matrix))"
   ]
  },
  {
   "cell_type": "code",
   "execution_count": 87,
   "id": "88ba4645",
   "metadata": {
    "ExecuteTime": {
     "end_time": "2021-06-30T23:30:53.379473Z",
     "start_time": "2021-06-30T23:30:53.362516Z"
    }
   },
   "outputs": [
    {
     "data": {
      "text/plain": [
       "[[1, 2, 3, 4], [5, 6, 7, 8], [9, 10, 11, 12]]"
      ]
     },
     "execution_count": 87,
     "metadata": {},
     "output_type": "execute_result"
    }
   ],
   "source": [
    "matrix"
   ]
  },
  {
   "cell_type": "code",
   "execution_count": null,
   "id": "848ca385",
   "metadata": {},
   "outputs": [],
   "source": [
    "matrix = [\n",
    "    [1, 2, 3, 4], # primeiro elemento\n",
    "    [5, 6, 7, 8], # segundo elemento\n",
    "    [9, 10, 11, 12], # terceiro\n",
    "]"
   ]
  },
  {
   "cell_type": "code",
   "execution_count": 90,
   "id": "37e6d251",
   "metadata": {
    "ExecuteTime": {
     "end_time": "2021-06-30T23:32:48.027540Z",
     "start_time": "2021-06-30T23:32:48.016571Z"
    }
   },
   "outputs": [
    {
     "name": "stdout",
     "output_type": "stream",
     "text": [
      "7 [5, 6, 7, 8]\n"
     ]
    }
   ],
   "source": [
    "for linhas in matrix:\n",
    "#     print(linhas)\n",
    "    for item in linhas:\n",
    "        if item == 7:\n",
    "            print(item, linhas)"
   ]
  },
  {
   "cell_type": "code",
   "execution_count": 93,
   "id": "f2ef5142",
   "metadata": {
    "ExecuteTime": {
     "end_time": "2021-06-30T23:37:04.065442Z",
     "start_time": "2021-06-30T23:37:04.045496Z"
    }
   },
   "outputs": [
    {
     "name": "stdout",
     "output_type": "stream",
     "text": [
      "1 2\n"
     ]
    }
   ],
   "source": [
    "for i in range(len(matrix)):\n",
    "#     print(linhas)\n",
    "    for j in range(len(matrix[i])):\n",
    "        if 7 == matrix[i][j]:\n",
    "            print(i, j)"
   ]
  },
  {
   "cell_type": "code",
   "execution_count": 95,
   "id": "1f22b641",
   "metadata": {
    "ExecuteTime": {
     "end_time": "2021-06-30T23:39:05.607398Z",
     "start_time": "2021-06-30T23:39:05.592438Z"
    }
   },
   "outputs": [
    {
     "data": {
      "text/plain": [
       "[(0, (0, 'a')), (1, (1, 'b')), (2, (2, 'c')), (3, (3, 'd')), (4, (4, 'e'))]"
      ]
     },
     "execution_count": 95,
     "metadata": {},
     "output_type": "execute_result"
    }
   ],
   "source": [
    "list(enumerate(enumerate(lista2)))"
   ]
  },
  {
   "cell_type": "code",
   "execution_count": 96,
   "id": "cfa98401",
   "metadata": {
    "ExecuteTime": {
     "end_time": "2021-06-30T23:40:02.377182Z",
     "start_time": "2021-06-30T23:40:02.358231Z"
    }
   },
   "outputs": [
    {
     "data": {
      "text/plain": [
       "[(0, (0, [1, 2, 3, 4])), (1, (1, [5, 6, 7, 8])), (2, (2, [9, 10, 11, 12]))]"
      ]
     },
     "execution_count": 96,
     "metadata": {},
     "output_type": "execute_result"
    }
   ],
   "source": [
    "list(enumerate(enumerate(matrix)))"
   ]
  },
  {
   "cell_type": "code",
   "execution_count": null,
   "id": "84b65682",
   "metadata": {},
   "outputs": [],
   "source": []
  }
 ],
 "metadata": {
  "kernelspec": {
   "display_name": "Python 3",
   "language": "python",
   "name": "python3"
  },
  "language_info": {
   "codemirror_mode": {
    "name": "ipython",
    "version": 3
   },
   "file_extension": ".py",
   "mimetype": "text/x-python",
   "name": "python",
   "nbconvert_exporter": "python",
   "pygments_lexer": "ipython3",
   "version": "3.9.5"
  },
  "varInspector": {
   "cols": {
    "lenName": 16,
    "lenType": 16,
    "lenVar": 40
   },
   "kernels_config": {
    "python": {
     "delete_cmd_postfix": "",
     "delete_cmd_prefix": "del ",
     "library": "var_list.py",
     "varRefreshCmd": "print(var_dic_list())"
    },
    "r": {
     "delete_cmd_postfix": ") ",
     "delete_cmd_prefix": "rm(",
     "library": "var_list.r",
     "varRefreshCmd": "cat(var_dic_list()) "
    }
   },
   "types_to_exclude": [
    "module",
    "function",
    "builtin_function_or_method",
    "instance",
    "_Feature"
   ],
   "window_display": false
  }
 },
 "nbformat": 4,
 "nbformat_minor": 5
}
