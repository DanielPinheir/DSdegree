{
 "cells": [
  {
   "cell_type": "markdown",
   "id": "55773629",
   "metadata": {},
   "source": [
    "1) Crie uma classe Bola cujos atributos são cor e raio. Crie um método que imprime a cor da bola. Crie um método para calcular a área dessa bola. Crie um método para calcular o volume da bola. Crie um objeto dessa classe e calcule a área e o volume, imprimindo ambos em seguida.\n",
    "\n",
    "Obs.:\n",
    "\n",
    "Área da esfera = $4*3.14*r*r$\n",
    "\n",
    "Volume da esfera = $4*3.14*r*r*r/3$"
   ]
  },
  {
   "cell_type": "code",
   "execution_count": 42,
   "id": "c0f1f8f3",
   "metadata": {
    "ExecuteTime": {
     "end_time": "2021-07-13T00:49:38.974510Z",
     "start_time": "2021-07-13T00:49:38.949610Z"
    }
   },
   "outputs": [],
   "source": [
    "class Bola:\n",
    "    # método construtor\n",
    "    def __init__(self, cor, raio):\n",
    "        self.cor = cor\n",
    "        self.raio = raio\n",
    "        self.pi = 3.14\n",
    "\n",
    "    def cor_da_bola(self):\n",
    "        return self.cor\n",
    "\n",
    "    def area_bola(self):\n",
    "        area = 4 * self.pi * self.raio * self.raio\n",
    "        return area\n",
    "\n",
    "    def volume_da_bola(self):\n",
    "        volume = 4 * self.pi * self.raio * self.raio * self.raio / 3\n",
    "        return volume"
   ]
  },
  {
   "cell_type": "code",
   "execution_count": 43,
   "id": "6203ead8",
   "metadata": {
    "ExecuteTime": {
     "end_time": "2021-07-13T00:49:45.677557Z",
     "start_time": "2021-07-13T00:49:45.671571Z"
    }
   },
   "outputs": [
    {
     "data": {
      "text/plain": [
       "<__main__.Bola at 0x20cf525d850>"
      ]
     },
     "execution_count": 43,
     "metadata": {},
     "output_type": "execute_result"
    }
   ],
   "source": [
    "bola1 = Bola('azul', 10)\n",
    "bola1"
   ]
  },
  {
   "cell_type": "code",
   "execution_count": 26,
   "id": "be9a43c8",
   "metadata": {
    "ExecuteTime": {
     "end_time": "2021-07-13T00:40:04.746346Z",
     "start_time": "2021-07-13T00:40:04.736374Z"
    }
   },
   "outputs": [
    {
     "data": {
      "text/plain": [
       "'azul'"
      ]
     },
     "execution_count": 26,
     "metadata": {},
     "output_type": "execute_result"
    }
   ],
   "source": [
    "bola1.cor_da_bola()"
   ]
  },
  {
   "cell_type": "code",
   "execution_count": 27,
   "id": "396edd5b",
   "metadata": {
    "ExecuteTime": {
     "end_time": "2021-07-13T00:40:05.101452Z",
     "start_time": "2021-07-13T00:40:05.088488Z"
    }
   },
   "outputs": [],
   "source": [
    "bola2 = Bola('vermelha', 3)"
   ]
  },
  {
   "cell_type": "code",
   "execution_count": 28,
   "id": "0dbaf7c4",
   "metadata": {
    "ExecuteTime": {
     "end_time": "2021-07-13T00:40:05.455615Z",
     "start_time": "2021-07-13T00:40:05.437667Z"
    }
   },
   "outputs": [
    {
     "data": {
      "text/plain": [
       "1256.0"
      ]
     },
     "execution_count": 28,
     "metadata": {},
     "output_type": "execute_result"
    }
   ],
   "source": [
    "bola1.area_bola()"
   ]
  },
  {
   "cell_type": "code",
   "execution_count": 29,
   "id": "8ffd91a3",
   "metadata": {
    "ExecuteTime": {
     "end_time": "2021-07-13T00:40:05.753833Z",
     "start_time": "2021-07-13T00:40:05.735882Z"
    }
   },
   "outputs": [
    {
     "data": {
      "text/plain": [
       "113.03999999999999"
      ]
     },
     "execution_count": 29,
     "metadata": {},
     "output_type": "execute_result"
    }
   ],
   "source": [
    "bola2.area_bola()"
   ]
  },
  {
   "cell_type": "code",
   "execution_count": 30,
   "id": "b48429e3",
   "metadata": {
    "ExecuteTime": {
     "end_time": "2021-07-13T00:40:06.204920Z",
     "start_time": "2021-07-13T00:40:06.186966Z"
    }
   },
   "outputs": [
    {
     "data": {
      "text/plain": [
       "113.04"
      ]
     },
     "execution_count": 30,
     "metadata": {},
     "output_type": "execute_result"
    }
   ],
   "source": [
    "bola2.volume_da_bola()"
   ]
  },
  {
   "cell_type": "markdown",
   "id": "b5c07aa1",
   "metadata": {},
   "source": [
    "13) Nos exercícios 1, 2, 3, 4 e 6, implemente o método _ repr _ para exibir as informações desejadas de cada uma das classes."
   ]
  },
  {
   "cell_type": "code",
   "execution_count": 44,
   "id": "cef4c880",
   "metadata": {
    "ExecuteTime": {
     "end_time": "2021-07-13T00:50:04.946286Z",
     "start_time": "2021-07-13T00:50:04.927336Z"
    }
   },
   "outputs": [],
   "source": [
    "# exercício 1 -> usando método mágico __repr__\n",
    "class Bola:\n",
    "    # método construtor\n",
    "    def __init__(self, cor, raio):\n",
    "        self.cor = cor\n",
    "        self.raio = raio\n",
    "        self.pi = 3.14\n",
    "\n",
    "    def __repr__(self):  # método mágico\n",
    "        texto = f'A cor da bola é {self.cor} e seu raio é {self.raio}'\n",
    "#         texto = 'A cor da bola é {} e seu raio é {}'.format(self.cor, self.raio) # alternativas de formato\n",
    "#         texto = 'A cor da bola é ' + self.cor + ' e o raio é ' + str(self.raio) # alternativas de formato\n",
    "        return texto\n",
    "\n",
    "    def area_bola(self):\n",
    "        area = 4 * self.pi * self.raio * self.raio\n",
    "        return area\n",
    "\n",
    "    def volume_da_bola(self):\n",
    "        volume = 4 * self.pi * self.raio * self.raio * self.raio / 3\n",
    "        return volume"
   ]
  },
  {
   "cell_type": "code",
   "execution_count": 45,
   "id": "681d511b",
   "metadata": {
    "ExecuteTime": {
     "end_time": "2021-07-13T00:50:05.337274Z",
     "start_time": "2021-07-13T00:50:05.320325Z"
    }
   },
   "outputs": [
    {
     "data": {
      "text/plain": [
       "A cor da bola é azul e seu raio é 10"
      ]
     },
     "execution_count": 45,
     "metadata": {},
     "output_type": "execute_result"
    }
   ],
   "source": [
    "bola1 = Bola('azul', 10)\n",
    "bola1"
   ]
  },
  {
   "cell_type": "code",
   "execution_count": 46,
   "id": "43e46202",
   "metadata": {
    "ExecuteTime": {
     "end_time": "2021-07-13T00:50:43.986610Z",
     "start_time": "2021-07-13T00:50:43.971980Z"
    }
   },
   "outputs": [
    {
     "data": {
      "text/plain": [
       "'A cor da bola é azul e seu raio é 10'"
      ]
     },
     "execution_count": 46,
     "metadata": {},
     "output_type": "execute_result"
    }
   ],
   "source": [
    "bola1.__repr__()"
   ]
  },
  {
   "cell_type": "markdown",
   "id": "9b49eff8",
   "metadata": {},
   "source": [
    "4) Crie uma classe Televisor cujos atributos são:\n",
    "\n",
    "a. fabricante;\n",
    "\n",
    "b. modelo;\n",
    "\n",
    "c. canal atual;\n",
    "\n",
    "d. lista de canais; e\n",
    "\n",
    "e. volume.\n",
    "\n",
    "Faça métodos para aumentar/diminuir volume, trocar o canal e sintonizar um novo canal, que adiciona um novo canal à lista de canais (somente se esse canal não estiver nessa lista). No atributo lista de canais, devem estar armazenados todos os canais já sintonizados dessa TV.\n",
    "\n",
    "Obs.: O volume não pode ser menor que zero e maior que cem; só se pode trocar para um canal que já esteja na lista de canais."
   ]
  },
  {
   "cell_type": "code",
   "execution_count": 68,
   "id": "f7db41a6",
   "metadata": {
    "ExecuteTime": {
     "end_time": "2021-07-13T01:09:04.613685Z",
     "start_time": "2021-07-13T01:09:04.599720Z"
    }
   },
   "outputs": [],
   "source": [
    "class Televisor:\n",
    "    def __init__(self, fabricante, modelo):\n",
    "        self.fabricante = fabricante\n",
    "        self.modelo = modelo\n",
    "        self.canal_atual = None\n",
    "        self.lista_de_canais = []\n",
    "        self.volume = 20\n",
    "\n",
    "    def aumentar_volume(self, valor):\n",
    "        if self.volume + valor >= 100:\n",
    "            self.volume = 100\n",
    "        else:\n",
    "            self.volume = self.volume + valor\n",
    "        return self.volume\n",
    "\n",
    "    def diminuir_volume(self, valor):\n",
    "        if self.volume - valor <= 0:\n",
    "            self.volume = 0\n",
    "        else:\n",
    "            self.volume -= valor\n",
    "        return self.volume\n",
    "\n",
    "    def trocar_canal(self, canal):\n",
    "        if canal in self.lista_de_canais:\n",
    "            self.canal_atual = canal\n",
    "            return self.canal_atual\n",
    "\n",
    "    def sintonizar_canal(self, canal):\n",
    "        if canal not in self.lista_de_canais:\n",
    "            self.lista_de_canais.append(canal)\n",
    "            return 'Canal Adicionado'\n",
    "        else:\n",
    "            return 'Adicione um novo canal'"
   ]
  },
  {
   "cell_type": "code",
   "execution_count": 69,
   "id": "401c998b",
   "metadata": {
    "ExecuteTime": {
     "end_time": "2021-07-13T01:09:05.614802Z",
     "start_time": "2021-07-13T01:09:05.597850Z"
    }
   },
   "outputs": [],
   "source": [
    "tv = Televisor('LG','Modelo X')"
   ]
  },
  {
   "cell_type": "code",
   "execution_count": 70,
   "id": "e00c0228",
   "metadata": {
    "ExecuteTime": {
     "end_time": "2021-07-13T01:09:05.960263Z",
     "start_time": "2021-07-13T01:09:05.949293Z"
    }
   },
   "outputs": [
    {
     "data": {
      "text/plain": [
       "20"
      ]
     },
     "execution_count": 70,
     "metadata": {},
     "output_type": "execute_result"
    }
   ],
   "source": [
    "# verificar qual o volume atual (iniciado)\n",
    "tv.volume"
   ]
  },
  {
   "cell_type": "code",
   "execution_count": 71,
   "id": "ca14d333",
   "metadata": {
    "ExecuteTime": {
     "end_time": "2021-07-13T01:09:06.271296Z",
     "start_time": "2021-07-13T01:09:06.262309Z"
    }
   },
   "outputs": [
    {
     "data": {
      "text/plain": [
       "70"
      ]
     },
     "execution_count": 71,
     "metadata": {},
     "output_type": "execute_result"
    }
   ],
   "source": [
    "tv.aumentar_volume(50)"
   ]
  },
  {
   "cell_type": "code",
   "execution_count": 72,
   "id": "2c967ac1",
   "metadata": {
    "ExecuteTime": {
     "end_time": "2021-07-13T01:09:06.688981Z",
     "start_time": "2021-07-13T01:09:06.666043Z"
    }
   },
   "outputs": [
    {
     "data": {
      "text/plain": [
       "100"
      ]
     },
     "execution_count": 72,
     "metadata": {},
     "output_type": "execute_result"
    }
   ],
   "source": [
    "tv.aumentar_volume(80)"
   ]
  },
  {
   "cell_type": "code",
   "execution_count": 73,
   "id": "050ed5a1",
   "metadata": {
    "ExecuteTime": {
     "end_time": "2021-07-13T01:09:07.029126Z",
     "start_time": "2021-07-13T01:09:07.015164Z"
    }
   },
   "outputs": [
    {
     "data": {
      "text/plain": [
       "90"
      ]
     },
     "execution_count": 73,
     "metadata": {},
     "output_type": "execute_result"
    }
   ],
   "source": [
    "tv.diminuir_volume(10)"
   ]
  },
  {
   "cell_type": "code",
   "execution_count": 74,
   "id": "78eff1b8",
   "metadata": {
    "ExecuteTime": {
     "end_time": "2021-07-13T01:09:07.462177Z",
     "start_time": "2021-07-13T01:09:07.454198Z"
    }
   },
   "outputs": [
    {
     "data": {
      "text/plain": [
       "30"
      ]
     },
     "execution_count": 74,
     "metadata": {},
     "output_type": "execute_result"
    }
   ],
   "source": [
    "tv.diminuir_volume(60)"
   ]
  },
  {
   "cell_type": "code",
   "execution_count": 76,
   "id": "06084e73",
   "metadata": {
    "ExecuteTime": {
     "end_time": "2021-07-13T01:09:14.370519Z",
     "start_time": "2021-07-13T01:09:14.351573Z"
    }
   },
   "outputs": [
    {
     "data": {
      "text/plain": [
       "'Canal Adicionado'"
      ]
     },
     "execution_count": 76,
     "metadata": {},
     "output_type": "execute_result"
    }
   ],
   "source": [
    "tv.sintonizar_canal('GLOBO')"
   ]
  },
  {
   "cell_type": "code",
   "execution_count": 77,
   "id": "8ace6d1d",
   "metadata": {
    "ExecuteTime": {
     "end_time": "2021-07-13T01:09:23.025934Z",
     "start_time": "2021-07-13T01:09:23.011971Z"
    }
   },
   "outputs": [
    {
     "data": {
      "text/plain": [
       "'Canal Adicionado'"
      ]
     },
     "execution_count": 77,
     "metadata": {},
     "output_type": "execute_result"
    }
   ],
   "source": [
    "tv.sintonizar_canal('SBT')"
   ]
  },
  {
   "cell_type": "code",
   "execution_count": 79,
   "id": "7d9e597e",
   "metadata": {
    "ExecuteTime": {
     "end_time": "2021-07-13T01:09:44.548295Z",
     "start_time": "2021-07-13T01:09:44.533336Z"
    }
   },
   "outputs": [
    {
     "data": {
      "text/plain": [
       "['GLOBO', 'SBT']"
      ]
     },
     "execution_count": 79,
     "metadata": {},
     "output_type": "execute_result"
    }
   ],
   "source": [
    "# verificando o atributo\n",
    "tv.lista_de_canais"
   ]
  },
  {
   "cell_type": "code",
   "execution_count": 81,
   "id": "17a2b0e5",
   "metadata": {
    "ExecuteTime": {
     "end_time": "2021-07-13T01:10:24.810300Z",
     "start_time": "2021-07-13T01:10:24.791351Z"
    }
   },
   "outputs": [
    {
     "data": {
      "text/plain": [
       "'GLOBO'"
      ]
     },
     "execution_count": 81,
     "metadata": {},
     "output_type": "execute_result"
    }
   ],
   "source": [
    "tv.trocar_canal('GLOBO')"
   ]
  },
  {
   "cell_type": "code",
   "execution_count": 82,
   "id": "060a49c7",
   "metadata": {
    "ExecuteTime": {
     "end_time": "2021-07-13T01:10:28.942685Z",
     "start_time": "2021-07-13T01:10:28.926729Z"
    }
   },
   "outputs": [
    {
     "data": {
      "text/plain": [
       "'GLOBO'"
      ]
     },
     "execution_count": 82,
     "metadata": {},
     "output_type": "execute_result"
    }
   ],
   "source": [
    "tv.canal_atual"
   ]
  },
  {
   "cell_type": "code",
   "execution_count": 83,
   "id": "0d6c5707",
   "metadata": {
    "ExecuteTime": {
     "end_time": "2021-07-13T01:10:38.741606Z",
     "start_time": "2021-07-13T01:10:38.734597Z"
    }
   },
   "outputs": [],
   "source": [
    "tv.trocar_canal('RECORD') # não tem na lista de canais"
   ]
  },
  {
   "cell_type": "code",
   "execution_count": 84,
   "id": "4dfa63e7",
   "metadata": {
    "ExecuteTime": {
     "end_time": "2021-07-13T01:10:43.799606Z",
     "start_time": "2021-07-13T01:10:43.781645Z"
    }
   },
   "outputs": [
    {
     "data": {
      "text/plain": [
       "'GLOBO'"
      ]
     },
     "execution_count": 84,
     "metadata": {},
     "output_type": "execute_result"
    }
   ],
   "source": [
    "tv.canal_atual"
   ]
  },
  {
   "cell_type": "code",
   "execution_count": 85,
   "id": "4859e435",
   "metadata": {
    "ExecuteTime": {
     "end_time": "2021-07-13T01:11:04.366456Z",
     "start_time": "2021-07-13T01:11:04.340486Z"
    }
   },
   "outputs": [
    {
     "data": {
      "text/plain": [
       "'SBT'"
      ]
     },
     "execution_count": 85,
     "metadata": {},
     "output_type": "execute_result"
    }
   ],
   "source": [
    "tv.trocar_canal('SBT')"
   ]
  },
  {
   "cell_type": "code",
   "execution_count": 86,
   "id": "98fdcfde",
   "metadata": {
    "ExecuteTime": {
     "end_time": "2021-07-13T01:11:10.810729Z",
     "start_time": "2021-07-13T01:11:10.800759Z"
    }
   },
   "outputs": [
    {
     "data": {
      "text/plain": [
       "'SBT'"
      ]
     },
     "execution_count": 86,
     "metadata": {},
     "output_type": "execute_result"
    }
   ],
   "source": [
    "tv.canal_atual"
   ]
  },
  {
   "cell_type": "markdown",
   "id": "9d09ecb7",
   "metadata": {},
   "source": [
    "5) Crie uma classe ControleRemoto cujo atributo é televisão (isso é, recebe um objeto da classe do exercício 4). Crie métodos para aumentar/diminuir volume, trocar o canal e sintonizar um novo canal, que adiciona um novo canal à lista de canais (somente se esse canal não estiver nessa lista)."
   ]
  },
  {
   "cell_type": "code",
   "execution_count": 87,
   "id": "6b528370",
   "metadata": {
    "ExecuteTime": {
     "end_time": "2021-07-13T01:16:06.601888Z",
     "start_time": "2021-07-13T01:16:06.594907Z"
    }
   },
   "outputs": [],
   "source": [
    "class ControleRemoto:\n",
    "    def __init__(self, tv):\n",
    "        self.tv = tv\n",
    "        \n",
    "    def aumentar_volume(self): #aumentar de um em um\n",
    "        tv.aumentar_volume(1)\n",
    "    \n",
    "    def diminuir_volume(self):\n",
    "        tv.diminuir_volume(1)\n",
    "        \n",
    "    def trocar_canal(self, canal):\n",
    "        tv.trocar_canal(canal)\n",
    "        \n",
    "    def sintonizar_canal(self, canal):\n",
    "        tv.sintonizar_canal(canal)\n",
    "        "
   ]
  },
  {
   "cell_type": "code",
   "execution_count": 88,
   "id": "541622b3",
   "metadata": {
    "ExecuteTime": {
     "end_time": "2021-07-13T01:17:01.258637Z",
     "start_time": "2021-07-13T01:17:01.247666Z"
    }
   },
   "outputs": [],
   "source": [
    "tv = Televisor('LG', 'Modelo X')\n",
    "controle = ControleRemoto(tv)"
   ]
  },
  {
   "cell_type": "code",
   "execution_count": 90,
   "id": "5c986663",
   "metadata": {
    "ExecuteTime": {
     "end_time": "2021-07-13T01:17:17.661356Z",
     "start_time": "2021-07-13T01:17:17.646392Z"
    }
   },
   "outputs": [],
   "source": [
    "controle.aumentar_volume()"
   ]
  },
  {
   "cell_type": "code",
   "execution_count": 91,
   "id": "7ca54ba4",
   "metadata": {
    "ExecuteTime": {
     "end_time": "2021-07-13T01:17:26.538154Z",
     "start_time": "2021-07-13T01:17:26.531175Z"
    }
   },
   "outputs": [
    {
     "data": {
      "text/plain": [
       "21"
      ]
     },
     "execution_count": 91,
     "metadata": {},
     "output_type": "execute_result"
    }
   ],
   "source": [
    "tv.volume"
   ]
  },
  {
   "cell_type": "code",
   "execution_count": 92,
   "id": "09f10179",
   "metadata": {
    "ExecuteTime": {
     "end_time": "2021-07-13T01:18:09.586196Z",
     "start_time": "2021-07-13T01:18:09.578219Z"
    }
   },
   "outputs": [],
   "source": [
    "controle.sintonizar_canal('GLOBO')"
   ]
  },
  {
   "cell_type": "code",
   "execution_count": 94,
   "id": "fbc5c128",
   "metadata": {
    "ExecuteTime": {
     "end_time": "2021-07-13T01:18:50.416187Z",
     "start_time": "2021-07-13T01:18:50.413191Z"
    }
   },
   "outputs": [],
   "source": [
    "controle.sintonizar_canal('SBT')"
   ]
  },
  {
   "cell_type": "code",
   "execution_count": 95,
   "id": "7356bf71",
   "metadata": {
    "ExecuteTime": {
     "end_time": "2021-07-13T01:18:52.881292Z",
     "start_time": "2021-07-13T01:18:52.863340Z"
    }
   },
   "outputs": [
    {
     "data": {
      "text/plain": [
       "['GLOBO', 'SBT']"
      ]
     },
     "execution_count": 95,
     "metadata": {},
     "output_type": "execute_result"
    }
   ],
   "source": [
    "tv.lista_de_canais"
   ]
  },
  {
   "cell_type": "code",
   "execution_count": 96,
   "id": "73524260",
   "metadata": {
    "ExecuteTime": {
     "end_time": "2021-07-13T01:18:57.383876Z",
     "start_time": "2021-07-13T01:18:57.367920Z"
    }
   },
   "outputs": [],
   "source": [
    "controle.trocar_canal('GLOBO')"
   ]
  },
  {
   "cell_type": "code",
   "execution_count": 97,
   "id": "47603d7b",
   "metadata": {
    "ExecuteTime": {
     "end_time": "2021-07-13T01:19:04.974397Z",
     "start_time": "2021-07-13T01:19:04.960432Z"
    }
   },
   "outputs": [
    {
     "data": {
      "text/plain": [
       "'GLOBO'"
      ]
     },
     "execution_count": 97,
     "metadata": {},
     "output_type": "execute_result"
    }
   ],
   "source": [
    "tv.canal_atual"
   ]
  },
  {
   "cell_type": "code",
   "execution_count": 98,
   "id": "3afa71b2",
   "metadata": {
    "ExecuteTime": {
     "end_time": "2021-07-13T01:19:15.006791Z",
     "start_time": "2021-07-13T01:19:14.988839Z"
    }
   },
   "outputs": [],
   "source": [
    "controle.trocar_canal('SBT')"
   ]
  },
  {
   "cell_type": "code",
   "execution_count": 99,
   "id": "d3e5ae5f",
   "metadata": {
    "ExecuteTime": {
     "end_time": "2021-07-13T01:19:21.969287Z",
     "start_time": "2021-07-13T01:19:21.956299Z"
    }
   },
   "outputs": [
    {
     "data": {
      "text/plain": [
       "'SBT'"
      ]
     },
     "execution_count": 99,
     "metadata": {},
     "output_type": "execute_result"
    }
   ],
   "source": [
    "tv.canal_atual"
   ]
  },
  {
   "cell_type": "code",
   "execution_count": null,
   "id": "1a1513d1",
   "metadata": {},
   "outputs": [],
   "source": []
  }
 ],
 "metadata": {
  "kernelspec": {
   "display_name": "Python 3",
   "language": "python",
   "name": "python3"
  },
  "language_info": {
   "codemirror_mode": {
    "name": "ipython",
    "version": 3
   },
   "file_extension": ".py",
   "mimetype": "text/x-python",
   "name": "python",
   "nbconvert_exporter": "python",
   "pygments_lexer": "ipython3",
   "version": "3.9.5"
  },
  "varInspector": {
   "cols": {
    "lenName": 16,
    "lenType": 16,
    "lenVar": 40
   },
   "kernels_config": {
    "python": {
     "delete_cmd_postfix": "",
     "delete_cmd_prefix": "del ",
     "library": "var_list.py",
     "varRefreshCmd": "print(var_dic_list())"
    },
    "r": {
     "delete_cmd_postfix": ") ",
     "delete_cmd_prefix": "rm(",
     "library": "var_list.r",
     "varRefreshCmd": "cat(var_dic_list()) "
    }
   },
   "types_to_exclude": [
    "module",
    "function",
    "builtin_function_or_method",
    "instance",
    "_Feature"
   ],
   "window_display": false
  }
 },
 "nbformat": 4,
 "nbformat_minor": 5
}
