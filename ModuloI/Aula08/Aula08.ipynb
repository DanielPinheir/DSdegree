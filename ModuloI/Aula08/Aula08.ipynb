{
 "cells": [
  {
   "cell_type": "markdown",
   "metadata": {},
   "source": [
    "# Tuplas e Dicionários"
   ]
  },
  {
   "cell_type": "markdown",
   "metadata": {},
   "source": [
    "## Revisao Listas"
   ]
  },
  {
   "cell_type": "code",
   "execution_count": 1,
   "metadata": {
    "ExecuteTime": {
     "end_time": "2021-06-23T22:10:33.430969Z",
     "start_time": "2021-06-23T22:10:33.416973Z"
    }
   },
   "outputs": [],
   "source": [
    "minha_lista = [1, 2.9, 'palavra', True]"
   ]
  },
  {
   "cell_type": "code",
   "execution_count": 2,
   "metadata": {
    "ExecuteTime": {
     "end_time": "2021-06-23T22:10:54.222179Z",
     "start_time": "2021-06-23T22:10:54.202195Z"
    }
   },
   "outputs": [
    {
     "data": {
      "text/plain": [
       "1"
      ]
     },
     "execution_count": 2,
     "metadata": {},
     "output_type": "execute_result"
    }
   ],
   "source": [
    "# Primeiro elemento\n",
    "minha_lista[0]"
   ]
  },
  {
   "cell_type": "code",
   "execution_count": 3,
   "metadata": {
    "ExecuteTime": {
     "end_time": "2021-06-23T22:11:03.095240Z",
     "start_time": "2021-06-23T22:11:03.088247Z"
    }
   },
   "outputs": [
    {
     "data": {
      "text/plain": [
       "2.9"
      ]
     },
     "execution_count": 3,
     "metadata": {},
     "output_type": "execute_result"
    }
   ],
   "source": [
    "minha_lista[1]"
   ]
  },
  {
   "cell_type": "code",
   "execution_count": 4,
   "metadata": {
    "ExecuteTime": {
     "end_time": "2021-06-23T22:11:35.253605Z",
     "start_time": "2021-06-23T22:11:35.243622Z"
    }
   },
   "outputs": [
    {
     "name": "stdout",
     "output_type": "stream",
     "text": [
      "1\n",
      "2.9\n",
      "palavra\n",
      "True\n"
     ]
    }
   ],
   "source": [
    "for elemento in minha_lista:\n",
    "    print(elemento)"
   ]
  },
  {
   "cell_type": "code",
   "execution_count": 5,
   "metadata": {
    "ExecuteTime": {
     "end_time": "2021-06-23T22:11:56.126297Z",
     "start_time": "2021-06-23T22:11:56.111303Z"
    }
   },
   "outputs": [
    {
     "data": {
      "text/plain": [
       "[9, 2.9, 'palavra', True]"
      ]
     },
     "execution_count": 5,
     "metadata": {},
     "output_type": "execute_result"
    }
   ],
   "source": [
    "minha_lista[0] = 9\n",
    "minha_lista"
   ]
  },
  {
   "cell_type": "markdown",
   "metadata": {},
   "source": [
    "**Características de uma lista:**\n",
    "\n",
    "- É indexável (podemos acessar os elementos pelo índice)\n",
    "- É iterável (conseguimos percorrer ela utilizando o for)\n",
    "- Podemos alterar os elementos\n",
    "- Guarda elementos de tipos diferentes"
   ]
  },
  {
   "cell_type": "markdown",
   "metadata": {},
   "source": [
    "## Tuplas"
   ]
  },
  {
   "cell_type": "markdown",
   "metadata": {},
   "source": [
    "**Caracteristicas Tuplas:**\n",
    "\n",
    "- Guardar diferentes tipos de dados (inteiro, float, string, etc);\n",
    "- É indexável (podemos acessar os elementos por meio do índice);\n",
    "- É iterável\n",
    "\n",
    "**Quando usar tuplas?**\n",
    "\n",
    "Quando tivermos, no nosso código, uma sequência que não muda NUNCA, ou seja, é imutável."
   ]
  },
  {
   "cell_type": "markdown",
   "metadata": {},
   "source": [
    "### Declarando uma tupla"
   ]
  },
  {
   "cell_type": "code",
   "execution_count": 6,
   "metadata": {
    "ExecuteTime": {
     "end_time": "2021-06-23T22:15:36.683990Z",
     "start_time": "2021-06-23T22:15:36.665057Z"
    }
   },
   "outputs": [],
   "source": [
    "minha_tupla = (1, 2.9, 'palavra', True)"
   ]
  },
  {
   "cell_type": "code",
   "execution_count": 7,
   "metadata": {
    "ExecuteTime": {
     "end_time": "2021-06-23T22:15:42.368994Z",
     "start_time": "2021-06-23T22:15:42.352003Z"
    }
   },
   "outputs": [
    {
     "data": {
      "text/plain": [
       "tuple"
      ]
     },
     "execution_count": 7,
     "metadata": {},
     "output_type": "execute_result"
    }
   ],
   "source": [
    "type(minha_tupla)"
   ]
  },
  {
   "cell_type": "code",
   "execution_count": 9,
   "metadata": {
    "ExecuteTime": {
     "end_time": "2021-06-23T22:16:25.323808Z",
     "start_time": "2021-06-23T22:16:25.313794Z"
    }
   },
   "outputs": [],
   "source": [
    "minha_tupla = 1, 2.9, 'palavra', True"
   ]
  },
  {
   "cell_type": "code",
   "execution_count": 10,
   "metadata": {
    "ExecuteTime": {
     "end_time": "2021-06-23T22:16:29.197801Z",
     "start_time": "2021-06-23T22:16:29.176802Z"
    }
   },
   "outputs": [
    {
     "data": {
      "text/plain": [
       "tuple"
      ]
     },
     "execution_count": 10,
     "metadata": {},
     "output_type": "execute_result"
    }
   ],
   "source": [
    "type(minha_tupla)"
   ]
  },
  {
   "cell_type": "markdown",
   "metadata": {},
   "source": [
    "### Acessando os elementos da tupla"
   ]
  },
  {
   "cell_type": "code",
   "execution_count": 11,
   "metadata": {
    "ExecuteTime": {
     "end_time": "2021-06-23T22:17:23.067822Z",
     "start_time": "2021-06-23T22:17:23.059813Z"
    }
   },
   "outputs": [
    {
     "data": {
      "text/plain": [
       "1"
      ]
     },
     "execution_count": 11,
     "metadata": {},
     "output_type": "execute_result"
    }
   ],
   "source": [
    "minha_tupla[0]"
   ]
  },
  {
   "cell_type": "code",
   "execution_count": 12,
   "metadata": {
    "ExecuteTime": {
     "end_time": "2021-06-23T22:17:32.770820Z",
     "start_time": "2021-06-23T22:17:32.761847Z"
    }
   },
   "outputs": [
    {
     "data": {
      "text/plain": [
       "2.9"
      ]
     },
     "execution_count": 12,
     "metadata": {},
     "output_type": "execute_result"
    }
   ],
   "source": [
    "minha_tupla[1]"
   ]
  },
  {
   "cell_type": "code",
   "execution_count": 13,
   "metadata": {
    "ExecuteTime": {
     "end_time": "2021-06-23T22:17:46.567067Z",
     "start_time": "2021-06-23T22:17:46.548068Z"
    }
   },
   "outputs": [
    {
     "data": {
      "text/plain": [
       "True"
      ]
     },
     "execution_count": 13,
     "metadata": {},
     "output_type": "execute_result"
    }
   ],
   "source": [
    "minha_tupla[3]"
   ]
  },
  {
   "cell_type": "markdown",
   "metadata": {},
   "source": [
    "### Tentando alterar um elemento da tupla"
   ]
  },
  {
   "cell_type": "code",
   "execution_count": 14,
   "metadata": {
    "ExecuteTime": {
     "end_time": "2021-06-23T22:18:25.244850Z",
     "start_time": "2021-06-23T22:18:24.878853Z"
    }
   },
   "outputs": [
    {
     "ename": "TypeError",
     "evalue": "'tuple' object does not support item assignment",
     "output_type": "error",
     "traceback": [
      "\u001b[1;31m---------------------------------------------------------------------------\u001b[0m",
      "\u001b[1;31mTypeError\u001b[0m                                 Traceback (most recent call last)",
      "\u001b[1;32m<ipython-input-14-7613f9977de8>\u001b[0m in \u001b[0;36m<module>\u001b[1;34m\u001b[0m\n\u001b[1;32m----> 1\u001b[1;33m \u001b[0mminha_tupla\u001b[0m\u001b[1;33m[\u001b[0m\u001b[1;36m0\u001b[0m\u001b[1;33m]\u001b[0m \u001b[1;33m=\u001b[0m \u001b[1;36m9\u001b[0m\u001b[1;33m\u001b[0m\u001b[1;33m\u001b[0m\u001b[0m\n\u001b[0m",
      "\u001b[1;31mTypeError\u001b[0m: 'tuple' object does not support item assignment"
     ]
    }
   ],
   "source": [
    "minha_tupla[0] = 9"
   ]
  },
  {
   "cell_type": "markdown",
   "metadata": {},
   "source": [
    "### E se eu precisar mudar a tupla?\n",
    "\n",
    "Supermercado:\n",
    "\n",
    "- Pasta de dente\n",
    "- Papel higiênico\n",
    "- Bolacha\n",
    "- Sabão em pó\n",
    "- Carne\n",
    "\n",
    "E fazem 10 anos que só vendemos esses produtos."
   ]
  },
  {
   "cell_type": "code",
   "execution_count": 28,
   "metadata": {
    "ExecuteTime": {
     "end_time": "2021-06-23T22:28:34.938363Z",
     "start_time": "2021-06-23T22:28:34.924366Z"
    }
   },
   "outputs": [],
   "source": [
    "meus_produtos = (\"Pasta de dente\", \"Papel higienico\", \"Bolacha\", \"Sabao em po\", \"Carne\")"
   ]
  },
  {
   "cell_type": "code",
   "execution_count": 29,
   "metadata": {
    "ExecuteTime": {
     "end_time": "2021-06-23T22:28:35.094372Z",
     "start_time": "2021-06-23T22:28:35.070375Z"
    }
   },
   "outputs": [
    {
     "data": {
      "text/plain": [
       "('Pasta de dente', 'Papel higienico', 'Bolacha', 'Sabao em po', 'Carne')"
      ]
     },
     "execution_count": 29,
     "metadata": {},
     "output_type": "execute_result"
    }
   ],
   "source": [
    "meus_produtos"
   ]
  },
  {
   "cell_type": "markdown",
   "metadata": {},
   "source": [
    "Chegou a pandemia e eu precisava adicionar novos produtos ao meu mercado, para ajudar o pessoal que mora nas redondezas."
   ]
  },
  {
   "cell_type": "code",
   "execution_count": 30,
   "metadata": {
    "ExecuteTime": {
     "end_time": "2021-06-23T22:28:35.312369Z",
     "start_time": "2021-06-23T22:28:35.295365Z"
    }
   },
   "outputs": [
    {
     "data": {
      "text/plain": [
       "list"
      ]
     },
     "execution_count": 30,
     "metadata": {},
     "output_type": "execute_result"
    }
   ],
   "source": [
    "meus_produtos = list(meus_produtos)\n",
    "type(meus_produtos)"
   ]
  },
  {
   "cell_type": "code",
   "execution_count": 31,
   "metadata": {
    "ExecuteTime": {
     "end_time": "2021-06-23T22:28:35.453366Z",
     "start_time": "2021-06-23T22:28:35.434366Z"
    }
   },
   "outputs": [
    {
     "data": {
      "text/plain": [
       "['Pasta de dente', 'Papel higienico', 'Bolacha', 'Sabao em po', 'Carne']"
      ]
     },
     "execution_count": 31,
     "metadata": {},
     "output_type": "execute_result"
    }
   ],
   "source": [
    "meus_produtos"
   ]
  },
  {
   "cell_type": "code",
   "execution_count": 32,
   "metadata": {
    "ExecuteTime": {
     "end_time": "2021-06-23T22:28:35.671375Z",
     "start_time": "2021-06-23T22:28:35.653365Z"
    }
   },
   "outputs": [],
   "source": [
    "meus_produtos.append(\"Shampoo\")"
   ]
  },
  {
   "cell_type": "code",
   "execution_count": 33,
   "metadata": {
    "ExecuteTime": {
     "end_time": "2021-06-23T22:28:35.976382Z",
     "start_time": "2021-06-23T22:28:35.967457Z"
    }
   },
   "outputs": [],
   "source": [
    "meus_produtos = tuple(meus_produtos)"
   ]
  },
  {
   "cell_type": "code",
   "execution_count": 34,
   "metadata": {
    "ExecuteTime": {
     "end_time": "2021-06-23T22:28:36.286970Z",
     "start_time": "2021-06-23T22:28:36.269968Z"
    }
   },
   "outputs": [
    {
     "data": {
      "text/plain": [
       "tuple"
      ]
     },
     "execution_count": 34,
     "metadata": {},
     "output_type": "execute_result"
    }
   ],
   "source": [
    "type(meus_produtos)"
   ]
  },
  {
   "cell_type": "code",
   "execution_count": 35,
   "metadata": {
    "ExecuteTime": {
     "end_time": "2021-06-23T22:28:36.704969Z",
     "start_time": "2021-06-23T22:28:36.684980Z"
    }
   },
   "outputs": [
    {
     "data": {
      "text/plain": [
       "('Pasta de dente',\n",
       " 'Papel higienico',\n",
       " 'Bolacha',\n",
       " 'Sabao em po',\n",
       " 'Carne',\n",
       " 'Shampoo')"
      ]
     },
     "execution_count": 35,
     "metadata": {},
     "output_type": "execute_result"
    }
   ],
   "source": [
    "meus_produtos"
   ]
  },
  {
   "cell_type": "markdown",
   "metadata": {},
   "source": [
    "### Percorrendo uma tupla"
   ]
  },
  {
   "cell_type": "code",
   "execution_count": 36,
   "metadata": {
    "ExecuteTime": {
     "end_time": "2021-06-23T22:30:45.741936Z",
     "start_time": "2021-06-23T22:30:45.735928Z"
    }
   },
   "outputs": [],
   "source": [
    "minha_tupla = (1, 2.9, 'palavra', True)"
   ]
  },
  {
   "cell_type": "code",
   "execution_count": 37,
   "metadata": {
    "ExecuteTime": {
     "end_time": "2021-06-23T22:30:59.985836Z",
     "start_time": "2021-06-23T22:30:59.965831Z"
    }
   },
   "outputs": [
    {
     "name": "stdout",
     "output_type": "stream",
     "text": [
      "1\n",
      "2.9\n",
      "palavra\n",
      "True\n"
     ]
    }
   ],
   "source": [
    "for elemento in minha_tupla:\n",
    "    print(elemento)"
   ]
  },
  {
   "cell_type": "markdown",
   "metadata": {},
   "source": [
    "### Tuplas aninhadas"
   ]
  },
  {
   "cell_type": "code",
   "execution_count": 38,
   "metadata": {
    "ExecuteTime": {
     "end_time": "2021-06-23T22:31:54.889600Z",
     "start_time": "2021-06-23T22:31:54.879607Z"
    }
   },
   "outputs": [],
   "source": [
    "minha_tupla = ((1,2,3), 1, [1,4,'sim'], True)"
   ]
  },
  {
   "cell_type": "code",
   "execution_count": 40,
   "metadata": {
    "ExecuteTime": {
     "end_time": "2021-06-23T22:32:07.560932Z",
     "start_time": "2021-06-23T22:32:07.541938Z"
    }
   },
   "outputs": [
    {
     "data": {
      "text/plain": [
       "tuple"
      ]
     },
     "execution_count": 40,
     "metadata": {},
     "output_type": "execute_result"
    }
   ],
   "source": [
    "type(minha_tupla[0])"
   ]
  },
  {
   "cell_type": "markdown",
   "metadata": {},
   "source": [
    "### Descompactando uma tupla"
   ]
  },
  {
   "cell_type": "code",
   "execution_count": 41,
   "metadata": {
    "ExecuteTime": {
     "end_time": "2021-06-23T22:32:50.225722Z",
     "start_time": "2021-06-23T22:32:50.210721Z"
    }
   },
   "outputs": [],
   "source": [
    "minha_tupla = (1, 2.9, 'palavra', True)"
   ]
  },
  {
   "cell_type": "code",
   "execution_count": 42,
   "metadata": {
    "ExecuteTime": {
     "end_time": "2021-06-23T22:33:32.992416Z",
     "start_time": "2021-06-23T22:33:32.975412Z"
    }
   },
   "outputs": [
    {
     "name": "stdout",
     "output_type": "stream",
     "text": [
      "1 2.9 palavra True\n"
     ]
    }
   ],
   "source": [
    "var1 = minha_tupla[0]\n",
    "var2 = minha_tupla[1]\n",
    "var3 = minha_tupla[2]\n",
    "var4 = minha_tupla[3]\n",
    "\n",
    "print(var1, var2, var3, var4)"
   ]
  },
  {
   "cell_type": "code",
   "execution_count": 53,
   "metadata": {
    "ExecuteTime": {
     "end_time": "2021-06-23T22:37:24.152770Z",
     "start_time": "2021-06-23T22:37:24.137773Z"
    }
   },
   "outputs": [],
   "source": [
    "minha_tupla = (1, 2.9, 'palavra', True, 'sim', 2)"
   ]
  },
  {
   "cell_type": "code",
   "execution_count": 56,
   "metadata": {
    "ExecuteTime": {
     "end_time": "2021-06-23T22:37:30.932180Z",
     "start_time": "2021-06-23T22:37:30.916162Z"
    }
   },
   "outputs": [],
   "source": [
    "var1, var2, var3, var4, _, _ = minha_tupla"
   ]
  },
  {
   "cell_type": "code",
   "execution_count": 57,
   "metadata": {
    "ExecuteTime": {
     "end_time": "2021-06-23T22:37:47.259486Z",
     "start_time": "2021-06-23T22:37:47.245495Z"
    }
   },
   "outputs": [
    {
     "name": "stdout",
     "output_type": "stream",
     "text": [
      "1 2.9 palavra True\n"
     ]
    }
   ],
   "source": [
    "print(var1, var2, var3, var4)"
   ]
  },
  {
   "cell_type": "markdown",
   "metadata": {},
   "source": [
    "### Funções de tupla\n",
    "\n",
    "Funcoes de lista que alteram a lista, não funcionam em tuplas."
   ]
  },
  {
   "cell_type": "code",
   "execution_count": 58,
   "metadata": {
    "ExecuteTime": {
     "end_time": "2021-06-23T22:38:25.918403Z",
     "start_time": "2021-06-23T22:38:25.904410Z"
    }
   },
   "outputs": [
    {
     "data": {
      "text/plain": [
       "6"
      ]
     },
     "execution_count": 58,
     "metadata": {},
     "output_type": "execute_result"
    }
   ],
   "source": [
    "len(minha_tupla)"
   ]
  },
  {
   "cell_type": "code",
   "execution_count": 59,
   "metadata": {
    "ExecuteTime": {
     "end_time": "2021-06-23T22:38:38.250549Z",
     "start_time": "2021-06-23T22:38:38.231556Z"
    }
   },
   "outputs": [
    {
     "data": {
      "text/plain": [
       "1"
      ]
     },
     "execution_count": 59,
     "metadata": {},
     "output_type": "execute_result"
    }
   ],
   "source": [
    "minha_tupla[0]"
   ]
  },
  {
   "cell_type": "code",
   "execution_count": 61,
   "metadata": {
    "ExecuteTime": {
     "end_time": "2021-06-23T22:39:19.904749Z",
     "start_time": "2021-06-23T22:39:19.896737Z"
    }
   },
   "outputs": [],
   "source": [
    "minha_tupla = (1, 2.9, 4, 10.7, 2)"
   ]
  },
  {
   "cell_type": "code",
   "execution_count": 62,
   "metadata": {
    "ExecuteTime": {
     "end_time": "2021-06-23T22:39:21.076735Z",
     "start_time": "2021-06-23T22:39:21.062742Z"
    }
   },
   "outputs": [
    {
     "data": {
      "text/plain": [
       "10.7"
      ]
     },
     "execution_count": 62,
     "metadata": {},
     "output_type": "execute_result"
    }
   ],
   "source": [
    "max(minha_tupla)"
   ]
  },
  {
   "cell_type": "code",
   "execution_count": 63,
   "metadata": {
    "ExecuteTime": {
     "end_time": "2021-06-23T22:39:28.862783Z",
     "start_time": "2021-06-23T22:39:28.854774Z"
    }
   },
   "outputs": [
    {
     "data": {
      "text/plain": [
       "1"
      ]
     },
     "execution_count": 63,
     "metadata": {},
     "output_type": "execute_result"
    }
   ],
   "source": [
    "min(minha_tupla)"
   ]
  },
  {
   "cell_type": "code",
   "execution_count": 64,
   "metadata": {
    "ExecuteTime": {
     "end_time": "2021-06-23T22:39:42.722365Z",
     "start_time": "2021-06-23T22:39:42.710366Z"
    }
   },
   "outputs": [
    {
     "data": {
      "text/plain": [
       "False"
      ]
     },
     "execution_count": 64,
     "metadata": {},
     "output_type": "execute_result"
    }
   ],
   "source": [
    "3 in minha_tupla"
   ]
  },
  {
   "cell_type": "markdown",
   "metadata": {},
   "source": [
    "## Dicionários\n",
    "\n",
    "Quero fazer uma planilha de chamada.\n",
    "\n",
    "- Só vou usar o primeiro nome do aluno;\n",
    "- Ordem alfabética.\n",
    "\n",
    "| nome    | numero |\n",
    "|---------|--------|\n",
    "| Ana     | 1      |\n",
    "| Carlos  | 2      |\n",
    "| Juliana | 3      |\n",
    "| Pedro   | 4      |\n",
    "| Renato  | 5      |\n",
    "| Silvia  | 6      |"
   ]
  },
  {
   "cell_type": "code",
   "execution_count": 65,
   "metadata": {
    "ExecuteTime": {
     "end_time": "2021-06-23T22:44:22.617292Z",
     "start_time": "2021-06-23T22:44:22.612292Z"
    }
   },
   "outputs": [],
   "source": [
    "chamada = ['Ana', 'Carlos', 'Juliana', 'Pedro', 'Renato', 'Silvia']"
   ]
  },
  {
   "cell_type": "code",
   "execution_count": 66,
   "metadata": {
    "ExecuteTime": {
     "end_time": "2021-06-23T22:44:58.373996Z",
     "start_time": "2021-06-23T22:44:58.361946Z"
    }
   },
   "outputs": [
    {
     "data": {
      "text/plain": [
       "'Juliana'"
      ]
     },
     "execution_count": 66,
     "metadata": {},
     "output_type": "execute_result"
    }
   ],
   "source": [
    "numero = 3\n",
    "chamada[numero - 1]"
   ]
  },
  {
   "cell_type": "code",
   "execution_count": 69,
   "metadata": {
    "ExecuteTime": {
     "end_time": "2021-06-23T22:45:39.781129Z",
     "start_time": "2021-06-23T22:45:39.761095Z"
    }
   },
   "outputs": [
    {
     "data": {
      "text/plain": [
       "3"
      ]
     },
     "execution_count": 69,
     "metadata": {},
     "output_type": "execute_result"
    }
   ],
   "source": [
    "chamada.index('Juliana') + 1"
   ]
  },
  {
   "cell_type": "code",
   "execution_count": 71,
   "metadata": {
    "ExecuteTime": {
     "end_time": "2021-06-23T22:46:16.388343Z",
     "start_time": "2021-06-23T22:46:16.375346Z"
    }
   },
   "outputs": [],
   "source": [
    "chamada.insert(3, 'Juliana')"
   ]
  },
  {
   "cell_type": "code",
   "execution_count": 72,
   "metadata": {
    "ExecuteTime": {
     "end_time": "2021-06-23T22:46:18.973187Z",
     "start_time": "2021-06-23T22:46:18.953189Z"
    }
   },
   "outputs": [
    {
     "data": {
      "text/plain": [
       "['Ana', 'Carlos', 'Juliana', 'Juliana', 'Pedro', 'Renato', 'Silvia']"
      ]
     },
     "execution_count": 72,
     "metadata": {},
     "output_type": "execute_result"
    }
   ],
   "source": [
    "chamada"
   ]
  },
  {
   "cell_type": "code",
   "execution_count": 73,
   "metadata": {
    "ExecuteTime": {
     "end_time": "2021-06-23T22:46:30.366226Z",
     "start_time": "2021-06-23T22:46:30.352187Z"
    }
   },
   "outputs": [
    {
     "data": {
      "text/plain": [
       "3"
      ]
     },
     "execution_count": 73,
     "metadata": {},
     "output_type": "execute_result"
    }
   ],
   "source": [
    "chamada.index('Juliana') + 1"
   ]
  },
  {
   "cell_type": "markdown",
   "metadata": {},
   "source": [
    "### O que é um dicionário?\n",
    "\n",
    "É uma estrutura de dados que armazena diferentes diferentes tipos de dados e funciona como um mapeamento, ou seja, temos uma **chave** e um **valor** associado a essa chave. Para encontrar algo no dicionário, basta procurar pela chave que você quer.\n",
    "\n",
    "A partir do Python 3.6 o dicionário é ordenado pela ordem de inserção."
   ]
  },
  {
   "cell_type": "markdown",
   "metadata": {},
   "source": [
    "dicionario = {chave: valor}\n",
    "\n",
    "A chave, no geral, é string;\n",
    "Já o valor é qualquer tipo de dado"
   ]
  },
  {
   "cell_type": "code",
   "execution_count": 75,
   "metadata": {
    "ExecuteTime": {
     "end_time": "2021-06-23T22:50:56.488825Z",
     "start_time": "2021-06-23T22:50:56.470822Z"
    }
   },
   "outputs": [],
   "source": [
    "chamada = {\n",
    "    'Ana': 1,\n",
    "    'Carlos': 2,\n",
    "    'Juliana': {'primeira': 3,\n",
    "                'segunda': 4},\n",
    "    'Pedro': 5,\n",
    "    'Renato': 6,\n",
    "    'Silvia': 7\n",
    "}"
   ]
  },
  {
   "cell_type": "code",
   "execution_count": 76,
   "metadata": {
    "ExecuteTime": {
     "end_time": "2021-06-23T22:50:59.123818Z",
     "start_time": "2021-06-23T22:50:59.104824Z"
    }
   },
   "outputs": [
    {
     "data": {
      "text/plain": [
       "{'Ana': 1,\n",
       " 'Carlos': 2,\n",
       " 'Juliana': {'primeira': 3, 'segunda': 4},\n",
       " 'Pedro': 5,\n",
       " 'Renato': 6,\n",
       " 'Silvia': 7}"
      ]
     },
     "execution_count": 76,
     "metadata": {},
     "output_type": "execute_result"
    }
   ],
   "source": [
    "chamada"
   ]
  },
  {
   "cell_type": "markdown",
   "metadata": {},
   "source": [
    "#### Acessando um dicionário"
   ]
  },
  {
   "cell_type": "code",
   "execution_count": 80,
   "metadata": {
    "ExecuteTime": {
     "end_time": "2021-06-23T22:52:10.163474Z",
     "start_time": "2021-06-23T22:52:10.143478Z"
    }
   },
   "outputs": [
    {
     "data": {
      "text/plain": [
       "1"
      ]
     },
     "execution_count": 80,
     "metadata": {},
     "output_type": "execute_result"
    }
   ],
   "source": [
    "chamada['Ana']"
   ]
  },
  {
   "cell_type": "code",
   "execution_count": 81,
   "metadata": {
    "ExecuteTime": {
     "end_time": "2021-06-23T22:52:11.685477Z",
     "start_time": "2021-06-23T22:52:11.676475Z"
    }
   },
   "outputs": [
    {
     "data": {
      "text/plain": [
       "4"
      ]
     },
     "execution_count": 81,
     "metadata": {},
     "output_type": "execute_result"
    }
   ],
   "source": [
    "chamada['Juliana']['segunda']"
   ]
  },
  {
   "cell_type": "code",
   "execution_count": 82,
   "metadata": {
    "ExecuteTime": {
     "end_time": "2021-06-23T22:52:22.404637Z",
     "start_time": "2021-06-23T22:52:22.385609Z"
    }
   },
   "outputs": [
    {
     "ename": "KeyError",
     "evalue": "'Joao'",
     "output_type": "error",
     "traceback": [
      "\u001b[1;31m---------------------------------------------------------------------------\u001b[0m",
      "\u001b[1;31mKeyError\u001b[0m                                  Traceback (most recent call last)",
      "\u001b[1;32m<ipython-input-82-65bdf7c09f97>\u001b[0m in \u001b[0;36m<module>\u001b[1;34m\u001b[0m\n\u001b[1;32m----> 1\u001b[1;33m \u001b[0mchamada\u001b[0m\u001b[1;33m[\u001b[0m\u001b[1;34m'Joao'\u001b[0m\u001b[1;33m]\u001b[0m\u001b[1;33m\u001b[0m\u001b[1;33m\u001b[0m\u001b[0m\n\u001b[0m",
      "\u001b[1;31mKeyError\u001b[0m: 'Joao'"
     ]
    }
   ],
   "source": [
    "chamada['Joao']"
   ]
  },
  {
   "cell_type": "code",
   "execution_count": 91,
   "metadata": {
    "ExecuteTime": {
     "end_time": "2021-06-23T22:54:43.960904Z",
     "start_time": "2021-06-23T22:54:43.945906Z"
    }
   },
   "outputs": [],
   "source": [
    "## Todo dicionario tem o metodo .get()\n",
    "## .get(chave, retorno caso nao encontre)\n",
    "chamada.get('Jose', 'Nao achei o que voce queria')"
   ]
  },
  {
   "cell_type": "code",
   "execution_count": 94,
   "metadata": {
    "ExecuteTime": {
     "end_time": "2021-06-23T22:57:49.027890Z",
     "start_time": "2021-06-23T22:57:49.006864Z"
    }
   },
   "outputs": [
    {
     "name": "stdout",
     "output_type": "stream",
     "text": [
      "Ana: 1\n",
      "Pedro: 5\n",
      "Jose: Aluno nao encontrado\n",
      "Felipe: Aluno nao encontrado\n",
      "Silvia: 7\n"
     ]
    }
   ],
   "source": [
    "## Exemplo de busca por alunos\n",
    "\n",
    "## lista de nomes que quero ver se sao meus alunos\n",
    "alunos = ['Ana', 'Pedro', 'Jose', 'Felipe', 'Silvia']\n",
    "for aluno in alunos:\n",
    "    print(f'{aluno}: {chamada.get(aluno, \"Aluno nao encontrado\")}')"
   ]
  },
  {
   "cell_type": "markdown",
   "metadata": {},
   "source": [
    "Nossa chamada é inteiro ou dicionario e no máximo temos duas pessoas com o mesmo nome"
   ]
  },
  {
   "cell_type": "code",
   "execution_count": 105,
   "metadata": {
    "ExecuteTime": {
     "end_time": "2021-06-23T23:03:06.895086Z",
     "start_time": "2021-06-23T23:03:06.883072Z"
    }
   },
   "outputs": [
    {
     "data": {
      "text/plain": [
       "{'Ana': 1,\n",
       " 'Carlos': 2,\n",
       " 'Juliana': {'primeira': 3, 'segunda': 4},\n",
       " 'Pedro': 5,\n",
       " 'Renato': 6,\n",
       " 'Silvia': 7}"
      ]
     },
     "execution_count": 105,
     "metadata": {},
     "output_type": "execute_result"
    }
   ],
   "source": [
    "chamada"
   ]
  },
  {
   "cell_type": "code",
   "execution_count": 113,
   "metadata": {
    "ExecuteTime": {
     "end_time": "2021-06-23T23:10:53.239578Z",
     "start_time": "2021-06-23T23:10:53.222514Z"
    }
   },
   "outputs": [
    {
     "name": "stdout",
     "output_type": "stream",
     "text": [
      "*******************\n",
      "Ana 1\n",
      "*******************\n",
      "RESULTADO: 1\n",
      "*******************\n",
      "Pedro 5\n",
      "*******************\n",
      "RESULTADO: 5\n",
      "*******************\n",
      "Jose Aluno nao encontrado\n",
      "*******************\n",
      "Jose ALUNO NAO ENCONTRADO\n",
      "*******************\n",
      "Felipe Aluno nao encontrado\n",
      "*******************\n",
      "Felipe ALUNO NAO ENCONTRADO\n",
      "*******************\n",
      "Silvia 7\n",
      "*******************\n",
      "RESULTADO: 7\n",
      "*******************\n",
      "Juliana {'primeira': 3, 'segunda': 4}\n",
      "*******************\n",
      "RESULTADO: 3\n",
      "RESULTADO: 4\n"
     ]
    }
   ],
   "source": [
    "alunos = ['Ana', 'Pedro', 'Jose', 'Felipe', 'Silvia', 'Juliana']\n",
    "\n",
    "for aluno in alunos:\n",
    "    resultado = chamada.get(aluno, \"Aluno nao encontrado\")\n",
    "    print('*******************')\n",
    "    print(aluno, resultado)\n",
    "    print('*******************')\n",
    "    if type(resultado) == int:\n",
    "        print(\"RESULTADO:\", resultado)\n",
    "    elif resultado == \"Aluno nao encontrado\":\n",
    "        print(aluno, \"ALUNO NAO ENCONTRADO\")\n",
    "    elif type(resultado) == dict:\n",
    "        resultado_primeira = resultado.get('primeira')\n",
    "        resultado_segunda = resultado.get('segunda')\n",
    "        print(\"RESULTADO:\", resultado_primeira)\n",
    "        print(\"RESULTADO:\", resultado_segunda)"
   ]
  },
  {
   "cell_type": "markdown",
   "metadata": {},
   "source": [
    "### Modificando elementos de um dicionário"
   ]
  },
  {
   "cell_type": "code",
   "execution_count": 114,
   "metadata": {
    "ExecuteTime": {
     "end_time": "2021-06-23T23:12:57.605746Z",
     "start_time": "2021-06-23T23:12:57.602745Z"
    }
   },
   "outputs": [],
   "source": [
    "meu_dicionario = {\n",
    "    \"Palmeiras\": 0,\n",
    "    \"Corinthians\": 1,\n",
    "    \"Sao Paulo\": 3,\n",
    "    \"Santos\": 2\n",
    "}"
   ]
  },
  {
   "cell_type": "code",
   "execution_count": 115,
   "metadata": {
    "ExecuteTime": {
     "end_time": "2021-06-23T23:13:08.315784Z",
     "start_time": "2021-06-23T23:13:08.301754Z"
    }
   },
   "outputs": [
    {
     "data": {
      "text/plain": [
       "{'Palmeiras': 0, 'Corinthians': 1, 'Sao Paulo': 3, 'Santos': 2}"
      ]
     },
     "execution_count": 115,
     "metadata": {},
     "output_type": "execute_result"
    }
   ],
   "source": [
    "meu_dicionario"
   ]
  },
  {
   "cell_type": "code",
   "execution_count": 116,
   "metadata": {
    "ExecuteTime": {
     "end_time": "2021-06-23T23:13:41.480083Z",
     "start_time": "2021-06-23T23:13:41.471085Z"
    }
   },
   "outputs": [],
   "source": [
    "meu_dicionario[\"Palmeiras\"] = 1"
   ]
  },
  {
   "cell_type": "code",
   "execution_count": 117,
   "metadata": {
    "ExecuteTime": {
     "end_time": "2021-06-23T23:13:44.623963Z",
     "start_time": "2021-06-23T23:13:44.605961Z"
    }
   },
   "outputs": [
    {
     "data": {
      "text/plain": [
       "{'Palmeiras': 1, 'Corinthians': 1, 'Sao Paulo': 3, 'Santos': 2}"
      ]
     },
     "execution_count": 117,
     "metadata": {},
     "output_type": "execute_result"
    }
   ],
   "source": [
    "meu_dicionario"
   ]
  },
  {
   "cell_type": "code",
   "execution_count": 118,
   "metadata": {
    "ExecuteTime": {
     "end_time": "2021-06-23T23:14:14.906538Z",
     "start_time": "2021-06-23T23:14:14.897540Z"
    }
   },
   "outputs": [],
   "source": [
    "meu_dicionario[\"Palmeiras\"] = meu_dicionario[\"Palmeiras\"] + 1"
   ]
  },
  {
   "cell_type": "code",
   "execution_count": 119,
   "metadata": {
    "ExecuteTime": {
     "end_time": "2021-06-23T23:14:17.450601Z",
     "start_time": "2021-06-23T23:14:17.437591Z"
    }
   },
   "outputs": [
    {
     "data": {
      "text/plain": [
       "{'Palmeiras': 2, 'Corinthians': 1, 'Sao Paulo': 3, 'Santos': 2}"
      ]
     },
     "execution_count": 119,
     "metadata": {},
     "output_type": "execute_result"
    }
   ],
   "source": [
    "meu_dicionario"
   ]
  },
  {
   "cell_type": "code",
   "execution_count": 120,
   "metadata": {
    "ExecuteTime": {
     "end_time": "2021-06-23T23:15:23.094377Z",
     "start_time": "2021-06-23T23:15:23.090361Z"
    }
   },
   "outputs": [],
   "source": [
    "meu_dicionario[\"Palmeiras\"] = \"dois\"\n",
    "meu_dicionario[\"Corinthians\"] = \"um\"\n",
    "meu_dicionario[\"Sao Paulo\"] = \"tres\"\n",
    "meu_dicionario[\"Santos\"] = \"dois\""
   ]
  },
  {
   "cell_type": "code",
   "execution_count": 121,
   "metadata": {
    "ExecuteTime": {
     "end_time": "2021-06-23T23:15:25.948368Z",
     "start_time": "2021-06-23T23:15:25.936365Z"
    }
   },
   "outputs": [
    {
     "data": {
      "text/plain": [
       "{'Palmeiras': 'dois',\n",
       " 'Corinthians': 'um',\n",
       " 'Sao Paulo': 'tres',\n",
       " 'Santos': 'dois'}"
      ]
     },
     "execution_count": 121,
     "metadata": {},
     "output_type": "execute_result"
    }
   ],
   "source": [
    "meu_dicionario"
   ]
  },
  {
   "cell_type": "markdown",
   "metadata": {},
   "source": [
    "### Como deletar uma chave: valor de uma dicionário?"
   ]
  },
  {
   "cell_type": "markdown",
   "metadata": {},
   "source": [
    "Criei um dicionario, mas adicionei um nome de time escrito errado. Como faço para corrigir?"
   ]
  },
  {
   "cell_type": "code",
   "execution_count": 122,
   "metadata": {
    "ExecuteTime": {
     "end_time": "2021-06-23T23:16:15.748709Z",
     "start_time": "2021-06-23T23:16:15.728708Z"
    }
   },
   "outputs": [],
   "source": [
    "meu_dicionario = {\n",
    "    \"Palmeras\": 0,\n",
    "    \"Corinthians\": 1,\n",
    "    \"Sao Paulo\": 3,\n",
    "    \"Santos\": 2\n",
    "}"
   ]
  },
  {
   "cell_type": "code",
   "execution_count": 123,
   "metadata": {
    "ExecuteTime": {
     "end_time": "2021-06-23T23:16:18.265822Z",
     "start_time": "2021-06-23T23:16:18.244816Z"
    }
   },
   "outputs": [
    {
     "data": {
      "text/plain": [
       "{'Palmeras': 0, 'Corinthians': 1, 'Sao Paulo': 3, 'Santos': 2}"
      ]
     },
     "execution_count": 123,
     "metadata": {},
     "output_type": "execute_result"
    }
   ],
   "source": [
    "meu_dicionario"
   ]
  },
  {
   "cell_type": "code",
   "execution_count": 124,
   "metadata": {
    "ExecuteTime": {
     "end_time": "2021-06-23T23:16:36.735140Z",
     "start_time": "2021-06-23T23:16:36.731140Z"
    }
   },
   "outputs": [],
   "source": [
    "meu_dicionario[\"Palmeiras\"] = 0"
   ]
  },
  {
   "cell_type": "code",
   "execution_count": 125,
   "metadata": {
    "ExecuteTime": {
     "end_time": "2021-06-23T23:16:39.604223Z",
     "start_time": "2021-06-23T23:16:39.584219Z"
    }
   },
   "outputs": [
    {
     "data": {
      "text/plain": [
       "{'Palmeras': 0, 'Corinthians': 1, 'Sao Paulo': 3, 'Santos': 2, 'Palmeiras': 0}"
      ]
     },
     "execution_count": 125,
     "metadata": {},
     "output_type": "execute_result"
    }
   ],
   "source": [
    "meu_dicionario"
   ]
  },
  {
   "cell_type": "code",
   "execution_count": 127,
   "metadata": {
    "ExecuteTime": {
     "end_time": "2021-06-23T23:18:18.241396Z",
     "start_time": "2021-06-23T23:18:18.223396Z"
    }
   },
   "outputs": [
    {
     "data": {
      "text/plain": [
       "0"
      ]
     },
     "execution_count": 127,
     "metadata": {},
     "output_type": "execute_result"
    }
   ],
   "source": [
    "## usando .pop(chave) -> ele sempre retorna o valor que estava associado\n",
    "\n",
    "meu_dicionario.pop('Palmeras')"
   ]
  },
  {
   "cell_type": "code",
   "execution_count": 128,
   "metadata": {
    "ExecuteTime": {
     "end_time": "2021-06-23T23:18:26.920393Z",
     "start_time": "2021-06-23T23:18:26.903393Z"
    }
   },
   "outputs": [
    {
     "data": {
      "text/plain": [
       "{'Corinthians': 1, 'Sao Paulo': 3, 'Santos': 2, 'Palmeiras': 0}"
      ]
     },
     "execution_count": 128,
     "metadata": {},
     "output_type": "execute_result"
    }
   ],
   "source": [
    "meu_dicionario"
   ]
  },
  {
   "cell_type": "code",
   "execution_count": 129,
   "metadata": {
    "ExecuteTime": {
     "end_time": "2021-06-23T23:18:43.846414Z",
     "start_time": "2021-06-23T23:18:43.840402Z"
    }
   },
   "outputs": [],
   "source": [
    "meu_dicionario = {\n",
    "    \"Palmeras\": 0,\n",
    "    \"Corinthians\": 1,\n",
    "    \"Sao Paulo\": 3,\n",
    "    \"Santos\": 2\n",
    "}\n",
    "\n",
    "meu_dicionario[\"Palmeiras\"] = 0"
   ]
  },
  {
   "cell_type": "code",
   "execution_count": 131,
   "metadata": {
    "ExecuteTime": {
     "end_time": "2021-06-23T23:19:27.847941Z",
     "start_time": "2021-06-23T23:19:27.844938Z"
    }
   },
   "outputs": [],
   "source": [
    "## Usando o del --> Ele nao retorna o valor que estava associado\n",
    "del meu_dicionario['Palmeras']"
   ]
  },
  {
   "cell_type": "code",
   "execution_count": 132,
   "metadata": {
    "ExecuteTime": {
     "end_time": "2021-06-23T23:19:30.239788Z",
     "start_time": "2021-06-23T23:19:30.226789Z"
    }
   },
   "outputs": [
    {
     "data": {
      "text/plain": [
       "{'Corinthians': 1, 'Sao Paulo': 3, 'Santos': 2, 'Palmeiras': 0}"
      ]
     },
     "execution_count": 132,
     "metadata": {},
     "output_type": "execute_result"
    }
   ],
   "source": [
    "meu_dicionario"
   ]
  },
  {
   "cell_type": "markdown",
   "metadata": {},
   "source": [
    "### Percorrendo um dicionário"
   ]
  },
  {
   "cell_type": "code",
   "execution_count": 133,
   "metadata": {
    "ExecuteTime": {
     "end_time": "2021-06-23T23:22:34.570509Z",
     "start_time": "2021-06-23T23:22:34.546519Z"
    }
   },
   "outputs": [],
   "source": [
    "meu_dicionario = {\n",
    "    \"Palmeras\": 0,\n",
    "    \"Corinthians\": 1,\n",
    "    \"Sao Paulo\": 3,\n",
    "    \"Santos\": 2,\n",
    "    \"Palmerads\": 0,\n",
    "    \"Corinthiasans\": 1,\n",
    "    \"Sao Pasasulo\": 3,\n",
    "    \"Santoass\": 2,\n",
    "    \"Palmeasdasras\": 0,\n",
    "    \"Corinsdsadthians\": 1,\n",
    "    \"Sao Pasdassdaulo\": 3,\n",
    "    \"Santodasdas\": 2,\n",
    "    \"Palmeqewqeqras\": 0,\n",
    "    \"Coriedffnthians\": 1,\n",
    "    \"Sao Pdfsdfsdfaulo\": 3,\n",
    "    \"Santodsfsfdfs\": 2,\n",
    "    \"Palmerqwewewas\": 0,\n",
    "    \"Corindwqwwdthians\": 1,\n",
    "    \"Sao fPfqfqfaulo\": 3,\n",
    "    \"Santoqfqfs\": 2\n",
    "}"
   ]
  },
  {
   "cell_type": "code",
   "execution_count": 136,
   "metadata": {
    "ExecuteTime": {
     "end_time": "2021-06-23T23:24:26.020348Z",
     "start_time": "2021-06-23T23:24:26.000347Z"
    }
   },
   "outputs": [
    {
     "data": {
      "text/plain": [
       "dict_keys(['Palmeras', 'Corinthians', 'Sao Paulo', 'Santos', 'Palmerads', 'Corinthiasans', 'Sao Pasasulo', 'Santoass', 'Palmeasdasras', 'Corinsdsadthians', 'Sao Pasdassdaulo', 'Santodasdas', 'Palmeqewqeqras', 'Coriedffnthians', 'Sao Pdfsdfsdfaulo', 'Santodsfsfdfs', 'Palmerqwewewas', 'Corindwqwwdthians', 'Sao fPfqfqfaulo', 'Santoqfqfs'])"
      ]
     },
     "execution_count": 136,
     "metadata": {},
     "output_type": "execute_result"
    }
   ],
   "source": [
    "## Todo dicionario tem o metodo .keys() --> retorna as chaves do dicionario\n",
    "meu_dicionario.keys()"
   ]
  },
  {
   "cell_type": "code",
   "execution_count": 137,
   "metadata": {
    "ExecuteTime": {
     "end_time": "2021-06-23T23:24:42.595648Z",
     "start_time": "2021-06-23T23:24:42.573653Z"
    }
   },
   "outputs": [
    {
     "data": {
      "text/plain": [
       "dict_values([0, 1, 3, 2, 0, 1, 3, 2, 0, 1, 3, 2, 0, 1, 3, 2, 0, 1, 3, 2])"
      ]
     },
     "execution_count": 137,
     "metadata": {},
     "output_type": "execute_result"
    }
   ],
   "source": [
    "## Todo dicionario tem o metodo .values() --> retorna os valores do dicionario\n",
    "meu_dicionario.values()"
   ]
  },
  {
   "cell_type": "code",
   "execution_count": 138,
   "metadata": {
    "ExecuteTime": {
     "end_time": "2021-06-23T23:25:36.099075Z",
     "start_time": "2021-06-23T23:25:36.080063Z"
    }
   },
   "outputs": [
    {
     "data": {
      "text/plain": [
       "dict_items([('Palmeras', 0), ('Corinthians', 1), ('Sao Paulo', 3), ('Santos', 2), ('Palmerads', 0), ('Corinthiasans', 1), ('Sao Pasasulo', 3), ('Santoass', 2), ('Palmeasdasras', 0), ('Corinsdsadthians', 1), ('Sao Pasdassdaulo', 3), ('Santodasdas', 2), ('Palmeqewqeqras', 0), ('Coriedffnthians', 1), ('Sao Pdfsdfsdfaulo', 3), ('Santodsfsfdfs', 2), ('Palmerqwewewas', 0), ('Corindwqwwdthians', 1), ('Sao fPfqfqfaulo', 3), ('Santoqfqfs', 2)])"
      ]
     },
     "execution_count": 138,
     "metadata": {},
     "output_type": "execute_result"
    }
   ],
   "source": [
    "## Todo dicionario tem o metodo .items() --> retorna o par chave:valor do dicionario\n",
    "meu_dicionario.items()"
   ]
  },
  {
   "cell_type": "markdown",
   "metadata": {},
   "source": [
    "#### Usando for sem especificar se quer ver chave ou valor:"
   ]
  },
  {
   "cell_type": "code",
   "execution_count": 141,
   "metadata": {
    "ExecuteTime": {
     "end_time": "2021-06-23T23:27:31.781203Z",
     "start_time": "2021-06-23T23:27:31.774228Z"
    }
   },
   "outputs": [
    {
     "name": "stdout",
     "output_type": "stream",
     "text": [
      "Palmeras\n",
      "Corinthians\n",
      "Sao Paulo\n",
      "Santos\n",
      "Palmerads\n",
      "Corinthiasans\n",
      "Sao Pasasulo\n",
      "Santoass\n",
      "Palmeasdasras\n",
      "Corinsdsadthians\n",
      "Sao Pasdassdaulo\n",
      "Santodasdas\n",
      "Palmeqewqeqras\n",
      "Coriedffnthians\n",
      "Sao Pdfsdfsdfaulo\n",
      "Santodsfsfdfs\n",
      "Palmerqwewewas\n",
      "Corindwqwwdthians\n",
      "Sao fPfqfqfaulo\n",
      "Santoqfqfs\n"
     ]
    }
   ],
   "source": [
    "## Se nao especificarmos o que queremos percorrer, ele sempre percorre as chaves.\n",
    "for i in meu_dicionario:\n",
    "    print(i)"
   ]
  },
  {
   "cell_type": "code",
   "execution_count": 142,
   "metadata": {
    "ExecuteTime": {
     "end_time": "2021-06-23T23:28:31.430763Z",
     "start_time": "2021-06-23T23:28:31.411763Z"
    }
   },
   "outputs": [
    {
     "name": "stdout",
     "output_type": "stream",
     "text": [
      "0\n",
      "1\n",
      "3\n",
      "2\n",
      "0\n",
      "1\n",
      "3\n",
      "2\n",
      "0\n",
      "1\n",
      "3\n",
      "2\n",
      "0\n",
      "1\n",
      "3\n",
      "2\n",
      "0\n",
      "1\n",
      "3\n",
      "2\n"
     ]
    }
   ],
   "source": [
    "for valor in meu_dicionario.values():\n",
    "    print(valor)"
   ]
  },
  {
   "cell_type": "code",
   "execution_count": 144,
   "metadata": {
    "ExecuteTime": {
     "end_time": "2021-06-23T23:29:54.143354Z",
     "start_time": "2021-06-23T23:29:54.126360Z"
    }
   },
   "outputs": [
    {
     "name": "stdout",
     "output_type": "stream",
     "text": [
      "O Palmeras tem 0 mundiais\n",
      "O Corinthians tem 1 mundiais\n",
      "O Sao Paulo tem 3 mundiais\n",
      "O Santos tem 2 mundiais\n",
      "O Palmerads tem 0 mundiais\n",
      "O Corinthiasans tem 1 mundiais\n",
      "O Sao Pasasulo tem 3 mundiais\n",
      "O Santoass tem 2 mundiais\n",
      "O Palmeasdasras tem 0 mundiais\n",
      "O Corinsdsadthians tem 1 mundiais\n",
      "O Sao Pasdassdaulo tem 3 mundiais\n",
      "O Santodasdas tem 2 mundiais\n",
      "O Palmeqewqeqras tem 0 mundiais\n",
      "O Coriedffnthians tem 1 mundiais\n",
      "O Sao Pdfsdfsdfaulo tem 3 mundiais\n",
      "O Santodsfsfdfs tem 2 mundiais\n",
      "O Palmerqwewewas tem 0 mundiais\n",
      "O Corindwqwwdthians tem 1 mundiais\n",
      "O Sao fPfqfqfaulo tem 3 mundiais\n",
      "O Santoqfqfs tem 2 mundiais\n"
     ]
    }
   ],
   "source": [
    "for par in meu_dicionario.items():\n",
    "    print(f'O {par[0]} tem {par[1]} mundiais')"
   ]
  },
  {
   "cell_type": "code",
   "execution_count": 145,
   "metadata": {
    "ExecuteTime": {
     "end_time": "2021-06-23T23:30:42.813116Z",
     "start_time": "2021-06-23T23:30:42.793113Z"
    }
   },
   "outputs": [
    {
     "name": "stdout",
     "output_type": "stream",
     "text": [
      "O Palmeras tem 0 mundiais\n",
      "O Corinthians tem 1 mundiais\n",
      "O Sao Paulo tem 3 mundiais\n",
      "O Santos tem 2 mundiais\n",
      "O Palmerads tem 0 mundiais\n",
      "O Corinthiasans tem 1 mundiais\n",
      "O Sao Pasasulo tem 3 mundiais\n",
      "O Santoass tem 2 mundiais\n",
      "O Palmeasdasras tem 0 mundiais\n",
      "O Corinsdsadthians tem 1 mundiais\n",
      "O Sao Pasdassdaulo tem 3 mundiais\n",
      "O Santodasdas tem 2 mundiais\n",
      "O Palmeqewqeqras tem 0 mundiais\n",
      "O Coriedffnthians tem 1 mundiais\n",
      "O Sao Pdfsdfsdfaulo tem 3 mundiais\n",
      "O Santodsfsfdfs tem 2 mundiais\n",
      "O Palmerqwewewas tem 0 mundiais\n",
      "O Corindwqwwdthians tem 1 mundiais\n",
      "O Sao fPfqfqfaulo tem 3 mundiais\n",
      "O Santoqfqfs tem 2 mundiais\n"
     ]
    }
   ],
   "source": [
    "for time, mundiais in meu_dicionario.items():\n",
    "    print(f'O {time} tem {mundiais} mundiais')"
   ]
  },
  {
   "cell_type": "markdown",
   "metadata": {},
   "source": [
    "## Exercicio Dicionario\n",
    "\n",
    "| nome    | Coluna A | Coluna B |\n",
    "|---------|--------|--------|\n",
    "| Maria     | 1      | 5 |\n",
    "| Pedro  | 0.5     | 3 |\n",
    "| Joao | 3.2      | 1 |\n",
    "\n",
    "Construir um dicionário para a tabela acima"
   ]
  },
  {
   "cell_type": "code",
   "execution_count": 146,
   "metadata": {
    "ExecuteTime": {
     "end_time": "2021-06-23T23:35:02.771645Z",
     "start_time": "2021-06-23T23:35:02.749639Z"
    }
   },
   "outputs": [],
   "source": [
    "exercicio = {\n",
    "    \"Maria\": {\n",
    "        \"ColunaA\": 1,\n",
    "        \"ColunaB\": 5\n",
    "    },\n",
    "    \"Pedro\": {\n",
    "        \"ColunaA\": 0.5,\n",
    "        \"ColunaB\": 3\n",
    "    },\n",
    "    \"Joao\": {\n",
    "        \"ColunaA\": 3.2,\n",
    "        \"ColunaB\": 1\n",
    "    }\n",
    "}"
   ]
  },
  {
   "cell_type": "code",
   "execution_count": 148,
   "metadata": {
    "ExecuteTime": {
     "end_time": "2021-06-23T23:35:16.482636Z",
     "start_time": "2021-06-23T23:35:16.468635Z"
    }
   },
   "outputs": [
    {
     "data": {
      "text/plain": [
       "1"
      ]
     },
     "execution_count": 148,
     "metadata": {},
     "output_type": "execute_result"
    }
   ],
   "source": [
    "exercicio['Maria']['ColunaA']"
   ]
  },
  {
   "cell_type": "code",
   "execution_count": 149,
   "metadata": {
    "ExecuteTime": {
     "end_time": "2021-06-23T23:36:26.873868Z",
     "start_time": "2021-06-23T23:36:26.856850Z"
    }
   },
   "outputs": [],
   "source": [
    "exercicio_nova_proposta = {\n",
    "    0: [\"Maria\", 1, 5],\n",
    "    1: [\"Pedro\", 0.5, 3],\n",
    "    2: [\"Joao\", 3.2, 1]\n",
    "}"
   ]
  },
  {
   "cell_type": "code",
   "execution_count": 151,
   "metadata": {
    "ExecuteTime": {
     "end_time": "2021-06-23T23:38:23.738909Z",
     "start_time": "2021-06-23T23:38:23.715962Z"
    }
   },
   "outputs": [
    {
     "data": {
      "text/plain": [
       "dict"
      ]
     },
     "execution_count": 151,
     "metadata": {},
     "output_type": "execute_result"
    }
   ],
   "source": [
    "type(exercicio_nova_proposta)"
   ]
  },
  {
   "cell_type": "code",
   "execution_count": 150,
   "metadata": {
    "ExecuteTime": {
     "end_time": "2021-06-23T23:36:43.035036Z",
     "start_time": "2021-06-23T23:36:43.015025Z"
    }
   },
   "outputs": [
    {
     "data": {
      "text/plain": [
       "['Maria', 1, 5]"
      ]
     },
     "execution_count": 150,
     "metadata": {},
     "output_type": "execute_result"
    }
   ],
   "source": [
    "exercicio_nova_proposta[0]"
   ]
  },
  {
   "cell_type": "code",
   "execution_count": 152,
   "metadata": {
    "ExecuteTime": {
     "end_time": "2021-06-23T23:38:40.155006Z",
     "start_time": "2021-06-23T23:38:40.133033Z"
    }
   },
   "outputs": [
    {
     "data": {
      "text/plain": [
       "list"
      ]
     },
     "execution_count": 152,
     "metadata": {},
     "output_type": "execute_result"
    }
   ],
   "source": [
    "type(exercicio_nova_proposta[0])"
   ]
  },
  {
   "cell_type": "code",
   "execution_count": 155,
   "metadata": {
    "ExecuteTime": {
     "end_time": "2021-06-23T23:39:17.385021Z",
     "start_time": "2021-06-23T23:39:17.365019Z"
    }
   },
   "outputs": [
    {
     "data": {
      "text/plain": [
       "'Maria'"
      ]
     },
     "execution_count": 155,
     "metadata": {},
     "output_type": "execute_result"
    }
   ],
   "source": [
    "## Nesse caso, o primeiro [] se refere a chave do dicionario e o segundo [] ao indice da lista\n",
    "exercicio_nova_proposta[0][0]"
   ]
  },
  {
   "cell_type": "code",
   "execution_count": 156,
   "metadata": {
    "ExecuteTime": {
     "end_time": "2021-06-23T23:39:48.953140Z",
     "start_time": "2021-06-23T23:39:48.933133Z"
    }
   },
   "outputs": [],
   "source": [
    "M = [1, 5]\n",
    "P = [0.5, 3]\n",
    "J = [3.2, 1]\n",
    "\n",
    "exercicio_proposta_2 = {\n",
    "    'Maria': M,\n",
    "    'Pedro': P,\n",
    "    'Joao' : J\n",
    "}\n"
   ]
  },
  {
   "cell_type": "code",
   "execution_count": 160,
   "metadata": {
    "ExecuteTime": {
     "end_time": "2021-06-23T23:40:37.498673Z",
     "start_time": "2021-06-23T23:40:37.479711Z"
    }
   },
   "outputs": [
    {
     "data": {
      "text/plain": [
       "5"
      ]
     },
     "execution_count": 160,
     "metadata": {},
     "output_type": "execute_result"
    }
   ],
   "source": [
    "exercicio_proposta_2['Maria'][1]"
   ]
  },
  {
   "cell_type": "markdown",
   "metadata": {},
   "source": [
    "### Removendo um elemento e arrumando o dicionário"
   ]
  },
  {
   "cell_type": "markdown",
   "metadata": {},
   "source": [
    "#### Cenario 1\n",
    "\n",
    "Queremos ordenar nosso dicionário."
   ]
  },
  {
   "cell_type": "code",
   "execution_count": 161,
   "metadata": {
    "ExecuteTime": {
     "end_time": "2021-06-23T23:42:55.821173Z",
     "start_time": "2021-06-23T23:42:55.804184Z"
    }
   },
   "outputs": [],
   "source": [
    "meu_dicionario = {\n",
    "    \"Palmeras\": 0,\n",
    "    \"Corinthians\": 1,\n",
    "    \"Sao Paulo\": 3,\n",
    "    \"Santos\": 2\n",
    "}\n",
    "\n",
    "meu_dicionario[\"Palmeiras\"] = 0"
   ]
  },
  {
   "cell_type": "code",
   "execution_count": 162,
   "metadata": {
    "ExecuteTime": {
     "end_time": "2021-06-23T23:42:58.495168Z",
     "start_time": "2021-06-23T23:42:58.481169Z"
    }
   },
   "outputs": [
    {
     "data": {
      "text/plain": [
       "{'Palmeras': 0, 'Corinthians': 1, 'Sao Paulo': 3, 'Santos': 2, 'Palmeiras': 0}"
      ]
     },
     "execution_count": 162,
     "metadata": {},
     "output_type": "execute_result"
    }
   ],
   "source": [
    "meu_dicionario"
   ]
  },
  {
   "cell_type": "code",
   "execution_count": 163,
   "metadata": {
    "ExecuteTime": {
     "end_time": "2021-06-23T23:43:07.356500Z",
     "start_time": "2021-06-23T23:43:07.347496Z"
    }
   },
   "outputs": [],
   "source": [
    "del meu_dicionario[\"Palmeras\"]"
   ]
  },
  {
   "cell_type": "code",
   "execution_count": 164,
   "metadata": {
    "ExecuteTime": {
     "end_time": "2021-06-23T23:43:08.889491Z",
     "start_time": "2021-06-23T23:43:08.867492Z"
    }
   },
   "outputs": [
    {
     "data": {
      "text/plain": [
       "{'Corinthians': 1, 'Sao Paulo': 3, 'Santos': 2, 'Palmeiras': 0}"
      ]
     },
     "execution_count": 164,
     "metadata": {},
     "output_type": "execute_result"
    }
   ],
   "source": [
    "meu_dicionario"
   ]
  },
  {
   "cell_type": "code",
   "execution_count": 167,
   "metadata": {
    "ExecuteTime": {
     "end_time": "2021-06-23T23:44:17.684453Z",
     "start_time": "2021-06-23T23:44:17.672447Z"
    }
   },
   "outputs": [],
   "source": [
    "times_ordenados = sorted(meu_dicionario.keys())"
   ]
  },
  {
   "cell_type": "code",
   "execution_count": 173,
   "metadata": {
    "ExecuteTime": {
     "end_time": "2021-06-23T23:46:30.619647Z",
     "start_time": "2021-06-23T23:46:30.600646Z"
    }
   },
   "outputs": [],
   "source": [
    "meu_dicionario_ordenado = dict() ## ou meu_dicionario_ordenado = {}\n",
    "for time in times_ordenados:\n",
    "    meu_dicionario_ordenado[time] = meu_dicionario.get(time)"
   ]
  },
  {
   "cell_type": "code",
   "execution_count": 174,
   "metadata": {
    "ExecuteTime": {
     "end_time": "2021-06-23T23:46:33.510695Z",
     "start_time": "2021-06-23T23:46:33.493644Z"
    }
   },
   "outputs": [
    {
     "data": {
      "text/plain": [
       "{'Corinthians': 1, 'Palmeiras': 0, 'Santos': 2, 'Sao Paulo': 3}"
      ]
     },
     "execution_count": 174,
     "metadata": {},
     "output_type": "execute_result"
    }
   ],
   "source": [
    "meu_dicionario_ordenado"
   ]
  },
  {
   "cell_type": "markdown",
   "metadata": {},
   "source": [
    "#### Cenario 2\n",
    "\n",
    "Queremos alterar uma chave, mas manter o nome correto na mesma posição."
   ]
  },
  {
   "cell_type": "code",
   "execution_count": 195,
   "metadata": {
    "ExecuteTime": {
     "end_time": "2021-06-23T23:51:38.166228Z",
     "start_time": "2021-06-23T23:51:38.151230Z"
    }
   },
   "outputs": [],
   "source": [
    "meu_dicionario = {\n",
    "    \"Palmeras\": 0,\n",
    "    \"Corinthians\": 1,\n",
    "    \"Sao Paulo\": 3,\n",
    "    \"Santos\": 2\n",
    "}"
   ]
  },
  {
   "cell_type": "code",
   "execution_count": 196,
   "metadata": {
    "ExecuteTime": {
     "end_time": "2021-06-23T23:51:38.338222Z",
     "start_time": "2021-06-23T23:51:38.315223Z"
    }
   },
   "outputs": [
    {
     "data": {
      "text/plain": [
       "{'Palmeras': 0, 'Corinthians': 1, 'Sao Paulo': 3, 'Santos': 2}"
      ]
     },
     "execution_count": 196,
     "metadata": {},
     "output_type": "execute_result"
    }
   ],
   "source": [
    "meu_dicionario"
   ]
  },
  {
   "cell_type": "code",
   "execution_count": 197,
   "metadata": {
    "ExecuteTime": {
     "end_time": "2021-06-23T23:51:38.478228Z",
     "start_time": "2021-06-23T23:51:38.467238Z"
    }
   },
   "outputs": [
    {
     "data": {
      "text/plain": [
       "dict_keys(['Palmeras', 'Corinthians', 'Sao Paulo', 'Santos'])"
      ]
     },
     "execution_count": 197,
     "metadata": {},
     "output_type": "execute_result"
    }
   ],
   "source": [
    "chaves = meu_dicionario.keys()\n",
    "chaves"
   ]
  },
  {
   "cell_type": "code",
   "execution_count": 198,
   "metadata": {
    "ExecuteTime": {
     "end_time": "2021-06-23T23:51:38.617231Z",
     "start_time": "2021-06-23T23:51:38.604233Z"
    }
   },
   "outputs": [],
   "source": [
    "chaves = list(chaves)"
   ]
  },
  {
   "cell_type": "code",
   "execution_count": 199,
   "metadata": {
    "ExecuteTime": {
     "end_time": "2021-06-23T23:51:38.742227Z",
     "start_time": "2021-06-23T23:51:38.729225Z"
    }
   },
   "outputs": [
    {
     "data": {
      "text/plain": [
       "0"
      ]
     },
     "execution_count": 199,
     "metadata": {},
     "output_type": "execute_result"
    }
   ],
   "source": [
    "indice_deletar = chaves.index('Palmeras')\n",
    "indice_deletar"
   ]
  },
  {
   "cell_type": "code",
   "execution_count": 200,
   "metadata": {
    "ExecuteTime": {
     "end_time": "2021-06-23T23:51:38.867222Z",
     "start_time": "2021-06-23T23:51:38.861225Z"
    }
   },
   "outputs": [
    {
     "data": {
      "text/plain": [
       "['Palmeiras', 'Corinthians', 'Sao Paulo', 'Santos']"
      ]
     },
     "execution_count": 200,
     "metadata": {},
     "output_type": "execute_result"
    }
   ],
   "source": [
    "chaves[indice_deletar] = 'Palmeiras'\n",
    "chaves"
   ]
  },
  {
   "cell_type": "code",
   "execution_count": 201,
   "metadata": {
    "ExecuteTime": {
     "end_time": "2021-06-23T23:51:49.845236Z",
     "start_time": "2021-06-23T23:51:49.826228Z"
    }
   },
   "outputs": [
    {
     "data": {
      "text/plain": [
       "{'Palmeras': 0, 'Corinthians': 1, 'Sao Paulo': 3, 'Santos': 2}"
      ]
     },
     "execution_count": 201,
     "metadata": {},
     "output_type": "execute_result"
    }
   ],
   "source": [
    "meu_dicionario"
   ]
  },
  {
   "cell_type": "code",
   "execution_count": 215,
   "metadata": {
    "ExecuteTime": {
     "end_time": "2021-06-23T23:59:27.273314Z",
     "start_time": "2021-06-23T23:59:27.264315Z"
    }
   },
   "outputs": [],
   "source": [
    "meu_dicionario_alterado = dict()\n",
    "for i in range(len(meu_dicionario.keys())):\n",
    "    meu_dicionario_alterado[chaves[i]] = list(meu_dicionario.values())[i]"
   ]
  },
  {
   "cell_type": "code",
   "execution_count": 216,
   "metadata": {
    "ExecuteTime": {
     "end_time": "2021-06-23T23:59:28.450178Z",
     "start_time": "2021-06-23T23:59:28.432172Z"
    }
   },
   "outputs": [
    {
     "data": {
      "text/plain": [
       "True"
      ]
     },
     "execution_count": 216,
     "metadata": {},
     "output_type": "execute_result"
    }
   ],
   "source": [
    "len(chaves) == len(meu_dicionario.keys())"
   ]
  },
  {
   "cell_type": "code",
   "execution_count": 217,
   "metadata": {
    "ExecuteTime": {
     "end_time": "2021-06-23T23:59:28.667178Z",
     "start_time": "2021-06-23T23:59:28.651175Z"
    }
   },
   "outputs": [
    {
     "data": {
      "text/plain": [
       "{'Palmeiras': 0, 'Corinthians': 1, 'Sao Paulo': 3, 'Santos': 2}"
      ]
     },
     "execution_count": 217,
     "metadata": {},
     "output_type": "execute_result"
    }
   ],
   "source": [
    "meu_dicionario_alterado"
   ]
  },
  {
   "attachments": {
    "enciclopedia.jpg": {
     "image/jpeg": "[encoded data removed]"
    }
   },
   "cell_type": "markdown",
   "metadata": {},
   "source": [
    "![enciclopedia.jpg](attachment:enciclopedia.jpg)"
   ]
  },
  {
   "cell_type": "code",
   "execution_count": 219,
   "metadata": {
    "ExecuteTime": {
     "end_time": "2021-06-24T00:14:26.435217Z",
     "start_time": "2021-06-24T00:14:26.412217Z"
    }
   },
   "outputs": [
    {
     "data": {
      "image/jpeg": "[encoded data removed]",
      "text/plain": [
       "<IPython.core.display.Image object>"
      ]
     },
     "execution_count": 219,
     "metadata": {},
     "output_type": "execute_result"
    }
   ],
   "source": [
    "from IPython.display import Image\n",
    "Image(filename='../../../Downloads/enciclopedia.jpg')"
   ]
  },
  {
   "cell_type": "code",
   "execution_count": 221,
   "metadata": {
    "ExecuteTime": {
     "end_time": "2021-06-24T00:17:15.426969Z",
     "start_time": "2021-06-24T00:17:15.413970Z"
    },
    "scrolled": true
   },
   "outputs": [
    {
     "data": {
      "text/html": [
       "<img src=\"https://revistacult.uol.com.br/home/wp-content/uploads/2018/10/encicolopedia-politica-nacional.jpeg\"/>"
      ],
      "text/plain": [
       "<IPython.core.display.Image object>"
      ]
     },
     "execution_count": 221,
     "metadata": {},
     "output_type": "execute_result"
    }
   ],
   "source": [
    "Image(url= \"https://revistacult.uol.com.br/home/wp-content/uploads/2018/10/encicolopedia-politica-nacional.jpeg\")"
   ]
  },
  {
   "cell_type": "markdown",
   "metadata": {},
   "source": [
    "![title](https://revistacult.uol.com.br/home/wp-content/uploads/2018/10/encicolopedia-politica-nacional.jpeg)"
   ]
  },
  {
   "cell_type": "markdown",
   "metadata": {},
   "source": [
    "Gerador de tabelas em markdown: https://www.tablesgenerator.com/markdown_tables\n",
    "\n",
    "| Aluno | idade |\n",
    "|-------|-------|\n",
    "| a     | 10    |\n",
    "| b     | 11    |\n",
    "| c     | 12    |\n",
    "| d     | 11    |\n",
    "| e     | 10    |"
   ]
  },
  {
   "cell_type": "code",
   "execution_count": null,
   "metadata": {},
   "outputs": [],
   "source": []
  }
 ],
 "metadata": {
  "kernelspec": {
   "display_name": "Python 3",
   "language": "python",
   "name": "python3"
  },
  "language_info": {
   "codemirror_mode": {
    "name": "ipython",
    "version": 3
   },
   "file_extension": ".py",
   "mimetype": "text/x-python",
   "name": "python",
   "nbconvert_exporter": "python",
   "pygments_lexer": "ipython3",
   "version": "3.8.3"
  }
 },
 "nbformat": 4,
 "nbformat_minor": 4
}
