{
 "cells": [
  {
   "cell_type": "markdown",
   "id": "ec613fca",
   "metadata": {},
   "source": [
    "Estruturas condicionais  \n",
    "7) Vamos fazer um programa para verificar quem é o assassino de um crime. Para descobrir o assassino, a polícia faz um pequeno questionário com 5 perguntas onde a resposta só pode ser sim ou não:\n",
    "\n",
    "a. Mora perto da vítima?\n",
    "\n",
    "b. Já trabalhou com a vítima?\n",
    "\n",
    "c. Telefonou para a vítima?\n",
    "\n",
    "d. Esteve no local do crime?\n",
    "\n",
    "e. Devia para a vítima?\n",
    "\n",
    "Cada resposta sim dá um ponto para o suspeito. A polícia considera que os suspeitos com 5 pontos são os assassinos, com 4 a 3 pontos são cúmplices e 2 pontos são apenas suspeitos, necessitando outras investigações. Valores iguais ou abaixo de 1 são liberados.\n"
   ]
  },
  {
   "cell_type": "code",
   "execution_count": 8,
   "id": "2a135074",
   "metadata": {
    "ExecuteTime": {
     "end_time": "2021-06-21T22:22:51.794436Z",
     "start_time": "2021-06-21T22:22:40.332802Z"
    }
   },
   "outputs": [
    {
     "name": "stdout",
     "output_type": "stream",
     "text": [
      "responda as qustões abaixo colocando sim ou não\n",
      "a) Mora perto da vítima?: não\n",
      "b) Já trabalhou com a vítima?: não\n",
      "c) Telefonou para a vítima?: não\n",
      "d) Esteve no local do crime?: sim\n",
      "e) Devia para a vítima?: sim\n",
      "Suspeito\n",
      "Resultado:  2\n"
     ]
    }
   ],
   "source": [
    "print ('responda as qustões abaixo colocando sim ou não')\n",
    "condicao = \"SIM\"\n",
    "condicao2 = \"NÃO\"\n",
    "\n",
    "q1 = input('a) Mora perto da vítima?: ')\n",
    "q2 = input('b) Já trabalhou com a vítima?: ')\n",
    "q3 = input('c) Telefonou para a vítima?: ')\n",
    "q4 = input('d) Esteve no local do crime?: ')\n",
    "q5 = input('e) Devia para a vítima?: ')\n",
    "\n",
    "if q1 == \"sim\":\n",
    "    resp_q1 = 1\n",
    "else:\n",
    "    resp_q1 = 0\n",
    "    \n",
    "if q2 == \"sim\":\n",
    "    resp_q2 = 1\n",
    "else:\n",
    "    resp_q2 = 0\n",
    "    \n",
    "if q3 == \"sim\":\n",
    "    resp_q3 = 1\n",
    "else:\n",
    "    resp_q3 = 0\n",
    "    \n",
    "if q4 == \"sim\":\n",
    "    resp_q4 = 1\n",
    "else:\n",
    "    resp_q4 = 0\n",
    "\n",
    "if q5 == \"sim\":\n",
    "    resp_q5 = 1\n",
    "else:\n",
    "    resp_q5 = 0\n",
    "\n",
    "resposta = (resp_q1+resp_q2+resp_q3+resp_q4+resp_q5)\n",
    "\n",
    "if resposta == 5.0:\n",
    "    print('Assassino')\n",
    "elif resposta >= 3.0 and resposta <= 4.0:\n",
    "    print('Cumplices')\n",
    "elif resposta == 2.0:\n",
    "    print('Suspeito')   \n",
    "else:\n",
    "    print('Liberado')\n",
    "\n",
    "print('Resultado: ', resposta)"
   ]
  },
  {
   "cell_type": "code",
   "execution_count": 10,
   "id": "2078ac01",
   "metadata": {
    "ExecuteTime": {
     "end_time": "2021-06-21T22:25:17.495823Z",
     "start_time": "2021-06-21T22:25:08.799664Z"
    }
   },
   "outputs": [
    {
     "name": "stdout",
     "output_type": "stream",
     "text": [
      "Informe Sim ou Não para as perguntas abaixo:\n",
      "Mora perto da vítima? Sim\n",
      "Já trabalhou com a vítima? Sim\n",
      "Telefonou para a vítima? Sim\n",
      "Esteve no local do crime? Sim\n",
      "Devia para a vítima? Sim\n",
      "A pessoa em questão é a assassina\n"
     ]
    }
   ],
   "source": [
    "print(\"Informe Sim ou Não para as perguntas abaixo:\")\n",
    "resp_a = input(\"Mora perto da vítima? \")\n",
    "resp_b = input(\"Já trabalhou com a vítima? \")\n",
    "resp_c = input(\"Telefonou para a vítima? \")\n",
    "resp_d = input(\"Esteve no local do crime? \")\n",
    "resp_e = input(\"Devia para a vítima? \")\n",
    "\n",
    "pontos = 0\n",
    "\n",
    "if resp_a == \"Sim\":\n",
    "    pontos = pontos + 1\n",
    "if resp_b == \"Sim\":\n",
    "    pontos = pontos + 1\n",
    "if resp_c == \"Sim\":\n",
    "    pontos = pontos + 1\n",
    "if resp_d == \"Sim\":\n",
    "    pontos = pontos + 1\n",
    "if resp_e == \"Sim\":\n",
    "    pontos = pontos + 1\n",
    "\n",
    "if pontos == 5:\n",
    "    print(\"A pessoa em questão é a assassina\")\n",
    "elif 3 <= pontos <= 4:\n",
    "    print(\"A pessoa é cúmplice\")\n",
    "elif pontos == 2:\n",
    "    print(\"A pessoa é suspeita\")\n",
    "else:\n",
    "    print(\"A pessoa está liberada\")"
   ]
  },
  {
   "cell_type": "code",
   "execution_count": 12,
   "id": "621fa40a",
   "metadata": {
    "ExecuteTime": {
     "end_time": "2021-06-21T22:47:05.353554Z",
     "start_time": "2021-06-21T22:47:00.926737Z"
    }
   },
   "outputs": [
    {
     "name": "stdout",
     "output_type": "stream",
     "text": [
      "Digite um número: 10\n"
     ]
    }
   ],
   "source": [
    "# Peça ao usuário para digitar um número n e some todos os números de 1 a n.\n",
    "num = int(input(\"Digite um número: \"))\n",
    "i = 0\n",
    "soma = 0\n",
    "while i < num:\n",
    "    i = i + 1\n",
    "    soma = soma + i"
   ]
  },
  {
   "cell_type": "code",
   "execution_count": 15,
   "id": "d06312e2",
   "metadata": {
    "ExecuteTime": {
     "end_time": "2021-06-21T23:02:58.478488Z",
     "start_time": "2021-06-21T23:02:56.776847Z"
    }
   },
   "outputs": [
    {
     "name": "stdout",
     "output_type": "stream",
     "text": [
      "Digite um número: 10\n",
      "1 é divisor do número\n",
      "2 é divisor do número\n",
      "5 é divisor do número\n",
      "10 é divisor do número\n",
      "Quantidade de divisores 4\n"
     ]
    }
   ],
   "source": [
    "#5. Faça um programa que recebe um número inteiro do usuário e imprime na tela a quantidade de divisores desse número e \n",
    "# quais são eles.\n",
    "\n",
    "num = int(input(\"Digite um número: \"))\n",
    "div = 1\n",
    "qt = 0\n",
    "while div <= num:\n",
    "    if num % div == 0:\n",
    "        print(div, \"é divisor do número\")\n",
    "        qt = qt + 1\n",
    "    div = div + 1\n",
    "print('Quantidade de divisores',qt)"
   ]
  },
  {
   "cell_type": "code",
   "execution_count": 16,
   "id": "82525e31",
   "metadata": {
    "ExecuteTime": {
     "end_time": "2021-06-21T23:05:03.900804Z",
     "start_time": "2021-06-21T23:05:03.880859Z"
    }
   },
   "outputs": [
    {
     "name": "stdout",
     "output_type": "stream",
     "text": [
      "Como esperado, essa soma converge para 1.7182818284590455\n"
     ]
    }
   ],
   "source": [
    "# Desafio 2. Calcule a soma de mil termos dos inversos dos fatoriais: 1/(1!) + 1/(2!) + 1/(3!) + 1/(4!) + ...\n",
    "\n",
    "contador = 1 # Começamos em 1 para não dividirmos por 0\n",
    "soma = 0\n",
    "termo = 1\n",
    "\n",
    "while contador < 1000:\n",
    "    termo /= contador # Se dividirmos pelo contador, formamos o fatorial até aquele termo\n",
    "    soma += termo # Soma o termo atual\n",
    "    contador += 1\n",
    "\n",
    "print(\"Como esperado, essa soma converge para\", soma)"
   ]
  },
  {
   "cell_type": "code",
   "execution_count": 17,
   "id": "0018a5bc",
   "metadata": {
    "ExecuteTime": {
     "end_time": "2021-06-21T23:06:22.779294Z",
     "start_time": "2021-06-21T23:06:22.761342Z"
    }
   },
   "outputs": [
    {
     "name": "stdout",
     "output_type": "stream",
     "text": [
      "Como esperado, essa soma converge para 2.0\n"
     ]
    }
   ],
   "source": [
    "# Desafio 1. Calcule a soma de até mil termos da série 1 + 1/2 + 1/4 + 1/8 + 1/16 + ... \n",
    "\n",
    "contador = 0\n",
    "soma = 1 # Já considerando o primeito termo\n",
    "termo = 1\n",
    "\n",
    "while contador < 1000:\n",
    "    termo /= 2    # Divide o termo atual por 2\n",
    "    soma += termo # Soma o termo atual\n",
    "    contador += 1\n",
    "\n",
    "print(\"Como esperado, essa soma converge para\", soma)"
   ]
  },
  {
   "cell_type": "code",
   "execution_count": 19,
   "id": "4168c5e3",
   "metadata": {
    "ExecuteTime": {
     "end_time": "2021-06-21T23:20:06.066409Z",
     "start_time": "2021-06-21T23:20:02.194507Z"
    }
   },
   "outputs": [
    {
     "name": "stdout",
     "output_type": "stream",
     "text": [
      "uma velocidade inicial (em m/s), uma posição inicial (em m) e um instante de tempo (em s) e imprima a posição de um projétil nesse instante de tempo.\n",
      "Digite a posição inicial: 10\n",
      "Digite a velocidade inicial: 1\n",
      "Digite um instante no tempo: 1\n",
      "A posição no instante t = 1.0 é 6.0\n"
     ]
    }
   ],
   "source": [
    "# Desafio 1. Peça para o usuário digitar uma velocidade inicial (em m/s), uma posição inicial (em m) e um instante de tempo (em s) e imprima a posição de um projétil nesse instante de tempo.\n",
    "print('uma velocidade inicial (em m/s), uma posição inicial (em m) e um instante de tempo (em s) e imprima a posição de um projétil nesse instante de tempo.')\n",
    "\n",
    "y0 = float(input(\"Digite a posição inicial: \"))\n",
    "v0 = float(input(\"Digite a velocidade inicial: \"))\n",
    "t = float(input(\"Digite um instante no tempo: \"))\n",
    "g = -10\n",
    "\n",
    "y = y0 + v0*t + 0.5*g*t**2\n",
    "\n",
    "print(\"A posição no instante t =\", t, \"é\", y)"
   ]
  },
  {
   "cell_type": "code",
   "execution_count": 31,
   "id": "786cd9d4",
   "metadata": {
    "ExecuteTime": {
     "end_time": "2021-06-21T23:31:03.196458Z",
     "start_time": "2021-06-21T23:30:50.497775Z"
    }
   },
   "outputs": [
    {
     "name": "stdout",
     "output_type": "stream",
     "text": [
      "Digite um número: 9\n",
      "Resposta errada\n",
      "Digite um número: 7\n",
      "Resposta errada\n",
      "Digite um número: 5\n",
      "Resposta errada\n",
      "Digite um número: 3\n",
      "Resposta errada\n",
      "Digite um número: 1\n",
      "Resposta errada\n",
      "Digite um número: 2\n",
      "Resposta correta, o número sorteado foi 2\n"
     ]
    }
   ],
   "source": [
    "# 7. Faça um programa que sorteia um número N e peça para o usuário adivinhar o número sorteado. A cada resposta errada, o seu programa deve imprimir um aviso dizendo que a resposta está errada e pedir novamente uma resposta ao usuário.\n",
    "\n",
    "# importar uma biblioteca ou módulo\n",
    "# random.randint(a, b)\n",
    "# Return a random integer N such that a <= N <= b.\n",
    "\n",
    "\n",
    "import random\n",
    "no_aleatorio = random.randint(0, 10)\n",
    "\n",
    "# no_aleatorio = 6 # testar o programa\n",
    "\n",
    "numero = int(input(\"Digite um número: \"))\n",
    "while numero != no_aleatorio:\n",
    "    print('Resposta errada')\n",
    "    numero = int(input(\"Digite um número: \"))\n",
    "print('Resposta correta, o número sorteado foi', no_aleatorio)\n",
    "\n"
   ]
  },
  {
   "cell_type": "code",
   "execution_count": 36,
   "id": "9d48f687",
   "metadata": {
    "ExecuteTime": {
     "end_time": "2021-06-22T00:00:34.336518Z",
     "start_time": "2021-06-22T00:00:34.319563Z"
    }
   },
   "outputs": [
    {
     "name": "stdout",
     "output_type": "stream",
     "text": [
      "1\n",
      "2\n",
      "3\n",
      "4\n"
     ]
    }
   ],
   "source": [
    "# 1. Crie uma lista qualquer e faça um programa que imprima cada elemento da lista usando o for.\n",
    "\n",
    "lista = [1, 2, 3, 4] # lista onde cada elemento é separado por vírgula\n",
    "\n",
    "for elemento in lista:\n",
    "    print(elemento)"
   ]
  },
  {
   "cell_type": "code",
   "execution_count": 38,
   "id": "5b690af5",
   "metadata": {
    "ExecuteTime": {
     "end_time": "2021-06-22T00:02:51.821192Z",
     "start_time": "2021-06-22T00:02:51.815280Z"
    }
   },
   "outputs": [
    {
     "name": "stdout",
     "output_type": "stream",
     "text": [
      "i 0\n",
      "item da posição i 1\n",
      "i 1\n",
      "item da posição i 2\n",
      "i 2\n",
      "item da posição i 3\n",
      "i 3\n",
      "item da posição i 4\n"
     ]
    }
   ],
   "source": [
    "lista = [1, 2, 3, 4] # lista onde cada elemento é separado por vírgula\n",
    "\n",
    "for i in range(len(lista)):\n",
    "    print('i', i)\n",
    "    print('item da posição i', lista[i])\n",
    "#     print(lista[i])"
   ]
  },
  {
   "cell_type": "code",
   "execution_count": null,
   "id": "851fee2b",
   "metadata": {},
   "outputs": [],
   "source": [
    "lista = [1, 2, 3, 4] # lista onde cada elemento é separado por vírgula\n",
    "lista.reverse()\n",
    "for elemento in lista:\n",
    "    print(elemento)"
   ]
  },
  {
   "cell_type": "code",
   "execution_count": 39,
   "id": "fd02b261",
   "metadata": {
    "ExecuteTime": {
     "end_time": "2021-06-22T00:11:40.328600Z",
     "start_time": "2021-06-22T00:11:38.339967Z"
    }
   },
   "outputs": [
    {
     "name": "stdout",
     "output_type": "stream",
     "text": [
      "Digite um número: 5\n",
      "[0, 1, 2, 3, 4]\n"
     ]
    }
   ],
   "source": [
    "# 3. Faça um programa que peça para o usuário digitar um número n e imprima uma lista com todos os números de 0 a n-1.\n",
    "\n",
    "n = int(input(\"Digite um número: \"))\n",
    "\n",
    "lista = []\n",
    "\n",
    "for i in range(n):\n",
    "    lista.append(i)\n",
    "print(lista)"
   ]
  },
  {
   "cell_type": "code",
   "execution_count": 40,
   "id": "72acf1a6",
   "metadata": {
    "ExecuteTime": {
     "end_time": "2021-06-22T00:19:53.830618Z",
     "start_time": "2021-06-22T00:19:52.126333Z"
    }
   },
   "outputs": [
    {
     "name": "stdout",
     "output_type": "stream",
     "text": [
      "Informe um número inteiro de limite para que seja impressa uma lista (obs: o número informado deve ser maior que zero):\n",
      "5\n",
      "0\n",
      "1\n",
      "2\n",
      "3\n",
      "4\n",
      "[0, 1, 2, 3, 4]\n"
     ]
    }
   ],
   "source": [
    "num = int (input (\"Informe um número inteiro de limite para que seja impressa uma lista (obs: o número informado deve ser maior que zero):\\n\"))\n",
    "    \n",
    "while num <= 0 :\n",
    "    \n",
    "    print (\"Valor inválido!\")\n",
    "    \n",
    "    num = int (input (\"Por favor, digite um número maior que zero:\\n\"))\n",
    "    \n",
    "usu = []\n",
    "\n",
    "num2 = num - num\n",
    "\n",
    "while num2 < num :\n",
    "    \n",
    "    usu.insert (num2, num2)\n",
    "    \n",
    "    num2 += 1\n",
    "\n",
    "for x in usu :\n",
    "    \n",
    "    print(x)\n",
    "print(usu)"
   ]
  },
  {
   "cell_type": "code",
   "execution_count": 43,
   "id": "ed3f4bd0",
   "metadata": {
    "ExecuteTime": {
     "end_time": "2021-06-22T00:25:45.175959Z",
     "start_time": "2021-06-22T00:25:38.035439Z"
    }
   },
   "outputs": [
    {
     "name": "stdout",
     "output_type": "stream",
     "text": [
      "Digite o seu CPF(apenas dígitos): 27584671869\n",
      "['2', '7', '5', '8', '4', '6', '7', '1', '8', '6', '9']\n",
      "[2, 7, 5, 8, 4, 6, 7, 1, 8, 6, 9]\n",
      "CPF Inválido\n"
     ]
    }
   ],
   "source": [
    "# Desafio 3. Faça um programa que pede para o usuário digitar o CPF e verifica se ele é válido. \n",
    "\n",
    "CPF = list(input(\"Digite o seu CPF(apenas dígitos): \"))  # Convertemos para uma lista de dígitos (string para lista)\n",
    "print(CPF)  #cada elemento é uma string\n",
    "for i in range(len(CPF)):\n",
    "    CPF[i] = int(CPF[i])  # Convertemos cada elemento/string da lista para inteiros\n",
    "print(CPF)\n",
    "\n",
    "soma = 0\n",
    "\n",
    "for i in range(9):\n",
    "    soma = soma + CPF[i]*(10-i)\n",
    "\n",
    "if soma*10 % 11 == CPF[9]:\n",
    "    soma = 0\n",
    "    for i in range(10):\n",
    "        soma = soma + CPF[i] * (11 - i)\n",
    "    if soma*10 % 11 == CPF[10]:\n",
    "        print(\"CPF Válido\")\n",
    "    else:\n",
    "        print(\"CPF Inválido\")\n",
    "else:\n",
    "    print(\"CPF Inválido\")"
   ]
  },
  {
   "cell_type": "code",
   "execution_count": null,
   "id": "37f77ea8",
   "metadata": {},
   "outputs": [],
   "source": [
    "list(input(\"Digite o seu CPF(apenas dígitos): \"))"
   ]
  },
  {
   "cell_type": "code",
   "execution_count": null,
   "id": "5633d5ca",
   "metadata": {},
   "outputs": [],
   "source": []
  },
  {
   "cell_type": "code",
   "execution_count": 44,
   "id": "f54cc7cb",
   "metadata": {
    "ExecuteTime": {
     "end_time": "2021-06-22T00:28:58.068511Z",
     "start_time": "2021-06-22T00:28:58.060533Z"
    }
   },
   "outputs": [],
   "source": [
    "lista = [1,2, 'a', 'b']"
   ]
  },
  {
   "cell_type": "code",
   "execution_count": 45,
   "id": "b9e211ea",
   "metadata": {
    "ExecuteTime": {
     "end_time": "2021-06-22T00:29:10.881520Z",
     "start_time": "2021-06-22T00:29:10.866561Z"
    }
   },
   "outputs": [],
   "source": [
    "lista.append(3)"
   ]
  },
  {
   "cell_type": "code",
   "execution_count": 46,
   "id": "0576a8d4",
   "metadata": {
    "ExecuteTime": {
     "end_time": "2021-06-22T00:29:14.889825Z",
     "start_time": "2021-06-22T00:29:14.869882Z"
    }
   },
   "outputs": [
    {
     "data": {
      "text/plain": [
       "[1, 2, 'a', 'b', 3]"
      ]
     },
     "execution_count": 46,
     "metadata": {},
     "output_type": "execute_result"
    }
   ],
   "source": [
    "lista"
   ]
  },
  {
   "cell_type": "code",
   "execution_count": 51,
   "id": "f197e192",
   "metadata": {
    "ExecuteTime": {
     "end_time": "2021-06-22T00:31:03.614280Z",
     "start_time": "2021-06-22T00:31:03.609259Z"
    }
   },
   "outputs": [],
   "source": [
    "lista.extend('54')"
   ]
  },
  {
   "cell_type": "code",
   "execution_count": 52,
   "id": "a000290f",
   "metadata": {
    "ExecuteTime": {
     "end_time": "2021-06-22T00:31:04.046858Z",
     "start_time": "2021-06-22T00:31:04.036885Z"
    }
   },
   "outputs": [
    {
     "data": {
      "text/plain": [
       "[1, 2, 'a', 'b', 3, '5', 0, 4, '5', '4']"
      ]
     },
     "execution_count": 52,
     "metadata": {},
     "output_type": "execute_result"
    }
   ],
   "source": [
    "lista"
   ]
  },
  {
   "cell_type": "code",
   "execution_count": 50,
   "id": "77834c57",
   "metadata": {
    "ExecuteTime": {
     "end_time": "2021-06-22T00:30:38.469439Z",
     "start_time": "2021-06-22T00:30:38.457473Z"
    }
   },
   "outputs": [
    {
     "data": {
      "text/plain": [
       "[1, 2, 'a', 'b', 3, '5', 0, 4]"
      ]
     },
     "execution_count": 50,
     "metadata": {},
     "output_type": "execute_result"
    }
   ],
   "source": [
    "# adicionar uma lista dentro dessa lista\n",
    "#[0,4]\n",
    "\n",
    "lista.extend([0,4])\n",
    "lista"
   ]
  },
  {
   "cell_type": "code",
   "execution_count": 55,
   "id": "dd6ba491",
   "metadata": {
    "ExecuteTime": {
     "end_time": "2021-06-22T00:35:45.380581Z",
     "start_time": "2021-06-22T00:35:45.373601Z"
    }
   },
   "outputs": [
    {
     "name": "stdout",
     "output_type": "stream",
     "text": [
      "2\n",
      "2\n",
      "2\n",
      ".\n",
      "6\n",
      "5\n",
      "5\n",
      ".\n",
      "8\n",
      "7\n",
      "5\n",
      "-\n",
      "7\n",
      "8\n",
      "22265587578\n"
     ]
    }
   ],
   "source": [
    "cpf = '222.655.875-78'\n",
    "novo_cpf = ''\n",
    "for item in cpf:\n",
    "    print(item)\n",
    "    if item.isnumeric() == True:\n",
    "        novo_cpf= novo_cpf + item\n",
    "        \n",
    "print(novo_cpf)"
   ]
  },
  {
   "cell_type": "code",
   "execution_count": 58,
   "id": "0e939160",
   "metadata": {
    "ExecuteTime": {
     "end_time": "2021-06-22T00:40:17.686181Z",
     "start_time": "2021-06-22T00:40:17.670223Z"
    }
   },
   "outputs": [
    {
     "data": {
      "text/plain": [
       "'22265587578'"
      ]
     },
     "execution_count": 58,
     "metadata": {},
     "output_type": "execute_result"
    }
   ],
   "source": [
    "cpf = '222.655.875-78'\n",
    "novo_cpfo = cpf.replace('.','').replace('-','')\n",
    "novo_cpfo"
   ]
  },
  {
   "cell_type": "code",
   "execution_count": 59,
   "id": "59d0d1f3",
   "metadata": {
    "ExecuteTime": {
     "end_time": "2021-06-22T00:42:03.828529Z",
     "start_time": "2021-06-22T00:41:46.488922Z"
    }
   },
   "outputs": [
    {
     "name": "stdout",
     "output_type": "stream",
     "text": [
      "Digite uma palavra: Vamos terminar a aula as 22h em ponto, ok?\n",
      "V4mos 73rmin4r 4 4ul4 4s 22h 3m pon7o, ok?\n"
     ]
    }
   ],
   "source": [
    "# Enunciado\n",
    "# Faça uma função que receba uma string e retorne uma nova string substituindo:\n",
    "\n",
    "# 'a' por '4'\n",
    "\n",
    "# 'e' por '3'\n",
    "\n",
    "# 'I' por '1'\n",
    "\n",
    "# 't' por '7'\n",
    "\n",
    "recebe_string = input('Digite uma palavra: ')\n",
    "\n",
    "nova_string = recebe_string.replace('a', '4').replace('e', '3').replace('I', '1').replace('t', '7')\n",
    "print(nova_string)\n"
   ]
  },
  {
   "cell_type": "code",
   "execution_count": 60,
   "id": "2746f203",
   "metadata": {
    "ExecuteTime": {
     "end_time": "2021-06-22T00:57:10.408338Z",
     "start_time": "2021-06-22T00:57:10.400415Z"
    }
   },
   "outputs": [
    {
     "name": "stdout",
     "output_type": "stream",
     "text": [
      "O maior elemento da lista é 12\n"
     ]
    }
   ],
   "source": [
    "# 5. Faça um programa que imprima o maior número de uma lista, sem usar o método max().\n",
    "lista = [1, 4, -8, 12, 3, -5, 2, -14, 6]\n",
    "\n",
    "maior = lista[0]\n",
    "for elemento in lista:\n",
    "    if elemento > maior:\n",
    "        maior = elemento\n",
    "print(\"O maior elemento da lista é\", maior)\n",
    "\n"
   ]
  },
  {
   "cell_type": "code",
   "execution_count": null,
   "id": "be55d178",
   "metadata": {},
   "outputs": [],
   "source": []
  }
 ],
 "metadata": {
  "kernelspec": {
   "display_name": "Python 3",
   "language": "python",
   "name": "python3"
  },
  "language_info": {
   "codemirror_mode": {
    "name": "ipython",
    "version": 3
   },
   "file_extension": ".py",
   "mimetype": "text/x-python",
   "name": "python",
   "nbconvert_exporter": "python",
   "pygments_lexer": "ipython3",
   "version": "3.7.4"
  },
  "varInspector": {
   "cols": {
    "lenName": 16,
    "lenType": 16,
    "lenVar": 40
   },
   "kernels_config": {
    "python": {
     "delete_cmd_postfix": "",
     "delete_cmd_prefix": "del ",
     "library": "var_list.py",
     "varRefreshCmd": "print(var_dic_list())"
    },
    "r": {
     "delete_cmd_postfix": ") ",
     "delete_cmd_prefix": "rm(",
     "library": "var_list.r",
     "varRefreshCmd": "cat(var_dic_list()) "
    }
   },
   "types_to_exclude": [
    "module",
    "function",
    "builtin_function_or_method",
    "instance",
    "_Feature"
   ],
   "window_display": false
  }
 },
 "nbformat": 4,
 "nbformat_minor": 5
}
