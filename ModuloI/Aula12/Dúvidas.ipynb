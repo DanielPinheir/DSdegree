{
 "cells": [
  {
   "cell_type": "markdown",
   "id": "872c5ccc",
   "metadata": {},
   "source": [
    "# Dúvidas de listas anteriores"
   ]
  },
  {
   "cell_type": "markdown",
   "id": "82439edc",
   "metadata": {},
   "source": [
    "9. Faça uma função que receba uma string que contém tanto números quanto letras e caracteres especiais, e que separe as letras em uma variável e os números em outra (os caracteres especiais podem ser descartados). Ao final a função deve imprimir as duas variáveis."
   ]
  },
  {
   "cell_type": "code",
   "execution_count": 1,
   "id": "0072b068",
   "metadata": {
    "ExecuteTime": {
     "end_time": "2021-07-03T00:15:09.224140Z",
     "start_time": "2021-07-03T00:15:09.207219Z"
    }
   },
   "outputs": [],
   "source": [
    "input_string = 'hj4u403k2!jopm#'"
   ]
  },
  {
   "cell_type": "code",
   "execution_count": 4,
   "id": "93d3fe31",
   "metadata": {
    "ExecuteTime": {
     "end_time": "2021-07-03T00:22:02.846985Z",
     "start_time": "2021-07-03T00:22:02.829982Z"
    }
   },
   "outputs": [
    {
     "name": "stdout",
     "output_type": "stream",
     "text": [
      "!\n",
      "#\n",
      "Variável que contém só letras:  hjukjopm\n",
      "Variável que contém só números:  44032\n"
     ]
    }
   ],
   "source": [
    "var_letras = ''\n",
    "var_numeros = ''\n",
    "\n",
    "for item in input_string:\n",
    "    if item.isalpha():   # se o caracter for letra\n",
    "        var_letras = var_letras + item\n",
    "    elif item.isdigit(): # se o caracter for numero/digito\n",
    "        var_numeros = var_numeros + item\n",
    "    else:\n",
    "        # sobram os caracteres\n",
    "        print(item) # mostrar os caracteres que vou eliminar\n",
    "    \n",
    "print('Variável que contém só letras: ', var_letras)\n",
    "print('Variável que contém só números: ', var_numeros)\n"
   ]
  },
  {
   "cell_type": "markdown",
   "id": "a821d4e7",
   "metadata": {},
   "source": [
    "8. Faça uma função que receba um texto e uma palavra, então verifique se a palavra está no texto, retornando True ou False."
   ]
  },
  {
   "cell_type": "code",
   "execution_count": 6,
   "id": "13bc8890",
   "metadata": {
    "ExecuteTime": {
     "end_time": "2021-07-03T00:28:59.831919Z",
     "start_time": "2021-07-03T00:28:59.812973Z"
    }
   },
   "outputs": [
    {
     "name": "stdout",
     "output_type": "stream",
     "text": [
      "False\n"
     ]
    }
   ],
   "source": [
    "texto =' Aqui está um exemplo de um texto completo'\n",
    "\n",
    "palavra = 'qualquer'\n",
    "\n",
    "if palavra in texto:\n",
    "    print(True)\n",
    "else:\n",
    "    print(False)"
   ]
  },
  {
   "cell_type": "code",
   "execution_count": null,
   "id": "f8ecbfaf",
   "metadata": {},
   "outputs": [],
   "source": []
  }
 ],
 "metadata": {
  "kernelspec": {
   "display_name": "Python 3",
   "language": "python",
   "name": "python3"
  },
  "language_info": {
   "codemirror_mode": {
    "name": "ipython",
    "version": 3
   },
   "file_extension": ".py",
   "mimetype": "text/x-python",
   "name": "python",
   "nbconvert_exporter": "python",
   "pygments_lexer": "ipython3",
   "version": "3.9.5"
  },
  "varInspector": {
   "cols": {
    "lenName": 16,
    "lenType": 16,
    "lenVar": 40
   },
   "kernels_config": {
    "python": {
     "delete_cmd_postfix": "",
     "delete_cmd_prefix": "del ",
     "library": "var_list.py",
     "varRefreshCmd": "print(var_dic_list())"
    },
    "r": {
     "delete_cmd_postfix": ") ",
     "delete_cmd_prefix": "rm(",
     "library": "var_list.r",
     "varRefreshCmd": "cat(var_dic_list()) "
    }
   },
   "types_to_exclude": [
    "module",
    "function",
    "builtin_function_or_method",
    "instance",
    "_Feature"
   ],
   "window_display": false
  }
 },
 "nbformat": 4,
 "nbformat_minor": 5
}
