{
 "cells": [
  {
   "cell_type": "markdown",
   "metadata": {},
   "source": [
    "## Mais sofre funções e argumentos"
   ]
  },
  {
   "cell_type": "markdown",
   "metadata": {},
   "source": [
    "### Revisão"
   ]
  },
  {
   "cell_type": "code",
   "execution_count": 183,
   "metadata": {
    "ExecuteTime": {
     "end_time": "2021-06-29T15:53:54.884522Z",
     "start_time": "2021-06-29T15:53:54.870523Z"
    }
   },
   "outputs": [],
   "source": [
    "#Função genérica\n",
    "def nome(argumentos):\n",
    "    #definição da função\n",
    "    #return --> opcional\n",
    "    pass\n",
    "    "
   ]
  },
  {
   "cell_type": "code",
   "execution_count": 184,
   "metadata": {
    "ExecuteTime": {
     "end_time": "2021-06-29T15:53:55.156333Z",
     "start_time": "2021-06-29T15:53:55.145321Z"
    }
   },
   "outputs": [
    {
     "name": "stdout",
     "output_type": "stream",
     "text": [
      "Isso é uma função\n"
     ]
    }
   ],
   "source": [
    "#Exemplo de função\n",
    "def mostra_algo_na_tela():\n",
    "    print('Isso é uma função')\n",
    "\n",
    "\n",
    "mostra_algo_na_tela() #chamando a função\n"
   ]
  },
  {
   "cell_type": "code",
   "execution_count": 185,
   "metadata": {
    "ExecuteTime": {
     "end_time": "2021-06-29T15:53:55.376123Z",
     "start_time": "2021-06-29T15:53:55.361160Z"
    }
   },
   "outputs": [
    {
     "name": "stdout",
     "output_type": "stream",
     "text": [
      "Texto necessário\n"
     ]
    }
   ],
   "source": [
    "#Exemplo com arguemento e sem retorno\n",
    "def mostra_algo_na_tela_arg(texto):\n",
    "    print(texto)\n",
    "\n",
    "mostra_algo_na_tela_arg('Texto necessário')"
   ]
  },
  {
   "cell_type": "code",
   "execution_count": 186,
   "metadata": {
    "ExecuteTime": {
     "end_time": "2021-06-29T15:53:55.594891Z",
     "start_time": "2021-06-29T15:53:55.574944Z"
    }
   },
   "outputs": [
    {
     "data": {
      "text/plain": [
       "12"
      ]
     },
     "execution_count": 186,
     "metadata": {},
     "output_type": "execute_result"
    }
   ],
   "source": [
    "#Exemplo com argumento e retorno\n",
    "def perimetro_triangulo(a,b,c):\n",
    "    perimetro = a + b + c\n",
    "    \n",
    "    return perimetro\n",
    "    \n",
    "\n",
    "perimetro_triangulo(3,4,5)\n",
    "    \n",
    "    "
   ]
  },
  {
   "cell_type": "code",
   "execution_count": 187,
   "metadata": {
    "ExecuteTime": {
     "end_time": "2021-06-29T15:53:55.754330Z",
     "start_time": "2021-06-29T15:53:55.745194Z"
    }
   },
   "outputs": [
    {
     "data": {
      "text/plain": [
       "18"
      ]
     },
     "execution_count": 187,
     "metadata": {},
     "output_type": "execute_result"
    }
   ],
   "source": [
    "def perimetro_quadrilatero(a,b,c,d):\n",
    "    perimetro = a + b + c + d\n",
    "    \n",
    "    return perimetro\n",
    "\n",
    "perimetro_quadrilatero(3,4,5,6)"
   ]
  },
  {
   "cell_type": "code",
   "execution_count": 188,
   "metadata": {
    "ExecuteTime": {
     "end_time": "2021-06-29T15:53:56.143018Z",
     "start_time": "2021-06-29T15:53:56.125072Z"
    }
   },
   "outputs": [
    {
     "data": {
      "text/plain": [
       "25"
      ]
     },
     "execution_count": 188,
     "metadata": {},
     "output_type": "execute_result"
    }
   ],
   "source": [
    "def perimetro_pentagono(a,b,c,d,e):\n",
    "    perimetro = a + b + c + d + e\n",
    "    \n",
    "    return perimetro\n",
    "\n",
    "perimetro_pentagono(3,4,5,6,7)"
   ]
  },
  {
   "cell_type": "code",
   "execution_count": 189,
   "metadata": {
    "ExecuteTime": {
     "end_time": "2021-06-29T15:53:56.504570Z",
     "start_time": "2021-06-29T15:53:56.483626Z"
    }
   },
   "outputs": [
    {
     "data": {
      "text/plain": [
       "25"
      ]
     },
     "execution_count": 189,
     "metadata": {},
     "output_type": "execute_result"
    }
   ],
   "source": [
    "#Função que calcula o perímetro de qualquer polígono usando *args\n",
    "def perimetro(*lados):\n",
    "    perimetro = 0\n",
    "    \n",
    "    for lado in lados:\n",
    "        perimetro = perimetro + lado\n",
    "    \n",
    "    return perimetro\n",
    "\n",
    "perimetro(3,4,5,6,7,)"
   ]
  },
  {
   "cell_type": "code",
   "execution_count": 190,
   "metadata": {
    "ExecuteTime": {
     "end_time": "2021-06-29T15:53:56.756568Z",
     "start_time": "2021-06-29T15:53:56.745074Z"
    }
   },
   "outputs": [
    {
     "name": "stdout",
     "output_type": "stream",
     "text": [
      "25\n"
     ]
    }
   ],
   "source": [
    "#Função que calcula o perímetro de qualquer polígono\n",
    "#--> iterando pelo índice\n",
    "def perimetro(*lados):\n",
    "    perimetro = 0\n",
    "    \n",
    "    n = len(lados) #número de lados --> tamanho da tupla\n",
    "    for i in range(n):\n",
    "        perimetro += lados[i]\n",
    "    \n",
    "    return perimetro\n",
    "\n",
    "print(perimetro(3,4,5,6,7))"
   ]
  },
  {
   "cell_type": "code",
   "execution_count": 191,
   "metadata": {
    "ExecuteTime": {
     "end_time": "2021-06-29T15:54:16.168168Z",
     "start_time": "2021-06-29T15:53:57.123500Z"
    }
   },
   "outputs": [
    {
     "name": "stdout",
     "output_type": "stream",
     "text": [
      "Digite os lados do poligono: 1\n"
     ]
    },
    {
     "data": {
      "text/plain": [
       "'1'"
      ]
     },
     "execution_count": 191,
     "metadata": {},
     "output_type": "execute_result"
    }
   ],
   "source": [
    "#Exemplo do Lucas\n",
    "\n",
    "lados = input('Digite os lados do poligono: ')\n",
    "lados"
   ]
  },
  {
   "cell_type": "code",
   "execution_count": 192,
   "metadata": {
    "ExecuteTime": {
     "end_time": "2021-06-29T15:54:16.215952Z",
     "start_time": "2021-06-29T15:54:16.201954Z"
    }
   },
   "outputs": [
    {
     "data": {
      "text/plain": [
       "25"
      ]
     },
     "execution_count": 192,
     "metadata": {},
     "output_type": "execute_result"
    }
   ],
   "source": [
    "#Função que calcula o perímetro de qualquer polígono\n",
    "#--> iterando pelo índice\n",
    "def perimetro(*lados):\n",
    "    perimetro = 0\n",
    "    \n",
    "    n = len(lados) #número de lados --> tamanho da tupla\n",
    "    for i in range(n):\n",
    "        perimetro += lados[i]\n",
    "    \n",
    "    return perimetro\n",
    "\n",
    "\n",
    "lista = (3, 4, 5, 6,7)\n",
    "\n",
    "perimetro(*lista)"
   ]
  },
  {
   "cell_type": "code",
   "execution_count": 193,
   "metadata": {
    "ExecuteTime": {
     "end_time": "2021-06-29T15:54:20.948955Z",
     "start_time": "2021-06-29T15:54:16.249829Z"
    }
   },
   "outputs": [
    {
     "name": "stdout",
     "output_type": "stream",
     "text": [
      "Digite o nome:1\n",
      "Digite o DDD:1\n",
      "Digite o numero de notas:1\n",
      "Digite uma nota:1\n",
      "Notas de 1 (ddd: 1):\n",
      "1\n"
     ]
    }
   ],
   "source": [
    "#Mostrando o uso do *args com entrada do usuário\n",
    "def dados_usuarios(nome,DDD,*args):\n",
    "    print(f'Notas de {nome} (ddd: {DDD}):')\n",
    "    \n",
    "    for nota in args:\n",
    "        print(nota)\n",
    "\n",
    "        \n",
    "nome = input('Digite o nome:')\n",
    "ddd = int(input('Digite o DDD:'))\n",
    "\n",
    "n = int(input('Digite o numero de notas:'))\n",
    "\n",
    "notas = []\n",
    "for i in range(n):\n",
    "    notas.append(int(input('Digite uma nota:')))\n",
    "\n",
    "dados_usuarios(nome, ddd, *notas)"
   ]
  },
  {
   "cell_type": "code",
   "execution_count": 194,
   "metadata": {
    "ExecuteTime": {
     "end_time": "2021-06-29T15:54:20.996088Z",
     "start_time": "2021-06-29T15:54:20.982121Z"
    }
   },
   "outputs": [
    {
     "name": "stdout",
     "output_type": "stream",
     "text": [
      "(46) 99876-5000\n"
     ]
    }
   ],
   "source": [
    "#Outros aspectos de funções: argumentos posicionais (a ordem é importante)\n",
    "\n",
    "def celular(numero, ddd = 11):\n",
    "    print(f'({ddd}) {numero}')\n",
    "\n",
    "celular('99876-5000',46)\n"
   ]
  },
  {
   "cell_type": "code",
   "execution_count": 205,
   "metadata": {
    "ExecuteTime": {
     "end_time": "2021-06-29T15:54:27.389700Z",
     "start_time": "2021-06-29T15:54:27.378755Z"
    }
   },
   "outputs": [
    {
     "name": "stdout",
     "output_type": "stream",
     "text": [
      "(46) 99876-5000\n"
     ]
    }
   ],
   "source": [
    "# É possível mudar a ordem se o nome dos argumentos for utilizado explicitamente\n",
    "\n",
    "celular(ddd=46,numero='99876-5000') #testando os argumentos invertidos"
   ]
  },
  {
   "cell_type": "code",
   "execution_count": 206,
   "metadata": {
    "ExecuteTime": {
     "end_time": "2021-06-29T15:54:28.616172Z",
     "start_time": "2021-06-29T15:54:28.601187Z"
    }
   },
   "outputs": [
    {
     "name": "stdout",
     "output_type": "stream",
     "text": [
      "nome Lucas\n",
      "ddd 32\n",
      "notaFinal 9.2\n"
     ]
    }
   ],
   "source": [
    "#Passando dicionários para funções: usando o **kwargs\n",
    "def usuarios(**kwargs):\n",
    "    for chave, valor in kwargs.items():\n",
    "        print(chave, valor)\n",
    "\n",
    "\n",
    "dados = {\n",
    "    'nome':'Lucas',\n",
    "    'ddd': 32,\n",
    "}\n",
    "\n",
    "usuarios(nome='Lucas',ddd=32, notaFinal = 9.2)"
   ]
  },
  {
   "cell_type": "code",
   "execution_count": 207,
   "metadata": {
    "ExecuteTime": {
     "end_time": "2021-06-29T15:54:31.517868Z",
     "start_time": "2021-06-29T15:54:31.498919Z"
    }
   },
   "outputs": [
    {
     "data": {
      "text/plain": [
       "'Lucas'"
      ]
     },
     "execution_count": 207,
     "metadata": {},
     "output_type": "execute_result"
    }
   ],
   "source": [
    "#Passando dicionários para funções: construindo um dicionário\n",
    "def usuarios(**kwargs):\n",
    "    novo_dicionario = {}\n",
    "    \n",
    "    for chave, valor in kwargs.items():\n",
    "        novo_dicionario[chave] = valor\n",
    "    \n",
    "    #print(novo_dicionario)\n",
    "    \n",
    "    return novo_dicionario\n",
    "        \n",
    "\n",
    "\n",
    "\n",
    "dados = usuarios(nome='Lucas',ddd=32, notaFinal = 9.2, peso = 80)\n",
    "dados['nome']"
   ]
  },
  {
   "cell_type": "code",
   "execution_count": 208,
   "metadata": {
    "ExecuteTime": {
     "end_time": "2021-06-29T15:54:32.274693Z",
     "start_time": "2021-06-29T15:54:32.259072Z"
    }
   },
   "outputs": [
    {
     "name": "stdout",
     "output_type": "stream",
     "text": [
      "Tamanho do args: 4\n"
     ]
    }
   ],
   "source": [
    "#Usando *args e **kwargs: para usarem ambos ao mesmo tempo, é necessário que o *args venha \n",
    "# antes do **kwargs\n",
    "\n",
    "def  nome(a, b, c = 'f', *args, **kwargs):\n",
    "    print(f'Tamanho do args: {len(args)}')\n",
    "\n",
    "\n",
    "nome(1, 2,'f',5,4,True,'casa',sapato = 45)\n"
   ]
  },
  {
   "cell_type": "markdown",
   "metadata": {},
   "source": [
    "# Trabalhando com arquivos\n"
   ]
  },
  {
   "cell_type": "code",
   "execution_count": 209,
   "metadata": {
    "ExecuteTime": {
     "end_time": "2021-06-29T15:54:34.499208Z",
     "start_time": "2021-06-29T15:54:34.484270Z"
    },
    "scrolled": true
   },
   "outputs": [
    {
     "name": "stdout",
     "output_type": "stream",
     "text": [
      "Time Pontos\n",
      "Santos 11 \n",
      "Gremio 02\n",
      "Internacional 09   \n",
      "Flamengo 09\n",
      "Bahia 11\n"
     ]
    }
   ],
   "source": [
    "#Abrindo um arquivo para leitura\n",
    "# Modos de abertura: \n",
    "#--> r = read, w = write, a = append\n",
    "\n",
    "\n",
    "try:\n",
    "    arquivo = open('times.txt','r') # 'times.txt' é o arquivo que será aberto, 'r' = read\n",
    "    \n",
    "    conteudo = arquivo.read()\n",
    "    \n",
    "    print(conteudo)\n",
    "    \n",
    "    arquivo.close()\n",
    "\n",
    "except FileNotFoundError:\n",
    "    print('Arquivo nao encontrado!')\n",
    "    \n"
   ]
  },
  {
   "cell_type": "code",
   "execution_count": 210,
   "metadata": {
    "ExecuteTime": {
     "end_time": "2021-06-29T15:54:35.463309Z",
     "start_time": "2021-06-29T15:54:35.441333Z"
    }
   },
   "outputs": [
    {
     "name": "stdout",
     "output_type": "stream",
     "text": [
      "Lucas ddd: 32\n",
      "Amanda ddd: 11\n",
      "Fim da primeira leitura\n",
      "Alexandre ddd: 11\n"
     ]
    }
   ],
   "source": [
    "#Escrevendo em um arquivo novo\n",
    "\n",
    "arq_escrita = open('alunos.txt','w') #o arquivo é criado ou sobrescrito (conteúdo anterior é perdido)\n",
    "\n",
    "arq_escrita.write('Lucas ddd: 32\\n')\n",
    "arq_escrita.write('Amanda ddd: 11')\n",
    "\n",
    "arq_escrita.close()\n",
    "\n",
    "#Lendo o arquivo escrito\n",
    "arq_leitura = open('alunos.txt','r')\n",
    "conteudo = arq_leitura.read()\n",
    "print(conteudo)\n",
    "arq_leitura.close()\n",
    "print(\"Fim da primeira leitura\")\n",
    "\n",
    "\n",
    "\n",
    "#Reescrevendo no arquivo 'alunos.txt'\n",
    "arq_escrita = open('alunos.txt','w')\n",
    "\n",
    "arq_escrita.write('Alexandre ddd: 11')\n",
    "\n",
    "arq_escrita.close()\n",
    "\n",
    "\n",
    "\n",
    "#Lendo o arquivo escrito\n",
    "arq_leitura = open('alunos.txt','r')\n",
    "conteudo = arq_leitura.read()\n",
    "print(conteudo)\n",
    "arq_leitura.close()\n",
    "\n"
   ]
  },
  {
   "cell_type": "code",
   "execution_count": 211,
   "metadata": {
    "ExecuteTime": {
     "end_time": "2021-06-29T15:54:36.324539Z",
     "start_time": "2021-06-29T15:54:36.298654Z"
    },
    "scrolled": true
   },
   "outputs": [
    {
     "name": "stdout",
     "output_type": "stream",
     "text": [
      "Lucas ddd: 32\n",
      "Amanda ddd: 11\n",
      "\n",
      "Fim da primeira leitura\n",
      "Lucas ddd: 32\n",
      "Amanda ddd: 11\n",
      "Alexandre ddd: 11\n"
     ]
    }
   ],
   "source": [
    "#Escrevendo em um arquivo novo\n",
    "arq_escrita = open('alunos.txt','w')\n",
    "\n",
    "arq_escrita.write('Lucas ddd: 32\\n')\n",
    "arq_escrita.write('Amanda ddd: 11\\n')\n",
    "\n",
    "arq_escrita.close()\n",
    "\n",
    "#Lendo o arquivo escrito\n",
    "arq_leitura = open('alunos.txt','r')\n",
    "conteudo = arq_leitura.read()\n",
    "print(conteudo)\n",
    "arq_leitura.close()\n",
    "print(\"Fim da primeira leitura\")\n",
    "\n",
    "\n",
    "\n",
    "#Reescrevendo no arquivo 'alunos.txt' com o modo 'a' (append) -->cria o arquivo, caso não\n",
    "# exista, ou acrescenta novas linhas no arquivo existente\n",
    "arq_escrita = open('alunos.txt','a')\n",
    "\n",
    "arq_escrita.write('Alexandre ddd: 11')\n",
    "\n",
    "arq_escrita.close()\n",
    "\n",
    "\n",
    "\n",
    "#Lendo o arquivo escrito\n",
    "arq_leitura = open('alunos.txt','r')\n",
    "conteudo = arq_leitura.read()\n",
    "print(conteudo)\n",
    "arq_leitura.close()\n",
    "\n"
   ]
  },
  {
   "cell_type": "code",
   "execution_count": 212,
   "metadata": {
    "ExecuteTime": {
     "end_time": "2021-06-29T15:54:37.807465Z",
     "start_time": "2021-06-29T15:54:37.793509Z"
    }
   },
   "outputs": [],
   "source": [
    "#Abrindo um arquivo novo no modo 'a' (append) -->cria o arquivo, caso não\n",
    "# exista, ou acrescenta novas linhas no arquivo existente\n",
    "arq_escrita = open('atletas.txt','a')\n",
    "\n",
    "arq_escrita.write('Alexandre carateca')\n",
    "\n",
    "arq_escrita.close()\n"
   ]
  },
  {
   "cell_type": "code",
   "execution_count": 213,
   "metadata": {
    "ExecuteTime": {
     "end_time": "2021-06-29T15:54:38.823051Z",
     "start_time": "2021-06-29T15:54:38.814060Z"
    },
    "scrolled": true
   },
   "outputs": [
    {
     "name": "stdout",
     "output_type": "stream",
     "text": [
      "['Nome', 'Idade', 'Altura', 'Peso']\n",
      "['Amanda', '20', '1.60', '50']\n",
      "['Carlos', '21', '1.65', '72']\n",
      "['Diego', '30', '1.82', '93']\n",
      "['Fernanda', '16', '1.70', '67']\n",
      "['Paulo', '28', '1.87', '70']\n",
      "['Raquel', '42', '1.55', '80']\n"
     ]
    }
   ],
   "source": [
    "#Abrindo arquivos do tipo *.csv\n",
    "import csv\n",
    "\n",
    "arqcsv = open('dados_pessoais.csv','r')#abrindo para a leitura\n",
    "planilha = csv.reader(arqcsv, delimiter = ';', lineterminator = '\\n' )\n",
    "\n",
    "for linha in planilha:\n",
    "    print(linha)\n",
    "\n",
    "arqcsv.close()\n",
    "\n"
   ]
  },
  {
   "cell_type": "code",
   "execution_count": 214,
   "metadata": {
    "ExecuteTime": {
     "end_time": "2021-06-29T15:54:39.914446Z",
     "start_time": "2021-06-29T15:54:39.908428Z"
    }
   },
   "outputs": [],
   "source": [
    "#Escrevendo em um arquivo CSV\n",
    "\n",
    "import csv\n",
    "\n",
    "\n",
    "arqcsv = open('minha_planilha.csv','w')\n",
    "\n",
    "arq_escrita = csv.writer(arqcsv, delimiter = ' ', lineterminator = '\\n')\n",
    "\n",
    "arq_escrita.writerow(['Nome', 'Peso', 'Altura'])\n",
    "\n",
    "arq_escrita.writerow(['Alexandre', '80', '1.85'])\n",
    "\n",
    "\n",
    "arqcsv.close()\n",
    "\n",
    "\n"
   ]
  },
  {
   "cell_type": "markdown",
   "metadata": {},
   "source": [
    " - Exercício: fazer um programa que leia o arquivo 'dados.csv', cria e escreve outro arquivo 'dados_imc.csv' com as mesmas informações acrescentando uma coluna com o valor do IMC (índice de massa corpórea) de cada indivíduo.\n",
    "\n",
    "- Tabela mostrando o arquivo 'dados.csv'\n",
    "\n",
    "Nome | Idade | Altura |Peso |\n",
    "---- | ------ |---- | ------\n",
    "Amada | 20 | 1.60 | 50\n",
    "Carlos|21|1.65|72\n",
    "Diego|30|1.82|93\n",
    "Fernanda|16|1.70|67\n",
    "Paulo|28|1.87|70\n",
    "Raquel|42|1.55|80\n",
    "\n",
    "\n",
    "'dados.csv':\n",
    "Nome;Idade;Altura;Peso\n",
    "Amanda;20;1.60;50\n",
    "Carlos;21;1.65;72\n",
    "Diego;30;1.82;93\n",
    "Fernanda;16;1.70;67\n",
    "Paulo;28;1.87;70\n",
    "Raquel;42;1.55;80\n",
    "\n"
   ]
  },
  {
   "cell_type": "code",
   "execution_count": null,
   "metadata": {},
   "outputs": [],
   "source": []
  },
  {
   "cell_type": "code",
   "execution_count": null,
   "metadata": {},
   "outputs": [],
   "source": []
  }
 ],
 "metadata": {
  "kernelspec": {
   "display_name": "Python 3",
   "language": "python",
   "name": "python3"
  },
  "language_info": {
   "codemirror_mode": {
    "name": "ipython",
    "version": 3
   },
   "file_extension": ".py",
   "mimetype": "text/x-python",
   "name": "python",
   "nbconvert_exporter": "python",
   "pygments_lexer": "ipython3",
   "version": "3.9.5"
  },
  "varInspector": {
   "cols": {
    "lenName": 16,
    "lenType": 16,
    "lenVar": 40
   },
   "kernels_config": {
    "python": {
     "delete_cmd_postfix": "",
     "delete_cmd_prefix": "del ",
     "library": "var_list.py",
     "varRefreshCmd": "print(var_dic_list())"
    },
    "r": {
     "delete_cmd_postfix": ") ",
     "delete_cmd_prefix": "rm(",
     "library": "var_list.r",
     "varRefreshCmd": "cat(var_dic_list()) "
    }
   },
   "types_to_exclude": [
    "module",
    "function",
    "builtin_function_or_method",
    "instance",
    "_Feature"
   ],
   "window_display": false
  }
 },
 "nbformat": 4,
 "nbformat_minor": 4
}
