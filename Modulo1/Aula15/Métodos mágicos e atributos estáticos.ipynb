{
 "cells": [
  {
   "cell_type": "markdown",
   "id": "006aaf88",
   "metadata": {},
   "source": [
    "# Classes - Relembrando"
   ]
  },
  {
   "cell_type": "markdown",
   "id": "37c256fc",
   "metadata": {
    "ExecuteTime": {
     "end_time": "2021-07-12T22:16:59.865732Z",
     "start_time": "2021-07-12T22:16:59.850758Z"
    }
   },
   "source": [
    "```\n",
    "class NomeDaClasse:\n",
    "\n",
    "    # método construtor\n",
    "    def __init__(self, atributos)\n",
    "        # definição dos atributos\n",
    "        self.atributos = atributos\n",
    "\n",
    "    # definição de outros métodos\n",
    "    def metodo(self, parametros):\n",
    "        operacoes\n",
    "```"
   ]
  },
  {
   "cell_type": "markdown",
   "id": "479a7063",
   "metadata": {},
   "source": [
    "Exemplo"
   ]
  },
  {
   "cell_type": "code",
   "execution_count": 2,
   "id": "a5ce926a",
   "metadata": {
    "ExecuteTime": {
     "end_time": "2021-07-12T22:20:59.021903Z",
     "start_time": "2021-07-12T22:20:59.014921Z"
    }
   },
   "outputs": [],
   "source": [
    "class Pessoa:\n",
    "    # método construtor\n",
    "    def __init__(self, peso, altura):\n",
    "        self.peso = peso\n",
    "        self.altura = altura\n",
    "\n",
    "    # método para calcular o IMC\n",
    "    def calcula_imc(self):\n",
    "        imc = self.peso / (self.altura ** 2)\n",
    "        return imc"
   ]
  },
  {
   "cell_type": "code",
   "execution_count": 3,
   "id": "b8747bc5",
   "metadata": {
    "ExecuteTime": {
     "end_time": "2021-07-12T22:22:06.205006Z",
     "start_time": "2021-07-12T22:22:06.192038Z"
    }
   },
   "outputs": [],
   "source": [
    "joao = Pessoa(77, 1.67)"
   ]
  },
  {
   "cell_type": "code",
   "execution_count": 4,
   "id": "109c9328",
   "metadata": {
    "ExecuteTime": {
     "end_time": "2021-07-12T22:22:40.943750Z",
     "start_time": "2021-07-12T22:22:40.919762Z"
    }
   },
   "outputs": [
    {
     "data": {
      "text/plain": [
       "27.60945175517229"
      ]
     },
     "execution_count": 4,
     "metadata": {},
     "output_type": "execute_result"
    }
   ],
   "source": [
    "joao.calcula_imc()"
   ]
  },
  {
   "cell_type": "markdown",
   "id": "377c4fa1",
   "metadata": {},
   "source": [
    "# Métodos Mágicos"
   ]
  },
  {
   "cell_type": "code",
   "execution_count": 5,
   "id": "5c7a704d",
   "metadata": {
    "ExecuteTime": {
     "end_time": "2021-07-12T22:27:11.072517Z",
     "start_time": "2021-07-12T22:27:11.051904Z"
    }
   },
   "outputs": [
    {
     "data": {
      "text/plain": [
       "True"
      ]
     },
     "execution_count": 5,
     "metadata": {},
     "output_type": "execute_result"
    }
   ],
   "source": [
    "'h' in 'Tenho um texto escrito aqui'"
   ]
  },
  {
   "cell_type": "code",
   "execution_count": 17,
   "id": "f04a7fff",
   "metadata": {
    "ExecuteTime": {
     "end_time": "2021-07-12T22:39:58.167225Z",
     "start_time": "2021-07-12T22:39:58.148276Z"
    }
   },
   "outputs": [],
   "source": [
    "# Quero criar uma classe que mostra o horário com os argumentos h, m e s \n",
    "# h:m:s\n",
    "\n",
    "class Horario:\n",
    "    \n",
    "    def __init__(self, **dados):\n",
    "        if 'h' in dados:\n",
    "            self.h = dados['h']\n",
    "        else:\n",
    "            self.h = 0\n",
    "        if 'm' in dados:\n",
    "            self.m = dados['m']\n",
    "        else:\n",
    "            self.m = 0\n",
    "        if 's' in dados:\n",
    "            self.s = dados['s']\n",
    "        else:\n",
    "            self.s = 0\n",
    "            \n",
    "    def __repr__(self): # método mágico\n",
    "        representacao = f'{self.h:02d}:{self.m:02d}:{self.s:02d}' # https://pyformat.info/   \n",
    "        return representacao          \n",
    "    \n"
   ]
  },
  {
   "cell_type": "code",
   "execution_count": 18,
   "id": "02603db7",
   "metadata": {
    "ExecuteTime": {
     "end_time": "2021-07-12T22:39:58.558108Z",
     "start_time": "2021-07-12T22:39:58.540162Z"
    }
   },
   "outputs": [
    {
     "data": {
      "text/plain": [
       "09:03:54"
      ]
     },
     "execution_count": 18,
     "metadata": {},
     "output_type": "execute_result"
    }
   ],
   "source": [
    "hora_atual = Horario(h=9, m=3, s=54)\n",
    "hora_atual"
   ]
  },
  {
   "cell_type": "code",
   "execution_count": 19,
   "id": "531b3e09",
   "metadata": {
    "ExecuteTime": {
     "end_time": "2021-07-12T22:45:23.698343Z",
     "start_time": "2021-07-12T22:45:23.684383Z"
    }
   },
   "outputs": [
    {
     "name": "stdout",
     "output_type": "stream",
     "text": [
      "09:03:54\n"
     ]
    }
   ],
   "source": [
    "print(hora_atual) # chama o método __repr__\n",
    "\n",
    "# não preciso chamar o método para aparecer\n",
    "# hora.__repr__()"
   ]
  },
  {
   "cell_type": "code",
   "execution_count": 57,
   "id": "17ada060",
   "metadata": {
    "ExecuteTime": {
     "end_time": "2021-07-12T23:37:04.986649Z",
     "start_time": "2021-07-12T23:37:04.969697Z"
    }
   },
   "outputs": [
    {
     "data": {
      "text/plain": [
       "'09:03:54'"
      ]
     },
     "execution_count": 57,
     "metadata": {},
     "output_type": "execute_result"
    }
   ],
   "source": [
    "hora_atual.__repr__()"
   ]
  },
  {
   "cell_type": "markdown",
   "id": "781d9bb0",
   "metadata": {
    "ExecuteTime": {
     "end_time": "2021-07-12T23:07:14.983859Z",
     "start_time": "2021-07-12T23:07:14.974869Z"
    }
   },
   "source": [
    "Objetos são instâncias concretas da classe  \n",
    "Métodos são as funções do objeto (funções dentro da classe)  \n",
    "Atributos são as variáveis dos objetos"
   ]
  },
  {
   "cell_type": "markdown",
   "id": "ca846041",
   "metadata": {},
   "source": [
    "## Operadores aritméticos"
   ]
  },
  {
   "cell_type": "markdown",
   "id": "1231cac2",
   "metadata": {},
   "source": [
    "Como somar dois horários?  \n",
    "13:26:48 + 02:35:25\n",
    "\n",
    "segundo: 48+25 = 73 -> [73-60] e adicionar 1 minuto  \n",
    "minuto: 35+26= 61 + 1 da operação anterior -> [62 - 60] e adiciona 1 hora  \n",
    "hora: 13+2 = 15 + 1 da operação anterior \n",
    "\n",
    "16:02:13"
   ]
  },
  {
   "cell_type": "code",
   "execution_count": 21,
   "id": "73860953",
   "metadata": {
    "ExecuteTime": {
     "end_time": "2021-07-12T23:08:31.183548Z",
     "start_time": "2021-07-12T23:08:31.170578Z"
    }
   },
   "outputs": [],
   "source": [
    "class Horario:\n",
    "\n",
    "    def __init__(self, **dados):\n",
    "        if 'h' in dados:\n",
    "            self.h = dados['h']\n",
    "        else:\n",
    "            self.h = 0\n",
    "        if 'm' in dados:\n",
    "            self.m = dados['m']\n",
    "        else:\n",
    "            self.m = 0\n",
    "        if 's' in dados:\n",
    "            self.s = dados['s']\n",
    "        else:\n",
    "            self.s = 0\n",
    "\n",
    "    def __repr__(self):  # método mágico\n",
    "        # https://pyformat.info/\n",
    "        representacao = f'{self.h:02d}:{self.m:02d}:{self.s:02d}'\n",
    "        return representacao\n",
    "\n",
    "    def __add__(self, other):\n",
    "        h = self.h + other.h\n",
    "        m = self.m + other.m\n",
    "        s = self.s + other.s\n",
    "\n",
    "        if s >= 60:\n",
    "            s = s - 60\n",
    "            m = m + 1\n",
    "\n",
    "        if m >= 60:\n",
    "            m = m - 60\n",
    "            h = h + 1\n",
    "\n",
    "        resultado = Horario(h=h, m=m, s=s)\n",
    "        return resultado"
   ]
  },
  {
   "cell_type": "code",
   "execution_count": 23,
   "id": "4774211c",
   "metadata": {
    "ExecuteTime": {
     "end_time": "2021-07-12T23:09:42.555926Z",
     "start_time": "2021-07-12T23:09:42.540966Z"
    }
   },
   "outputs": [
    {
     "name": "stdout",
     "output_type": "stream",
     "text": [
      "13:26:48\n"
     ]
    }
   ],
   "source": [
    "# 13:26:48 + 02:35:25\n",
    "\n",
    "horario1 = Horario(h=13, m=26, s=48)\n",
    "print(horario1)"
   ]
  },
  {
   "cell_type": "code",
   "execution_count": 24,
   "id": "4b21bfbc",
   "metadata": {
    "ExecuteTime": {
     "end_time": "2021-07-12T23:10:35.630422Z",
     "start_time": "2021-07-12T23:10:35.616462Z"
    }
   },
   "outputs": [
    {
     "name": "stdout",
     "output_type": "stream",
     "text": [
      "02:35:25\n"
     ]
    }
   ],
   "source": [
    "horario2 = Horario(h=2, m=35, s=25)\n",
    "print(horario2)"
   ]
  },
  {
   "cell_type": "code",
   "execution_count": 25,
   "id": "ddb2c455",
   "metadata": {
    "ExecuteTime": {
     "end_time": "2021-07-12T23:11:10.918168Z",
     "start_time": "2021-07-12T23:11:10.910191Z"
    }
   },
   "outputs": [
    {
     "data": {
      "text/plain": [
       "__main__.Horario"
      ]
     },
     "execution_count": 25,
     "metadata": {},
     "output_type": "execute_result"
    }
   ],
   "source": [
    "type(horario1)"
   ]
  },
  {
   "cell_type": "code",
   "execution_count": 27,
   "id": "b493e481",
   "metadata": {
    "ExecuteTime": {
     "end_time": "2021-07-12T23:12:37.529972Z",
     "start_time": "2021-07-12T23:12:37.522992Z"
    }
   },
   "outputs": [
    {
     "data": {
      "text/plain": [
       "16:02:13"
      ]
     },
     "execution_count": 27,
     "metadata": {},
     "output_type": "execute_result"
    }
   ],
   "source": [
    "horario1.__add__(horario2)"
   ]
  },
  {
   "cell_type": "code",
   "execution_count": 26,
   "id": "b31de9c0",
   "metadata": {
    "ExecuteTime": {
     "end_time": "2021-07-12T23:11:33.941736Z",
     "start_time": "2021-07-12T23:11:33.927775Z"
    }
   },
   "outputs": [
    {
     "data": {
      "text/plain": [
       "16:02:13"
      ]
     },
     "execution_count": 26,
     "metadata": {},
     "output_type": "execute_result"
    }
   ],
   "source": [
    "# __add__ é um método mágico\n",
    "horario1 + horario2"
   ]
  },
  {
   "cell_type": "markdown",
   "id": "3ee890a5",
   "metadata": {
    "ExecuteTime": {
     "end_time": "2021-07-12T23:14:06.906696Z",
     "start_time": "2021-07-12T23:14:06.880726Z"
    }
   },
   "source": [
    "Temos os seguintes métodos mágicos aritméticos:\n",
    "\n",
    "`__sub__` subtração: -  \n",
    "\n",
    "`__mul__` multiplicação: *     \n",
    "\n",
    "`__truediv__` divisão: /  \n",
    "\n",
    "`__floordiv__` divisão inteira: //  \n",
    "\n",
    "`__mod__` resto de divisão: %  \n",
    "\n",
    "`__pow__` potência: **"
   ]
  },
  {
   "cell_type": "markdown",
   "id": "adbaed64",
   "metadata": {},
   "source": [
    "## Operadores lógicos"
   ]
  },
  {
   "cell_type": "markdown",
   "id": "5e18a976",
   "metadata": {},
   "source": [
    "Comparar horários  \n",
    "'13:26:48' > '12:28:58'\n",
    "\n",
    "h com h  \n",
    "m com m  \n",
    "s com s  "
   ]
  },
  {
   "cell_type": "code",
   "execution_count": 51,
   "id": "91a43fe7",
   "metadata": {
    "ExecuteTime": {
     "end_time": "2021-07-12T23:35:57.970856Z",
     "start_time": "2021-07-12T23:35:57.948919Z"
    }
   },
   "outputs": [],
   "source": [
    "class Horario:\n",
    "\n",
    "    def __init__(self, **dados):\n",
    "        if 'h' in dados:\n",
    "            self.h = dados['h']\n",
    "        else:\n",
    "            self.h = 0\n",
    "        if 'm' in dados:\n",
    "            self.m = dados['m']\n",
    "        else:\n",
    "            self.m = 0\n",
    "        if 's' in dados:\n",
    "            self.s = dados['s']\n",
    "        else:\n",
    "            self.s = 0\n",
    "\n",
    "    def __repr__(self):  # método mágico\n",
    "        # https://pyformat.info/\n",
    "        representacao = f'{self.h:02d}:{self.m:02d}:{self.s:02d}'\n",
    "        return representacao\n",
    "\n",
    "    def __add__(self, other):\n",
    "        h = self.h + other.h\n",
    "        m = self.m + other.m\n",
    "        s = self.s + other.s\n",
    "\n",
    "        if s >= 60:\n",
    "            s = s - 60\n",
    "            m = m + 1\n",
    "\n",
    "        if m >= 60:\n",
    "            m = m - 60\n",
    "            h = h + 1\n",
    "\n",
    "        resultado = Horario(h=h, m=m, s=s)\n",
    "        return resultado\n",
    "    \n",
    "    def __gt__(self, other): # método mágico\n",
    "        if self.h > other.h:\n",
    "            return True\n",
    "        elif self.h == other.h and self.m > other.m:\n",
    "            return True\n",
    "        elif self.h == other.h and self.m == other.m and self.s > other.s:\n",
    "            return True\n",
    "        else:\n",
    "            return False\n",
    "            \n",
    "            \n",
    "            "
   ]
  },
  {
   "cell_type": "code",
   "execution_count": 52,
   "id": "55f750ff",
   "metadata": {
    "ExecuteTime": {
     "end_time": "2021-07-12T23:35:58.483722Z",
     "start_time": "2021-07-12T23:35:58.476705Z"
    }
   },
   "outputs": [
    {
     "name": "stdout",
     "output_type": "stream",
     "text": [
      "13:26:48\n",
      "12:28:58\n"
     ]
    }
   ],
   "source": [
    "horario1 = Horario(h=13, m=26, s=48)\n",
    "print(horario1)\n",
    "\n",
    "horario2 = Horario(h=12, m=28, s=58)\n",
    "print(horario2)"
   ]
  },
  {
   "cell_type": "code",
   "execution_count": 53,
   "id": "5b929bc3",
   "metadata": {
    "ExecuteTime": {
     "end_time": "2021-07-12T23:35:59.058226Z",
     "start_time": "2021-07-12T23:35:59.049251Z"
    }
   },
   "outputs": [
    {
     "data": {
      "text/plain": [
       "True"
      ]
     },
     "execution_count": 53,
     "metadata": {},
     "output_type": "execute_result"
    }
   ],
   "source": [
    "# horario1 > horario2\n",
    "horario1.__gt__(horario2)"
   ]
  },
  {
   "cell_type": "code",
   "execution_count": 54,
   "id": "02668a77",
   "metadata": {
    "ExecuteTime": {
     "end_time": "2021-07-12T23:35:59.910516Z",
     "start_time": "2021-07-12T23:35:59.892566Z"
    }
   },
   "outputs": [
    {
     "data": {
      "text/plain": [
       "True"
      ]
     },
     "execution_count": 54,
     "metadata": {},
     "output_type": "execute_result"
    }
   ],
   "source": [
    "horario1 > horario2"
   ]
  },
  {
   "cell_type": "code",
   "execution_count": 55,
   "id": "b6a0fa84",
   "metadata": {
    "ExecuteTime": {
     "end_time": "2021-07-12T23:36:02.223042Z",
     "start_time": "2021-07-12T23:36:02.207572Z"
    }
   },
   "outputs": [
    {
     "data": {
      "text/plain": [
       "False"
      ]
     },
     "execution_count": 55,
     "metadata": {},
     "output_type": "execute_result"
    }
   ],
   "source": [
    "horario2 > horario1"
   ]
  },
  {
   "cell_type": "markdown",
   "id": "7782d75f",
   "metadata": {
    "ExecuteTime": {
     "end_time": "2021-07-12T23:31:32.654936Z",
     "start_time": "2021-07-12T23:31:32.635986Z"
    }
   },
   "source": [
    "Os métodos lógicos são:\n",
    "\n",
    "`__gt__` maior que (greater than): >  \n",
    "\n",
    "`__ge__` maior ou igual (greater or equal): >=  \n",
    "\n",
    "`__lt__` menor que (less than): <    \n",
    "\n",
    "`__le__` menor ou igual (less or equal): <=  \n",
    "\n",
    "`__eq__` igual (equal): ==  \n",
    "\n",
    "`__ne__` diferente (not equal): !="
   ]
  },
  {
   "cell_type": "markdown",
   "id": "8cf85043",
   "metadata": {},
   "source": [
    "# Métodos e atributos estáticos"
   ]
  },
  {
   "cell_type": "markdown",
   "id": "8fa4873f",
   "metadata": {},
   "source": [
    "## Atributos estáticos"
   ]
  },
  {
   "cell_type": "code",
   "execution_count": 58,
   "id": "25c1b0f1",
   "metadata": {
    "ExecuteTime": {
     "end_time": "2021-07-12T23:47:02.958981Z",
     "start_time": "2021-07-12T23:47:02.951004Z"
    }
   },
   "outputs": [],
   "source": [
    "class Pessoa:\n",
    "    # criando um atributo estático\n",
    "    populacao = 0\n",
    "    \n",
    "    def __init__(self, nome, cpf):\n",
    "        self.nome = nome\n",
    "        self.cpf = cpf\n",
    "        Pessoa.populacao = Pessoa.populacao + 1      \n",
    "    "
   ]
  },
  {
   "cell_type": "code",
   "execution_count": 59,
   "id": "053499c8",
   "metadata": {
    "ExecuteTime": {
     "end_time": "2021-07-12T23:47:48.338484Z",
     "start_time": "2021-07-12T23:47:48.325520Z"
    }
   },
   "outputs": [
    {
     "name": "stdout",
     "output_type": "stream",
     "text": [
      "Populacao atual: 0\n"
     ]
    }
   ],
   "source": [
    "print('Populacao atual:', Pessoa.populacao)"
   ]
  },
  {
   "cell_type": "code",
   "execution_count": 64,
   "id": "c7481c3e",
   "metadata": {
    "ExecuteTime": {
     "end_time": "2021-07-12T23:53:27.883124Z",
     "start_time": "2021-07-12T23:53:27.877139Z"
    }
   },
   "outputs": [],
   "source": [
    "p1 = Pessoa('Jose', 12343212347)"
   ]
  },
  {
   "cell_type": "code",
   "execution_count": 65,
   "id": "fe179cf1",
   "metadata": {
    "ExecuteTime": {
     "end_time": "2021-07-12T23:53:28.657155Z",
     "start_time": "2021-07-12T23:53:28.644187Z"
    }
   },
   "outputs": [
    {
     "name": "stdout",
     "output_type": "stream",
     "text": [
      "Populacao atual: 4\n"
     ]
    }
   ],
   "source": [
    "print('Populacao atual:', Pessoa.populacao)"
   ]
  },
  {
   "cell_type": "code",
   "execution_count": 62,
   "id": "08705f95",
   "metadata": {
    "ExecuteTime": {
     "end_time": "2021-07-12T23:48:07.258718Z",
     "start_time": "2021-07-12T23:48:07.249757Z"
    }
   },
   "outputs": [],
   "source": [
    "p2 = Pessoa('Maria', 12344442347)\n",
    "p3 = Pessoa('Joao', 6373847474)"
   ]
  },
  {
   "cell_type": "code",
   "execution_count": 63,
   "id": "b8655b27",
   "metadata": {
    "ExecuteTime": {
     "end_time": "2021-07-12T23:48:13.937488Z",
     "start_time": "2021-07-12T23:48:13.924992Z"
    }
   },
   "outputs": [
    {
     "name": "stdout",
     "output_type": "stream",
     "text": [
      "Populacao atual: 3\n"
     ]
    }
   ],
   "source": [
    "print('Populacao atual:', Pessoa.populacao)"
   ]
  },
  {
   "cell_type": "markdown",
   "id": "3c920642",
   "metadata": {},
   "source": [
    "## Métodos estáticos"
   ]
  },
  {
   "cell_type": "code",
   "execution_count": 69,
   "id": "a0ebec3f",
   "metadata": {
    "ExecuteTime": {
     "end_time": "2021-07-13T00:03:18.386306Z",
     "start_time": "2021-07-13T00:03:18.371337Z"
    }
   },
   "outputs": [],
   "source": [
    "class Pessoa:\n",
    "    # criando um atributo estático\n",
    "    populacao = 0\n",
    "    \n",
    "    def __init__(self, nome, cpf):\n",
    "        self.nome = nome\n",
    "        self.cpf = cpf\n",
    "        Pessoa.populacao = Pessoa.populacao + 1      \n",
    "    \n",
    "    @staticmethod\n",
    "    def popTotal(): #método estático\n",
    "        print('População total:', Pessoa.populacao)"
   ]
  },
  {
   "cell_type": "code",
   "execution_count": 70,
   "id": "070122c3",
   "metadata": {
    "ExecuteTime": {
     "end_time": "2021-07-13T00:03:19.924134Z",
     "start_time": "2021-07-13T00:03:19.914162Z"
    }
   },
   "outputs": [],
   "source": [
    "p1 = Pessoa('Jose', 12343212347)\n",
    "p2 = Pessoa('Maria', 12344442347)\n",
    "p3 = Pessoa('Joao', 6373847474)"
   ]
  },
  {
   "cell_type": "code",
   "execution_count": 71,
   "id": "7caac009",
   "metadata": {
    "ExecuteTime": {
     "end_time": "2021-07-13T00:03:52.229559Z",
     "start_time": "2021-07-13T00:03:52.224573Z"
    }
   },
   "outputs": [
    {
     "name": "stdout",
     "output_type": "stream",
     "text": [
      "População total: 3\n"
     ]
    }
   ],
   "source": [
    "Pessoa.popTotal()"
   ]
  },
  {
   "cell_type": "code",
   "execution_count": null,
   "id": "0a48c58a",
   "metadata": {},
   "outputs": [],
   "source": []
  }
 ],
 "metadata": {
  "kernelspec": {
   "display_name": "Python 3",
   "language": "python",
   "name": "python3"
  },
  "language_info": {
   "codemirror_mode": {
    "name": "ipython",
    "version": 3
   },
   "file_extension": ".py",
   "mimetype": "text/x-python",
   "name": "python",
   "nbconvert_exporter": "python",
   "pygments_lexer": "ipython3",
   "version": "3.9.5"
  },
  "varInspector": {
   "cols": {
    "lenName": 16,
    "lenType": 16,
    "lenVar": 40
   },
   "kernels_config": {
    "python": {
     "delete_cmd_postfix": "",
     "delete_cmd_prefix": "del ",
     "library": "var_list.py",
     "varRefreshCmd": "print(var_dic_list())"
    },
    "r": {
     "delete_cmd_postfix": ") ",
     "delete_cmd_prefix": "rm(",
     "library": "var_list.r",
     "varRefreshCmd": "cat(var_dic_list()) "
    }
   },
   "types_to_exclude": [
    "module",
    "function",
    "builtin_function_or_method",
    "instance",
    "_Feature"
   ],
   "window_display": false
  }
 },
 "nbformat": 4,
 "nbformat_minor": 5
}
