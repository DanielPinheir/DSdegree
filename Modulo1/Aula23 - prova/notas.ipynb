{
 "cells": [
  {
   "cell_type": "markdown",
   "metadata": {},
   "source": [
    "| Nome                                             | Prova | Nota proj1 | Nota proj2 |\n",
    "|--------------------------------------------------|-------|------------|------------|\n",
    "| Adriano Henrique Deichsel Júnior                 | 100   | 10         | 10         |\n",
    "| Anderson de Araujo Lima                          | 85    | 7          | 9          |\n",
    "| Arthur Cardoso Dias                              | 75    | 10         |            |\n",
    "| Breno Nakad Marcolino                            | 98    | 10         | 10         |\n",
    "| CARLOS BRUNO GOMES CAHU                          | 100   | 10         | 10         |\n",
    "| Claudio de Andrade Silva                         | 100   | 10         | 10         |\n",
    "| Daniela Toledo Santana                           | 100   | 10         | 10         |\n",
    "| Danilo Manente Marchetto                         |       | 7          |            |\n",
    "| Denis Roberto Laurito de Souza Guedes            | 50    | 5          | 10         |\n",
    "| DIEGO FELIPE ALVES BATISTA                       | 100   | 10         | 10         |\n",
    "| Elias Couto e Almeida Junior                     |       | 9,5        |            |\n",
    "| Fabio Eduardo Toledo                             | 80    | 6          | 10         |\n",
    "| FELIPE PRATES DA COSTA                           | 100   | 10         | 9          |\n",
    "| Felipe Seiti Horiuchi                            | 95    | 10         | 10         |\n",
    "| Fernando Raineri Monari                          | 100   | 10         | 10         |\n",
    "| Gabriel Sasso Diniz                              | 89    | 9,5        |            |\n",
    "| Gustavo Henrique Louredo                         | 100   | 10         | 10         |\n",
    "| Ivan Randal Pompeu Moreira da Justa              | 100   | 10         | 10         |\n",
    "| Ivan Silva Alves                                 | 70    | 9          | 10         |\n",
    "| Joao Paulo Barbosa da Silva Zaqueu               | 100   | 10         | 10         |\n",
    "| Johnny Hideki Horita                             | 90    | 10         | 10         |\n",
    "| Leonardo Henrique Schiavon Turri                 | 80    | 9          | 10         |\n",
    "| Leonardo Souza do Ó                              | 75    | 8          | 8,5        |\n",
    "| Leticia das Dores Nascimento Santos              | 100   | 10         | 10         |\n",
    "| Lucas Lima Miranda e Silva                       | 80    | 10         | 8,5        |\n",
    "| Lucas Peruzzo                                    | 95    | 10         | 10         |\n",
    "| Luciano Leocadio Ferreira                        |       |            |            |\n",
    "| Luis Miguel Reis                                 |       |            |            |\n",
    "| Luiz Felipe Modanese Norbim de Oliveira   Santos | 65    | 9,5        |            |\n",
    "| Marcelo de Jesus Ribeiro                         | 100   | 10         | 10         |\n",
    "| Marco Aurelio Frassi Orides                      | 70    |            |            |\n",
    "| Marcos Paulo Moreira da Cruz                     | 80    | 10         | 8,5        |\n",
    "| Mariana Zagatti Sabino                           | 100   | 10         | 10         |\n",
    "| Michel Seung Kun Lee                             | 96    | 10         | 10         |\n",
    "| natã sebastião moreira neto                      | 85    | 10         | 10         |\n",
    "| Patrícia Mendes                                  |       |            |            |\n",
    "| Paulo Odair Pointevin Frazao                     | 65    | 10         | 8,5        |\n",
    "| Paulo Ricardo Inacio da Silva                    | 65    |            |            |\n",
    "| Rafael Marcondes Bissoto                         | 100   | 10         | 10         |\n",
    "| Reinaldo                                         | 90    | 9          | 10         |\n",
    "| Renato Augusto Ricarti da Silva                  | 85    | 9          | 10         |\n",
    "| Ricardo Basso Garcia                             | 100   | 10         | 10         |\n",
    "| RODOLFO RICARDO ROCHA SCHIEMANN                  | 85    | 10         | 8,5        |\n",
    "| Rodrigo Casimiro Rocha dos Santos                |       |            |            |\n",
    "| RONNI CAVALCANTE BARROS                          |       |            |            |\n",
    "| Rubens Henrique Soares Sandoval                  | 100   | 9,5        | 10         |\n",
    "| Silvia Delande                                   | 85    | 10         | 10         |\n",
    "| Thaís Cristina Arakaki Nakazone                  | 100   | 9,5        | 10         |\n",
    "| tiago galvao monteiro                            | 80    | 10         | 10         |\n",
    "| Tomás Fiorini Drews                              | 100   | 7          | 10         |\n",
    "| Victor Dias Margonari                            | 100   | 10         | 10         |"
   ]
  },
  {
   "cell_type": "markdown",
   "metadata": {},
   "source": []
  }
 ],
 "metadata": {
  "kernelspec": {
   "display_name": "Python 3",
   "language": "python",
   "name": "python3"
  },
  "language_info": {
   "codemirror_mode": {
    "name": "ipython",
    "version": 3
   },
   "file_extension": ".py",
   "mimetype": "text/x-python",
   "name": "python",
   "nbconvert_exporter": "python",
   "pygments_lexer": "ipython3",
   "version": "3.7.4"
  },
  "varInspector": {
   "cols": {
    "lenName": 16,
    "lenType": 16,
    "lenVar": 40
   },
   "kernels_config": {
    "python": {
     "delete_cmd_postfix": "",
     "delete_cmd_prefix": "del ",
     "library": "var_list.py",
     "varRefreshCmd": "print(var_dic_list())"
    },
    "r": {
     "delete_cmd_postfix": ") ",
     "delete_cmd_prefix": "rm(",
     "library": "var_list.r",
     "varRefreshCmd": "cat(var_dic_list()) "
    }
   },
   "types_to_exclude": [
    "module",
    "function",
    "builtin_function_or_method",
    "instance",
    "_Feature"
   ],
   "window_display": false
  }
 },
 "nbformat": 4,
 "nbformat_minor": 2
}
