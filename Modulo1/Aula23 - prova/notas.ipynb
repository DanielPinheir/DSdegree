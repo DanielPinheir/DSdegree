{
 "cells": [
  {
   "cell_type": "markdown",
   "source": [
    "| Nome                                             | Prova | Nota proj1 | Nota proj2 |\r\n",
    "|--------------------------------------------------|-------|------------|------------|\r\n",
    "| Adriano Henrique Deichsel Júnior                 | 100   | 10         | 10         |\r\n",
    "| Anderson de Araujo Lima                          | 85    | 7          | 9          |\r\n",
    "| Arthur Cardoso Dias                              | 75    | 10         |            |\r\n",
    "| Breno Nakad Marcolino                            | 98    | 10         | 10         |\r\n",
    "| CARLOS BRUNO GOMES CAHU                          | 100   | 10         | 10         |\r\n",
    "| Claudio de Andrade Silva                         | 100   | 10         | 10         |\r\n",
    "| Daniela Toledo Santana                           | 100   | 10         | 10         |\r\n",
    "| Danilo Manente Marchetto                         |       | 7          |            |\r\n",
    "| Denis Roberto Laurito de Souza Guedes            | 50    | 5          |            |\r\n",
    "| DIEGO FELIPE ALVES BATISTA                       | 100   | 10         | 10         |\r\n",
    "| Elias Couto e Almeida Junior                     |       | 9,5        |            |\r\n",
    "| Fabio Eduardo Toledo                             | 80    | 6          | 10         |\r\n",
    "| FELIPE PRATES DA COSTA                           | 100   | 10         | 9          |\r\n",
    "| Felipe Seiti Horiuchi                            | 95    | 10         | 10         |\r\n",
    "| Fernando Raineri Monari                          | 100   | 10         | 10         |\r\n",
    "| Gabriel Sasso Diniz                              | 89    | 9,5        |            |\r\n",
    "| Gustavo Henrique Louredo                         | 100   | 10         | 10         |\r\n",
    "| Ivan Randal Pompeu Moreira da Justa              | 100   | 10         | 10         |\r\n",
    "| Ivan Silva Alves                                 | 70    | 9          | 10         |\r\n",
    "| Joao Paulo Barbosa da Silva Zaqueu               | 100   | 10         | 10         |\r\n",
    "| Johnny Hideki Horita                             | 90    | 10         | 10         |\r\n",
    "| Leonardo Henrique Schiavon Turri                 | 80    | 9          | 10         |\r\n",
    "| Leonardo Souza do Ó                              | 75    | 8          | 8,5        |\r\n",
    "| Leticia das Dores Nascimento Santos              | 100   | 10         | 10         |\r\n",
    "| Lucas Lima Miranda e Silva                       |       | 10         | 8,5        |\r\n",
    "| Lucas Peruzzo                                    | 95    | 10         | 10         |\r\n",
    "| Luciano Leocadio Ferreira                        |       |            |            |\r\n",
    "| Luis Miguel Reis                                 |       |            |            |\r\n",
    "| Luiz Felipe Modanese Norbim de Oliveira   Santos | 65    | 9,5        |            |\r\n",
    "| Marcelo de Jesus Ribeiro                         | 100   | 10         | 10         |\r\n",
    "| Marco Aurelio Frassi Orides                      | 70    |            |            |\r\n",
    "| Marcos Paulo Moreira da Cruz                     | 80    | 10         | 8,5        |\r\n",
    "| Mariana Zagatti Sabino                           | 100   | 10         | 10         |\r\n",
    "| Michel Seung Kun Lee                             | 96    | 10         | 10         |\r\n",
    "| natã sebastião moreira neto                      | 85    | 10         | 10         |\r\n",
    "| Patrícia Mendes                                  |       |            |            |\r\n",
    "| Paulo Odair Pointevin Frazao                     | 65    | 10         | 8,5        |\r\n",
    "| Paulo Ricardo Inacio da Silva                    | 65    |            |            |\r\n",
    "| Rafael Marcondes Bissoto                         | 100   | 10         | 10         |\r\n",
    "| Reinaldo                                         | 90    | 9          | 10         |\r\n",
    "| Renato Augusto Ricarti da Silva                  | 85    | 9          |            |\r\n",
    "| Ricardo Basso Garcia                             | 100   | 10         | 10         |\r\n",
    "| RODOLFO RICARDO ROCHA SCHIEMANN                  | 85    | 10         | 8,5        |\r\n",
    "| Rodrigo Casimiro Rocha dos Santos                |       |            |            |\r\n",
    "| RONNI CAVALCANTE BARROS                          |       |            |            |\r\n",
    "| Rubens Henrique Soares Sandoval                  | 100   | 9,5        | 10         |\r\n",
    "| Silvia Delande                                   | 85    | 10         | 10         |\r\n",
    "| Thaís Cristina Arakaki Nakazone                  | 100   | 9,5        | 10         |\r\n",
    "| tiago galvao monteiro                            | 80    | 10         | 10         |\r\n",
    "| Tomás Fiorini Drews                              | 100   | 7          | 10         |\r\n",
    "| Victor Dias Margonari                            | 100   | 10         | 10         |"
   ],
   "metadata": {}
  },
  {
   "cell_type": "markdown",
   "source": [],
   "metadata": {}
  }
 ],
 "metadata": {
  "orig_nbformat": 4,
  "language_info": {
   "name": "python"
  }
 },
 "nbformat": 4,
 "nbformat_minor": 2
}