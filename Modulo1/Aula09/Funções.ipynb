{
 "cells": [
  {
   "cell_type": "markdown",
   "id": "5aa11a4e",
   "metadata": {},
   "source": [
    "# Funções"
   ]
  },
  {
   "cell_type": "code",
   "execution_count": 16,
   "id": "0111c11a",
   "metadata": {
    "ExecuteTime": {
     "end_time": "2021-06-25T22:33:00.575202Z",
     "start_time": "2021-06-25T22:33:00.557252Z"
    }
   },
   "outputs": [
    {
     "name": "stdout",
     "output_type": "stream",
     "text": [
      "Na lista existem 6 números pares\n",
      "Na lista existem 6 números pares\n",
      "Na lista existem 6 números pares\n",
      "Na lista existem 6 números pares\n",
      "Na lista existem 4 números pares\n",
      "Na lista existem 4 números pares\n",
      "Na lista existem 4 números pares\n",
      "Na lista existem 4 números pares\n",
      "Na lista existem 10 números pares\n",
      "Na lista existem 10 números pares\n",
      "Na lista existem 10 números pares\n",
      "Na lista existem 10 números pares\n"
     ]
    }
   ],
   "source": [
    "#  Faça um programa que olhe todos os itens de uma lista e diga quantos deles são pares.\n",
    "\n",
    "lista = [1, 4, -8, 12, 3, -5, 2, -14, 6]\n",
    "\n",
    "pares = 0\n",
    "for elemento in lista:  # para cada elemento (percorrendo a lista)\n",
    "    if elemento % 2 == 0:  # testar cada elemento ppara ver se é par\n",
    "        pares += 1  # é a mesma coisa que: pares = pares + 1\n",
    "\n",
    "print(f'Na lista existem {pares} números pares')\n",
    "print('Na lista existem {} números pares'.format(pares))\n",
    "print('Na lista existem', pares, 'números pares')\n",
    "print('Na lista existem ' + str(pares) + ' números pares')\n",
    "\n",
    "lista1 = [1, 3, 6, 5, -8, 9, 4, -6, 5]\n",
    "\n",
    "pares = 0\n",
    "for elemento in lista1:  # para cada elemento (percorrendo a lista)\n",
    "    if elemento % 2 == 0:  # testar cada elemento ppara ver se é par\n",
    "        pares += 1  # é a mesma coisa que: pares = pares + 1\n",
    "\n",
    "print(f'Na lista existem {pares} números pares')\n",
    "print('Na lista existem {} números pares'.format(pares))\n",
    "print('Na lista existem', pares, 'números pares')\n",
    "print('Na lista existem ' + str(pares) + ' números pares')\n",
    "\n",
    "lista2 = [1, 3, 6, 7, 9, -4, 12, 15, -17, 19, 20, -2, 2, 40, 38, 67, 54, 43, 2]\n",
    "\n",
    "pares = 0\n",
    "for elemento in lista2:  # para cada elemento (percorrendo a lista)\n",
    "    if elemento % 2 == 0:  # testar cada elemento ppara ver se é par\n",
    "        pares += 1  # é a mesma coisa que: pares = pares + 1\n",
    "\n",
    "print(f'Na lista existem {pares} números pares')\n",
    "print('Na lista existem {} números pares'.format(pares))\n",
    "print('Na lista existem', pares, 'números pares')\n",
    "print('Na lista existem ' + str(pares) + ' números pares')"
   ]
  },
  {
   "cell_type": "code",
   "execution_count": 15,
   "id": "b73a149d",
   "metadata": {
    "ExecuteTime": {
     "end_time": "2021-06-25T22:32:38.469549Z",
     "start_time": "2021-06-25T22:32:38.456548Z"
    },
    "code_folding": []
   },
   "outputs": [
    {
     "name": "stdout",
     "output_type": "stream",
     "text": [
      "Na lista existem 6 números pares\n",
      "Na lista existem 6 números pares\n",
      "Na lista existem 6 números pares\n",
      "Na lista existem 6 números pares\n",
      "Na lista existem 4 números pares\n",
      "Na lista existem 4 números pares\n",
      "Na lista existem 4 números pares\n",
      "Na lista existem 4 números pares\n",
      "Na lista existem 10 números pares\n",
      "Na lista existem 10 números pares\n",
      "Na lista existem 10 números pares\n",
      "Na lista existem 10 números pares\n"
     ]
    }
   ],
   "source": [
    "#  Faça um programa que olhe todos os itens de uma lista e diga quantos deles são pares.\n",
    "\n",
    "lista = [1, 4, -8, 12, 3, -5, 2, -14, 6]\n",
    "lista1 = [1, 3, 6, 5, -8, 9, 4, -6, 5]\n",
    "lista2 = [1, 3, 6, 7, 9, -4, 12, 15, -17, 19, 20, -2, 2, 40, 38, 67, 54, 43, 2]\n",
    "\n",
    "def achar_pares(lista): #encapsular\n",
    "    pares = 0\n",
    "    for elemento in lista:  # para cada elemento (percorrendo a lista)\n",
    "        if elemento % 2 == 0:  # testar cada elemento ppara ver se é par\n",
    "            pares += 1  # é a mesma coisa que: pares = pares + 1\n",
    "    print(f'Na lista existem {pares} números pares')\n",
    "    print('Na lista existem {} números pares'.format(pares))\n",
    "    print('Na lista existem', pares, 'números pares')\n",
    "    print('Na lista existem ' + str(pares) + ' números pares')\n",
    "    \n",
    "achar_pares(lista)\n",
    "achar_pares(lista1)\n",
    "achar_pares(lista2)"
   ]
  },
  {
   "cell_type": "markdown",
   "id": "f0f3fbdf",
   "metadata": {},
   "source": [
    "## Funções\n"
   ]
  },
  {
   "cell_type": "markdown",
   "id": "6bbbbf28",
   "metadata": {},
   "source": [
    "- Pedacinho do programa e chamamos pelo nome (por convenção usamos lowercase e separamos por _)\n",
    "- Evita repetir várias vezes o mesmo comando e é fácil de corrigir"
   ]
  },
  {
   "cell_type": "markdown",
   "id": "b5f5d9db",
   "metadata": {},
   "source": [
    "### Criando funções"
   ]
  },
  {
   "cell_type": "code",
   "execution_count": 17,
   "id": "8e97544c",
   "metadata": {
    "ExecuteTime": {
     "end_time": "2021-06-25T22:40:41.266848Z",
     "start_time": "2021-06-25T22:40:41.253884Z"
    }
   },
   "outputs": [],
   "source": [
    "def minha_primeira_funcao():\n",
    "    print('Olá mundo')"
   ]
  },
  {
   "cell_type": "code",
   "execution_count": 18,
   "id": "1629cfc0",
   "metadata": {
    "ExecuteTime": {
     "end_time": "2021-06-25T22:41:33.905751Z",
     "start_time": "2021-06-25T22:41:33.887802Z"
    }
   },
   "outputs": [
    {
     "name": "stdout",
     "output_type": "stream",
     "text": [
      "Olá mundo\n"
     ]
    }
   ],
   "source": [
    "# Chamar a função pelo nome para executá-la\n",
    "minha_primeira_funcao()"
   ]
  },
  {
   "cell_type": "markdown",
   "id": "1a1d3792",
   "metadata": {},
   "source": [
    "### Parâmetros de uma função"
   ]
  },
  {
   "cell_type": "code",
   "execution_count": 19,
   "id": "ba008232",
   "metadata": {
    "ExecuteTime": {
     "end_time": "2021-06-25T22:46:30.452652Z",
     "start_time": "2021-06-25T22:46:30.445681Z"
    }
   },
   "outputs": [],
   "source": [
    "def soma(a, b): # a, b são parâmetros ou argumentos da função -> dados passados para a função\n",
    "    resultado = a + b\n",
    "    print(resultado)"
   ]
  },
  {
   "cell_type": "code",
   "execution_count": 21,
   "id": "8414edab",
   "metadata": {
    "ExecuteTime": {
     "end_time": "2021-06-25T22:49:29.707046Z",
     "start_time": "2021-06-25T22:49:29.688106Z"
    }
   },
   "outputs": [
    {
     "name": "stdout",
     "output_type": "stream",
     "text": [
      "5\n"
     ]
    }
   ],
   "source": [
    "# para executar a função, preciso chamá-la\n",
    "soma(3, 2) # a = 3 e b = 2"
   ]
  },
  {
   "cell_type": "code",
   "execution_count": 22,
   "id": "4db92b23",
   "metadata": {
    "ExecuteTime": {
     "end_time": "2021-06-25T22:49:51.773090Z",
     "start_time": "2021-06-25T22:49:51.769097Z"
    }
   },
   "outputs": [
    {
     "name": "stdout",
     "output_type": "stream",
     "text": [
      "5\n"
     ]
    }
   ],
   "source": [
    "soma(a=3, b=2) # alternativa"
   ]
  },
  {
   "cell_type": "code",
   "execution_count": 23,
   "id": "2fc6a36b",
   "metadata": {
    "ExecuteTime": {
     "end_time": "2021-06-25T22:50:14.095031Z",
     "start_time": "2021-06-25T22:50:14.076084Z"
    }
   },
   "outputs": [
    {
     "name": "stdout",
     "output_type": "stream",
     "text": [
      "5\n"
     ]
    }
   ],
   "source": [
    "a = 3\n",
    "soma(a, 2) #alternativa"
   ]
  },
  {
   "cell_type": "code",
   "execution_count": 24,
   "id": "c6267d33",
   "metadata": {
    "ExecuteTime": {
     "end_time": "2021-06-25T22:50:50.104873Z",
     "start_time": "2021-06-25T22:50:50.087923Z"
    }
   },
   "outputs": [
    {
     "name": "stdout",
     "output_type": "stream",
     "text": [
      "-52\n"
     ]
    }
   ],
   "source": [
    "soma(-109, 57)"
   ]
  },
  {
   "cell_type": "code",
   "execution_count": 25,
   "id": "6865b4f0",
   "metadata": {
    "ExecuteTime": {
     "end_time": "2021-06-25T22:51:11.204732Z",
     "start_time": "2021-06-25T22:51:11.172769Z"
    }
   },
   "outputs": [
    {
     "ename": "TypeError",
     "evalue": "unsupported operand type(s) for +: 'int' and 'str'",
     "output_type": "error",
     "traceback": [
      "\u001b[1;31m---------------------------------------------------------------------------\u001b[0m",
      "\u001b[1;31mTypeError\u001b[0m                                 Traceback (most recent call last)",
      "\u001b[1;32m<ipython-input-25-ef0f96c2fd21>\u001b[0m in \u001b[0;36m<module>\u001b[1;34m\u001b[0m\n\u001b[1;32m----> 1\u001b[1;33m \u001b[0msoma\u001b[0m\u001b[1;33m(\u001b[0m\u001b[1;36m0\u001b[0m\u001b[1;33m,\u001b[0m \u001b[1;34m'a'\u001b[0m\u001b[1;33m)\u001b[0m\u001b[1;33m\u001b[0m\u001b[1;33m\u001b[0m\u001b[0m\n\u001b[0m",
      "\u001b[1;32m<ipython-input-19-e39f151e2751>\u001b[0m in \u001b[0;36msoma\u001b[1;34m(a, b)\u001b[0m\n\u001b[0;32m      1\u001b[0m \u001b[1;32mdef\u001b[0m \u001b[0msoma\u001b[0m\u001b[1;33m(\u001b[0m\u001b[0ma\u001b[0m\u001b[1;33m,\u001b[0m \u001b[0mb\u001b[0m\u001b[1;33m)\u001b[0m\u001b[1;33m:\u001b[0m \u001b[1;31m# a, b são parâmetros ou argumentos da função -> dados passados para a função\u001b[0m\u001b[1;33m\u001b[0m\u001b[1;33m\u001b[0m\u001b[0m\n\u001b[1;32m----> 2\u001b[1;33m     \u001b[0mresultado\u001b[0m \u001b[1;33m=\u001b[0m \u001b[0ma\u001b[0m \u001b[1;33m+\u001b[0m \u001b[0mb\u001b[0m\u001b[1;33m\u001b[0m\u001b[1;33m\u001b[0m\u001b[0m\n\u001b[0m\u001b[0;32m      3\u001b[0m     \u001b[0mprint\u001b[0m\u001b[1;33m(\u001b[0m\u001b[0mresultado\u001b[0m\u001b[1;33m)\u001b[0m\u001b[1;33m\u001b[0m\u001b[1;33m\u001b[0m\u001b[0m\n",
      "\u001b[1;31mTypeError\u001b[0m: unsupported operand type(s) for +: 'int' and 'str'"
     ]
    }
   ],
   "source": [
    "soma(0, 'a') # dá erro porque a função espera dois números ou dois strings"
   ]
  },
  {
   "cell_type": "code",
   "execution_count": 27,
   "id": "ba753452",
   "metadata": {
    "ExecuteTime": {
     "end_time": "2021-06-25T22:53:11.857620Z",
     "start_time": "2021-06-25T22:53:11.840658Z"
    }
   },
   "outputs": [
    {
     "name": "stdout",
     "output_type": "stream",
     "text": [
      "ab\n"
     ]
    }
   ],
   "source": [
    "soma('a', 'b')"
   ]
  },
  {
   "cell_type": "markdown",
   "id": "45537390",
   "metadata": {},
   "source": [
    "### retorno de uma função"
   ]
  },
  {
   "cell_type": "markdown",
   "id": "18f9c7ab",
   "metadata": {
    "ExecuteTime": {
     "end_time": "2021-06-25T22:56:43.583777Z",
     "start_time": "2021-06-25T22:56:43.564827Z"
    }
   },
   "source": [
    "- \" Resposta da função \", saída, resultado\n",
    "- print -> valor na tela\n",
    "- **return**\n",
    "    - retorno da função (saída ou resultado)  (para usaramos depois)\n",
    "    - encerra a função (tudo que estiver abaixo não é executado quando for chamada)\n",
    "- A função usa variáveis que nascem e morrem dentro dela (são chamadas de privadas), não conseguimos acessar nenhuma variável dentro da função A NÃO SER o resultado do RETURN"
   ]
  },
  {
   "cell_type": "code",
   "execution_count": 38,
   "id": "4fe26093",
   "metadata": {
    "ExecuteTime": {
     "end_time": "2021-06-25T23:04:21.820059Z",
     "start_time": "2021-06-25T23:04:21.803112Z"
    },
    "code_folding": []
   },
   "outputs": [
    {
     "name": "stdout",
     "output_type": "stream",
     "text": [
      "5\n",
      "2.5\n"
     ]
    }
   ],
   "source": [
    "def soma(a, b):\n",
    "    resultado = a + b\n",
    "    print(resultado) # apenas mostrando na tela o valor de uma variável\n",
    "    return resultado  # retornando um resultado/saída da função\n",
    "\n",
    "\n",
    "res = soma(2, 3) # Associei o valor da var resultado na variável res\n",
    "\n",
    "media = res / 2\n",
    "print(media)"
   ]
  },
  {
   "cell_type": "code",
   "execution_count": 48,
   "id": "8c5e3c1b",
   "metadata": {
    "ExecuteTime": {
     "end_time": "2021-06-25T23:12:46.592584Z",
     "start_time": "2021-06-25T23:12:46.565655Z"
    }
   },
   "outputs": [
    {
     "ename": "NameError",
     "evalue": "name 'resultado' is not defined",
     "output_type": "error",
     "traceback": [
      "\u001b[1;31m---------------------------------------------------------------------------\u001b[0m",
      "\u001b[1;31mNameError\u001b[0m                                 Traceback (most recent call last)",
      "\u001b[1;32m<ipython-input-48-8fa8e1d7ae75>\u001b[0m in \u001b[0;36m<module>\u001b[1;34m\u001b[0m\n\u001b[0;32m     15\u001b[0m \u001b[0msoma\u001b[0m\u001b[1;33m(\u001b[0m\u001b[1;36m3\u001b[0m\u001b[1;33m,\u001b[0m \u001b[1;36m5\u001b[0m\u001b[1;33m)\u001b[0m\u001b[1;33m/\u001b[0m\u001b[1;36m2\u001b[0m \u001b[1;31m# sem a linha 5, ou seja, sem o return, não funciona pq ele não indica qual o valor de saída\u001b[0m\u001b[1;33m\u001b[0m\u001b[1;33m\u001b[0m\u001b[0m\n\u001b[0;32m     16\u001b[0m \u001b[1;33m\u001b[0m\u001b[0m\n\u001b[1;32m---> 17\u001b[1;33m \u001b[0mprint\u001b[0m\u001b[1;33m(\u001b[0m\u001b[0mresultado\u001b[0m\u001b[1;33m)\u001b[0m\u001b[1;33m\u001b[0m\u001b[1;33m\u001b[0m\u001b[0m\n\u001b[0m",
      "\u001b[1;31mNameError\u001b[0m: name 'resultado' is not defined"
     ]
    }
   ],
   "source": [
    "# criando funções\n",
    "def soma(a, b):\n",
    "    resultado = a + b\n",
    "#     print(resultado)  # apenas mostrando na tela o valor de uma variável\n",
    "    return resultado  # retornando um resultado/saída da função\n",
    "\n",
    "\n",
    "def subtracao(a, b):\n",
    "    resultado = a - b\n",
    "#     print(resultado)  # apenas mostrando na tela o valor de uma variável\n",
    "    return resultado  # retornando um resultado/saída da função\n",
    "\n",
    "# agora temos que chamar as funções\n",
    "\n",
    "soma(3, 5)/2 # sem a linha 5, ou seja, sem o return, não funciona pq ele não indica qual o valor de saída\n",
    "\n",
    "print(resultado) # var resultado está DENTRO DA FUNÇÃO -> ela só é usada lá dentro (privada)"
   ]
  },
  {
   "cell_type": "code",
   "execution_count": 49,
   "id": "8fb7944b",
   "metadata": {
    "ExecuteTime": {
     "end_time": "2021-06-25T23:18:46.415266Z",
     "start_time": "2021-06-25T23:18:46.399310Z"
    }
   },
   "outputs": [
    {
     "name": "stdout",
     "output_type": "stream",
     "text": [
      "8\n",
      "5\n",
      "40\n"
     ]
    }
   ],
   "source": [
    "resultado_soma = soma(3, 5)\n",
    "print(resultado_soma)\n",
    "\n",
    "resultado_subtracao = subtracao(10, 5)\n",
    "print(resultado_subtracao)\n",
    "\n",
    "multiplica = resultado_soma * resultado_subtracao\n",
    "print(multiplica)"
   ]
  },
  {
   "cell_type": "markdown",
   "id": "86ea48ae",
   "metadata": {},
   "source": [
    "Dúvida 1"
   ]
  },
  {
   "cell_type": "code",
   "execution_count": 50,
   "id": "1061b46f",
   "metadata": {
    "ExecuteTime": {
     "end_time": "2021-06-25T23:24:34.006489Z",
     "start_time": "2021-06-25T23:24:33.986556Z"
    }
   },
   "outputs": [
    {
     "data": {
      "text/plain": [
       "3"
      ]
     },
     "execution_count": 50,
     "metadata": {},
     "output_type": "execute_result"
    }
   ],
   "source": [
    "soma(soma(1, 1), 1) # função soma recebe o primeiro valor \"a\" como sendo o resultado da soma(1,1) e o valor 1)"
   ]
  },
  {
   "cell_type": "markdown",
   "id": "64d50c7f",
   "metadata": {},
   "source": [
    "Duvida 2"
   ]
  },
  {
   "cell_type": "code",
   "execution_count": 65,
   "id": "fc6eae76",
   "metadata": {
    "ExecuteTime": {
     "end_time": "2021-06-25T23:32:00.927320Z",
     "start_time": "2021-06-25T23:32:00.922332Z"
    }
   },
   "outputs": [],
   "source": [
    "def soma(a, b):\n",
    "    #     a e b são parâmetros -> eles podem ser definidos fora da função\n",
    "    # toda variável criada dentro da função, não é acessada externamente\n",
    "    solucao = a + b\n",
    "    var_a = a # vale 1\n",
    "    var_b = b\n",
    "    var_c = 5\n",
    "    var_d = 10\n",
    "    return solucao"
   ]
  },
  {
   "cell_type": "code",
   "execution_count": 66,
   "id": "b87252cd",
   "metadata": {
    "ExecuteTime": {
     "end_time": "2021-06-25T23:32:02.513343Z",
     "start_time": "2021-06-25T23:32:02.501334Z"
    }
   },
   "outputs": [
    {
     "data": {
      "text/plain": [
       "2"
      ]
     },
     "execution_count": 66,
     "metadata": {},
     "output_type": "execute_result"
    }
   ],
   "source": [
    "soma(1,1)"
   ]
  },
  {
   "cell_type": "code",
   "execution_count": 53,
   "id": "0086636c",
   "metadata": {
    "ExecuteTime": {
     "end_time": "2021-06-25T23:29:24.261656Z",
     "start_time": "2021-06-25T23:29:24.241705Z"
    }
   },
   "outputs": [
    {
     "ename": "NameError",
     "evalue": "name 'solucao' is not defined",
     "output_type": "error",
     "traceback": [
      "\u001b[1;31m---------------------------------------------------------------------------\u001b[0m",
      "\u001b[1;31mNameError\u001b[0m                                 Traceback (most recent call last)",
      "\u001b[1;32m<ipython-input-53-1be1f42b0cf4>\u001b[0m in \u001b[0;36m<module>\u001b[1;34m\u001b[0m\n\u001b[1;32m----> 1\u001b[1;33m \u001b[0msolucao\u001b[0m\u001b[1;33m\u001b[0m\u001b[1;33m\u001b[0m\u001b[0m\n\u001b[0m",
      "\u001b[1;31mNameError\u001b[0m: name 'solucao' is not defined"
     ]
    }
   ],
   "source": [
    "solucao"
   ]
  },
  {
   "cell_type": "code",
   "execution_count": 54,
   "id": "b4050de4",
   "metadata": {
    "ExecuteTime": {
     "end_time": "2021-06-25T23:29:33.806174Z",
     "start_time": "2021-06-25T23:29:33.786229Z"
    }
   },
   "outputs": [
    {
     "ename": "NameError",
     "evalue": "name 'var_d' is not defined",
     "output_type": "error",
     "traceback": [
      "\u001b[1;31m---------------------------------------------------------------------------\u001b[0m",
      "\u001b[1;31mNameError\u001b[0m                                 Traceback (most recent call last)",
      "\u001b[1;32m<ipython-input-54-404ecd4c20bf>\u001b[0m in \u001b[0;36m<module>\u001b[1;34m\u001b[0m\n\u001b[1;32m----> 1\u001b[1;33m \u001b[0mvar_d\u001b[0m\u001b[1;33m\u001b[0m\u001b[1;33m\u001b[0m\u001b[0m\n\u001b[0m",
      "\u001b[1;31mNameError\u001b[0m: name 'var_d' is not defined"
     ]
    }
   ],
   "source": [
    "var_d"
   ]
  },
  {
   "cell_type": "code",
   "execution_count": 55,
   "id": "eac33189",
   "metadata": {
    "ExecuteTime": {
     "end_time": "2021-06-25T23:29:39.687992Z",
     "start_time": "2021-06-25T23:29:39.664003Z"
    }
   },
   "outputs": [
    {
     "ename": "NameError",
     "evalue": "name 'var_c' is not defined",
     "output_type": "error",
     "traceback": [
      "\u001b[1;31m---------------------------------------------------------------------------\u001b[0m",
      "\u001b[1;31mNameError\u001b[0m                                 Traceback (most recent call last)",
      "\u001b[1;32m<ipython-input-55-19477d9832d9>\u001b[0m in \u001b[0;36m<module>\u001b[1;34m\u001b[0m\n\u001b[1;32m----> 1\u001b[1;33m \u001b[0mvar_c\u001b[0m\u001b[1;33m\u001b[0m\u001b[1;33m\u001b[0m\u001b[0m\n\u001b[0m",
      "\u001b[1;31mNameError\u001b[0m: name 'var_c' is not defined"
     ]
    }
   ],
   "source": [
    "var_c"
   ]
  },
  {
   "cell_type": "code",
   "execution_count": 56,
   "id": "8bd32139",
   "metadata": {
    "ExecuteTime": {
     "end_time": "2021-06-25T23:29:51.590248Z",
     "start_time": "2021-06-25T23:29:51.577251Z"
    }
   },
   "outputs": [
    {
     "ename": "NameError",
     "evalue": "name 'var_a' is not defined",
     "output_type": "error",
     "traceback": [
      "\u001b[1;31m---------------------------------------------------------------------------\u001b[0m",
      "\u001b[1;31mNameError\u001b[0m                                 Traceback (most recent call last)",
      "\u001b[1;32m<ipython-input-56-10939fc4f8a9>\u001b[0m in \u001b[0;36m<module>\u001b[1;34m\u001b[0m\n\u001b[1;32m----> 1\u001b[1;33m \u001b[0mvar_a\u001b[0m\u001b[1;33m\u001b[0m\u001b[1;33m\u001b[0m\u001b[0m\n\u001b[0m",
      "\u001b[1;31mNameError\u001b[0m: name 'var_a' is not defined"
     ]
    }
   ],
   "source": [
    "var_a"
   ]
  },
  {
   "cell_type": "code",
   "execution_count": 57,
   "id": "de244889",
   "metadata": {
    "ExecuteTime": {
     "end_time": "2021-06-25T23:30:08.670895Z",
     "start_time": "2021-06-25T23:30:08.652944Z"
    }
   },
   "outputs": [
    {
     "data": {
      "text/plain": [
       "3"
      ]
     },
     "execution_count": 57,
     "metadata": {},
     "output_type": "execute_result"
    }
   ],
   "source": [
    "a"
   ]
  },
  {
   "cell_type": "code",
   "execution_count": 58,
   "id": "c269a895",
   "metadata": {
    "ExecuteTime": {
     "end_time": "2021-06-25T23:30:11.168551Z",
     "start_time": "2021-06-25T23:30:11.150600Z"
    }
   },
   "outputs": [
    {
     "ename": "NameError",
     "evalue": "name 'b' is not defined",
     "output_type": "error",
     "traceback": [
      "\u001b[1;31m---------------------------------------------------------------------------\u001b[0m",
      "\u001b[1;31mNameError\u001b[0m                                 Traceback (most recent call last)",
      "\u001b[1;32m<ipython-input-58-89e6c98d9288>\u001b[0m in \u001b[0;36m<module>\u001b[1;34m\u001b[0m\n\u001b[1;32m----> 1\u001b[1;33m \u001b[0mb\u001b[0m\u001b[1;33m\u001b[0m\u001b[1;33m\u001b[0m\u001b[0m\n\u001b[0m",
      "\u001b[1;31mNameError\u001b[0m: name 'b' is not defined"
     ]
    }
   ],
   "source": [
    "b"
   ]
  },
  {
   "cell_type": "code",
   "execution_count": 59,
   "id": "685bfae1",
   "metadata": {
    "ExecuteTime": {
     "end_time": "2021-06-25T23:31:02.478828Z",
     "start_time": "2021-06-25T23:31:02.460873Z"
    }
   },
   "outputs": [],
   "source": [
    "var_d = 0"
   ]
  },
  {
   "cell_type": "code",
   "execution_count": 62,
   "id": "78e2848d",
   "metadata": {
    "ExecuteTime": {
     "end_time": "2021-06-25T23:31:24.545791Z",
     "start_time": "2021-06-25T23:31:24.534783Z"
    }
   },
   "outputs": [
    {
     "data": {
      "text/plain": [
       "0"
      ]
     },
     "execution_count": 62,
     "metadata": {},
     "output_type": "execute_result"
    }
   ],
   "source": [
    "var_d"
   ]
  },
  {
   "cell_type": "code",
   "execution_count": 63,
   "id": "75e32ca0",
   "metadata": {
    "ExecuteTime": {
     "end_time": "2021-06-25T23:31:50.249090Z",
     "start_time": "2021-06-25T23:31:50.239111Z"
    }
   },
   "outputs": [],
   "source": [
    "var_a = 4"
   ]
  },
  {
   "cell_type": "code",
   "execution_count": 67,
   "id": "a3192db2",
   "metadata": {
    "ExecuteTime": {
     "end_time": "2021-06-25T23:32:18.935112Z",
     "start_time": "2021-06-25T23:32:18.926135Z"
    }
   },
   "outputs": [
    {
     "data": {
      "text/plain": [
       "4"
      ]
     },
     "execution_count": 67,
     "metadata": {},
     "output_type": "execute_result"
    }
   ],
   "source": [
    "var_a"
   ]
  },
  {
   "cell_type": "code",
   "execution_count": 68,
   "id": "83b6d117",
   "metadata": {
    "ExecuteTime": {
     "end_time": "2021-06-25T23:38:39.367915Z",
     "start_time": "2021-06-25T23:38:39.355949Z"
    }
   },
   "outputs": [],
   "source": [
    "def soma(a, b):\n",
    "    #     a e b são parâmetros -> eles podem ser definidos fora da função\n",
    "    # toda variável criada dentro da função, não é acessada externamente\n",
    "    solucao = a + b\n",
    "    var_a = a # vale 1\n",
    "    var_b = b\n",
    "    var_c = 5\n",
    "    var_d = 10\n",
    "    return solucao, var_a, var_b, var_c, var_d"
   ]
  },
  {
   "cell_type": "code",
   "execution_count": 69,
   "id": "bdf98064",
   "metadata": {
    "ExecuteTime": {
     "end_time": "2021-06-25T23:38:50.102135Z",
     "start_time": "2021-06-25T23:38:50.083149Z"
    }
   },
   "outputs": [
    {
     "data": {
      "text/plain": [
       "(2, 1, 1, 5, 10)"
      ]
     },
     "execution_count": 69,
     "metadata": {},
     "output_type": "execute_result"
    }
   ],
   "source": [
    "soma(1,1) # saída (solucao, var_a, var_b, var_c, var_d)"
   ]
  },
  {
   "cell_type": "code",
   "execution_count": 77,
   "id": "93885c6e",
   "metadata": {
    "ExecuteTime": {
     "end_time": "2021-06-25T23:43:21.172210Z",
     "start_time": "2021-06-25T23:43:21.157252Z"
    }
   },
   "outputs": [
    {
     "name": "stdout",
     "output_type": "stream",
     "text": [
      "2 1 1 5 10\n"
     ]
    }
   ],
   "source": [
    "resposta, variavel_a, variavel_b, var_c, var_d = soma(1, 1) # a= 1 b=1\n",
    "print(resposta, variavel_a, variavel_b, var_c, var_d)"
   ]
  },
  {
   "cell_type": "code",
   "execution_count": 75,
   "id": "f27f6133",
   "metadata": {
    "ExecuteTime": {
     "end_time": "2021-06-25T23:41:37.740734Z",
     "start_time": "2021-06-25T23:41:37.727758Z"
    }
   },
   "outputs": [
    {
     "name": "stdout",
     "output_type": "stream",
     "text": [
      "1\n"
     ]
    }
   ],
   "source": [
    "print(variavel_b)"
   ]
  },
  {
   "cell_type": "markdown",
   "id": "a21d4042",
   "metadata": {},
   "source": [
    "## Recursividade"
   ]
  },
  {
   "cell_type": "markdown",
   "id": "1d1a7112",
   "metadata": {},
   "source": [
    "Mas e se uma função referenciasse ela mesma? Isso também funciona, e chama-se função recursiva, ou recursão."
   ]
  },
  {
   "cell_type": "code",
   "execution_count": 78,
   "id": "dab672ae",
   "metadata": {
    "ExecuteTime": {
     "end_time": "2021-06-25T23:51:45.991446Z",
     "start_time": "2021-06-25T23:51:45.983465Z"
    }
   },
   "outputs": [],
   "source": [
    "# criar a função potencia de dois\n",
    "def potencia_de_dois(x): # x é o parâmetro ou argumento da função, recebe o valor de x\n",
    "    if x == 0:\n",
    "        return 1 # se x for zero, encerra a função e retorna o valor 1\n",
    "    else:\n",
    "        return 2*potencia_de_dois(x-1) # ele retorna a solução de 2* (a mesma função do valor menos 1)"
   ]
  },
  {
   "cell_type": "code",
   "execution_count": 79,
   "id": "a9a683b5",
   "metadata": {
    "ExecuteTime": {
     "end_time": "2021-06-25T23:53:18.525629Z",
     "start_time": "2021-06-25T23:53:18.513661Z"
    }
   },
   "outputs": [
    {
     "data": {
      "text/plain": [
       "1"
      ]
     },
     "execution_count": 79,
     "metadata": {},
     "output_type": "execute_result"
    }
   ],
   "source": [
    "potencia_de_dois(0) # x = 0, a função retorna 1 e encerra a função"
   ]
  },
  {
   "cell_type": "code",
   "execution_count": 80,
   "id": "17a1345a",
   "metadata": {
    "ExecuteTime": {
     "end_time": "2021-06-25T23:55:21.610845Z",
     "start_time": "2021-06-25T23:55:21.595840Z"
    }
   },
   "outputs": [
    {
     "data": {
      "text/plain": [
       "1024"
      ]
     },
     "execution_count": 80,
     "metadata": {},
     "output_type": "execute_result"
    }
   ],
   "source": [
    "potencia_de_dois(10) # x = 10 retornar 2*potencia_de_dois(9), que vai ser 2*2*......"
   ]
  },
  {
   "cell_type": "code",
   "execution_count": 81,
   "id": "27d44c02",
   "metadata": {
    "ExecuteTime": {
     "end_time": "2021-06-25T23:55:42.924093Z",
     "start_time": "2021-06-25T23:55:42.907097Z"
    }
   },
   "outputs": [
    {
     "data": {
      "text/plain": [
       "1024"
      ]
     },
     "execution_count": 81,
     "metadata": {},
     "output_type": "execute_result"
    }
   ],
   "source": [
    "2**10"
   ]
  },
  {
   "cell_type": "code",
   "execution_count": 82,
   "id": "3cc81c07",
   "metadata": {
    "ExecuteTime": {
     "end_time": "2021-06-25T23:56:03.393319Z",
     "start_time": "2021-06-25T23:56:03.384300Z"
    }
   },
   "outputs": [
    {
     "data": {
      "text/plain": [
       "1024"
      ]
     },
     "execution_count": 82,
     "metadata": {},
     "output_type": "execute_result"
    }
   ],
   "source": [
    "2*2**(10-1)"
   ]
  },
  {
   "cell_type": "markdown",
   "id": "9cc44095",
   "metadata": {},
   "source": [
    "Se chamarmos potenciadedois(4), o que acontecerá? O programa começará a executar a função, cairá no else e encontrará a função chamada novamente. Neste caso, ele salva x valendo 4 e salva que a execução foi interrompida nessa linha. Então ele cria um novo x valendo 3, cai novamente no else e salva que a execução foi interrompida nessa linha, e assim sucessivamente.\n",
    "\n",
    "Note que para cada passo recursivo, as variáveis da função são copiadas e também é salvo o ponto onde a execução parou. Ou seja, funções recursivas podem consumir bastante memória, além de tempo de processamento para ficar criando cópias. A vantagem delas é o rigor matemático: podemos transcrever funções matemáticas quase exatamente como elas são, sem criar loops e variáveis para ficar guardando estados."
   ]
  },
  {
   "cell_type": "code",
   "execution_count": 83,
   "id": "7149f2f8",
   "metadata": {
    "ExecuteTime": {
     "end_time": "2021-06-25T23:56:29.348306Z",
     "start_time": "2021-06-25T23:56:29.330361Z"
    }
   },
   "outputs": [
    {
     "data": {
      "text/plain": [
       "16"
      ]
     },
     "execution_count": 83,
     "metadata": {},
     "output_type": "execute_result"
    }
   ],
   "source": [
    "potencia_de_dois(4)"
   ]
  },
  {
   "cell_type": "markdown",
   "id": "57276118",
   "metadata": {},
   "source": [
    "# Erros e exceções"
   ]
  },
  {
   "cell_type": "markdown",
   "id": "9758781e",
   "metadata": {},
   "source": [
    "## Erros de sintaxe"
   ]
  },
  {
   "cell_type": "code",
   "execution_count": 85,
   "id": "70526792",
   "metadata": {
    "ExecuteTime": {
     "end_time": "2021-06-26T00:00:26.696803Z",
     "start_time": "2021-06-26T00:00:26.672869Z"
    }
   },
   "outputs": [
    {
     "ename": "SyntaxError",
     "evalue": "invalid syntax (<ipython-input-85-7a8a49ad5eea>, line 1)",
     "output_type": "error",
     "traceback": [
      "\u001b[1;36m  File \u001b[1;32m\"<ipython-input-85-7a8a49ad5eea>\"\u001b[1;36m, line \u001b[1;32m1\u001b[0m\n\u001b[1;33m    for i in range(10)\u001b[0m\n\u001b[1;37m                      ^\u001b[0m\n\u001b[1;31mSyntaxError\u001b[0m\u001b[1;31m:\u001b[0m invalid syntax\n"
     ]
    }
   ],
   "source": [
    "for i in range(10)\n",
    "    print(i)"
   ]
  },
  {
   "cell_type": "markdown",
   "id": "3cb5efc0",
   "metadata": {},
   "source": [
    "## Exceções"
   ]
  },
  {
   "cell_type": "markdown",
   "id": "51a2168d",
   "metadata": {},
   "source": [
    "Mesmo que um comando ou expressão estejam sintaticamente corretos, talvez ocorra um erro na hora de sua execução. Erros detectados durante a execução são chamados exceções e não são necessariamente fatais: logo veremos como tratá-las em programas Python. A maioria das exceções não são tratadas pelos programas e acabam resultando em mensagens de erro:"
   ]
  },
  {
   "cell_type": "code",
   "execution_count": 86,
   "id": "2ed2d6dd",
   "metadata": {
    "ExecuteTime": {
     "end_time": "2021-06-26T00:01:58.764430Z",
     "start_time": "2021-06-26T00:01:58.743491Z"
    }
   },
   "outputs": [
    {
     "ename": "ZeroDivisionError",
     "evalue": "division by zero",
     "output_type": "error",
     "traceback": [
      "\u001b[1;31m---------------------------------------------------------------------------\u001b[0m",
      "\u001b[1;31mZeroDivisionError\u001b[0m                         Traceback (most recent call last)",
      "\u001b[1;32m<ipython-input-86-0b280f36835c>\u001b[0m in \u001b[0;36m<module>\u001b[1;34m\u001b[0m\n\u001b[1;32m----> 1\u001b[1;33m \u001b[1;36m10\u001b[0m \u001b[1;33m*\u001b[0m \u001b[1;33m(\u001b[0m\u001b[1;36m1\u001b[0m\u001b[1;33m/\u001b[0m\u001b[1;36m0\u001b[0m\u001b[1;33m)\u001b[0m\u001b[1;33m\u001b[0m\u001b[1;33m\u001b[0m\u001b[0m\n\u001b[0m",
      "\u001b[1;31mZeroDivisionError\u001b[0m: division by zero"
     ]
    }
   ],
   "source": [
    "10 * (1/0)"
   ]
  },
  {
   "cell_type": "code",
   "execution_count": 87,
   "id": "fd5083d9",
   "metadata": {
    "ExecuteTime": {
     "end_time": "2021-06-26T00:02:28.876968Z",
     "start_time": "2021-06-26T00:02:28.843054Z"
    }
   },
   "outputs": [
    {
     "ename": "NameError",
     "evalue": "name 'spam' is not defined",
     "output_type": "error",
     "traceback": [
      "\u001b[1;31m---------------------------------------------------------------------------\u001b[0m",
      "\u001b[1;31mNameError\u001b[0m                                 Traceback (most recent call last)",
      "\u001b[1;32m<ipython-input-87-c98bb92cdcac>\u001b[0m in \u001b[0;36m<module>\u001b[1;34m\u001b[0m\n\u001b[1;32m----> 1\u001b[1;33m \u001b[1;36m4\u001b[0m \u001b[1;33m+\u001b[0m \u001b[0mspam\u001b[0m\u001b[1;33m*\u001b[0m\u001b[1;36m3\u001b[0m\u001b[1;33m\u001b[0m\u001b[1;33m\u001b[0m\u001b[0m\n\u001b[0m",
      "\u001b[1;31mNameError\u001b[0m: name 'spam' is not defined"
     ]
    }
   ],
   "source": [
    "4 + spam*3"
   ]
  },
  {
   "cell_type": "code",
   "execution_count": 88,
   "id": "71d61af7",
   "metadata": {
    "ExecuteTime": {
     "end_time": "2021-06-26T00:03:08.341740Z",
     "start_time": "2021-06-26T00:03:08.328735Z"
    }
   },
   "outputs": [
    {
     "ename": "TypeError",
     "evalue": "can only concatenate str (not \"int\") to str",
     "output_type": "error",
     "traceback": [
      "\u001b[1;31m---------------------------------------------------------------------------\u001b[0m",
      "\u001b[1;31mTypeError\u001b[0m                                 Traceback (most recent call last)",
      "\u001b[1;32m<ipython-input-88-d2b23a1db757>\u001b[0m in \u001b[0;36m<module>\u001b[1;34m\u001b[0m\n\u001b[1;32m----> 1\u001b[1;33m \u001b[1;34m'2'\u001b[0m \u001b[1;33m+\u001b[0m \u001b[1;36m2\u001b[0m\u001b[1;33m\u001b[0m\u001b[1;33m\u001b[0m\u001b[0m\n\u001b[0m",
      "\u001b[1;31mTypeError\u001b[0m: can only concatenate str (not \"int\") to str"
     ]
    }
   ],
   "source": [
    "'2' + 2"
   ]
  },
  {
   "cell_type": "code",
   "execution_count": 89,
   "id": "67442f88",
   "metadata": {
    "ExecuteTime": {
     "end_time": "2021-06-26T00:03:51.462093Z",
     "start_time": "2021-06-26T00:03:51.439151Z"
    }
   },
   "outputs": [
    {
     "ename": "TypeError",
     "evalue": "unsupported operand type(s) for +: 'int' and 'str'",
     "output_type": "error",
     "traceback": [
      "\u001b[1;31m---------------------------------------------------------------------------\u001b[0m",
      "\u001b[1;31mTypeError\u001b[0m                                 Traceback (most recent call last)",
      "\u001b[1;32m<ipython-input-89-82150feed70c>\u001b[0m in \u001b[0;36m<module>\u001b[1;34m\u001b[0m\n\u001b[1;32m----> 1\u001b[1;33m \u001b[1;36m2\u001b[0m \u001b[1;33m+\u001b[0m \u001b[1;34m'2'\u001b[0m\u001b[1;33m\u001b[0m\u001b[1;33m\u001b[0m\u001b[0m\n\u001b[0m",
      "\u001b[1;31mTypeError\u001b[0m: unsupported operand type(s) for +: 'int' and 'str'"
     ]
    }
   ],
   "source": [
    "2 + '2'"
   ]
  },
  {
   "cell_type": "markdown",
   "id": "b3e9a4ec",
   "metadata": {},
   "source": [
    "- última linha mostra o que aconteceu\n",
    "- exceções de diferentes tipos\n",
    "- stack traceback (situação de pilha de execução) -> contexto onde ocorreu a execução"
   ]
  },
  {
   "cell_type": "markdown",
   "id": "e03d0011",
   "metadata": {},
   "source": [
    "## Tratamento de exceções"
   ]
  },
  {
   "cell_type": "markdown",
   "id": "b517d88d",
   "metadata": {},
   "source": [
    "É possível escrever programas que tratam exceções específicas. Observe o exemplo seguinte, que pede dados ao usuário até que um inteiro válido seja fornecido, ainda permitindo que o programa seja interrompido (utilizando Control-C ou seja lá o que for que o sistema operacional suporte); note que uma interrupção gerada pelo usuário será sinalizada pela exceção KeyboardInterrupt"
   ]
  },
  {
   "cell_type": "markdown",
   "id": "4595ff7f",
   "metadata": {},
   "source": [
    "try e except"
   ]
  },
  {
   "cell_type": "code",
   "execution_count": 94,
   "id": "801531e8",
   "metadata": {
    "ExecuteTime": {
     "end_time": "2021-06-26T00:12:24.855887Z",
     "start_time": "2021-06-26T00:11:01.497486Z"
    }
   },
   "outputs": [
    {
     "name": "stdout",
     "output_type": "stream",
     "text": [
      "Digite um número inteiro: a\n",
      "Não é um número inteiro, por favor digite um valor válido\n",
      "Digite um número inteiro: -\n",
      "Não é um número inteiro, por favor digite um valor válido\n",
      "Digite um número inteiro: 7.8\n",
      "Não é um número inteiro, por favor digite um valor válido\n",
      "Digite um número inteiro: -3\n"
     ]
    }
   ],
   "source": [
    "while True:\n",
    "    try:\n",
    "        x = int(input('Digite um número inteiro: '))\n",
    "        break # para a execução do while\n",
    "    except ValueError:\n",
    "        print('Não é um número inteiro, por favor digite um valor válido')"
   ]
  },
  {
   "cell_type": "code",
   "execution_count": 92,
   "id": "312b53a1",
   "metadata": {
    "ExecuteTime": {
     "end_time": "2021-06-26T00:09:21.008372Z",
     "start_time": "2021-06-26T00:09:17.055282Z"
    }
   },
   "outputs": [
    {
     "name": "stdout",
     "output_type": "stream",
     "text": [
      "Digite um número: a\n"
     ]
    },
    {
     "ename": "ValueError",
     "evalue": "invalid literal for int() with base 10: 'a'",
     "output_type": "error",
     "traceback": [
      "\u001b[1;31m---------------------------------------------------------------------------\u001b[0m",
      "\u001b[1;31mValueError\u001b[0m                                Traceback (most recent call last)",
      "\u001b[1;32m<ipython-input-92-c48492ad51ec>\u001b[0m in \u001b[0;36m<module>\u001b[1;34m\u001b[0m\n\u001b[1;32m----> 1\u001b[1;33m \u001b[0mx\u001b[0m \u001b[1;33m=\u001b[0m \u001b[0mint\u001b[0m\u001b[1;33m(\u001b[0m\u001b[0minput\u001b[0m\u001b[1;33m(\u001b[0m\u001b[1;34m'Digite um número: '\u001b[0m\u001b[1;33m)\u001b[0m\u001b[1;33m)\u001b[0m\u001b[1;33m\u001b[0m\u001b[1;33m\u001b[0m\u001b[0m\n\u001b[0m",
      "\u001b[1;31mValueError\u001b[0m: invalid literal for int() with base 10: 'a'"
     ]
    }
   ],
   "source": [
    "x = int(input('Digite um número: '))"
   ]
  },
  {
   "cell_type": "code",
   "execution_count": 96,
   "id": "63fd7e8b",
   "metadata": {
    "ExecuteTime": {
     "end_time": "2021-06-26T00:15:41.825600Z",
     "start_time": "2021-06-26T00:15:41.804659Z"
    }
   },
   "outputs": [],
   "source": [
    "def this_fails():\n",
    "    x = 1/0"
   ]
  },
  {
   "cell_type": "code",
   "execution_count": 98,
   "id": "3341bcd7",
   "metadata": {
    "ExecuteTime": {
     "end_time": "2021-06-26T00:16:19.752235Z",
     "start_time": "2021-06-26T00:16:19.717331Z"
    }
   },
   "outputs": [
    {
     "ename": "ZeroDivisionError",
     "evalue": "division by zero",
     "output_type": "error",
     "traceback": [
      "\u001b[1;31m---------------------------------------------------------------------------\u001b[0m",
      "\u001b[1;31mZeroDivisionError\u001b[0m                         Traceback (most recent call last)",
      "\u001b[1;32m<ipython-input-98-81eb5d641fbb>\u001b[0m in \u001b[0;36m<module>\u001b[1;34m\u001b[0m\n\u001b[0;32m      1\u001b[0m \u001b[1;31m# chamar a função para executar\u001b[0m\u001b[1;33m\u001b[0m\u001b[1;33m\u001b[0m\u001b[1;33m\u001b[0m\u001b[0m\n\u001b[1;32m----> 2\u001b[1;33m \u001b[0mthis_fails\u001b[0m\u001b[1;33m(\u001b[0m\u001b[1;33m)\u001b[0m\u001b[1;33m\u001b[0m\u001b[1;33m\u001b[0m\u001b[0m\n\u001b[0m",
      "\u001b[1;32m<ipython-input-96-fbff1a2db54f>\u001b[0m in \u001b[0;36mthis_fails\u001b[1;34m()\u001b[0m\n\u001b[0;32m      1\u001b[0m \u001b[1;32mdef\u001b[0m \u001b[0mthis_fails\u001b[0m\u001b[1;33m(\u001b[0m\u001b[1;33m)\u001b[0m\u001b[1;33m:\u001b[0m\u001b[1;33m\u001b[0m\u001b[1;33m\u001b[0m\u001b[0m\n\u001b[1;32m----> 2\u001b[1;33m     \u001b[0mx\u001b[0m \u001b[1;33m=\u001b[0m \u001b[1;36m1\u001b[0m\u001b[1;33m/\u001b[0m\u001b[1;36m0\u001b[0m\u001b[1;33m\u001b[0m\u001b[1;33m\u001b[0m\u001b[0m\n\u001b[0m",
      "\u001b[1;31mZeroDivisionError\u001b[0m: division by zero"
     ]
    }
   ],
   "source": [
    "# chamar a função para executar\n",
    "this_fails()"
   ]
  },
  {
   "cell_type": "code",
   "execution_count": 99,
   "id": "e7fb4f8b",
   "metadata": {
    "ExecuteTime": {
     "end_time": "2021-06-26T00:17:05.858474Z",
     "start_time": "2021-06-26T00:17:05.846506Z"
    }
   },
   "outputs": [
    {
     "name": "stdout",
     "output_type": "stream",
     "text": [
      "Handling run-time error: division by zero\n"
     ]
    }
   ],
   "source": [
    "def this_fails():\n",
    "    try:\n",
    "        x = 1/0\n",
    "    except ZeroDivisionError as err:\n",
    "        print('Handling run-time error:', err)\n",
    "    \n",
    "this_fails()"
   ]
  },
  {
   "cell_type": "code",
   "execution_count": null,
   "id": "d11aab52",
   "metadata": {},
   "outputs": [],
   "source": [
    "try:\n",
    "    \n",
    "except ValueError as err:\n",
    "    print(err)\n",
    "    \n",
    "except TypeError as err:\n",
    "    print(err)"
   ]
  },
  {
   "cell_type": "code",
   "execution_count": 100,
   "id": "f1ec4da6",
   "metadata": {
    "ExecuteTime": {
     "end_time": "2021-06-26T00:27:38.450650Z",
     "start_time": "2021-06-26T00:27:38.436684Z"
    }
   },
   "outputs": [
    {
     "name": "stdout",
     "output_type": "stream",
     "text": [
      "division by zero\n",
      "division by zero\n",
      "division by zero\n",
      "division by zero\n",
      "division by zero\n",
      "division by zero\n",
      "division by zero\n",
      "division by zero\n",
      "division by zero\n",
      "division by zero\n",
      "division by zero\n"
     ]
    }
   ],
   "source": [
    "i = 0\n",
    "while i <= 10:\n",
    "    try:\n",
    "        a = 10/0\n",
    "    except (ZeroDivisionError) as err: \n",
    "        print(err)\n",
    "        pass\n",
    "    i+=1\n"
   ]
  },
  {
   "cell_type": "code",
   "execution_count": null,
   "id": "d840a301",
   "metadata": {},
   "outputs": [],
   "source": []
  }
 ],
 "metadata": {
  "kernelspec": {
   "display_name": "Python 3",
   "language": "python",
   "name": "python3"
  },
  "language_info": {
   "codemirror_mode": {
    "name": "ipython",
    "version": 3
   },
   "file_extension": ".py",
   "mimetype": "text/x-python",
   "name": "python",
   "nbconvert_exporter": "python",
   "pygments_lexer": "ipython3",
   "version": "3.9.5"
  },
  "varInspector": {
   "cols": {
    "lenName": 16,
    "lenType": 16,
    "lenVar": 40
   },
   "kernels_config": {
    "python": {
     "delete_cmd_postfix": "",
     "delete_cmd_prefix": "del ",
     "library": "var_list.py",
     "varRefreshCmd": "print(var_dic_list())"
    },
    "r": {
     "delete_cmd_postfix": ") ",
     "delete_cmd_prefix": "rm(",
     "library": "var_list.r",
     "varRefreshCmd": "cat(var_dic_list()) "
    }
   },
   "types_to_exclude": [
    "module",
    "function",
    "builtin_function_or_method",
    "instance",
    "_Feature"
   ],
   "window_display": false
  }
 },
 "nbformat": 4,
 "nbformat_minor": 5
}
