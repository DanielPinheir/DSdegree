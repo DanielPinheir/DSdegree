{
 "cells": [
  {
   "cell_type": "markdown",
   "id": "a9f89903",
   "metadata": {},
   "source": [
    "# Lambda"
   ]
  },
  {
   "cell_type": "markdown",
   "id": "31b34b28",
   "metadata": {
    "ExecuteTime": {
     "end_time": "2021-07-26T22:27:42.783381Z",
     "start_time": "2021-07-26T22:27:42.768381Z"
    }
   },
   "source": [
    "Uma função qualquer:\n",
    "    \n",
    "`\n",
    "def nome_da_funcao(argumentos):\n",
    "    return expressao\n",
    "`\n",
    "\n",
    "Uma função usando o lambda:\n",
    "\n",
    "`variavel = lambda argumentos: expressao`"
   ]
  },
  {
   "cell_type": "code",
   "execution_count": 36,
   "id": "39da6ad4",
   "metadata": {
    "ExecuteTime": {
     "end_time": "2021-07-26T23:14:25.637932Z",
     "start_time": "2021-07-26T23:14:25.620978Z"
    }
   },
   "outputs": [],
   "source": [
    "def dobro(x):\n",
    "    return x*2\n",
    "\n",
    "f = lambda x: x*2"
   ]
  },
  {
   "cell_type": "code",
   "execution_count": 37,
   "id": "519f3b57",
   "metadata": {
    "ExecuteTime": {
     "end_time": "2021-07-26T23:14:26.105707Z",
     "start_time": "2021-07-26T23:14:26.089826Z"
    }
   },
   "outputs": [
    {
     "data": {
      "text/plain": [
       "20"
      ]
     },
     "execution_count": 37,
     "metadata": {},
     "output_type": "execute_result"
    }
   ],
   "source": [
    "f(10)"
   ]
  },
  {
   "cell_type": "code",
   "execution_count": 3,
   "id": "aefd6ac7",
   "metadata": {
    "ExecuteTime": {
     "end_time": "2021-07-26T22:30:44.191151Z",
     "start_time": "2021-07-26T22:30:44.168241Z"
    }
   },
   "outputs": [
    {
     "data": {
      "text/plain": [
       "20"
      ]
     },
     "execution_count": 3,
     "metadata": {},
     "output_type": "execute_result"
    }
   ],
   "source": [
    "dobro(10)"
   ]
  },
  {
   "cell_type": "code",
   "execution_count": 4,
   "id": "74d3bb88",
   "metadata": {
    "ExecuteTime": {
     "end_time": "2021-07-26T22:30:58.063375Z",
     "start_time": "2021-07-26T22:30:58.047416Z"
    }
   },
   "outputs": [
    {
     "data": {
      "text/plain": [
       "20"
      ]
     },
     "execution_count": 4,
     "metadata": {},
     "output_type": "execute_result"
    }
   ],
   "source": [
    "(lambda x: x*2)(10)"
   ]
  },
  {
   "cell_type": "code",
   "execution_count": 38,
   "id": "573e6929",
   "metadata": {
    "ExecuteTime": {
     "end_time": "2021-07-26T23:15:14.638189Z",
     "start_time": "2021-07-26T23:15:14.618238Z"
    }
   },
   "outputs": [],
   "source": [
    "def soma(a, b, c):\n",
    "    return a + b + c\n",
    "\n",
    "\n",
    "f = lambda a, b, c: a + b + c"
   ]
  },
  {
   "cell_type": "code",
   "execution_count": 7,
   "id": "ecd39863",
   "metadata": {
    "ExecuteTime": {
     "end_time": "2021-07-26T22:33:51.479377Z",
     "start_time": "2021-07-26T22:33:51.451452Z"
    }
   },
   "outputs": [
    {
     "data": {
      "text/plain": [
       "9"
      ]
     },
     "execution_count": 7,
     "metadata": {},
     "output_type": "execute_result"
    }
   ],
   "source": [
    "soma(2, 3, 4)"
   ]
  },
  {
   "cell_type": "code",
   "execution_count": 8,
   "id": "5947e68d",
   "metadata": {
    "ExecuteTime": {
     "end_time": "2021-07-26T22:34:08.970206Z",
     "start_time": "2021-07-26T22:34:08.943275Z"
    }
   },
   "outputs": [
    {
     "data": {
      "text/plain": [
       "9"
      ]
     },
     "execution_count": 8,
     "metadata": {},
     "output_type": "execute_result"
    }
   ],
   "source": [
    "(lambda a, b, c: a + b + c)(2, 3, 4)"
   ]
  },
  {
   "cell_type": "code",
   "execution_count": 39,
   "id": "3469e7f5",
   "metadata": {
    "ExecuteTime": {
     "end_time": "2021-07-26T23:15:26.617834Z",
     "start_time": "2021-07-26T23:15:26.607844Z"
    }
   },
   "outputs": [
    {
     "data": {
      "text/plain": [
       "9"
      ]
     },
     "execution_count": 39,
     "metadata": {},
     "output_type": "execute_result"
    }
   ],
   "source": [
    "f(2, 3, 4)"
   ]
  },
  {
   "cell_type": "code",
   "execution_count": 9,
   "id": "46f9688b",
   "metadata": {
    "ExecuteTime": {
     "end_time": "2021-07-26T22:36:28.090510Z",
     "start_time": "2021-07-26T22:36:28.082532Z"
    }
   },
   "outputs": [],
   "source": [
    "def calculo(a,b):\n",
    "    c = a + b\n",
    "    if c ==2:\n",
    "        return 'Verdadeiro'\n",
    "    elif c ==3:\n",
    "        return 'Falso'\n",
    "    else:\n",
    "        return c"
   ]
  },
  {
   "cell_type": "code",
   "execution_count": null,
   "id": "37a3c962",
   "metadata": {},
   "outputs": [],
   "source": [
    "# lambda a,b: \n",
    "# Não conseguimos simplificar em apenas 1 linha e por isso não usamos a forma lambda"
   ]
  },
  {
   "cell_type": "code",
   "execution_count": 11,
   "id": "23fae634",
   "metadata": {
    "ExecuteTime": {
     "end_time": "2021-07-26T22:40:56.919475Z",
     "start_time": "2021-07-26T22:40:56.907506Z"
    }
   },
   "outputs": [
    {
     "data": {
      "text/plain": [
       "[('bca', 121), ('abc', 231), ('bbc', 148), ('cab', 221)]"
      ]
     },
     "execution_count": 11,
     "metadata": {},
     "output_type": "execute_result"
    }
   ],
   "source": [
    "# Ex. Lista de tuplas. Quero ordenar a lista de várias formas\n",
    "[('bca', 121), ('abc', 231), ('bbc', 148), ('cab', 221)]"
   ]
  },
  {
   "cell_type": "code",
   "execution_count": 12,
   "id": "0314341f",
   "metadata": {
    "ExecuteTime": {
     "end_time": "2021-07-26T22:41:22.013903Z",
     "start_time": "2021-07-26T22:41:22.001936Z"
    }
   },
   "outputs": [
    {
     "data": {
      "text/plain": [
       "[('abc', 231), ('bbc', 148), ('bca', 121), ('cab', 221)]"
      ]
     },
     "execution_count": 12,
     "metadata": {},
     "output_type": "execute_result"
    }
   ],
   "source": [
    "# vamos usar o a função sorted\n",
    "sorted([('bca', 121), ('abc', 231), ('bbc', 148), ('cab', 221)])"
   ]
  },
  {
   "cell_type": "code",
   "execution_count": 15,
   "id": "6d15f24d",
   "metadata": {
    "ExecuteTime": {
     "end_time": "2021-07-26T22:43:56.648763Z",
     "start_time": "2021-07-26T22:43:56.631808Z"
    }
   },
   "outputs": [
    {
     "data": {
      "text/plain": [
       "[('bca', 121), ('bbc', 148), ('cab', 221), ('abc', 231)]"
      ]
     },
     "execution_count": 15,
     "metadata": {},
     "output_type": "execute_result"
    }
   ],
   "source": [
    "# o sorted está ordenando pelo primeiro elemento da tupla\n",
    "\n",
    "# Como ordenar pelo segundo elemento da tupla\n",
    "sorted([('bca', 121), ('abc', 231), ('bbc', 148), ('cab', 221)], key= lambda x: x[1])"
   ]
  },
  {
   "cell_type": "code",
   "execution_count": 17,
   "id": "4319800a",
   "metadata": {
    "ExecuteTime": {
     "end_time": "2021-07-26T22:45:15.369011Z",
     "start_time": "2021-07-26T22:45:15.359038Z"
    }
   },
   "outputs": [
    {
     "data": {
      "text/plain": [
       "[('bca', 121), ('bbc', 148), ('cab', 221), ('abc', 231)]"
      ]
     },
     "execution_count": 17,
     "metadata": {},
     "output_type": "execute_result"
    }
   ],
   "source": [
    "def funcao_ordenar(x):\n",
    "    return x[1]\n",
    "\n",
    "sorted([('bca', 121), ('abc', 231), ('bbc', 148), ('cab', 221)], key = funcao_ordenar)"
   ]
  },
  {
   "cell_type": "code",
   "execution_count": 18,
   "id": "c46d8ece",
   "metadata": {
    "ExecuteTime": {
     "end_time": "2021-07-26T22:50:07.466522Z",
     "start_time": "2021-07-26T22:50:07.455561Z"
    }
   },
   "outputs": [],
   "source": [
    "li = [5, 7, 22, 97, 54, 62, 77, 23, 73, 61]"
   ]
  },
  {
   "cell_type": "code",
   "execution_count": 20,
   "id": "6491644b",
   "metadata": {
    "ExecuteTime": {
     "end_time": "2021-07-26T22:51:24.757168Z",
     "start_time": "2021-07-26T22:51:24.735214Z"
    }
   },
   "outputs": [
    {
     "data": {
      "text/plain": [
       "[5, 7, 22, 97, 54, 62, 77, 23, 73, 61, 5, 7, 22, 97, 54, 62, 77, 23, 73, 61]"
      ]
     },
     "execution_count": 20,
     "metadata": {},
     "output_type": "execute_result"
    }
   ],
   "source": [
    "# Quero obter o dobro de cada elemento da lista\n",
    "2 * [5, 7, 22, 97, 54, 62, 77, 23, 73, 61]"
   ]
  },
  {
   "cell_type": "code",
   "execution_count": 22,
   "id": "588c6026",
   "metadata": {
    "ExecuteTime": {
     "end_time": "2021-07-26T22:52:24.705887Z",
     "start_time": "2021-07-26T22:52:24.691893Z"
    }
   },
   "outputs": [
    {
     "data": {
      "text/plain": [
       "[10, 14, 44, 194, 108, 124, 154, 46, 146, 122]"
      ]
     },
     "execution_count": 22,
     "metadata": {},
     "output_type": "execute_result"
    }
   ],
   "source": [
    "# Quero obter o dobro de cada elemento da lista\n",
    "li2 = []\n",
    "for elemento in li:\n",
    "    li2.append(elemento*2)\n",
    "    \n",
    "li2"
   ]
  },
  {
   "cell_type": "code",
   "execution_count": 23,
   "id": "5703b5cb",
   "metadata": {
    "ExecuteTime": {
     "end_time": "2021-07-26T22:53:56.743425Z",
     "start_time": "2021-07-26T22:53:56.726471Z"
    }
   },
   "outputs": [
    {
     "ename": "SyntaxError",
     "evalue": "cannot assign to operator (<ipython-input-23-e005337be370>, line 3)",
     "output_type": "error",
     "traceback": [
      "\u001b[1;36m  File \u001b[1;32m\"<ipython-input-23-e005337be370>\"\u001b[1;36m, line \u001b[1;32m3\u001b[0m\n\u001b[1;33m    for (elemento * 2) in li:\u001b[0m\n\u001b[1;37m         ^\u001b[0m\n\u001b[1;31mSyntaxError\u001b[0m\u001b[1;31m:\u001b[0m cannot assign to operator\n"
     ]
    }
   ],
   "source": [
    "# Quero obter o dobro de cada elemento da lista\n",
    "li2\n",
    "for (elemento * 2) in li:\n",
    "    li2.append(elemento)"
   ]
  },
  {
   "cell_type": "code",
   "execution_count": 24,
   "id": "b442a711",
   "metadata": {
    "ExecuteTime": {
     "end_time": "2021-07-26T22:55:07.252452Z",
     "start_time": "2021-07-26T22:55:07.237493Z"
    }
   },
   "outputs": [
    {
     "data": {
      "text/plain": [
       "[10, 14, 44, 194, 108, 124, 154, 46, 146, 122]"
      ]
     },
     "execution_count": 24,
     "metadata": {},
     "output_type": "execute_result"
    }
   ],
   "source": [
    "# Quero obter o dobro de cada elemento da lista\n",
    "[elemento * 2 for elemento in li]"
   ]
  },
  {
   "cell_type": "code",
   "execution_count": 25,
   "id": "02db7c03",
   "metadata": {
    "ExecuteTime": {
     "end_time": "2021-07-26T22:55:44.989691Z",
     "start_time": "2021-07-26T22:55:44.983707Z"
    }
   },
   "outputs": [
    {
     "data": {
      "text/plain": [
       "[10, 14, 44, 194, 108, 124, 154, 46, 146, 122]"
      ]
     },
     "execution_count": 25,
     "metadata": {},
     "output_type": "execute_result"
    }
   ],
   "source": [
    "list(map(lambda x: x*2, li))"
   ]
  },
  {
   "cell_type": "code",
   "execution_count": 30,
   "id": "10ed104b",
   "metadata": {
    "ExecuteTime": {
     "end_time": "2021-07-26T22:59:18.661286Z",
     "start_time": "2021-07-26T22:59:18.640343Z"
    }
   },
   "outputs": [
    {
     "data": {
      "text/plain": [
       "[22, 54, 62]"
      ]
     },
     "execution_count": 30,
     "metadata": {},
     "output_type": "execute_result"
    }
   ],
   "source": [
    "# Quais os elementos pares da lista li\n",
    "li2 = []\n",
    "for elemento in li:\n",
    "    if elemento % 2 == 0:\n",
    "        li2.append(elemento)\n",
    "li2"
   ]
  },
  {
   "cell_type": "code",
   "execution_count": 31,
   "id": "67ef60f6",
   "metadata": {
    "ExecuteTime": {
     "end_time": "2021-07-26T22:59:47.172550Z",
     "start_time": "2021-07-26T22:59:47.155591Z"
    }
   },
   "outputs": [
    {
     "data": {
      "text/plain": [
       "[22, 54, 62]"
      ]
     },
     "execution_count": 31,
     "metadata": {},
     "output_type": "execute_result"
    }
   ],
   "source": [
    "# Quais os elementos pares da lista li\n",
    "[item for item in li if item % 2 == 0]"
   ]
  },
  {
   "cell_type": "code",
   "execution_count": 33,
   "id": "f55c6707",
   "metadata": {
    "ExecuteTime": {
     "end_time": "2021-07-26T23:01:38.671500Z",
     "start_time": "2021-07-26T23:01:38.659493Z"
    }
   },
   "outputs": [
    {
     "data": {
      "text/plain": [
       "[22, 54, 62]"
      ]
     },
     "execution_count": 33,
     "metadata": {},
     "output_type": "execute_result"
    }
   ],
   "source": [
    "# Quais os elementos pares da lista li\n",
    "list(filter(lambda x: (x % 2 == 0), li))"
   ]
  },
  {
   "cell_type": "code",
   "execution_count": 34,
   "id": "66f60997",
   "metadata": {
    "ExecuteTime": {
     "end_time": "2021-07-26T23:03:25.345220Z",
     "start_time": "2021-07-26T23:03:25.325232Z"
    }
   },
   "outputs": [
    {
     "data": {
      "text/plain": [
       "[22, 54, 62]"
      ]
     },
     "execution_count": 34,
     "metadata": {},
     "output_type": "execute_result"
    }
   ],
   "source": [
    "# Quais os elementos pares da lista li\n",
    "def funcao_pares(x):\n",
    "    if x % 2 ==0:\n",
    "        return x\n",
    "\n",
    "list(filter(funcao_pares, li))"
   ]
  },
  {
   "cell_type": "code",
   "execution_count": null,
   "id": "83714952",
   "metadata": {},
   "outputs": [],
   "source": []
  }
 ],
 "metadata": {
  "kernelspec": {
   "display_name": "Python 3",
   "language": "python",
   "name": "python3"
  },
  "language_info": {
   "codemirror_mode": {
    "name": "ipython",
    "version": 3
   },
   "file_extension": ".py",
   "mimetype": "text/x-python",
   "name": "python",
   "nbconvert_exporter": "python",
   "pygments_lexer": "ipython3",
   "version": "3.9.5"
  },
  "varInspector": {
   "cols": {
    "lenName": 16,
    "lenType": 16,
    "lenVar": 40
   },
   "kernels_config": {
    "python": {
     "delete_cmd_postfix": "",
     "delete_cmd_prefix": "del ",
     "library": "var_list.py",
     "varRefreshCmd": "print(var_dic_list())"
    },
    "r": {
     "delete_cmd_postfix": ") ",
     "delete_cmd_prefix": "rm(",
     "library": "var_list.r",
     "varRefreshCmd": "cat(var_dic_list()) "
    }
   },
   "types_to_exclude": [
    "module",
    "function",
    "builtin_function_or_method",
    "instance",
    "_Feature"
   ],
   "window_display": false
  }
 },
 "nbformat": 4,
 "nbformat_minor": 5
}
