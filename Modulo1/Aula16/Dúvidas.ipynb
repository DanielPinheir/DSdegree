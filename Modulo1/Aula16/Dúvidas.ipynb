{
 "cells": [
  {
   "cell_type": "markdown",
   "id": "c4d87c23",
   "metadata": {},
   "source": [
    "3) Crie uma classe Funcionario cujos atributos são nome e e-mail. Guarde as horas trabalhadas em um dicionário cujas chaves são o mês em questão e, em outro dicionário, guarde o salário por hora relativo ao mês em questão. Crie um método que retorna o salário mensal do funcionário."
   ]
  },
  {
   "cell_type": "code",
   "execution_count": 3,
   "id": "8b7cc81c",
   "metadata": {
    "ExecuteTime": {
     "end_time": "2021-07-15T01:12:39.976408Z",
     "start_time": "2021-07-15T01:12:39.954468Z"
    }
   },
   "outputs": [],
   "source": [
    "class Funcionario:\n",
    "    def __init__(self, nome, email):\n",
    "        self.nome = nome\n",
    "        self.email = email\n",
    "        self.horas = {}\n",
    "        self.salario_hora = {}\n",
    "        \n",
    "    def calcular_salario(self, mes):\n",
    "        if (mes not in self.horas) or (mes not in self.salario_hora):\n",
    "            print('Mês não encontrado')\n",
    "        else:\n",
    "            valor = self.horas[mes] * self.salario_hora[mes]\n",
    "            return valor\n",
    "        "
   ]
  },
  {
   "cell_type": "code",
   "execution_count": 4,
   "id": "f21eba28",
   "metadata": {
    "ExecuteTime": {
     "end_time": "2021-07-15T01:12:40.864168Z",
     "start_time": "2021-07-15T01:12:40.851233Z"
    }
   },
   "outputs": [],
   "source": [
    "jose = Funcionario('Jose', 'jose@email.com.br')\n",
    "\n",
    "jose.horas['Abril'] = 10\n",
    "jose.salario_hora['Abril'] = 100\n",
    "\n",
    "jose.horas['Maio'] = 15\n",
    "jose.salario_hora['Maio'] = 90\n",
    "\n",
    "maria = Funcionario('Maria', 'maria@email.com.br')\n",
    "\n",
    "maria.horas['Junho'] = 5\n",
    "maria.salario_hora['Junho'] = 150"
   ]
  },
  {
   "cell_type": "code",
   "execution_count": 5,
   "id": "f1caa803",
   "metadata": {
    "ExecuteTime": {
     "end_time": "2021-07-15T01:12:53.558873Z",
     "start_time": "2021-07-15T01:12:53.538927Z"
    }
   },
   "outputs": [
    {
     "data": {
      "text/plain": [
       "1000"
      ]
     },
     "execution_count": 5,
     "metadata": {},
     "output_type": "execute_result"
    }
   ],
   "source": [
    "jose.calcular_salario('Abril')"
   ]
  },
  {
   "cell_type": "code",
   "execution_count": 6,
   "id": "9586f710",
   "metadata": {
    "ExecuteTime": {
     "end_time": "2021-07-15T01:13:02.886017Z",
     "start_time": "2021-07-15T01:13:02.866077Z"
    }
   },
   "outputs": [
    {
     "data": {
      "text/plain": [
       "1350"
      ]
     },
     "execution_count": 6,
     "metadata": {},
     "output_type": "execute_result"
    }
   ],
   "source": [
    "jose.calcular_salario('Maio')"
   ]
  },
  {
   "cell_type": "code",
   "execution_count": 7,
   "id": "7f68ef4f",
   "metadata": {
    "ExecuteTime": {
     "end_time": "2021-07-15T01:13:15.203809Z",
     "start_time": "2021-07-15T01:13:15.198821Z"
    }
   },
   "outputs": [
    {
     "name": "stdout",
     "output_type": "stream",
     "text": [
      "Mês não encontrado\n"
     ]
    }
   ],
   "source": [
    "jose.calcular_salario('Junho')"
   ]
  },
  {
   "cell_type": "code",
   "execution_count": 8,
   "id": "1b21597e",
   "metadata": {
    "ExecuteTime": {
     "end_time": "2021-07-15T01:13:29.705765Z",
     "start_time": "2021-07-15T01:13:29.685855Z"
    }
   },
   "outputs": [
    {
     "data": {
      "text/plain": [
       "750"
      ]
     },
     "execution_count": 8,
     "metadata": {},
     "output_type": "execute_result"
    }
   ],
   "source": [
    "maria.calcular_salario('Junho')"
   ]
  },
  {
   "cell_type": "code",
   "execution_count": null,
   "id": "c5f932a9",
   "metadata": {},
   "outputs": [],
   "source": [
    "class Funcionario:\n",
    "    def __init__(self, nome, email):\n",
    "        self.nome = nome\n",
    "        self.email = email\n",
    "        self.horas = {}\n",
    "        self.salario_hora = {}\n",
    "        \n",
    "    def calcular_salario(self, mes):\n",
    "        if (mes not in self.horas) or (mes not in self.salario_hora):\n",
    "            print('Mês não encontrado')\n",
    "        else:\n",
    "            valor = self.horas[mes] * self.salario_hora[mes]\n",
    "            return valor\n",
    "        \n",
    "    def salario_hora(self, mes, salario_hora):\n",
    "        self.salario_hora_mes[mes] = salario_hora\n"
   ]
  },
  {
   "cell_type": "code",
   "execution_count": 9,
   "id": "d6d9b05d",
   "metadata": {
    "ExecuteTime": {
     "end_time": "2021-07-15T01:18:53.637027Z",
     "start_time": "2021-07-15T01:18:53.610090Z"
    }
   },
   "outputs": [
    {
     "name": "stdout",
     "output_type": "stream",
     "text": [
      "Funcionário: João\n",
      "\n",
      "Horas trabalhadas por mês:\n",
      "\n",
      "{'JANEIRO': 177, 'FEVEREIRO': 162, 'MARÇO': 196, 'ABRIL': 190, 'MAIO': 194, 'JUNHO': 183, 'JULHO': 168, 'AGOSTO': 165, 'SETEMBRO': 198, 'OUTUBRO': 182, 'NOVEMBRO': 181}\n",
      "\n",
      "Salário (R$) por hora trabalhada por mês:\n",
      "\n",
      "{'JANEIRO': 57, 'FEVEREIRO': 57, 'MARÇO': 52, 'ABRIL': 58, 'MAIO': 52, 'JUNHO': 60, 'JULHO': 60, 'AGOSTO': 58, 'SETEMBRO': 58, 'OUTUBRO': 60, 'NOVEMBRO': 59}\n",
      "\n",
      "Salário por mês:\n",
      "\n",
      "JANEIRO = R$ 10089.0\n",
      "FEVEREIRO = R$ 9234.0\n",
      "MARÇO = R$ 10192.0\n",
      "ABRIL = R$ 11020.0\n",
      "MAIO = R$ 10088.0\n",
      "JUNHO = R$ 10980.0\n",
      "JULHO = R$ 10080.0\n",
      "AGOSTO = R$ 9570.0\n",
      "SETEMBRO = R$ 11484.0\n",
      "OUTUBRO = R$ 10920.0\n",
      "NOVEMBRO = R$ 10679.0\n"
     ]
    }
   ],
   "source": [
    "# Implementação do que a questão pediu\n",
    "from enum import Enum\n",
    "from random import randint\n",
    "\n",
    "class Mes(Enum):\n",
    "    JANEIRO=1\n",
    "    FEVEREIRO=2\n",
    "    MARÇO=3\n",
    "    ABRIL=4\n",
    "    MAIO=5\n",
    "    JUNHO=6\n",
    "    JULHO=7\n",
    "    AGOSTO=8\n",
    "    SETEMBRO=9\n",
    "    OUTUBRO=10\n",
    "    NOVEMBRO=11\n",
    "    DEZEMBRO=12\n",
    "\n",
    "class Funcionario:\n",
    "    \n",
    "    # Construtor da classe. A questão pediu pra ter apenas nome e email\n",
    "    def __init__(self, nome, email):\n",
    "        self.nome  = nome\n",
    "        self.email = email\n",
    "        self.dic_mes_hrs_trabalhadas = {}\n",
    "        self.dic_mes_salario_por_hora = {}\n",
    "    \n",
    "    def guardar_hrs_trabalhadas_por_mes(self, hrs_trabalhadas):\n",
    "        self.dic_mes_hrs_trabalhadas  = hrs_trabalhadas\n",
    "        \n",
    "    def guardar_salario_por_hr_trabalhada_por_mes(self, salario_por_hr):\n",
    "        self.dic_mes_salario_por_hora = salario_por_hr\n",
    "    \n",
    "    def salario_mensal(self):\n",
    "        mes_salario = []\n",
    "        for mes in range(1,12):\n",
    "            if (self.dic_mes_hrs_trabalhadas[Mes(mes).name] != None ) and (self.dic_mes_salario_por_hora[Mes(mes).name] != None):\n",
    "                hrs = self.dic_mes_hrs_trabalhadas[Mes(mes).name]\n",
    "                salario_hr = self.dic_mes_salario_por_hora[Mes(mes).name]\n",
    "                mes_salario.append( (Mes(mes).name , salario_hr * hrs) )\n",
    "            else:\n",
    "                mes_salario.append( (Mes(mes).name , None) )\n",
    "        return mes_salario\n",
    "\n",
    "# Teste\n",
    "dic_mes_hrs = {}\n",
    "dic_mes_salario_por_hr = {}\n",
    "# Criando horas trabalhadas por mês e salário por hora por mês em dois dicionários\n",
    "for mes in range(1,12):\n",
    "    # Horas por mês trabalhadas entre 160 e 200 horas\n",
    "    dic_mes_hrs[Mes(mes).name]     = 160 + randint(0,40)\n",
    "    # Salário por hora variando entre 50 e 60\n",
    "    dic_mes_salario_por_hr[Mes(mes).name] = 50 + randint(0,10)\n",
    "    \n",
    "# Criando objeto 'joao' da classe Funcionario    \n",
    "joao = Funcionario('João', 'joao@dsdegree.com.br')\n",
    "joao.guardar_hrs_trabalhadas_por_mes(dic_mes_hrs)\n",
    "joao.guardar_salario_por_hr_trabalhada_por_mes(dic_mes_salario_por_hr)\n",
    "\n",
    "print(f'Funcionário: {joao.nome}\\n')\n",
    "print('Horas trabalhadas por mês:\\n')\n",
    "print(dic_mes_hrs)\n",
    "print('\\nSalário (R$) por hora trabalhada por mês:\\n')\n",
    "print(dic_mes_salario_por_hr)\n",
    "result = joao.salario_mensal()\n",
    "print('\\nSalário por mês:\\n')\n",
    "for mes_sal in result:\n",
    "    print(f'{mes_sal[0]} = R$ {float(mes_sal[1])}')"
   ]
  },
  {
   "cell_type": "code",
   "execution_count": null,
   "id": "3382444c",
   "metadata": {},
   "outputs": [],
   "source": []
  },
  {
   "cell_type": "code",
   "execution_count": null,
   "id": "d638d435",
   "metadata": {},
   "outputs": [],
   "source": []
  },
  {
   "cell_type": "code",
   "execution_count": null,
   "id": "4fcf7625",
   "metadata": {},
   "outputs": [],
   "source": []
  },
  {
   "cell_type": "code",
   "execution_count": null,
   "id": "395ad0b2",
   "metadata": {},
   "outputs": [],
   "source": []
  }
 ],
 "metadata": {
  "kernelspec": {
   "display_name": "Python 3",
   "language": "python",
   "name": "python3"
  },
  "language_info": {
   "codemirror_mode": {
    "name": "ipython",
    "version": 3
   },
   "file_extension": ".py",
   "mimetype": "text/x-python",
   "name": "python",
   "nbconvert_exporter": "python",
   "pygments_lexer": "ipython3",
   "version": "3.9.5"
  },
  "varInspector": {
   "cols": {
    "lenName": 16,
    "lenType": 16,
    "lenVar": 40
   },
   "kernels_config": {
    "python": {
     "delete_cmd_postfix": "",
     "delete_cmd_prefix": "del ",
     "library": "var_list.py",
     "varRefreshCmd": "print(var_dic_list())"
    },
    "r": {
     "delete_cmd_postfix": ") ",
     "delete_cmd_prefix": "rm(",
     "library": "var_list.r",
     "varRefreshCmd": "cat(var_dic_list()) "
    }
   },
   "types_to_exclude": [
    "module",
    "function",
    "builtin_function_or_method",
    "instance",
    "_Feature"
   ],
   "window_display": false
  }
 },
 "nbformat": 4,
 "nbformat_minor": 5
}
