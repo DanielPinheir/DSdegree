{
 "cells": [
  {
   "cell_type": "markdown",
   "id": "b9538cf4",
   "metadata": {},
   "source": [
    "# importar os projetos onde as funções/classes foram salvas em um arquivo.py na mesma pasta"
   ]
  },
  {
   "cell_type": "code",
   "execution_count": 1,
   "id": "6dee0d2f",
   "metadata": {
    "ExecuteTime": {
     "end_time": "2021-07-16T23:45:46.350091Z",
     "start_time": "2021-07-16T23:45:46.298232Z"
    },
    "code_folding": [
     0,
     121
    ]
   },
   "outputs": [],
   "source": [
    "data = [[66707599984, 'Conservador', (5100., 3500., 1400., 200.)],\n",
    " [55695397315, 'Conservador', (4900., 3000., 1400., 200.)],\n",
    " [63743886918, 'Conservador', (4700., 3200., 1300., 200.)],\n",
    " [55941368774, 'Conservador', (4600., 3100., 1500., 200.)],\n",
    " [75486280874, 'Conservador', (5000., 3600., 1400., 200.)],\n",
    " [53164949799, 'Conservador', (5400., 3900., 1700., 400.)],\n",
    " [39898704131, 'Conservador', (4600., 3400., 1400., 300.)],\n",
    " [53740901207, 'Conservador', (5000., 3400., 1500., 200.)],\n",
    " [51735950236, 'Conservador', (4400., 2900., 1400., 200.)],\n",
    " [47305108951, 'Conservador', (4900., 3100., 1500., 100.)],\n",
    " [63858864633, 'Conservador', (5400., 3700., 1500., 200.)],\n",
    " [53363167240, 'Conservador', (4800., 3400., 1600., 200.)],\n",
    " [72133754195, 'Conservador', (4800., 3000., 1400., 100.)],\n",
    " [52802483512, 'Conservador', (4300., 3000., 1100., 100.)],\n",
    " [57925287214, 'Conservador', (4800., 3400., 1900., 200.)],\n",
    " [74354632224, 'Conservador', (5000., 3000., 1600., 200.)],\n",
    " [64020216626, 'Conservador', (5000., 3400., 1600., 400.)],\n",
    " [78223722856, 'Conservador', (5200., 3500., 1500., 200.)],\n",
    " [58245228846, 'Conservador', (5200., 3400., 1400., 200.)],\n",
    " [74490686776, 'Conservador', (4700., 3200., 1600., 200.)],\n",
    " [48646824781, 'Conservador', (4800., 3100., 1600., 200.)],\n",
    " [77381458676, 'Conservador', (5400., 3400., 1500., 400.)],\n",
    " [41615431874, 'Conservador', (5200., 4100., 1500., 100.)],\n",
    " [52163844491, 'Conservador', (5500., 4200., 1400., 200.)],\n",
    " [70276304567, 'Conservador', (4900., 3100., 1500., 200.)],\n",
    " [69119828185, 'Conservador', (5000., 3200., 1200., 200.)],\n",
    " [65441690046, 'Conservador', (5500., 3500., 1300., 200.)],\n",
    " [56457227894, 'Conservador', (4900., 3600., 1400., 100.)],\n",
    " [46939428126, 'Conservador', (4400., 3000., 1300., 200.)],\n",
    " [60979942480, 'Conservador', (5100., 3400., 1500., 200.)],\n",
    " [41648583220, 'Conservador', (5000., 3500., 1300., 300.)],\n",
    " [50376331791, 'Conservador', (4500., 2300., 1300., 300.)],\n",
    " [67008801023, 'Conservador', (4400., 3200., 1300., 200.)],\n",
    " [72149193419, 'Conservador', (5000., 3500., 1600., 600.)],\n",
    " [62830733382, 'Conservador', (5100., 3800., 1900., 400.)],\n",
    " [56716675811, 'Conservador', (4800., 3000., 1400., 300.)],\n",
    " [61089667146, 'Conservador', (5100., 3800., 1600., 200.)],\n",
    " [47795509468, 'Conservador', (4600., 3200., 1400., 200.)],\n",
    " [60899885693, 'Conservador', (5300., 3700., 1500., 200.)],\n",
    " [53433670705, 'Conservador', (5000., 3300., 1400., 200.)],\n",
    " [54850120580, 'Moderado', (7000., 3200., 4700., 1400.)],\n",
    " [71457789994, 'Moderado', (6400., 3200., 4500., 1500.)],\n",
    " [67692777563, 'Moderado', (6900., 3100., 4900., 1500.)],\n",
    " [43133573182, 'Moderado', (5500., 2300., 4000., 1300.)],\n",
    " [55150612815, 'Moderado', (6500., 2800., 4600., 1500.)],\n",
    " [48211725243, 'Moderado', (5700., 2800., 4500., 1300.)],\n",
    " [76686463776, 'Moderado', (6300., 3300., 4700., 1600.)],\n",
    " [71971000560, 'Moderado', (4900., 2400., 3300., 1000.)],\n",
    " [40307235992, 'Moderado', (6600., 2900., 4600., 1300.)],\n",
    " [44826533081, 'Moderado', (5200., 2700., 3900., 1400.)],\n",
    " [45735414894, 'Moderado', (5900., 3200., 4800., 1800.)],\n",
    " [57137146514, 'Moderado', (6100., 2800., 4000., 1300.)],\n",
    " [53657058251, 'Moderado', (6300., 2500., 4900., 1500.)],\n",
    " [52941460485, 'Moderado', (6100., 2800., 4700., 1200.)],\n",
    " [44306600683, 'Moderado', (6400., 2900., 4300., 1300.)],\n",
    " [43460747924, 'Moderado', (6600., 3000., 4400., 1400.)],\n",
    " [75590376075, 'Moderado', (6800., 2800., 4800., 1400.)],\n",
    " [68267282206, 'Moderado', (6700., 3000., 5000., 1700.)],\n",
    " [77567920298, 'Moderado', (6000., 2900., 4500., 1500.)],\n",
    " [67600419504, 'Moderado', (5700., 2600., 3500., 1000.)],\n",
    " [44902189811, 'Moderado', (5500., 2400., 3800., 1100.)],\n",
    " [62966866614, 'Moderado', (5500., 2400., 3700., 1000.)],\n",
    " [56182108880, 'Moderado', (5800., 2700., 3900., 1200.)],\n",
    " [78299785392, 'Moderado', (6000., 2700., 5100., 1600.)],\n",
    " [45206071878, 'Moderado', (5400., 3000., 4500., 1500.)],\n",
    " [57381925887, 'Moderado', (6000., 3400., 4500., 1600.)],\n",
    " [65654934891, 'Moderado', (6700., 3100., 4700., 1500.)],\n",
    " [56130640481, 'Moderado', (6300., 2300., 4400., 1300.)],\n",
    " [59667611672, 'Moderado', (5600., 3000., 4100., 1300.)],\n",
    " [40349334385, 'Moderado', (5500., 2500., 4000., 1300.)],\n",
    " [68422640081, 'Moderado', (5500., 2600., 4400., 1200.)],\n",
    " [55245923439, 'Moderado', (6100., 3000., 4600., 1400.)],\n",
    " [51286696873, 'Moderado', (5800., 2600., 4000., 1200.)],\n",
    " [41065279767, 'Moderado', (5000., 2300., 3300., 1000.)],\n",
    " [42866454119, 'Moderado', (5600., 2700., 4200., 1300.)],\n",
    " [61962944542, 'Moderado', (5700., 3000., 4200., 1200.)],\n",
    " [48623501235, 'Moderado', (5700., 2900., 4200., 1300.)],\n",
    " [49475220139, 'Moderado', (6200., 2900., 4300., 1300.)],\n",
    " [52245218531, 'Moderado', (5100., 2500., 3000., 1100.)],\n",
    " [50932926697, 'Moderado', (5700., 2800., 4100., 1300.)],\n",
    " [47432932248, 'Agressivo', (6300., 3300., 6000., 2500.)],\n",
    " [39321991579, 'Agressivo', (5800., 2700., 5100., 1900.)],\n",
    " [46283759608, 'Agressivo', (7100., 3000., 5900., 2100.)],\n",
    " [56996272538, 'Agressivo', (6300., 2900., 5600., 1800.)],\n",
    " [77232189978, 'Agressivo', (6500., 3000., 5800., 2200.)],\n",
    " [77183282421, 'Agressivo', (7600., 3000., 6600., 2100.)],\n",
    " [42857147573, 'Agressivo', (4900., 2500., 4500., 1700.)],\n",
    " [39331584043, 'Agressivo', (7300., 2900., 6300., 1800.)],\n",
    " [48130345228, 'Agressivo', (6700., 2500., 5800., 1800.)],\n",
    " [71422443953, 'Agressivo', (7200., 3600., 6100., 2500.)],\n",
    " [72508507904, 'Agressivo', (6900., 3200., 5700., 2300.)],\n",
    " [41188727558, 'Agressivo', (5600., 2800., 4900., 2000.)],\n",
    " [61358776640, 'Agressivo', (7700., 2800., 6700., 2000.)],\n",
    " [66934042323, 'Agressivo', (6300., 2700., 4900., 1800.)],\n",
    " [40622495567, 'Agressivo', (6700., 3300., 5700., 2100.)],\n",
    " [57221661311, 'Agressivo', (7200., 3200., 6000., 1800.)],\n",
    " [45159362930, 'Agressivo', (6200., 2800., 4800., 1800.)],\n",
    " [45018975174, 'Agressivo', (6100., 3000., 4900., 1800.)],\n",
    " [70685429140, 'Agressivo', (6400., 2800., 5600., 2100.)],\n",
    " [61808723477, 'Agressivo', (7200., 3000., 5800., 1600.)],\n",
    " [56363906548, 'Agressivo', (7400., 2800., 6100., 1900.)],\n",
    " [39646194720, 'Agressivo', (7900., 3800., 6400., 2000.)],\n",
    " [55385494438, 'Agressivo', (6400., 2800., 5600., 2200.)],\n",
    " [75796138061, 'Agressivo', (6300., 2800., 5100., 1500.)],\n",
    " [53595767857, 'Agressivo', (6100., 2600., 5600., 1400.)],\n",
    " [48758828080, 'Agressivo', (7700., 3000., 6100., 2300.)],\n",
    " [58387651356, 'Agressivo', (6300., 3400., 5600., 2400.)],\n",
    " [72846931192, 'Agressivo', (6400., 3100., 5500., 1800.)],\n",
    " [47046896346, 'Agressivo', (6000., 3000., 4800., 1800.)],\n",
    " [69730292799, 'Agressivo', (6900., 3100., 5400., 2100.)],\n",
    " [48177836349, 'Agressivo', (6700., 3100., 5600., 2400.)],\n",
    " [57976326635, 'Agressivo', (6900., 3100., 5100., 2300.)],\n",
    " [55710813002, 'Agressivo', (5800., 2700., 5100., 1900.)],\n",
    " [64028580439, 'Agressivo', (6800., 3200., 5900., 2300.)],\n",
    " [49962942971, 'Agressivo', (6700., 3300., 5700., 2500.)],\n",
    " [47250893163, 'Agressivo', (6700., 3000., 5200., 2300.)],\n",
    " [75559276274, 'Agressivo', (6300., 2500., 5000., 1900.)],\n",
    " [58529878272, 'Agressivo', (6500., 3000., 5200., 2000.)],\n",
    " [76005896622, 'Agressivo', (6200., 3400., 5400., 2300.)],\n",
    " [49212614633, 'Agressivo', (5900., 3000., 5100., 1800.)]]\n",
    "\n",
    "no_class = [[45926320819, '', (5800., 4000., 1200., 200.)],\n",
    " [52559670741, '', (5700., 4400., 1500., 400.)],\n",
    " [59016004832, '', (5400., 3900., 1300., 400.)],\n",
    " [66175672425, '', (5100., 3500., 1400., 300.)],\n",
    " [53330429526, '', (5700., 3800., 1700., 300.)],\n",
    " [43765563403, '', (5100., 3800., 1500., 300.)],\n",
    " [68020822591, '', (5400., 3400., 1700., 200.)],\n",
    " [53939481689, '', (5100., 3700., 1500., 400.)],\n",
    " [47014057561, '', (4600., 3600., 1000., 200.)],\n",
    " [57183542047, '', (5100., 3300., 1700., 500.)],\n",
    "            \n",
    " [68518284363, '', (5000., 2000., 3500., 1000.)],\n",
    " [65806049885, '', (5900., 3000., 4200., 1500.)],\n",
    " [54128073086, '', (6000., 2200., 4000., 1000.)],\n",
    " [41306785494, '', (6100., 2900., 4700., 1400.)],\n",
    " [65234831039, '', (5600., 2900., 3600., 1300.)],\n",
    " [50964498067, '', (6700., 3100., 4400., 1400.)],\n",
    " [50810951429, '', (5600., 3000., 4500., 1500.)],\n",
    " [48765044397, '', (5800., 2700., 4100., 1000.)],\n",
    " [41960083761, '', (6200., 2200., 4500., 1500.)],\n",
    " [76657763082, '', (5600., 2500., 3900., 1100.)],\n",
    "            \n",
    " [64726487742, '', (6500., 3200., 5100., 2000.)],\n",
    " [75746566283, '', (6400., 2700., 5300., 1900.)],\n",
    " [78576734793, '', (6800., 3000., 5500., 2100.)],\n",
    " [56440141847, '', (5700., 2500., 5000., 2000.)],\n",
    " [66827423000, '', (5800., 2800., 5100., 2400.)],\n",
    " [45267873396, '', (6400., 3200., 5300., 2300.)],\n",
    " [46387191493, '', (6500., 3000., 5500., 1800.)],\n",
    " [54273611732, '', (7700., 3800., 6700., 2200.)],\n",
    " [75135392881, '', (7700., 2600., 6900., 2300.)],\n",
    " [64703873108, '', (6000., 2200., 5000., 1500.)]]"
   ]
  },
  {
   "cell_type": "code",
   "execution_count": 10,
   "id": "54817179",
   "metadata": {
    "ExecuteTime": {
     "end_time": "2021-07-16T23:29:48.150916Z",
     "start_time": "2021-07-16T23:29:48.110027Z"
    }
   },
   "outputs": [
    {
     "name": "stdout",
     "output_type": "stream",
     "text": [
      "The autoreload extension is already loaded. To reload it, use:\n",
      "  %reload_ext autoreload\n"
     ]
    }
   ],
   "source": [
    "%load_ext autoreload\n",
    "%autoreload 2"
   ]
  },
  {
   "cell_type": "markdown",
   "id": "9913a672",
   "metadata": {},
   "source": [
    "### Projeto 1 - Victor"
   ]
  },
  {
   "cell_type": "code",
   "execution_count": 4,
   "id": "60de80d1",
   "metadata": {
    "ExecuteTime": {
     "end_time": "2021-07-16T23:10:59.410321Z",
     "start_time": "2021-07-16T23:10:59.333161Z"
    }
   },
   "outputs": [
    {
     "name": "stdout",
     "output_type": "stream",
     "text": [
      "{45926320819: 'Conservador', 52559670741: 'Conservador', 59016004832: 'Conservador', 66175672425: 'Conservador', 53330429526: 'Conservador', 43765563403: 'Conservador', 68020822591: 'Conservador', 53939481689: 'Conservador', 47014057561: 'Conservador', 57183542047: 'Conservador', 68518284363: 'Moderado', 65806049885: 'Moderado', 54128073086: 'Moderado', 41306785494: 'Moderado', 65234831039: 'Moderado', 50964498067: 'Moderado', 50810951429: 'Moderado', 48765044397: 'Moderado', 41960083761: 'Moderado', 76657763082: 'Moderado', 64726487742: 'Agressivo', 75746566283: 'Agressivo', 78576734793: 'Agressivo', 56440141847: 'Agressivo', 66827423000: 'Agressivo', 45267873396: 'Agressivo', 46387191493: 'Agressivo', 54273611732: 'Agressivo', 75135392881: 'Agressivo', 64703873108: 'Moderado'}\n"
     ]
    }
   ],
   "source": [
    "import modulo_knn_victor as mk1\n",
    "\n",
    "data_com_index = list(enumerate(data))\n",
    "novos_usuarios = {}\n",
    "\n",
    "for cpf1, tipo_investimento1, investimentos_nao_definido in no_class:\n",
    "    listas = []\n",
    "    for index, (cpf, tipo_investimento,investimentos)  in data_com_index:\n",
    "        # Chamada da Função Diistancia( Calcular a distancia entre os pontos)\n",
    "        listas.append(mk1.distancia(index, investimentos, investimentos_nao_definido))\n",
    "        \n",
    "    #Função para ordenar e devolver apenas os 5 menores elementos    \n",
    "    valores = mk1.valores_proximos(listas, 3)\n",
    "    \n",
    "    #Função para definir o tipo de investimento do usuario\n",
    "    investimento_ideal = mk1.definir_tipo_investimento(valores, data_com_index)\n",
    "    \n",
    "    #Função para retornar um dicionario com os CPF e os tipos de investimento dos novos usuarios\n",
    "    mk1.dicionario_usuario_investimento(cpf1, investimento_ideal, novos_usuarios)\n",
    "    \n",
    "\n",
    "print(novos_usuarios)"
   ]
  },
  {
   "cell_type": "markdown",
   "id": "a49451cb",
   "metadata": {
    "ExecuteTime": {
     "end_time": "2021-07-16T23:10:54.129275Z",
     "start_time": "2021-07-16T23:10:53.924745Z"
    }
   },
   "source": [
    "### Projeto 2 - Tiago"
   ]
  },
  {
   "cell_type": "code",
   "execution_count": 4,
   "id": "ed6f29b4",
   "metadata": {
    "ExecuteTime": {
     "end_time": "2021-07-16T23:31:38.863120Z",
     "start_time": "2021-07-16T23:31:38.815277Z"
    }
   },
   "outputs": [
    {
     "name": "stdout",
     "output_type": "stream",
     "text": [
      "[(45926320819, 'Conservador')]\n",
      "[(52559670741, 'Conservador')]\n",
      "[(59016004832, 'Conservador')]\n",
      "[(66175672425, 'Conservador')]\n",
      "[(53330429526, 'Conservador')]\n",
      "[(43765563403, 'Conservador')]\n",
      "[(68020822591, 'Conservador')]\n",
      "[(53939481689, 'Conservador')]\n",
      "[(47014057561, 'Conservador')]\n",
      "[(57183542047, 'Conservador')]\n",
      "[(68518284363, 'Moderado')]\n",
      "[(65806049885, 'Moderado')]\n",
      "[(54128073086, 'Moderado')]\n",
      "[(41306785494, 'Moderado')]\n",
      "[(65234831039, 'Moderado')]\n",
      "[(50964498067, 'Moderado')]\n",
      "[(50810951429, 'Moderado')]\n",
      "[(48765044397, 'Moderado')]\n",
      "[(41960083761, 'Moderado')]\n",
      "[(76657763082, 'Moderado')]\n",
      "[(64726487742, 'Agressivo')]\n",
      "[(75746566283, 'Agressivo')]\n",
      "[(78576734793, 'Agressivo')]\n",
      "[(56440141847, 'Agressivo')]\n",
      "[(66827423000, 'Agressivo')]\n",
      "[(45267873396, 'Agressivo')]\n",
      "[(46387191493, 'Agressivo')]\n",
      "[(54273611732, 'Agressivo')]\n",
      "[(75135392881, 'Agressivo')]\n",
      "[(64703873108, 'Agressivo')]\n"
     ]
    }
   ],
   "source": [
    "import modelo_knn_tiago as mk2\n",
    "\n",
    "mk2.perfil_investidor(data,no_class,K=5)"
   ]
  },
  {
   "cell_type": "code",
   "execution_count": 5,
   "id": "545aefdc",
   "metadata": {
    "ExecuteTime": {
     "end_time": "2021-07-16T23:32:55.599599Z",
     "start_time": "2021-07-16T23:32:55.554705Z"
    }
   },
   "outputs": [
    {
     "name": "stdout",
     "output_type": "stream",
     "text": [
      "[(45926320819, 'Conservador')]\n",
      "[(52559670741, 'Conservador')]\n",
      "[(59016004832, 'Conservador')]\n",
      "[(66175672425, 'Conservador')]\n",
      "[(53330429526, 'Conservador')]\n",
      "[(43765563403, 'Conservador')]\n",
      "[(68020822591, 'Conservador')]\n",
      "[(53939481689, 'Conservador')]\n",
      "[(47014057561, 'Conservador')]\n",
      "[(57183542047, 'Conservador')]\n",
      "[(68518284363, 'Moderado')]\n",
      "[(65806049885, 'Moderado')]\n",
      "[(54128073086, 'Moderado')]\n",
      "[(41306785494, 'Moderado')]\n",
      "[(65234831039, 'Moderado')]\n",
      "[(50964498067, 'Moderado')]\n",
      "[(50810951429, 'Moderado')]\n",
      "[(48765044397, 'Moderado')]\n",
      "[(41960083761, 'Moderado')]\n",
      "[(76657763082, 'Moderado')]\n",
      "[(64726487742, 'Agressivo')]\n",
      "[(75746566283, 'Agressivo')]\n",
      "[(78576734793, 'Agressivo')]\n",
      "[(56440141847, 'Agressivo')]\n",
      "[(66827423000, 'Agressivo')]\n",
      "[(45267873396, 'Agressivo')]\n",
      "[(46387191493, 'Agressivo')]\n",
      "[(54273611732, 'Agressivo')]\n",
      "[(75135392881, 'Agressivo')]\n",
      "[(64703873108, 'Agressivo')]\n"
     ]
    }
   ],
   "source": [
    "#  alternativa\n",
    "from modelo_knn_tiago import perfil_investidor\n",
    "\n",
    "perfil_investidor(data,no_class,K=5)"
   ]
  },
  {
   "cell_type": "markdown",
   "id": "3ace6bcb",
   "metadata": {},
   "source": [
    "### Projeto 3 - Felipe Prates"
   ]
  },
  {
   "cell_type": "code",
   "execution_count": 4,
   "id": "21a2c225",
   "metadata": {
    "ExecuteTime": {
     "end_time": "2021-07-16T23:46:56.826364Z",
     "start_time": "2021-07-16T23:46:54.678873Z"
    }
   },
   "outputs": [
    {
     "name": "stdout",
     "output_type": "stream",
     "text": [
      "Insira valor para k do modelo: 5\n",
      " 45926320819 : Conservador\n",
      " 52559670741 : Conservador\n",
      " 59016004832 : Conservador\n",
      " 66175672425 : Conservador\n",
      " 53330429526 : Conservador\n",
      " 43765563403 : Conservador\n",
      " 68020822591 : Conservador\n",
      " 53939481689 : Conservador\n",
      " 47014057561 : Conservador\n",
      " 57183542047 : Conservador\n",
      " 68518284363 : Moderado\n",
      " 65806049885 : Moderado\n",
      " 54128073086 : Moderado\n",
      " 41306785494 : Moderado\n",
      " 65234831039 : Moderado\n",
      " 50964498067 : Moderado\n",
      " 50810951429 : Moderado\n",
      " 48765044397 : Moderado\n",
      " 41960083761 : Moderado\n",
      " 76657763082 : Moderado\n",
      " 64726487742 : Agressivo\n",
      " 75746566283 : Agressivo\n",
      " 78576734793 : Agressivo\n",
      " 56440141847 : Agressivo\n",
      " 66827423000 : Agressivo\n",
      " 45267873396 : Agressivo\n",
      " 46387191493 : Agressivo\n",
      " 54273611732 : Agressivo\n",
      " 75135392881 : Agressivo\n",
      " 64703873108 : Agressivo\n"
     ]
    }
   ],
   "source": [
    "import modelo_knn_Felipe as mk3\n",
    "\n",
    "dicionario_classifica = {} # declara dicionário\n",
    "k = mk3.define_k()\n",
    "\n",
    "for i in range(len(no_class)): #varre todos os pontos no_class\n",
    "    all_distancias = mk3.calcular_distancia(no_class[i],data)\n",
    "    vizinhos = mk3.k_vizinhos(all_distancias,k)\n",
    "    dicionario_classifica[no_class[i][0]] = mk3.classifica_no_class(vizinhos,k, data)\n",
    "\n",
    "for chave,valor in dicionario_classifica.items(): #visualiza cpf: classificação (a partir do k escolhido)\n",
    "    print(f' {chave} : {valor}')"
   ]
  },
  {
   "cell_type": "markdown",
   "id": "884b4ec3",
   "metadata": {},
   "source": [
    "### Projeto 4 - Fernando"
   ]
  },
  {
   "cell_type": "code",
   "execution_count": 8,
   "id": "daff8919",
   "metadata": {
    "ExecuteTime": {
     "end_time": "2021-07-17T00:07:44.813780Z",
     "start_time": "2021-07-17T00:07:44.769876Z"
    }
   },
   "outputs": [
    {
     "name": "stdout",
     "output_type": "stream",
     "text": [
      "{'Conservador': 5, 'Moderado': 0, 'Agressivo': 0}\n",
      "{'Conservador': 5, 'Moderado': 0, 'Agressivo': 0}\n",
      "{'Conservador': 5, 'Moderado': 0, 'Agressivo': 0}\n",
      "{'Conservador': 5, 'Moderado': 0, 'Agressivo': 0}\n",
      "{'Conservador': 5, 'Moderado': 0, 'Agressivo': 0}\n",
      "{'Conservador': 5, 'Moderado': 0, 'Agressivo': 0}\n",
      "{'Conservador': 5, 'Moderado': 0, 'Agressivo': 0}\n",
      "{'Conservador': 5, 'Moderado': 0, 'Agressivo': 0}\n",
      "{'Conservador': 5, 'Moderado': 0, 'Agressivo': 0}\n",
      "{'Conservador': 5, 'Moderado': 0, 'Agressivo': 0}\n",
      "{'Conservador': 0, 'Moderado': 5, 'Agressivo': 0}\n",
      "{'Conservador': 0, 'Moderado': 5, 'Agressivo': 0}\n",
      "{'Conservador': 0, 'Moderado': 5, 'Agressivo': 0}\n",
      "{'Conservador': 0, 'Moderado': 4, 'Agressivo': 1}\n",
      "{'Conservador': 0, 'Moderado': 5, 'Agressivo': 0}\n",
      "{'Conservador': 0, 'Moderado': 5, 'Agressivo': 0}\n",
      "{'Conservador': 0, 'Moderado': 5, 'Agressivo': 0}\n",
      "{'Conservador': 0, 'Moderado': 5, 'Agressivo': 0}\n",
      "{'Conservador': 0, 'Moderado': 4, 'Agressivo': 1}\n",
      "{'Conservador': 0, 'Moderado': 5, 'Agressivo': 0}\n",
      "{'Conservador': 0, 'Moderado': 1, 'Agressivo': 4}\n",
      "{'Conservador': 0, 'Moderado': 0, 'Agressivo': 5}\n",
      "{'Conservador': 0, 'Moderado': 0, 'Agressivo': 5}\n",
      "{'Conservador': 0, 'Moderado': 1, 'Agressivo': 4}\n",
      "{'Conservador': 0, 'Moderado': 0, 'Agressivo': 5}\n",
      "{'Conservador': 0, 'Moderado': 0, 'Agressivo': 5}\n",
      "{'Conservador': 0, 'Moderado': 0, 'Agressivo': 5}\n",
      "{'Conservador': 0, 'Moderado': 0, 'Agressivo': 5}\n",
      "{'Conservador': 0, 'Moderado': 0, 'Agressivo': 5}\n",
      "{'Conservador': 0, 'Moderado': 2, 'Agressivo': 3}\n"
     ]
    },
    {
     "data": {
      "text/plain": [
       "{45926320819: 'Conservador',\n",
       " 52559670741: 'Conservador',\n",
       " 59016004832: 'Conservador',\n",
       " 66175672425: 'Conservador',\n",
       " 53330429526: 'Conservador',\n",
       " 43765563403: 'Conservador',\n",
       " 68020822591: 'Conservador',\n",
       " 53939481689: 'Conservador',\n",
       " 47014057561: 'Conservador',\n",
       " 57183542047: 'Conservador',\n",
       " 68518284363: 'Moderado',\n",
       " 65806049885: 'Moderado',\n",
       " 54128073086: 'Moderado',\n",
       " 41306785494: 'Moderado',\n",
       " 65234831039: 'Moderado',\n",
       " 50964498067: 'Moderado',\n",
       " 50810951429: 'Moderado',\n",
       " 48765044397: 'Moderado',\n",
       " 41960083761: 'Moderado',\n",
       " 76657763082: 'Moderado',\n",
       " 64726487742: 'Agressivo',\n",
       " 75746566283: 'Agressivo',\n",
       " 78576734793: 'Agressivo',\n",
       " 56440141847: 'Agressivo',\n",
       " 66827423000: 'Agressivo',\n",
       " 45267873396: 'Agressivo',\n",
       " 46387191493: 'Agressivo',\n",
       " 54273611732: 'Agressivo',\n",
       " 75135392881: 'Agressivo',\n",
       " 64703873108: 'Agressivo'}"
      ]
     },
     "execution_count": 8,
     "metadata": {},
     "output_type": "execute_result"
    }
   ],
   "source": [
    "import modelo_knn_fernando as mk4\n",
    "\n",
    "# Fluxo principal\n",
    "k = 5\n",
    "dicFinal = {}\n",
    "for investidor in no_class:\n",
    "    listPerfisProximos = mk4.encontrarMaisProximos(k, investidor, data)\n",
    "    #print(listPerfisProximos)\n",
    "    #print(' ')\n",
    "    perfil = mk4.definirPerfil(listPerfisProximos)\n",
    "    dicFinal[investidor[0]] = perfil\n",
    "dicFinal"
   ]
  },
  {
   "cell_type": "code",
   "execution_count": null,
   "id": "59db06a3",
   "metadata": {},
   "outputs": [],
   "source": []
  },
  {
   "cell_type": "code",
   "execution_count": null,
   "id": "52c48244",
   "metadata": {},
   "outputs": [],
   "source": []
  },
  {
   "cell_type": "code",
   "execution_count": null,
   "id": "1bed78ca",
   "metadata": {},
   "outputs": [],
   "source": []
  },
  {
   "cell_type": "code",
   "execution_count": 6,
   "id": "c3495133",
   "metadata": {
    "ExecuteTime": {
     "end_time": "2021-07-16T23:49:30.936433Z",
     "start_time": "2021-07-16T23:49:30.920476Z"
    }
   },
   "outputs": [
    {
     "name": "stdout",
     "output_type": "stream",
     "text": [
      "1\n",
      "3\n",
      "5\n",
      "0\n",
      "1\n",
      "3\n",
      "5\n",
      "0\n"
     ]
    }
   ],
   "source": [
    "lista = [1, 3, 5, 0]\n",
    "for i in range(len(lista)):\n",
    "    print(lista[i])\n",
    "    \n",
    "for i in lista:\n",
    "    print(i)"
   ]
  },
  {
   "cell_type": "code",
   "execution_count": null,
   "id": "7cbcbbcc",
   "metadata": {},
   "outputs": [],
   "source": []
  },
  {
   "cell_type": "markdown",
   "id": "a2c6b0d1",
   "metadata": {},
   "source": [
    "### Links úteis\n",
    "\n",
    "Estilo definido pela google:   \n",
    "            - https://google.github.io/styleguide/pyguide.html\n",
    "\n",
    "Geração de foto de pessoas que não existem  \n",
    "            - https://thispersondoesnotexist.com/\n",
    "            \n",
    "Desafio\n"
   ]
  },
  {
   "cell_type": "code",
   "execution_count": null,
   "id": "f7e0cac5",
   "metadata": {},
   "outputs": [],
   "source": []
  },
  {
   "cell_type": "code",
   "execution_count": null,
   "id": "832e817c",
   "metadata": {},
   "outputs": [],
   "source": []
  }
 ],
 "metadata": {
  "kernelspec": {
   "display_name": "Python 3",
   "language": "python",
   "name": "python3"
  },
  "language_info": {
   "codemirror_mode": {
    "name": "ipython",
    "version": 3
   },
   "file_extension": ".py",
   "mimetype": "text/x-python",
   "name": "python",
   "nbconvert_exporter": "python",
   "pygments_lexer": "ipython3",
   "version": "3.9.5"
  },
  "varInspector": {
   "cols": {
    "lenName": 16,
    "lenType": 16,
    "lenVar": 40
   },
   "kernels_config": {
    "python": {
     "delete_cmd_postfix": "",
     "delete_cmd_prefix": "del ",
     "library": "var_list.py",
     "varRefreshCmd": "print(var_dic_list())"
    },
    "r": {
     "delete_cmd_postfix": ") ",
     "delete_cmd_prefix": "rm(",
     "library": "var_list.r",
     "varRefreshCmd": "cat(var_dic_list()) "
    }
   },
   "types_to_exclude": [
    "module",
    "function",
    "builtin_function_or_method",
    "instance",
    "_Feature"
   ],
   "window_display": false
  }
 },
 "nbformat": 4,
 "nbformat_minor": 5
}
