{
 "cells": [
  {
   "cell_type": "markdown",
   "id": "34976b60",
   "metadata": {},
   "source": [
    "# Resumo - Módulo I"
   ]
  },
  {
   "cell_type": "markdown",
   "id": "f38b2a27",
   "metadata": {},
   "source": [
    "## Variáveis, entradas e saídas"
   ]
  },
  {
   "cell_type": "markdown",
   "id": "18e007c0",
   "metadata": {},
   "source": [
    "Tipos de variáveis\n",
    "- int: números inteiros, ou seja, números sem parte decimal: 0, 5, -1, 1000\n",
    "- float: números reais, ou seja, números com parte decimal: 1.0, -2.7, 3.14\n",
    "- str: cadeias de caracteres (strings), ou seja, dados textuais: 'Olá Mundo!', \"eu tenho 18 anos\"\n",
    "- bool: valores lógicos (booleanos), ou seja, apenas um entre dois valores possíveis: True ou False\n"
   ]
  },
  {
   "cell_type": "code",
   "execution_count": 4,
   "id": "7e4507fd",
   "metadata": {
    "ExecuteTime": {
     "end_time": "2021-07-28T22:18:03.947925Z",
     "start_time": "2021-07-28T22:18:03.939945Z"
    }
   },
   "outputs": [
    {
     "name": "stdout",
     "output_type": "stream",
     "text": [
      "Dessa forma que representa uma string\n",
      "Tudo que está aqui dentro é uma string\n",
      "<class 'str'>\n"
     ]
    }
   ],
   "source": [
    "# string\n",
    "var1 = 'Dessa forma que representa uma string'\n",
    "var2 = \"Tudo que está aqui dentro é uma string\"\n",
    "\n",
    "print(var1)\n",
    "print(var2)\n",
    "print(type(var1))"
   ]
  },
  {
   "cell_type": "code",
   "execution_count": 7,
   "id": "f5aa1e58",
   "metadata": {
    "ExecuteTime": {
     "end_time": "2021-07-28T22:18:44.725326Z",
     "start_time": "2021-07-28T22:18:44.703383Z"
    }
   },
   "outputs": [
    {
     "name": "stdout",
     "output_type": "stream",
     "text": [
      "34.6 3.0\n",
      "<class 'float'> <class 'float'>\n"
     ]
    }
   ],
   "source": [
    "# float\n",
    "var3 = 34.6\n",
    "var4 = 3.0\n",
    "\n",
    "print(var3, var4)\n",
    "print(type(var3), type(var4))"
   ]
  },
  {
   "cell_type": "code",
   "execution_count": 10,
   "id": "d60c2d84",
   "metadata": {
    "ExecuteTime": {
     "end_time": "2021-07-28T22:19:54.954465Z",
     "start_time": "2021-07-28T22:19:54.940496Z"
    }
   },
   "outputs": [
    {
     "name": "stdout",
     "output_type": "stream",
     "text": [
      "True False\n",
      "<class 'bool'> <class 'bool'>\n"
     ]
    }
   ],
   "source": [
    "# booleano\n",
    "var5 = True \n",
    "var6 = False\n",
    "\n",
    "print(var5,var6)\n",
    "print(type(var5), type(var6))"
   ]
  },
  {
   "cell_type": "code",
   "execution_count": 12,
   "id": "b1d21e5f",
   "metadata": {
    "ExecuteTime": {
     "end_time": "2021-07-28T22:20:45.613711Z",
     "start_time": "2021-07-28T22:20:45.596803Z"
    }
   },
   "outputs": [
    {
     "name": "stdout",
     "output_type": "stream",
     "text": [
      "1 65489\n",
      "<class 'int'> <class 'int'>\n"
     ]
    }
   ],
   "source": [
    "# int\n",
    "var7 = 1\n",
    "var8 = 65489\n",
    "\n",
    "print(var7, var8)\n",
    "print(type(var7), type(var8))"
   ]
  },
  {
   "cell_type": "code",
   "execution_count": 15,
   "id": "9ba60067",
   "metadata": {
    "ExecuteTime": {
     "end_time": "2021-07-28T22:23:33.921626Z",
     "start_time": "2021-07-28T22:23:33.912651Z"
    }
   },
   "outputs": [
    {
     "name": "stdout",
     "output_type": "stream",
     "text": [
      "<class 'str'>\n"
     ]
    }
   ],
   "source": [
    "# exemplos\n",
    "var10 = '10'\n",
    "var11 = 10\n",
    "var12 = 0.1\n",
    "\n",
    "# var13 = true # não é string, nem float, booleano, nem int. É uma tribuição de uma variável chamada true para var chamada var13\n",
    "var14 = True\n",
    "var15 = 'True'\n",
    "\n",
    "print(type(var10))"
   ]
  },
  {
   "cell_type": "markdown",
   "id": "bb783a29",
   "metadata": {
    "ExecuteTime": {
     "end_time": "2021-07-28T22:25:05.295673Z",
     "start_time": "2021-07-28T22:25:05.273732Z"
    }
   },
   "source": [
    "Transformar variáveis"
   ]
  },
  {
   "cell_type": "code",
   "execution_count": 19,
   "id": "233f53ec",
   "metadata": {
    "ExecuteTime": {
     "end_time": "2021-07-28T22:26:33.779809Z",
     "start_time": "2021-07-28T22:26:33.763856Z"
    }
   },
   "outputs": [
    {
     "name": "stdout",
     "output_type": "stream",
     "text": [
      "10\n",
      "<class 'int'>\n"
     ]
    }
   ],
   "source": [
    "print(int(var10)) # transformando uma variável do tipo string em inteiro\n",
    "\n",
    "print(type(int(var10)))\n"
   ]
  },
  {
   "cell_type": "code",
   "execution_count": 21,
   "id": "69ae6de7",
   "metadata": {
    "ExecuteTime": {
     "end_time": "2021-07-28T22:27:39.146102Z",
     "start_time": "2021-07-28T22:27:39.134135Z"
    }
   },
   "outputs": [
    {
     "data": {
      "text/plain": [
       "'0.1'"
      ]
     },
     "execution_count": 21,
     "metadata": {},
     "output_type": "execute_result"
    }
   ],
   "source": [
    "str(var12)# transformar a var12 (que é float) em string"
   ]
  },
  {
   "cell_type": "code",
   "execution_count": 22,
   "id": "54ff6e01",
   "metadata": {
    "ExecuteTime": {
     "end_time": "2021-07-28T22:28:28.013856Z",
     "start_time": "2021-07-28T22:28:28.006875Z"
    }
   },
   "outputs": [
    {
     "data": {
      "text/plain": [
       "True"
      ]
     },
     "execution_count": 22,
     "metadata": {},
     "output_type": "execute_result"
    }
   ],
   "source": [
    "bool(var15) # transformar a var15 (que é string) em booleana"
   ]
  },
  {
   "cell_type": "code",
   "execution_count": 23,
   "id": "6f8e7723",
   "metadata": {
    "ExecuteTime": {
     "end_time": "2021-07-28T22:29:19.851924Z",
     "start_time": "2021-07-28T22:29:19.831978Z"
    }
   },
   "outputs": [
    {
     "data": {
      "text/plain": [
       "10.0"
      ]
     },
     "execution_count": 23,
     "metadata": {},
     "output_type": "execute_result"
    }
   ],
   "source": [
    "float(var11)# transformando a var11 (que é int) em float"
   ]
  },
  {
   "cell_type": "code",
   "execution_count": 24,
   "id": "e5160597",
   "metadata": {
    "ExecuteTime": {
     "end_time": "2021-07-28T22:30:03.089996Z",
     "start_time": "2021-07-28T22:30:03.080025Z"
    }
   },
   "outputs": [
    {
     "data": {
      "text/plain": [
       "0"
      ]
     },
     "execution_count": 24,
     "metadata": {},
     "output_type": "execute_result"
    }
   ],
   "source": [
    "int(var12)# transfomar a var12 (que é float) em int"
   ]
  },
  {
   "cell_type": "code",
   "execution_count": 28,
   "id": "4d960fc5",
   "metadata": {
    "ExecuteTime": {
     "end_time": "2021-07-28T22:31:22.014345Z",
     "start_time": "2021-07-28T22:31:22.008320Z"
    }
   },
   "outputs": [
    {
     "data": {
      "text/plain": [
       "34"
      ]
     },
     "execution_count": 28,
     "metadata": {},
     "output_type": "execute_result"
    }
   ],
   "source": [
    "int(var3)"
   ]
  },
  {
   "cell_type": "code",
   "execution_count": 27,
   "id": "784d5e3c",
   "metadata": {
    "ExecuteTime": {
     "end_time": "2021-07-28T22:31:18.986971Z",
     "start_time": "2021-07-28T22:31:18.978992Z"
    }
   },
   "outputs": [
    {
     "data": {
      "text/plain": [
       "34.6"
      ]
     },
     "execution_count": 27,
     "metadata": {},
     "output_type": "execute_result"
    }
   ],
   "source": [
    "var3"
   ]
  },
  {
   "cell_type": "code",
   "execution_count": 33,
   "id": "ba99252a",
   "metadata": {
    "ExecuteTime": {
     "end_time": "2021-07-28T22:32:07.359893Z",
     "start_time": "2021-07-28T22:32:07.348921Z"
    }
   },
   "outputs": [
    {
     "data": {
      "text/plain": [
       "34"
      ]
     },
     "execution_count": 33,
     "metadata": {},
     "output_type": "execute_result"
    }
   ],
   "source": [
    "int(34.9) # truncando o valor inteiro -> não arredonda"
   ]
  },
  {
   "cell_type": "markdown",
   "id": "9c4b5f2d",
   "metadata": {},
   "source": [
    "Entrada de dados\n",
    "\n",
    "Dados fornecidos pelo usuário (por exemplo, dados pelo teclado) -> função input  \n",
    "input() # -> abre um campo para colocar o dado"
   ]
  },
  {
   "cell_type": "code",
   "execution_count": 36,
   "id": "cd17b334",
   "metadata": {
    "ExecuteTime": {
     "end_time": "2021-07-28T22:34:27.585223Z",
     "start_time": "2021-07-28T22:34:23.584168Z"
    }
   },
   "outputs": [
    {
     "name": "stdout",
     "output_type": "stream",
     "text": [
      "Digite alguma coisa para armazenar: um texto qualquer\n",
      "O que foi armazenado:  um texto qualquer\n",
      "<class 'str'>\n"
     ]
    }
   ],
   "source": [
    "armazenar_variavel = input('Digite alguma coisa para armazenar: ')\n",
    "\n",
    "print('O que foi armazenado: ', armazenar_variavel)\n",
    "print(type(armazenar_variavel))"
   ]
  },
  {
   "cell_type": "code",
   "execution_count": 37,
   "id": "66f0d468",
   "metadata": {
    "ExecuteTime": {
     "end_time": "2021-07-28T22:34:35.425165Z",
     "start_time": "2021-07-28T22:34:32.264033Z"
    }
   },
   "outputs": [
    {
     "name": "stdout",
     "output_type": "stream",
     "text": [
      "Digite alguma coisa para armazenar: 10\n",
      "O que foi armazenado:  10\n",
      "<class 'str'>\n"
     ]
    }
   ],
   "source": [
    "armazenar_variavel = input('Digite alguma coisa para armazenar: ')\n",
    "\n",
    "print('O que foi armazenado: ', armazenar_variavel)\n",
    "print(type(armazenar_variavel))"
   ]
  },
  {
   "cell_type": "markdown",
   "id": "0c00620b",
   "metadata": {},
   "source": [
    "O Input sempre armazena como string"
   ]
  },
  {
   "cell_type": "code",
   "execution_count": 38,
   "id": "8492ff85",
   "metadata": {
    "ExecuteTime": {
     "end_time": "2021-07-28T22:35:23.345884Z",
     "start_time": "2021-07-28T22:35:23.337905Z"
    }
   },
   "outputs": [
    {
     "data": {
      "text/plain": [
       "10.0"
      ]
     },
     "execution_count": 38,
     "metadata": {},
     "output_type": "execute_result"
    }
   ],
   "source": [
    "float(armazenar_variavel)"
   ]
  },
  {
   "cell_type": "markdown",
   "id": "8103150e",
   "metadata": {},
   "source": [
    "Operadores\n",
    "- Soma: +\n",
    "- Subtração: -\n",
    "- Multiplicação: *\n",
    "- Divisão: /\n",
    "- Divisão inteira: //\n",
    "- Resto da divisão: %\n",
    "- Potência: **"
   ]
  },
  {
   "cell_type": "markdown",
   "id": "13311cb3",
   "metadata": {},
   "source": [
    "soma = a + b"
   ]
  },
  {
   "cell_type": "code",
   "execution_count": 41,
   "id": "b8c76d73",
   "metadata": {
    "ExecuteTime": {
     "end_time": "2021-07-28T22:36:48.611902Z",
     "start_time": "2021-07-28T22:36:48.601228Z"
    }
   },
   "outputs": [
    {
     "name": "stdout",
     "output_type": "stream",
     "text": [
      "11\n"
     ]
    }
   ],
   "source": [
    "soma = 6 + 5\n",
    "print(soma)"
   ]
  },
  {
   "cell_type": "code",
   "execution_count": 42,
   "id": "c245c44b",
   "metadata": {
    "ExecuteTime": {
     "end_time": "2021-07-28T22:36:53.798383Z",
     "start_time": "2021-07-28T22:36:53.781386Z"
    }
   },
   "outputs": [
    {
     "name": "stdout",
     "output_type": "stream",
     "text": [
      "11\n"
     ]
    }
   ],
   "source": [
    "a = 6\n",
    "b = 5\n",
    "soma = a + b\n",
    "print(soma)"
   ]
  },
  {
   "cell_type": "markdown",
   "id": "f47bc4fd",
   "metadata": {},
   "source": [
    "subtrai = a - b  \n",
    "multiplica = a * b  \n",
    "divide = a / b  \n",
    "divide_inteiro = a // b  \n",
    "resto_divisao = a % b  \n",
    "potencia = a ** 2 #(potencia de 2)  "
   ]
  },
  {
   "cell_type": "code",
   "execution_count": 50,
   "id": "8ad1f1ba",
   "metadata": {
    "ExecuteTime": {
     "end_time": "2021-07-28T22:39:20.937931Z",
     "start_time": "2021-07-28T22:39:20.924924Z"
    }
   },
   "outputs": [],
   "source": [
    "a = 35\n",
    "b = 3"
   ]
  },
  {
   "cell_type": "code",
   "execution_count": 51,
   "id": "a7719569",
   "metadata": {
    "ExecuteTime": {
     "end_time": "2021-07-28T22:39:22.040340Z",
     "start_time": "2021-07-28T22:39:22.032461Z"
    }
   },
   "outputs": [],
   "source": [
    "subtrai = a - b  \n",
    "multiplica = a * b  \n",
    "divide = a / b  \n",
    "divide_inteiro = a // b  \n",
    "resto_divisao = a % b  \n",
    "potencia = a ** 2 #(potencia de 2)  "
   ]
  },
  {
   "cell_type": "code",
   "execution_count": 57,
   "id": "5a133451",
   "metadata": {
    "ExecuteTime": {
     "end_time": "2021-07-28T22:40:09.619798Z",
     "start_time": "2021-07-28T22:40:09.606834Z"
    }
   },
   "outputs": [
    {
     "name": "stdout",
     "output_type": "stream",
     "text": [
      "Soma: 11\n",
      "Subtração: 32\n",
      "Multiplicação: 105\n",
      "Divisão: 11.666666666666666\n",
      "Divisão inteira: 11\n",
      "Resto da divisão: 2\n",
      "Potenciação: 1225\n"
     ]
    }
   ],
   "source": [
    "print('Soma:', soma)\n",
    "print('Subtração:', subtrai)\n",
    "print('Multiplicação:', multiplica)\n",
    "print('Divisão:', divide)\n",
    "print('Divisão inteira:', divide_inteiro)\n",
    "print('Resto da divisão:', resto_divisao)\n",
    "print('Potenciação:', potencia)"
   ]
  },
  {
   "cell_type": "markdown",
   "id": "bb1af0c3",
   "metadata": {},
   "source": [
    "Operações Booleanas  \n",
    "- Maior que: >\n",
    "- Maior ou igual: >=\n",
    "- Menor que: <\n",
    "- Menor ou igual: <=\n",
    "- Igual: == \n",
    "- Diferente: !="
   ]
  },
  {
   "cell_type": "code",
   "execution_count": 59,
   "id": "af9de97b",
   "metadata": {
    "ExecuteTime": {
     "end_time": "2021-07-28T22:42:11.746550Z",
     "start_time": "2021-07-28T22:42:11.728557Z"
    }
   },
   "outputs": [
    {
     "name": "stdout",
     "output_type": "stream",
     "text": [
      "True\n"
     ]
    }
   ],
   "source": [
    "comparacao = 20 > -5\n",
    "print(comparacao)"
   ]
  },
  {
   "cell_type": "code",
   "execution_count": 61,
   "id": "86a7c641",
   "metadata": {
    "ExecuteTime": {
     "end_time": "2021-07-28T22:42:49.437665Z",
     "start_time": "2021-07-28T22:42:49.430680Z"
    }
   },
   "outputs": [
    {
     "data": {
      "text/plain": [
       "False"
      ]
     },
     "execution_count": 61,
     "metadata": {},
     "output_type": "execute_result"
    }
   ],
   "source": [
    "comparacao = 5 == -5\n",
    "comparacao"
   ]
  },
  {
   "cell_type": "markdown",
   "id": "e506a20f",
   "metadata": {},
   "source": [
    "Conjunções lógicas\n",
    "- and: verdadeiro se condição 1 for verdadeira **e** condição 2 for verdadeira\n",
    "- or: verdadeiro se condição 1 for verdadeira **ou** condição 2 for verdadeira"
   ]
  },
  {
   "cell_type": "code",
   "execution_count": 64,
   "id": "a4ed9db3",
   "metadata": {
    "ExecuteTime": {
     "end_time": "2021-07-28T22:45:15.987755Z",
     "start_time": "2021-07-28T22:45:15.968771Z"
    }
   },
   "outputs": [
    {
     "data": {
      "text/plain": [
       "False"
      ]
     },
     "execution_count": 64,
     "metadata": {},
     "output_type": "execute_result"
    }
   ],
   "source": [
    "media = 6.5\n",
    "freq = 0.65\n",
    "\n",
    "aprovado = media >= 6.0 and freq >= 0.75\n",
    "aprovado"
   ]
  },
  {
   "cell_type": "markdown",
   "id": "2a172840",
   "metadata": {},
   "source": [
    "## Malhas de repetição"
   ]
  },
  {
   "cell_type": "markdown",
   "id": "527b3b12",
   "metadata": {},
   "source": [
    "\"Execute enquanto a condição for verdadeira\"  \n",
    "*loop*"
   ]
  },
  {
   "cell_type": "code",
   "execution_count": 67,
   "id": "26ca2842",
   "metadata": {
    "ExecuteTime": {
     "end_time": "2021-07-28T22:48:15.338482Z",
     "start_time": "2021-07-28T22:48:15.316580Z"
    }
   },
   "outputs": [
    {
     "name": "stdout",
     "output_type": "stream",
     "text": [
      "Estou decrementando 1. O valor de i é: 10\n",
      "Estou decrementando 1. O valor de i é: 9\n",
      "Estou decrementando 1. O valor de i é: 8\n",
      "Estou decrementando 1. O valor de i é: 7\n",
      "Estou decrementando 1. O valor de i é: 6\n",
      "Estou decrementando 1. O valor de i é: 5\n",
      "Estou decrementando 1. O valor de i é: 4\n",
      "Estou decrementando 1. O valor de i é: 3\n",
      "Estou decrementando 1. O valor de i é: 2\n",
      "Estou decrementando 1. O valor de i é: 1\n"
     ]
    }
   ],
   "source": [
    "i = 10\n",
    "\n",
    "while i > 0:\n",
    "    print('Estou decrementando 1. O valor de i é:', i)\n",
    "    i -=1\n",
    "    "
   ]
  },
  {
   "cell_type": "markdown",
   "id": "9c377d5a",
   "metadata": {},
   "source": [
    "Loops do tipo 'para' -> FOR\n",
    "\n",
    "contador é uma variável e não precisa ser criada  \n",
    "irá executar x vezes"
   ]
  },
  {
   "cell_type": "code",
   "execution_count": 74,
   "id": "e0274125",
   "metadata": {
    "ExecuteTime": {
     "end_time": "2021-07-28T22:54:05.801599Z",
     "start_time": "2021-07-28T22:54:05.782650Z"
    }
   },
   "outputs": [
    {
     "name": "stdout",
     "output_type": "stream",
     "text": [
      "2\n",
      "5\n",
      "8\n",
      "11\n",
      "14\n"
     ]
    }
   ],
   "source": [
    "for contador in range(2, 16, 3): # algo iterável (consigo percorrer, ex: lista, tupla, range...)\n",
    "    print(contador)"
   ]
  },
  {
   "cell_type": "markdown",
   "id": "bd57ee45",
   "metadata": {},
   "source": [
    "for contador in range(FINAL):\n",
    "    print(contador)\n",
    "    \n",
    "for contador in range(INICIAL, FINAL):\n",
    "    print(contador)\n",
    "    \n",
    "for contador in range(INICIAL, FINAL, PASSO):\n",
    "    print(contador)"
   ]
  },
  {
   "cell_type": "code",
   "execution_count": 75,
   "id": "a6b00c61",
   "metadata": {
    "ExecuteTime": {
     "end_time": "2021-07-28T22:56:36.634819Z",
     "start_time": "2021-07-28T22:56:36.625845Z"
    }
   },
   "outputs": [
    {
     "name": "stdout",
     "output_type": "stream",
     "text": [
      "1\n",
      "3\n",
      "a\n",
      "5\n",
      "c\n",
      "True\n",
      "['a']\n"
     ]
    }
   ],
   "source": [
    "lista1 = [1, 3, 'a', 5, 'c', True, ['a']] # lista com itens\n",
    "\n",
    "for item in lista1: # item a item\n",
    "    print(item)"
   ]
  },
  {
   "cell_type": "code",
   "execution_count": 76,
   "id": "99a30ddc",
   "metadata": {
    "ExecuteTime": {
     "end_time": "2021-07-28T22:57:26.771839Z",
     "start_time": "2021-07-28T22:57:26.761868Z"
    }
   },
   "outputs": [
    {
     "name": "stdout",
     "output_type": "stream",
     "text": [
      "0\n",
      "1\n",
      "2\n",
      "3\n",
      "4\n",
      "5\n",
      "6\n"
     ]
    }
   ],
   "source": [
    "for item in range(len(lista1)): #percorrer a lista até acabar --> por posição na lista\n",
    "    print(item) # retorna o índice\n",
    "    "
   ]
  },
  {
   "cell_type": "code",
   "execution_count": 77,
   "id": "6f550629",
   "metadata": {
    "ExecuteTime": {
     "end_time": "2021-07-28T22:58:04.008964Z",
     "start_time": "2021-07-28T22:58:03.990019Z"
    }
   },
   "outputs": [
    {
     "name": "stdout",
     "output_type": "stream",
     "text": [
      "1\n",
      "3\n",
      "a\n",
      "5\n",
      "c\n",
      "True\n",
      "['a']\n"
     ]
    }
   ],
   "source": [
    "for i in range(len(lista1)): #percorrer a lista até acabar --> por posição na lista\n",
    "    print(lista1[i]) # retorna o índice e para mostrar o conteúdo do índice"
   ]
  },
  {
   "cell_type": "markdown",
   "id": "be6c6088",
   "metadata": {},
   "source": [
    "## Listas"
   ]
  },
  {
   "cell_type": "code",
   "execution_count": 78,
   "id": "6cdde0e2",
   "metadata": {
    "ExecuteTime": {
     "end_time": "2021-07-28T22:59:09.253885Z",
     "start_time": "2021-07-28T22:59:09.240919Z"
    }
   },
   "outputs": [],
   "source": [
    "# criando uma lista vazia\n",
    "lista_vazia = []"
   ]
  },
  {
   "cell_type": "code",
   "execution_count": 79,
   "id": "39571cd1",
   "metadata": {
    "ExecuteTime": {
     "end_time": "2021-07-28T23:00:38.886235Z",
     "start_time": "2021-07-28T23:00:38.871276Z"
    }
   },
   "outputs": [],
   "source": [
    "lista2 = ['1', '2', '3']  # lista com elementos do tipo string\n",
    "lista3 = [1, 2, 3]  # lista com elementos do tipo inteiro\n",
    "listamista = [1, 'dois', 3.0, False, [2], (1)]"
   ]
  },
  {
   "cell_type": "code",
   "execution_count": 96,
   "id": "1e6ab7dc",
   "metadata": {
    "ExecuteTime": {
     "end_time": "2021-07-28T23:14:14.373416Z",
     "start_time": "2021-07-28T23:14:14.355464Z"
    }
   },
   "outputs": [
    {
     "name": "stdout",
     "output_type": "stream",
     "text": [
      "[-5, -3, -20, -2]\n"
     ]
    }
   ],
   "source": [
    "# percorrer uma lista? for\n",
    "lista_numeros = [1, -5, 6, 7, -3, 10, -20, 0, 4, -2]\n",
    "\n",
    "# quero uma lista com números negativos\n",
    "lista_negativos = []\n",
    "for item in lista_numeros:\n",
    "    if item < 0:\n",
    "        lista_negativos.append(item)\n",
    "        \n",
    "print(lista_negativos)"
   ]
  },
  {
   "cell_type": "code",
   "execution_count": 84,
   "id": "d1b33eea",
   "metadata": {
    "ExecuteTime": {
     "end_time": "2021-07-28T23:06:13.608447Z",
     "start_time": "2021-07-28T23:06:13.601430Z"
    }
   },
   "outputs": [
    {
     "name": "stdout",
     "output_type": "stream",
     "text": [
      "[-5, -3, -20, -2]\n"
     ]
    }
   ],
   "source": [
    "# como posso transformar o código acima em compreensão de lista?\n",
    "lista_negativos = [item for item in lista_numeros if item < 0]\n",
    "print(lista_negativos)"
   ]
  },
  {
   "cell_type": "code",
   "execution_count": 85,
   "id": "e2dda07b",
   "metadata": {
    "ExecuteTime": {
     "end_time": "2021-07-28T23:08:27.618652Z",
     "start_time": "2021-07-28T23:08:27.609676Z"
    }
   },
   "outputs": [
    {
     "data": {
      "text/plain": [
       "[-5, 6, 7, -3, 10, -20, 0, 4, -2]"
      ]
     },
     "execution_count": 85,
     "metadata": {},
     "output_type": "execute_result"
    }
   ],
   "source": [
    "# quero uma lista com todos os elementos menos o primeiro\n",
    "lista_numeros[1:]"
   ]
  },
  {
   "cell_type": "code",
   "execution_count": 86,
   "id": "05214840",
   "metadata": {
    "ExecuteTime": {
     "end_time": "2021-07-28T23:09:26.000738Z",
     "start_time": "2021-07-28T23:09:25.982787Z"
    }
   },
   "outputs": [
    {
     "data": {
      "text/plain": [
       "[7, -3, 10]"
      ]
     },
     "execution_count": 86,
     "metadata": {},
     "output_type": "execute_result"
    }
   ],
   "source": [
    "# lista_numeros[indice_inicial até indice_final]\n",
    "lista_numeros[3:6]"
   ]
  },
  {
   "cell_type": "markdown",
   "id": "e6275bf0",
   "metadata": {},
   "source": [
    "Métodos das listas"
   ]
  },
  {
   "cell_type": "code",
   "execution_count": 97,
   "id": "2a77d2c4",
   "metadata": {
    "ExecuteTime": {
     "end_time": "2021-07-28T23:14:19.653466Z",
     "start_time": "2021-07-28T23:14:19.641499Z"
    }
   },
   "outputs": [
    {
     "name": "stdout",
     "output_type": "stream",
     "text": [
      "[1, -5, 6, 7, -3, 10, -20, 0, 4, -2, 19]\n"
     ]
    }
   ],
   "source": [
    "# adicionar um número na lista -> ao final da lista\n",
    "lista_numeros.append(19) # Muda a lista\n",
    "print(lista_numeros)"
   ]
  },
  {
   "cell_type": "code",
   "execution_count": 98,
   "id": "49f980cf",
   "metadata": {
    "ExecuteTime": {
     "end_time": "2021-07-28T23:14:20.879267Z",
     "start_time": "2021-07-28T23:14:20.870300Z"
    }
   },
   "outputs": [
    {
     "name": "stdout",
     "output_type": "stream",
     "text": [
      "[1, -5, 6, 6, 7, -3, 10, -20, 0, 4, -2, 19]\n"
     ]
    }
   ],
   "source": [
    "# acrescentar o valor 6 na posição 3\n",
    "lista_numeros.insert(3, 6) #muda a lista\n",
    "print(lista_numeros)"
   ]
  },
  {
   "cell_type": "code",
   "execution_count": 99,
   "id": "9299086e",
   "metadata": {
    "ExecuteTime": {
     "end_time": "2021-07-28T23:14:23.293989Z",
     "start_time": "2021-07-28T23:14:23.290000Z"
    }
   },
   "outputs": [
    {
     "name": "stdout",
     "output_type": "stream",
     "text": [
      "[1, -5, 6, 6, 7, -3, 10, 0, 4, -2, 19]\n"
     ]
    }
   ],
   "source": [
    "# remover o elemento -20 da lista\n",
    "lista_numeros.remove(-20) #-> muda a lista\n",
    "print(lista_numeros)"
   ]
  },
  {
   "cell_type": "code",
   "execution_count": 100,
   "id": "200ce5a7",
   "metadata": {
    "ExecuteTime": {
     "end_time": "2021-07-28T23:16:08.881483Z",
     "start_time": "2021-07-28T23:16:08.874542Z"
    }
   },
   "outputs": [
    {
     "data": {
      "text/plain": [
       "6"
      ]
     },
     "execution_count": 100,
     "metadata": {},
     "output_type": "execute_result"
    }
   ],
   "source": [
    "# remover o valor pelo índice e mostra seu valor\n",
    "lista_numeros.pop(2) # muda a lista"
   ]
  },
  {
   "cell_type": "code",
   "execution_count": 101,
   "id": "bd52218b",
   "metadata": {
    "ExecuteTime": {
     "end_time": "2021-07-28T23:16:18.857672Z",
     "start_time": "2021-07-28T23:16:18.846683Z"
    }
   },
   "outputs": [
    {
     "name": "stdout",
     "output_type": "stream",
     "text": [
      "[1, -5, 6, 7, -3, 10, 0, 4, -2, 19]\n"
     ]
    }
   ],
   "source": [
    "print(lista_numeros)"
   ]
  },
  {
   "cell_type": "code",
   "execution_count": 103,
   "id": "99486402",
   "metadata": {
    "ExecuteTime": {
     "end_time": "2021-07-28T23:17:51.925381Z",
     "start_time": "2021-07-28T23:17:51.906427Z"
    }
   },
   "outputs": [
    {
     "name": "stdout",
     "output_type": "stream",
     "text": [
      "[19, 10, 7, 6, 4, 1, 0, -2, -3, -5]\n"
     ]
    }
   ],
   "source": [
    "# como ordenar a lista?\n",
    "lista_numeros.sort(reverse=True) #muda a lista\n",
    "print(lista_numeros)"
   ]
  },
  {
   "cell_type": "code",
   "execution_count": 104,
   "id": "aa36f702",
   "metadata": {
    "ExecuteTime": {
     "end_time": "2021-07-28T23:18:00.770717Z",
     "start_time": "2021-07-28T23:18:00.760744Z"
    }
   },
   "outputs": [
    {
     "data": {
      "text/plain": [
       "[-5, -3, -2, 0, 1, 4, 6, 7, 10, 19]"
      ]
     },
     "execution_count": 104,
     "metadata": {},
     "output_type": "execute_result"
    }
   ],
   "source": [
    "sorted(lista_numeros) # NÂO MUDA A LISTA, função não muda a lista, a não ser que a gente atribua a uma outra lista"
   ]
  },
  {
   "cell_type": "code",
   "execution_count": 106,
   "id": "c45a8f1a",
   "metadata": {
    "ExecuteTime": {
     "end_time": "2021-07-28T23:20:33.987875Z",
     "start_time": "2021-07-28T23:20:33.967930Z"
    }
   },
   "outputs": [
    {
     "data": {
      "text/plain": [
       "3"
      ]
     },
     "execution_count": 106,
     "metadata": {},
     "output_type": "execute_result"
    }
   ],
   "source": [
    "# buscar \n",
    "lista_numeros.index(6) # quero saber o índice do elemento 6. A função index dá o índice do primeiro valor encontrado"
   ]
  },
  {
   "cell_type": "code",
   "execution_count": 107,
   "id": "71bb6aab",
   "metadata": {
    "ExecuteTime": {
     "end_time": "2021-07-28T23:21:46.145609Z",
     "start_time": "2021-07-28T23:21:46.128657Z"
    }
   },
   "outputs": [
    {
     "name": "stdout",
     "output_type": "stream",
     "text": [
      "10\n",
      "-5\n",
      "19\n"
     ]
    }
   ],
   "source": [
    "# qual o tamnho da lista?\n",
    "\n",
    "print(len(lista_numeros))\n",
    "\n",
    "print(min(lista_numeros)) # menor valor\n",
    "\n",
    "print(max(lista_numeros)) # maior valor"
   ]
  },
  {
   "cell_type": "code",
   "execution_count": 112,
   "id": "45712799",
   "metadata": {
    "ExecuteTime": {
     "end_time": "2021-07-28T23:27:20.945925Z",
     "start_time": "2021-07-28T23:27:20.927974Z"
    }
   },
   "outputs": [
    {
     "name": "stdout",
     "output_type": "stream",
     "text": [
      "0\n",
      "[19, 10, 7, 6, 4, 1, 100, -2, -3, -5]\n"
     ]
    }
   ],
   "source": [
    "# acessa e troca um elemento da lista\n",
    "# lista de números, quero trocar o número 0 por 100\n",
    "print(lista_numeros[6]) # posição do 0\n",
    "lista_numeros[6] = 100\n",
    "print(lista_numeros)"
   ]
  },
  {
   "cell_type": "markdown",
   "id": "eb9cb4b7",
   "metadata": {},
   "source": [
    "    list.append(x)\n",
    "Add an item to the end of the list. Equivalent to a[len(a):] = [x].\n",
    "\n",
    "    list.extend(iterable)\n",
    "Extend the list by appending all the items from the iterable. Equivalent to a[len(a):] = iterable.\n",
    "\n",
    "    list.insert(i, x)\n",
    "Insert an item at a given position. The first argument is the index of the element before which to insert, so a.insert(0, x) inserts at the front of the list, and a.insert(len(a), x) is equivalent to a.append(x).\n",
    "\n",
    "    list.remove(x)\n",
    "Remove the first item from the list whose value is equal to x. It raises a ValueError if there is no such item.\n",
    "\n",
    "    list.pop([i])\n",
    "Remove the item at the given position in the list, and return it. If no index is specified, a.pop() removes and returns the last item in the list. (The square brackets around the i in the method signature denote that the parameter is optional, not that you should type square brackets at that position. You will see this notation frequently in the Python Library Reference.)\n",
    "\n",
    "    list.clear()\n",
    "Remove all items from the list. Equivalent to del a[:].\n",
    "\n",
    "    list.index(x[, start[, end]])\n",
    "Return zero-based index in the list of the first item whose value is equal to x. Raises a ValueError if there is no such item.\n",
    "\n",
    "The optional arguments start and end are interpreted as in the slice notation and are used to limit the search to a particular subsequence of the list. The returned index is computed relative to the beginning of the full sequence rather than the start argument.\n",
    "\n",
    "    list.count(x)\n",
    "Return the number of times x appears in the list.\n",
    "\n",
    "    list.sort(*, key=None, reverse=False)\n",
    "Sort the items of the list in place (the arguments can be used for sort customization, see sorted() for their explanation).\n",
    "\n",
    "    list.reverse()\n",
    "Reverse the elements of the list in place.\n",
    "\n",
    "    list.copy()\n",
    "Return a shallow copy of the list. Equivalent to a[:]"
   ]
  },
  {
   "cell_type": "markdown",
   "id": "6d88af6c",
   "metadata": {},
   "source": [
    "## Strings"
   ]
  },
  {
   "cell_type": "code",
   "execution_count": 109,
   "id": "69ce6ea7",
   "metadata": {
    "ExecuteTime": {
     "end_time": "2021-07-28T23:25:07.329006Z",
     "start_time": "2021-07-28T23:25:07.310018Z"
    }
   },
   "outputs": [
    {
     "name": "stdout",
     "output_type": "stream",
     "text": [
      "E\n",
      "s\n",
      "s\n",
      "a\n",
      " \n",
      "é\n",
      " \n",
      "u\n",
      "m\n",
      "a\n",
      " \n",
      "v\n",
      "a\n",
      "r\n",
      "i\n",
      "á\n",
      "v\n",
      "e\n",
      "l\n",
      " \n",
      "d\n",
      "o\n",
      " \n",
      "t\n",
      "i\n",
      "p\n",
      "o\n",
      " \n",
      "s\n",
      "t\n",
      "r\n",
      "i\n",
      "n\n",
      "g\n"
     ]
    }
   ],
   "source": [
    "string1 = 'Essa é uma variável do tipo string'\n",
    "\n",
    "# percorrer uma string\n",
    "for caracter in string1:\n",
    "    print(caracter)"
   ]
  },
  {
   "cell_type": "code",
   "execution_count": 114,
   "id": "8d7f578e",
   "metadata": {
    "ExecuteTime": {
     "end_time": "2021-07-28T23:28:48.146060Z",
     "start_time": "2021-07-28T23:28:48.125112Z"
    }
   },
   "outputs": [
    {
     "data": {
      "text/plain": [
       "'E'"
      ]
     },
     "execution_count": 114,
     "metadata": {},
     "output_type": "execute_result"
    }
   ],
   "source": [
    "# acessar a string \n",
    "string1[0]"
   ]
  },
  {
   "cell_type": "code",
   "execution_count": 118,
   "id": "e809b812",
   "metadata": {
    "ExecuteTime": {
     "end_time": "2021-07-28T23:29:38.899669Z",
     "start_time": "2021-07-28T23:29:38.878726Z"
    }
   },
   "outputs": [
    {
     "data": {
      "text/plain": [
       "'variável'"
      ]
     },
     "execution_count": 118,
     "metadata": {},
     "output_type": "execute_result"
    }
   ],
   "source": [
    "string1[11:19] # slice da string"
   ]
  },
  {
   "cell_type": "code",
   "execution_count": 120,
   "id": "586d7926",
   "metadata": {
    "ExecuteTime": {
     "end_time": "2021-07-28T23:30:57.150206Z",
     "start_time": "2021-07-28T23:30:57.143227Z"
    }
   },
   "outputs": [
    {
     "data": {
      "text/plain": [
       "'Essa é uma variáv3l do tipo string'"
      ]
     },
     "execution_count": 120,
     "metadata": {},
     "output_type": "execute_result"
    }
   ],
   "source": [
    "# trocar um caracter ou uma palavra\n",
    "string1.replace('e','3')"
   ]
  },
  {
   "cell_type": "code",
   "execution_count": 121,
   "id": "c9bfd9bf",
   "metadata": {
    "ExecuteTime": {
     "end_time": "2021-07-28T23:31:40.366519Z",
     "start_time": "2021-07-28T23:31:40.347570Z"
    }
   },
   "outputs": [
    {
     "data": {
      "text/plain": [
       "'Essa é outra variável do tipo string'"
      ]
     },
     "execution_count": 121,
     "metadata": {},
     "output_type": "execute_result"
    }
   ],
   "source": [
    "string1.replace('uma', 'outra')"
   ]
  },
  {
   "cell_type": "code",
   "execution_count": 124,
   "id": "8599985c",
   "metadata": {
    "ExecuteTime": {
     "end_time": "2021-07-28T23:33:25.135647Z",
     "start_time": "2021-07-28T23:33:25.123679Z"
    }
   },
   "outputs": [],
   "source": [
    "string2 = string1.replace('e','3').replace('a','1').replace('i','4') # não altera a string, tem que associar a outra variável"
   ]
  },
  {
   "cell_type": "code",
   "execution_count": 125,
   "id": "2cca248f",
   "metadata": {
    "ExecuteTime": {
     "end_time": "2021-07-28T23:33:28.919929Z",
     "start_time": "2021-07-28T23:33:28.903971Z"
    }
   },
   "outputs": [
    {
     "data": {
      "text/plain": [
       "'Ess1 é um1 v1r4áv3l do t4po str4ng'"
      ]
     },
     "execution_count": 125,
     "metadata": {},
     "output_type": "execute_result"
    }
   ],
   "source": [
    "string2"
   ]
  },
  {
   "cell_type": "code",
   "execution_count": 128,
   "id": "7b0d4297",
   "metadata": {
    "ExecuteTime": {
     "end_time": "2021-07-28T23:35:14.298322Z",
     "start_time": "2021-07-28T23:35:14.279371Z"
    }
   },
   "outputs": [
    {
     "data": {
      "text/plain": [
       "'Eu vou tirar 10 na prova porque eu estudei muito'"
      ]
     },
     "execution_count": 128,
     "metadata": {},
     "output_type": "execute_result"
    }
   ],
   "source": [
    "# + concatenar na string\n",
    "\n",
    "frase1 = 'Eu vou tirar 10 na prova '\n",
    "frase2 = 'porque eu estudei muito'\n",
    "\n",
    "frase1 + frase2"
   ]
  },
  {
   "cell_type": "code",
   "execution_count": 142,
   "id": "d7209e74",
   "metadata": {
    "ExecuteTime": {
     "end_time": "2021-07-28T23:47:27.419812Z",
     "start_time": "2021-07-28T23:47:27.399865Z"
    }
   },
   "outputs": [
    {
     "data": {
      "text/plain": [
       "['E',\n",
       " 's',\n",
       " 's',\n",
       " '1',\n",
       " ' ',\n",
       " 'é',\n",
       " ' ',\n",
       " 'u',\n",
       " 'm',\n",
       " '1',\n",
       " ' ',\n",
       " 'v',\n",
       " '1',\n",
       " 'r',\n",
       " '4',\n",
       " 'á',\n",
       " 'v',\n",
       " '3',\n",
       " 'l',\n",
       " ' ',\n",
       " 'd',\n",
       " 'o',\n",
       " ' ',\n",
       " 't',\n",
       " '4',\n",
       " 'p',\n",
       " 'o',\n",
       " ' ',\n",
       " 's',\n",
       " 't',\n",
       " 'r',\n",
       " '4',\n",
       " 'n',\n",
       " 'g']"
      ]
     },
     "execution_count": 142,
     "metadata": {},
     "output_type": "execute_result"
    }
   ],
   "source": [
    "# transformar string em um lista\n",
    "string4 = list(string2) # não muda a string, tem que associar a outra variável\n",
    "string4"
   ]
  },
  {
   "cell_type": "code",
   "execution_count": 131,
   "id": "6c4b0a91",
   "metadata": {
    "ExecuteTime": {
     "end_time": "2021-07-28T23:37:18.306457Z",
     "start_time": "2021-07-28T23:37:18.299513Z"
    }
   },
   "outputs": [],
   "source": [
    "string3 = 'Eu AdoRo EsCrEvEr ASSIM e não é NaDa IrrItanTE'"
   ]
  },
  {
   "cell_type": "code",
   "execution_count": 132,
   "id": "ed203f60",
   "metadata": {
    "ExecuteTime": {
     "end_time": "2021-07-28T23:41:47.956596Z",
     "start_time": "2021-07-28T23:41:47.943632Z"
    }
   },
   "outputs": [
    {
     "data": {
      "text/plain": [
       "'EU ADORO ESCREVER ASSIM E NÃO É NADA IRRITANTE'"
      ]
     },
     "execution_count": 132,
     "metadata": {},
     "output_type": "execute_result"
    }
   ],
   "source": [
    "string3.upper() # não altera a stringa não ser que vc associe a uma variável"
   ]
  },
  {
   "cell_type": "code",
   "execution_count": 134,
   "id": "808de55a",
   "metadata": {
    "ExecuteTime": {
     "end_time": "2021-07-28T23:42:28.473812Z",
     "start_time": "2021-07-28T23:42:28.455861Z"
    }
   },
   "outputs": [
    {
     "data": {
      "text/plain": [
       "'eu adoro escrever assim e não é nada irritante'"
      ]
     },
     "execution_count": 134,
     "metadata": {},
     "output_type": "execute_result"
    }
   ],
   "source": [
    "string3.lower()"
   ]
  },
  {
   "cell_type": "code",
   "execution_count": 135,
   "id": "266443ae",
   "metadata": {
    "ExecuteTime": {
     "end_time": "2021-07-28T23:42:47.455326Z",
     "start_time": "2021-07-28T23:42:47.438368Z"
    }
   },
   "outputs": [
    {
     "data": {
      "text/plain": [
       "'Eu Adoro Escrever Assim E Não É Nada Irritante'"
      ]
     },
     "execution_count": 135,
     "metadata": {},
     "output_type": "execute_result"
    }
   ],
   "source": [
    "string3.title()"
   ]
  },
  {
   "cell_type": "code",
   "execution_count": 136,
   "id": "0055c43d",
   "metadata": {
    "ExecuteTime": {
     "end_time": "2021-07-28T23:42:58.759224Z",
     "start_time": "2021-07-28T23:42:58.743229Z"
    }
   },
   "outputs": [
    {
     "data": {
      "text/plain": [
       "'Eu adoro escrever assim e não é nada irritante'"
      ]
     },
     "execution_count": 136,
     "metadata": {},
     "output_type": "execute_result"
    }
   ],
   "source": [
    "string3.capitalize()"
   ]
  },
  {
   "cell_type": "code",
   "execution_count": 137,
   "id": "ba9dd80f",
   "metadata": {
    "ExecuteTime": {
     "end_time": "2021-07-28T23:44:14.453576Z",
     "start_time": "2021-07-28T23:44:14.437587Z"
    }
   },
   "outputs": [
    {
     "data": {
      "text/plain": [
       "['Eu', 'AdoRo', 'EsCrEvEr', 'ASSIM', 'e', 'não', 'é', 'NaDa', 'IrrItanTE']"
      ]
     },
     "execution_count": 137,
     "metadata": {},
     "output_type": "execute_result"
    }
   ],
   "source": [
    "# quebrando uma string -> split transforma em lista\n",
    "string3.split() # padrão, separa por espaço"
   ]
  },
  {
   "cell_type": "code",
   "execution_count": 138,
   "id": "ea5a213d",
   "metadata": {
    "ExecuteTime": {
     "end_time": "2021-07-28T23:45:04.373271Z",
     "start_time": "2021-07-28T23:45:04.363259Z"
    }
   },
   "outputs": [
    {
     "data": {
      "text/plain": [
       "['Eu AdoRo EsCrEvEr ASSIM e não é N', 'D', ' IrrIt', 'nTE']"
      ]
     },
     "execution_count": 138,
     "metadata": {},
     "output_type": "execute_result"
    }
   ],
   "source": [
    "string3.split('a') # separando a string pela letra a"
   ]
  },
  {
   "cell_type": "code",
   "execution_count": 139,
   "id": "64a2e9e5",
   "metadata": {
    "ExecuteTime": {
     "end_time": "2021-07-28T23:46:18.577830Z",
     "start_time": "2021-07-28T23:46:18.555889Z"
    }
   },
   "outputs": [
    {
     "data": {
      "text/plain": [
       "['eu ', 'doro escrever ', 'ssim e não é n', 'd', ' irrit', 'nte']"
      ]
     },
     "execution_count": 139,
     "metadata": {},
     "output_type": "execute_result"
    }
   ],
   "source": [
    "string3.lower().split('a')"
   ]
  },
  {
   "cell_type": "code",
   "execution_count": 144,
   "id": "677c7b3a",
   "metadata": {
    "ExecuteTime": {
     "end_time": "2021-07-28T23:48:46.394539Z",
     "start_time": "2021-07-28T23:48:46.382529Z"
    }
   },
   "outputs": [
    {
     "data": {
      "text/plain": [
       "'Ess1 é um1 v1r4áv3l do t4po str4ng'"
      ]
     },
     "execution_count": 144,
     "metadata": {},
     "output_type": "execute_result"
    }
   ],
   "source": [
    "# unir uma lista em strings (juntando todos os elementos), contrario de list(string2)\n",
    "''.join(string4)"
   ]
  },
  {
   "cell_type": "code",
   "execution_count": 145,
   "id": "e3ac220b",
   "metadata": {
    "ExecuteTime": {
     "end_time": "2021-07-28T23:48:58.703605Z",
     "start_time": "2021-07-28T23:48:58.696626Z"
    }
   },
   "outputs": [
    {
     "data": {
      "text/plain": [
       "'E-s-s-1- -é- -u-m-1- -v-1-r-4-á-v-3-l- -d-o- -t-4-p-o- -s-t-r-4-n-g'"
      ]
     },
     "execution_count": 145,
     "metadata": {},
     "output_type": "execute_result"
    }
   ],
   "source": [
    "'-'.join(string4)"
   ]
  },
  {
   "cell_type": "markdown",
   "id": "d633a379",
   "metadata": {},
   "source": [
    "Formatos de strings"
   ]
  },
  {
   "cell_type": "code",
   "execution_count": 147,
   "id": "2e61e6f5",
   "metadata": {
    "ExecuteTime": {
     "end_time": "2021-07-28T23:51:07.339250Z",
     "start_time": "2021-07-28T23:51:07.332268Z"
    }
   },
   "outputs": [],
   "source": [
    "a = 1\n",
    "b = 2\n",
    "c = 3"
   ]
  },
  {
   "cell_type": "code",
   "execution_count": 148,
   "id": "3b8fbd93",
   "metadata": {
    "ExecuteTime": {
     "end_time": "2021-07-28T23:51:07.882968Z",
     "start_time": "2021-07-28T23:51:07.871000Z"
    }
   },
   "outputs": [
    {
     "data": {
      "text/plain": [
       "'Esse é um exemplo para mostrar o nº 1, 2, 3'"
      ]
     },
     "execution_count": 148,
     "metadata": {},
     "output_type": "execute_result"
    }
   ],
   "source": [
    "'Esse é um exemplo para mostrar o nº {}, {}, {}'.format(a,b,c)"
   ]
  },
  {
   "cell_type": "code",
   "execution_count": 149,
   "id": "52df79f7",
   "metadata": {
    "ExecuteTime": {
     "end_time": "2021-07-28T23:51:32.260955Z",
     "start_time": "2021-07-28T23:51:32.243997Z"
    }
   },
   "outputs": [
    {
     "data": {
      "text/plain": [
       "'Esse é um exemplo para mostrar o nº 1, 2, 3'"
      ]
     },
     "execution_count": 149,
     "metadata": {},
     "output_type": "execute_result"
    }
   ],
   "source": [
    "f'Esse é um exemplo para mostrar o nº {a}, {b}, {c}'"
   ]
  },
  {
   "cell_type": "code",
   "execution_count": 152,
   "id": "f38da6ff",
   "metadata": {
    "ExecuteTime": {
     "end_time": "2021-07-28T23:53:00.400731Z",
     "start_time": "2021-07-28T23:53:00.388721Z"
    }
   },
   "outputs": [
    {
     "data": {
      "text/plain": [
       "'Esse é um exemplo para mostrar o nº 1, 2, 3'"
      ]
     },
     "execution_count": 152,
     "metadata": {},
     "output_type": "execute_result"
    }
   ],
   "source": [
    "'Esse é um exemplo para mostrar o nº ' + str(a) +', '+ str(b) +', '+ str(c)"
   ]
  },
  {
   "cell_type": "code",
   "execution_count": 153,
   "id": "97e92517",
   "metadata": {
    "ExecuteTime": {
     "end_time": "2021-07-28T23:53:22.322487Z",
     "start_time": "2021-07-28T23:53:22.317499Z"
    }
   },
   "outputs": [
    {
     "name": "stdout",
     "output_type": "stream",
     "text": [
      "Esse é um exemplo para mostrar o nº  1\n"
     ]
    }
   ],
   "source": [
    "print('Esse é um exemplo para mostrar o nº ',a)"
   ]
  },
  {
   "cell_type": "markdown",
   "id": "d0c6adee",
   "metadata": {},
   "source": [
    "## Tuplas\n",
    "- imutáveis"
   ]
  },
  {
   "cell_type": "code",
   "execution_count": 154,
   "id": "401b8aed",
   "metadata": {
    "ExecuteTime": {
     "end_time": "2021-07-28T23:55:08.970179Z",
     "start_time": "2021-07-28T23:55:08.962202Z"
    }
   },
   "outputs": [],
   "source": [
    "uma_tupla = (1, 'dois', True, 4.75)"
   ]
  },
  {
   "cell_type": "code",
   "execution_count": 155,
   "id": "0e1cab82",
   "metadata": {
    "ExecuteTime": {
     "end_time": "2021-07-28T23:55:37.616280Z",
     "start_time": "2021-07-28T23:55:37.605314Z"
    }
   },
   "outputs": [],
   "source": [
    "outra_tupla = 1, 2"
   ]
  },
  {
   "cell_type": "markdown",
   "id": "8c37f114",
   "metadata": {},
   "source": [
    "## Dicionários\n",
    "\n",
    "dicionario = {'chave': valor}"
   ]
  },
  {
   "cell_type": "code",
   "execution_count": 156,
   "id": "6247f62d",
   "metadata": {
    "ExecuteTime": {
     "end_time": "2021-07-28T23:57:35.000231Z",
     "start_time": "2021-07-28T23:57:34.994244Z"
    }
   },
   "outputs": [],
   "source": [
    "notas = {'Maria': 10, 'João': 8, 'José': 6, 'Ana': 7}"
   ]
  },
  {
   "cell_type": "code",
   "execution_count": 157,
   "id": "0b4e653c",
   "metadata": {
    "ExecuteTime": {
     "end_time": "2021-07-28T23:58:47.121336Z",
     "start_time": "2021-07-28T23:58:47.105379Z"
    }
   },
   "outputs": [],
   "source": [
    "notas = {\n",
    "    'Maria': 10, \n",
    "    'João': 8, \n",
    "    'José': 6, \n",
    "    'Ana': 7}"
   ]
  },
  {
   "cell_type": "code",
   "execution_count": 158,
   "id": "1cbd171f",
   "metadata": {
    "ExecuteTime": {
     "end_time": "2021-07-28T23:59:14.863233Z",
     "start_time": "2021-07-28T23:59:14.858247Z"
    }
   },
   "outputs": [
    {
     "data": {
      "text/plain": [
       "10"
      ]
     },
     "execution_count": 158,
     "metadata": {},
     "output_type": "execute_result"
    }
   ],
   "source": [
    "# qual a nota da maria\n",
    "notas['Maria']"
   ]
  },
  {
   "cell_type": "code",
   "execution_count": 159,
   "id": "d575e9e4",
   "metadata": {
    "ExecuteTime": {
     "end_time": "2021-07-28T23:59:31.804452Z",
     "start_time": "2021-07-28T23:59:31.789491Z"
    }
   },
   "outputs": [
    {
     "data": {
      "text/plain": [
       "10"
      ]
     },
     "execution_count": 159,
     "metadata": {},
     "output_type": "execute_result"
    }
   ],
   "source": [
    "notas.get('Maria')"
   ]
  },
  {
   "cell_type": "code",
   "execution_count": 160,
   "id": "f081aa87",
   "metadata": {
    "ExecuteTime": {
     "end_time": "2021-07-29T00:00:23.514307Z",
     "start_time": "2021-07-29T00:00:23.509319Z"
    }
   },
   "outputs": [],
   "source": [
    "# alterar a nota da Maria para 9.5\n",
    "notas['Maria'] = 9.5"
   ]
  },
  {
   "cell_type": "code",
   "execution_count": 161,
   "id": "a7330398",
   "metadata": {
    "ExecuteTime": {
     "end_time": "2021-07-29T00:00:27.130586Z",
     "start_time": "2021-07-29T00:00:27.124644Z"
    }
   },
   "outputs": [
    {
     "data": {
      "text/plain": [
       "{'Maria': 9.5, 'João': 8, 'José': 6, 'Ana': 7}"
      ]
     },
     "execution_count": 161,
     "metadata": {},
     "output_type": "execute_result"
    }
   ],
   "source": [
    "notas"
   ]
  },
  {
   "cell_type": "code",
   "execution_count": 162,
   "id": "74520ef4",
   "metadata": {
    "ExecuteTime": {
     "end_time": "2021-07-29T00:01:15.588086Z",
     "start_time": "2021-07-29T00:01:15.569097Z"
    }
   },
   "outputs": [
    {
     "data": {
      "text/plain": [
       "7"
      ]
     },
     "execution_count": 162,
     "metadata": {},
     "output_type": "execute_result"
    }
   ],
   "source": [
    "# apagar uma chave:valor\n",
    "notas.pop('Ana')"
   ]
  },
  {
   "cell_type": "code",
   "execution_count": 163,
   "id": "59af8186",
   "metadata": {
    "ExecuteTime": {
     "end_time": "2021-07-29T00:01:19.450421Z",
     "start_time": "2021-07-29T00:01:19.441447Z"
    }
   },
   "outputs": [
    {
     "data": {
      "text/plain": [
       "{'Maria': 9.5, 'João': 8, 'José': 6}"
      ]
     },
     "execution_count": 163,
     "metadata": {},
     "output_type": "execute_result"
    }
   ],
   "source": [
    "notas"
   ]
  },
  {
   "cell_type": "code",
   "execution_count": 164,
   "id": "f1ccf2a3",
   "metadata": {
    "ExecuteTime": {
     "end_time": "2021-07-29T00:01:39.883272Z",
     "start_time": "2021-07-29T00:01:39.877286Z"
    }
   },
   "outputs": [],
   "source": [
    "del notas['José']"
   ]
  },
  {
   "cell_type": "code",
   "execution_count": 165,
   "id": "84472b02",
   "metadata": {
    "ExecuteTime": {
     "end_time": "2021-07-29T00:01:42.951818Z",
     "start_time": "2021-07-29T00:01:42.938853Z"
    }
   },
   "outputs": [
    {
     "data": {
      "text/plain": [
       "{'Maria': 9.5, 'João': 8}"
      ]
     },
     "execution_count": 165,
     "metadata": {},
     "output_type": "execute_result"
    }
   ],
   "source": [
    "notas"
   ]
  },
  {
   "cell_type": "code",
   "execution_count": 176,
   "id": "ab17ef38",
   "metadata": {
    "ExecuteTime": {
     "end_time": "2021-07-29T00:06:24.695685Z",
     "start_time": "2021-07-29T00:06:24.686708Z"
    }
   },
   "outputs": [],
   "source": [
    "notas = {\n",
    "    'Maria': 10, \n",
    "    'João': 8, \n",
    "    'José': 6, \n",
    "    'Ana': 7}"
   ]
  },
  {
   "cell_type": "code",
   "execution_count": 177,
   "id": "d85d0096",
   "metadata": {
    "ExecuteTime": {
     "end_time": "2021-07-29T00:06:45.018669Z",
     "start_time": "2021-07-29T00:06:45.002714Z"
    }
   },
   "outputs": [],
   "source": [
    "notas['Clara'] = 5.5"
   ]
  },
  {
   "cell_type": "code",
   "execution_count": 178,
   "id": "5e0aa071",
   "metadata": {
    "ExecuteTime": {
     "end_time": "2021-07-29T00:06:47.005650Z",
     "start_time": "2021-07-29T00:06:46.985703Z"
    }
   },
   "outputs": [
    {
     "data": {
      "text/plain": [
       "{'Maria': 10, 'João': 8, 'José': 6, 'Ana': 7, 'Clara': 5.5}"
      ]
     },
     "execution_count": 178,
     "metadata": {},
     "output_type": "execute_result"
    }
   ],
   "source": [
    "notas"
   ]
  },
  {
   "cell_type": "markdown",
   "id": "d52834b2",
   "metadata": {},
   "source": [
    "\n",
    "* .keys()\n",
    "* .values()\n",
    "* .items()"
   ]
  },
  {
   "cell_type": "code",
   "execution_count": 167,
   "id": "c8a69e04",
   "metadata": {
    "ExecuteTime": {
     "end_time": "2021-07-29T00:02:25.400547Z",
     "start_time": "2021-07-29T00:02:25.383556Z"
    }
   },
   "outputs": [
    {
     "data": {
      "text/plain": [
       "dict_keys(['Maria', 'João', 'José', 'Ana'])"
      ]
     },
     "execution_count": 167,
     "metadata": {},
     "output_type": "execute_result"
    }
   ],
   "source": [
    "notas.keys()"
   ]
  },
  {
   "cell_type": "code",
   "execution_count": 168,
   "id": "2b618a12",
   "metadata": {
    "ExecuteTime": {
     "end_time": "2021-07-29T00:02:48.306989Z",
     "start_time": "2021-07-29T00:02:48.293979Z"
    }
   },
   "outputs": [
    {
     "data": {
      "text/plain": [
       "dict_values([10, 8, 6, 7])"
      ]
     },
     "execution_count": 168,
     "metadata": {},
     "output_type": "execute_result"
    }
   ],
   "source": [
    "notas.values()"
   ]
  },
  {
   "cell_type": "code",
   "execution_count": 175,
   "id": "fe5f22a5",
   "metadata": {
    "ExecuteTime": {
     "end_time": "2021-07-29T00:05:52.352476Z",
     "start_time": "2021-07-29T00:05:52.333525Z"
    }
   },
   "outputs": [
    {
     "data": {
      "text/plain": [
       "[10, 8, 6, 7]"
      ]
     },
     "execution_count": 175,
     "metadata": {},
     "output_type": "execute_result"
    }
   ],
   "source": [
    "list(notas.values())"
   ]
  },
  {
   "cell_type": "code",
   "execution_count": 169,
   "id": "229a198a",
   "metadata": {
    "ExecuteTime": {
     "end_time": "2021-07-29T00:02:59.822448Z",
     "start_time": "2021-07-29T00:02:59.808443Z"
    }
   },
   "outputs": [
    {
     "data": {
      "text/plain": [
       "dict_items([('Maria', 10), ('João', 8), ('José', 6), ('Ana', 7)])"
      ]
     },
     "execution_count": 169,
     "metadata": {},
     "output_type": "execute_result"
    }
   ],
   "source": [
    "notas.items()"
   ]
  },
  {
   "cell_type": "code",
   "execution_count": 171,
   "id": "68273550",
   "metadata": {
    "ExecuteTime": {
     "end_time": "2021-07-29T00:03:39.471195Z",
     "start_time": "2021-07-29T00:03:39.457232Z"
    }
   },
   "outputs": [
    {
     "name": "stdout",
     "output_type": "stream",
     "text": [
      "10\n",
      "8\n",
      "6\n",
      "7\n"
     ]
    }
   ],
   "source": [
    "for elemento in notas:\n",
    "    print(notas[elemento])"
   ]
  },
  {
   "cell_type": "code",
   "execution_count": 172,
   "id": "2b80e128",
   "metadata": {
    "ExecuteTime": {
     "end_time": "2021-07-29T00:04:05.515192Z",
     "start_time": "2021-07-29T00:04:05.495203Z"
    }
   },
   "outputs": [
    {
     "name": "stdout",
     "output_type": "stream",
     "text": [
      "10\n",
      "8\n",
      "6\n",
      "7\n"
     ]
    }
   ],
   "source": [
    "for valor in notas.values():\n",
    "    print(valor)"
   ]
  },
  {
   "cell_type": "code",
   "execution_count": 173,
   "id": "97d7ef5c",
   "metadata": {
    "ExecuteTime": {
     "end_time": "2021-07-29T00:04:36.123850Z",
     "start_time": "2021-07-29T00:04:36.108888Z"
    }
   },
   "outputs": [
    {
     "name": "stdout",
     "output_type": "stream",
     "text": [
      "10 Maria\n",
      "8 João\n",
      "6 José\n",
      "7 Ana\n"
     ]
    }
   ],
   "source": [
    "for chave, valor in notas.items():\n",
    "    print(valor, chave)"
   ]
  },
  {
   "cell_type": "markdown",
   "id": "6495ca4a",
   "metadata": {},
   "source": [
    "## if ... else"
   ]
  },
  {
   "cell_type": "code",
   "execution_count": 210,
   "id": "0a467c57",
   "metadata": {
    "ExecuteTime": {
     "end_time": "2021-07-29T00:57:16.246399Z",
     "start_time": "2021-07-29T00:57:16.242412Z"
    }
   },
   "outputs": [
    {
     "name": "stdout",
     "output_type": "stream",
     "text": [
      "\"a\" não está dentro da string\n"
     ]
    }
   ],
   "source": [
    "if 'a' in 'exemplo de string':\n",
    "    print('\"a\" está dentro da string')\n",
    "else:\n",
    "    print('\"a\" não está dentro da string')"
   ]
  },
  {
   "cell_type": "code",
   "execution_count": 211,
   "id": "6f214a81",
   "metadata": {
    "ExecuteTime": {
     "end_time": "2021-07-29T00:59:47.415876Z",
     "start_time": "2021-07-29T00:59:47.397923Z"
    }
   },
   "outputs": [
    {
     "name": "stdout",
     "output_type": "stream",
     "text": [
      "Número par positivo\n"
     ]
    }
   ],
   "source": [
    "x = 10\n",
    "if x > 0 and x%2==0:\n",
    "    print('Número par positivo')\n",
    "elif x < 0 and x%2==0:\n",
    "    print('Numero par negativo')\n",
    "else:\n",
    "    print('Número ímpar')"
   ]
  },
  {
   "cell_type": "code",
   "execution_count": 213,
   "id": "02b5e3bc",
   "metadata": {
    "ExecuteTime": {
     "end_time": "2021-07-29T01:00:19.381518Z",
     "start_time": "2021-07-29T01:00:19.364523Z"
    }
   },
   "outputs": [
    {
     "name": "stdout",
     "output_type": "stream",
     "text": [
      "Numero par negativo\n"
     ]
    }
   ],
   "source": [
    "x = -4\n",
    "if x > 0 and x%2==0:\n",
    "    print('Número par positivo')\n",
    "elif x < 0 and x%2==0:\n",
    "    print('Numero par negativo')\n",
    "else:\n",
    "    print('Número ímpar')"
   ]
  },
  {
   "cell_type": "markdown",
   "id": "d96dcfe7",
   "metadata": {},
   "source": [
    "## Funções"
   ]
  },
  {
   "cell_type": "code",
   "execution_count": 181,
   "id": "bac11d5e",
   "metadata": {
    "ExecuteTime": {
     "end_time": "2021-07-29T00:10:39.302664Z",
     "start_time": "2021-07-29T00:10:39.295684Z"
    }
   },
   "outputs": [
    {
     "data": {
      "text/plain": [
       "'def nome_da_funcao(parametros):\\n    return'"
      ]
     },
     "execution_count": 181,
     "metadata": {},
     "output_type": "execute_result"
    }
   ],
   "source": [
    "\"\"\"def nome_da_funcao(parametros):\n",
    "    return\"\"\""
   ]
  },
  {
   "cell_type": "code",
   "execution_count": 182,
   "id": "3b13a5c5",
   "metadata": {
    "ExecuteTime": {
     "end_time": "2021-07-29T00:12:03.408965Z",
     "start_time": "2021-07-29T00:12:03.399990Z"
    }
   },
   "outputs": [],
   "source": [
    "# criar uma função que soma dois valores\n",
    "def soma_valores(valor1, valor2):\n",
    "    soma = valor1 + valor2\n",
    "    return soma"
   ]
  },
  {
   "cell_type": "code",
   "execution_count": 183,
   "id": "66f93c8b",
   "metadata": {
    "ExecuteTime": {
     "end_time": "2021-07-29T00:12:24.842683Z",
     "start_time": "2021-07-29T00:12:24.833670Z"
    }
   },
   "outputs": [
    {
     "data": {
      "text/plain": [
       "35"
      ]
     },
     "execution_count": 183,
     "metadata": {},
     "output_type": "execute_result"
    }
   ],
   "source": [
    "soma_valores(10, 25)"
   ]
  },
  {
   "cell_type": "code",
   "execution_count": 184,
   "id": "0d65505f",
   "metadata": {
    "ExecuteTime": {
     "end_time": "2021-07-29T00:13:39.727792Z",
     "start_time": "2021-07-29T00:13:39.713828Z"
    }
   },
   "outputs": [],
   "source": [
    "# somar uma lista de valores\n",
    "def soma_lista(lista):\n",
    "    soma = sum(lista)\n",
    "    return soma"
   ]
  },
  {
   "cell_type": "code",
   "execution_count": 185,
   "id": "a81fca11",
   "metadata": {
    "ExecuteTime": {
     "end_time": "2021-07-29T00:14:10.511753Z",
     "start_time": "2021-07-29T00:14:10.505771Z"
    }
   },
   "outputs": [
    {
     "data": {
      "text/plain": [
       "14"
      ]
     },
     "execution_count": 185,
     "metadata": {},
     "output_type": "execute_result"
    }
   ],
   "source": [
    "soma_lista([2,3,4,5])"
   ]
  },
  {
   "cell_type": "code",
   "execution_count": 190,
   "id": "dc772106",
   "metadata": {
    "ExecuteTime": {
     "end_time": "2021-07-29T00:18:23.473269Z",
     "start_time": "2021-07-29T00:18:23.457310Z"
    }
   },
   "outputs": [],
   "source": [
    "# função que troca as letras de uma palavra da seguinte forma: a=4, e=3,i=1, o=0\n",
    "def troca_letras(string):\n",
    "    resultado = string.replace('a','4').replace('e','3').replace('i','1').replace('o','0')\n",
    "    return resultado"
   ]
  },
  {
   "cell_type": "code",
   "execution_count": 191,
   "id": "2f783fa0",
   "metadata": {
    "ExecuteTime": {
     "end_time": "2021-07-29T00:18:23.895331Z",
     "start_time": "2021-07-29T00:18:23.875333Z"
    }
   },
   "outputs": [
    {
     "data": {
      "text/plain": [
       "'3ss4 fr4s3 é um 3x3mpl0 d3 str1ng p4r4 p0d3r tr0c4r 4s l3tr4s'"
      ]
     },
     "execution_count": 191,
     "metadata": {},
     "output_type": "execute_result"
    }
   ],
   "source": [
    "troca_letras('essa frase é um exemplo de string para poder trocar as letras')"
   ]
  },
  {
   "cell_type": "code",
   "execution_count": 194,
   "id": "43b7590c",
   "metadata": {
    "ExecuteTime": {
     "end_time": "2021-07-29T00:23:57.214049Z",
     "start_time": "2021-07-29T00:23:57.199090Z"
    }
   },
   "outputs": [],
   "source": [
    "def soma_argumentos(*args):\n",
    "    lista_argumentos = []\n",
    "    for i in range(len(args)):\n",
    "        lista_argumentos.append(args[i])\n",
    "        \n",
    "    return sum(lista_argumentos)"
   ]
  },
  {
   "cell_type": "code",
   "execution_count": 195,
   "id": "86f8ecfb",
   "metadata": {
    "ExecuteTime": {
     "end_time": "2021-07-29T00:23:57.649626Z",
     "start_time": "2021-07-29T00:23:57.632668Z"
    }
   },
   "outputs": [
    {
     "data": {
      "text/plain": [
       "3"
      ]
     },
     "execution_count": 195,
     "metadata": {},
     "output_type": "execute_result"
    }
   ],
   "source": [
    "soma_argumentos(1,2)"
   ]
  },
  {
   "cell_type": "code",
   "execution_count": 196,
   "id": "5f28b860",
   "metadata": {
    "ExecuteTime": {
     "end_time": "2021-07-29T00:24:15.724719Z",
     "start_time": "2021-07-29T00:24:15.712751Z"
    }
   },
   "outputs": [
    {
     "data": {
      "text/plain": [
       "45"
      ]
     },
     "execution_count": 196,
     "metadata": {},
     "output_type": "execute_result"
    }
   ],
   "source": [
    "soma_argumentos(1,2,3,4,5,6,7,8,9)"
   ]
  },
  {
   "cell_type": "code",
   "execution_count": 198,
   "id": "800a9ab1",
   "metadata": {
    "ExecuteTime": {
     "end_time": "2021-07-29T00:26:32.129358Z",
     "start_time": "2021-07-29T00:26:32.114397Z"
    }
   },
   "outputs": [],
   "source": [
    "def soma_argumentos2(*args):\n",
    "    lista_argumentos = []\n",
    "    for i in range(len(args)):\n",
    "        lista_argumentos.append(args[i])\n",
    "        \n",
    "    return '-'.join(lista_argumentos)\n",
    "    "
   ]
  },
  {
   "cell_type": "code",
   "execution_count": 199,
   "id": "fd7c6cb8",
   "metadata": {
    "ExecuteTime": {
     "end_time": "2021-07-29T00:26:46.163758Z",
     "start_time": "2021-07-29T00:26:46.157771Z"
    }
   },
   "outputs": [
    {
     "data": {
      "text/plain": [
       "'1-2'"
      ]
     },
     "execution_count": 199,
     "metadata": {},
     "output_type": "execute_result"
    }
   ],
   "source": [
    "soma_argumentos2('1','2')"
   ]
  },
  {
   "cell_type": "code",
   "execution_count": 216,
   "id": "a7d464de",
   "metadata": {
    "ExecuteTime": {
     "end_time": "2021-07-29T01:02:53.069018Z",
     "start_time": "2021-07-29T01:02:53.061040Z"
    }
   },
   "outputs": [],
   "source": [
    "def soma2(a, b=1):\n",
    "    return a + b"
   ]
  },
  {
   "cell_type": "code",
   "execution_count": 217,
   "id": "12ac7a03",
   "metadata": {
    "ExecuteTime": {
     "end_time": "2021-07-29T01:02:53.736662Z",
     "start_time": "2021-07-29T01:02:53.728684Z"
    }
   },
   "outputs": [
    {
     "data": {
      "text/plain": [
       "5"
      ]
     },
     "execution_count": 217,
     "metadata": {},
     "output_type": "execute_result"
    }
   ],
   "source": [
    "soma2(2, 3)"
   ]
  },
  {
   "cell_type": "code",
   "execution_count": 219,
   "id": "7194a112",
   "metadata": {
    "ExecuteTime": {
     "end_time": "2021-07-29T01:03:51.723185Z",
     "start_time": "2021-07-29T01:03:51.713213Z"
    }
   },
   "outputs": [
    {
     "data": {
      "text/plain": [
       "3"
      ]
     },
     "execution_count": 219,
     "metadata": {},
     "output_type": "execute_result"
    }
   ],
   "source": [
    "soma2(2) # a=2 e b, por padrão é igual a 1, por isso nem sempre preciso colocar o b, já que ele está atribuído o valor = 1"
   ]
  },
  {
   "cell_type": "code",
   "execution_count": 222,
   "id": "e3bb67c8",
   "metadata": {
    "ExecuteTime": {
     "end_time": "2021-07-29T01:04:54.645874Z",
     "start_time": "2021-07-29T01:04:54.641884Z"
    }
   },
   "outputs": [],
   "source": [
    "def soma3(a=3, b=1):\n",
    "    return a + b"
   ]
  },
  {
   "cell_type": "code",
   "execution_count": 223,
   "id": "bbb9c9ae",
   "metadata": {
    "ExecuteTime": {
     "end_time": "2021-07-29T01:04:58.254402Z",
     "start_time": "2021-07-29T01:04:58.245384Z"
    }
   },
   "outputs": [
    {
     "data": {
      "text/plain": [
       "14"
      ]
     },
     "execution_count": 223,
     "metadata": {},
     "output_type": "execute_result"
    }
   ],
   "source": [
    "soma3(4,10)"
   ]
  },
  {
   "cell_type": "code",
   "execution_count": 225,
   "id": "bc44b932",
   "metadata": {
    "ExecuteTime": {
     "end_time": "2021-07-29T01:05:19.086341Z",
     "start_time": "2021-07-29T01:05:19.070386Z"
    }
   },
   "outputs": [
    {
     "data": {
      "text/plain": [
       "4"
      ]
     },
     "execution_count": 225,
     "metadata": {},
     "output_type": "execute_result"
    }
   ],
   "source": [
    "soma3() # por padrão, a=3 e b=1"
   ]
  },
  {
   "cell_type": "markdown",
   "id": "c04dc733",
   "metadata": {},
   "source": [
    "## zip e enumerate"
   ]
  },
  {
   "cell_type": "code",
   "execution_count": 200,
   "id": "2ebe10cf",
   "metadata": {
    "ExecuteTime": {
     "end_time": "2021-07-29T00:29:45.067816Z",
     "start_time": "2021-07-29T00:29:45.048809Z"
    }
   },
   "outputs": [],
   "source": [
    "lista1 = ['a', 2, True, 'b', -3, 4.78] "
   ]
  },
  {
   "cell_type": "code",
   "execution_count": 201,
   "id": "e4c82e08",
   "metadata": {
    "ExecuteTime": {
     "end_time": "2021-07-29T00:30:19.675719Z",
     "start_time": "2021-07-29T00:30:19.656763Z"
    }
   },
   "outputs": [
    {
     "name": "stdout",
     "output_type": "stream",
     "text": [
      "0 a\n",
      "1 2\n",
      "2 True\n",
      "3 b\n",
      "4 -3\n",
      "5 4.78\n"
     ]
    }
   ],
   "source": [
    "for i, j in enumerate(lista1):\n",
    "    print(i, j)"
   ]
  },
  {
   "cell_type": "code",
   "execution_count": 202,
   "id": "97430a00",
   "metadata": {
    "ExecuteTime": {
     "end_time": "2021-07-29T00:31:24.807352Z",
     "start_time": "2021-07-29T00:31:24.790398Z"
    }
   },
   "outputs": [
    {
     "name": "stdout",
     "output_type": "stream",
     "text": [
      "a 1\n",
      "2 2\n",
      "True False\n",
      "b 3\n",
      "-3 0\n",
      "4.78 4.78\n"
     ]
    }
   ],
   "source": [
    "for i, j in zip(['a', 2, True, 'b', -3, 4.78], [1, '2', False, 3, 0, 4.78]):\n",
    "    print(i, j)"
   ]
  },
  {
   "cell_type": "markdown",
   "id": "d2c10070",
   "metadata": {},
   "source": [
    "# Classes"
   ]
  },
  {
   "cell_type": "markdown",
   "id": "f03ba2ca",
   "metadata": {
    "ExecuteTime": {
     "end_time": "2021-07-29T00:32:49.821735Z",
     "start_time": "2021-07-29T00:32:49.814716Z"
    }
   },
   "source": [
    "```\n",
    "class NomeDaClasse:\n",
    "\n",
    "    # método construtor\n",
    "    def __init__(self, atributos)\n",
    "        # definição dos atributos\n",
    "        self.atributos = atributos\n",
    "\n",
    "    # definição de outros métodos\n",
    "    def metodo(self, parametros):\n",
    "        operacoes\n",
    "```"
   ]
  },
  {
   "cell_type": "code",
   "execution_count": 204,
   "id": "8c86184a",
   "metadata": {
    "ExecuteTime": {
     "end_time": "2021-07-29T00:36:12.804263Z",
     "start_time": "2021-07-29T00:36:12.798279Z"
    }
   },
   "outputs": [],
   "source": [
    "class Pessoa:\n",
    "    # método construtor\n",
    "    def __init__(self, peso, altura):\n",
    "        self.peso = peso\n",
    "        self.altura = altura\n",
    "    \n",
    "    def calcula_imc(self):\n",
    "        imc = self.peso / (self.altura ** 2)\n",
    "        return imc"
   ]
  },
  {
   "cell_type": "code",
   "execution_count": 205,
   "id": "50a64eff",
   "metadata": {
    "ExecuteTime": {
     "end_time": "2021-07-29T00:37:03.147722Z",
     "start_time": "2021-07-29T00:37:03.142709Z"
    }
   },
   "outputs": [],
   "source": [
    "renata = Pessoa(60, 1.67)"
   ]
  },
  {
   "cell_type": "code",
   "execution_count": 206,
   "id": "0ca7882f",
   "metadata": {
    "ExecuteTime": {
     "end_time": "2021-07-29T00:37:20.392267Z",
     "start_time": "2021-07-29T00:37:20.378316Z"
    }
   },
   "outputs": [
    {
     "data": {
      "text/plain": [
       "21.513858510523864"
      ]
     },
     "execution_count": 206,
     "metadata": {},
     "output_type": "execute_result"
    }
   ],
   "source": [
    "renata.calcula_imc()"
   ]
  },
  {
   "cell_type": "markdown",
   "id": "dbe5ae26",
   "metadata": {},
   "source": [
    "## Herança"
   ]
  },
  {
   "cell_type": "code",
   "execution_count": 207,
   "id": "c5097954",
   "metadata": {
    "ExecuteTime": {
     "end_time": "2021-07-29T00:40:47.256167Z",
     "start_time": "2021-07-29T00:40:47.246194Z"
    }
   },
   "outputs": [],
   "source": [
    " # classe mãe\n",
    "class Animal:\n",
    "    def __init__(self, nome):\n",
    "        self.nome = nome\n",
    "        \n",
    "    def fala(self):\n",
    "        print(self.nome, 'faz barulho.')\n",
    "        \n",
    "\n",
    "# classes filhas\n",
    "class Cachorro(Animal): # coloquei entre parênteses o nome da classe mãe\n",
    "    def fala(self):\n",
    "        print(self.nome, 'faz au au.')\n",
    "        \n",
    "    \n",
    "class Gato(Animal):        \n",
    "    def fala(self):\n",
    "        print(self.nome, 'faz miau.')\n",
    "        \n",
    "class Vaca(Animal):       \n",
    "    def fala(self):\n",
    "        print(self.nome, 'faz muuu.')\n",
    "\n",
    "class Dinossauro(Animal):\n",
    "    pass"
   ]
  },
  {
   "cell_type": "markdown",
   "id": "d38a9bc5",
   "metadata": {},
   "source": [
    "Herdando parcialmente o método"
   ]
  },
  {
   "cell_type": "code",
   "execution_count": 208,
   "id": "711912a1",
   "metadata": {
    "ExecuteTime": {
     "end_time": "2021-07-29T00:43:49.956767Z",
     "start_time": "2021-07-29T00:43:49.945798Z"
    }
   },
   "outputs": [],
   "source": [
    "# Na classe cachorro, ela crie um atributo 'raça' além do nome do cachorro\n",
    "\n",
    "class Cachorro(Animal):\n",
    "    # redefinir o método init\n",
    "    def __init__(self, nome, raça):\n",
    "        self.raça = raça # atributo novo\n",
    "#         self.nome = nome # já foi definido na classe mãe, Animal\n",
    "        super().__init__(nome)\n",
    "    \n",
    "    def fala(self):\n",
    "        print(self.nome, 'faz au au.')"
   ]
  },
  {
   "cell_type": "markdown",
   "id": "2805fc6b",
   "metadata": {},
   "source": [
    "## Webscraping"
   ]
  },
  {
   "cell_type": "code",
   "execution_count": 209,
   "id": "82f6a243",
   "metadata": {
    "ExecuteTime": {
     "end_time": "2021-07-29T00:49:40.614921Z",
     "start_time": "2021-07-29T00:49:40.436172Z"
    }
   },
   "outputs": [
    {
     "ename": "NameError",
     "evalue": "name 'url' is not defined",
     "output_type": "error",
     "traceback": [
      "\u001b[1;31m---------------------------------------------------------------------------\u001b[0m",
      "\u001b[1;31mNameError\u001b[0m                                 Traceback (most recent call last)",
      "\u001b[1;32m<ipython-input-209-79451b02e5f2>\u001b[0m in \u001b[0;36m<module>\u001b[1;34m\u001b[0m\n\u001b[0;32m      3\u001b[0m \u001b[1;32mfrom\u001b[0m \u001b[0mbs4\u001b[0m \u001b[1;32mimport\u001b[0m \u001b[0mBeautifulSoup\u001b[0m\u001b[1;33m\u001b[0m\u001b[1;33m\u001b[0m\u001b[0m\n\u001b[0;32m      4\u001b[0m \u001b[1;33m\u001b[0m\u001b[0m\n\u001b[1;32m----> 5\u001b[1;33m \u001b[0mpage\u001b[0m \u001b[1;33m=\u001b[0m \u001b[0mrequests\u001b[0m\u001b[1;33m.\u001b[0m\u001b[0mget\u001b[0m\u001b[1;33m(\u001b[0m\u001b[0murl\u001b[0m\u001b[1;33m)\u001b[0m\u001b[1;33m\u001b[0m\u001b[1;33m\u001b[0m\u001b[0m\n\u001b[0m\u001b[0;32m      6\u001b[0m \u001b[1;33m\u001b[0m\u001b[0m\n\u001b[0;32m      7\u001b[0m \u001b[0mresponse\u001b[0m \u001b[1;33m=\u001b[0m \u001b[0mpage\u001b[0m\u001b[1;33m.\u001b[0m\u001b[0mtext\u001b[0m \u001b[1;31m#ou page.content\u001b[0m\u001b[1;33m\u001b[0m\u001b[1;33m\u001b[0m\u001b[0m\n",
      "\u001b[1;31mNameError\u001b[0m: name 'url' is not defined"
     ]
    }
   ],
   "source": [
    "import requests\n",
    "\n",
    "from bs4 import BeautifulSoup\n",
    "\n",
    "page = requests.get(url)\n",
    "\n",
    "response = page.text #ou page.content\n",
    "\n",
    "soup = BeautifulSoup(response, 'html.parser')"
   ]
  },
  {
   "cell_type": "code",
   "execution_count": null,
   "id": "00d087b7",
   "metadata": {},
   "outputs": [],
   "source": [
    "# exemplo de soup\n",
    "<html>\n",
    "    <head>\n",
    "        <title>Meu primeiro site!</title>\n",
    "    </head>\n",
    "\n",
    "    <body>\n",
    "        <h1>Um site de exemplo</h1>\n",
    "        <h2>Site de exemplo pra entendermos HTML.</h2>\n",
    "\t<h3> Outro tamanho </h3>\n",
    "        \n",
    "\t<p>Este é um site feio e bobo para vermos como HTML funciona.</p>\n",
    "        <p>Se você quer aprender HTML de verdade, clique <a href=\"https://letscode-academy.com/cursos/web-frontend-react.html\">aqui</a>.</p>\n",
    "    </body>\n",
    "</html>"
   ]
  },
  {
   "cell_type": "code",
   "execution_count": null,
   "id": "321ac369",
   "metadata": {},
   "outputs": [],
   "source": [
    "soup.find('h3') # procurando a primeira ocorrência do h3\n",
    "\n",
    "soup.find_all('h3') # devolve uma lista com todas as ocorrências do h3\n",
    "\n",
    "#quero o texto do soup.find('h3')\n",
    "soup.find('h3').get_text()"
   ]
  },
  {
   "cell_type": "code",
   "execution_count": null,
   "id": "1f11bdef",
   "metadata": {},
   "outputs": [],
   "source": [
    "soup.find_all(class_= 'NomeDaClasse') # id, div, tbody\n",
    "# quando é find_all --> LISTA, percorrer a lista para encontrar a informação"
   ]
  }
 ],
 "metadata": {
  "kernelspec": {
   "display_name": "Python 3",
   "language": "python",
   "name": "python3"
  },
  "language_info": {
   "codemirror_mode": {
    "name": "ipython",
    "version": 3
   },
   "file_extension": ".py",
   "mimetype": "text/x-python",
   "name": "python",
   "nbconvert_exporter": "python",
   "pygments_lexer": "ipython3",
   "version": "3.9.5"
  },
  "varInspector": {
   "cols": {
    "lenName": 16,
    "lenType": 16,
    "lenVar": 40
   },
   "kernels_config": {
    "python": {
     "delete_cmd_postfix": "",
     "delete_cmd_prefix": "del ",
     "library": "var_list.py",
     "varRefreshCmd": "print(var_dic_list())"
    },
    "r": {
     "delete_cmd_postfix": ") ",
     "delete_cmd_prefix": "rm(",
     "library": "var_list.r",
     "varRefreshCmd": "cat(var_dic_list()) "
    }
   },
   "types_to_exclude": [
    "module",
    "function",
    "builtin_function_or_method",
    "instance",
    "_Feature"
   ],
   "window_display": false
  }
 },
 "nbformat": 4,
 "nbformat_minor": 5
}
